{
  "cells": [
    {
      "cell_type": "markdown",
      "metadata": {
        "id": "view-in-github",
        "colab_type": "text"
      },
      "source": [
        "<a href=\"https://colab.research.google.com/github/AndersieMichael/Thesis/blob/main/train.ipynb\" target=\"_parent\"><img src=\"https://colab.research.google.com/assets/colab-badge.svg\" alt=\"Open In Colab\"/></a>"
      ]
    },
    {
      "cell_type": "code",
      "execution_count": null,
      "metadata": {
        "id": "UwxwFKCU8zz5"
      },
      "outputs": [],
      "source": [
        "import torch\n",
        "import torch.nn as nn\n",
        "from torchvision import models, transforms\n",
        "from torch.utils.data import DataLoader, Dataset\n",
        "from torchvision.io import read_image\n",
        "import pandas as pd\n",
        "import os\n"
      ]
    },
    {
      "cell_type": "code",
      "execution_count": null,
      "metadata": {
        "colab": {
          "base_uri": "https://localhost:8080/"
        },
        "id": "4nQBUHrCPCEU",
        "outputId": "9089d337-2c08-4655-dd4e-be3f27a31f7f"
      },
      "outputs": [
        {
          "output_type": "stream",
          "name": "stdout",
          "text": [
            "Drive already mounted at /content/drive; to attempt to forcibly remount, call drive.mount(\"/content/drive\", force_remount=True).\n",
            "['test', 'train', 'new_folder', 'new_folder2', 'train.cache', 'test.cache']\n"
          ]
        }
      ],
      "source": [
        "from google.colab import drive\n",
        "drive.mount('/content/drive')\n",
        "\n",
        "import os\n",
        "# Ganti 'path_to_your_dataset' dengan path aktual ke folder dataset di Google Drive Anda\n",
        "# path_to_dataset = '/content/drive/MyDrive/Colab Notebooks/Deep Learning/test skripsi/dataset/dataMerge'\n",
        "path_to_dataset = '/content/drive/MyDrive/Colab/deep learning/dataset/dataMerge'\n",
        "train_dir = os.path.join(path_to_dataset, 'train')\n",
        "test_dir = os.path.join(path_to_dataset, 'test')\n",
        "# val_dir = os.path.join(path_to_dataset, 'val')\n",
        "\n",
        "# Contoh: Akses dan list file dalam direktori dataset\n",
        "\n",
        "files = os.listdir(path_to_dataset)\n",
        "print(files)"
      ]
    },
    {
      "cell_type": "code",
      "execution_count": null,
      "metadata": {
        "id": "Zv9KK1NYc_nm"
      },
      "outputs": [],
      "source": [
        "#initialisasi variable\n",
        "\n",
        "mystate =32\n",
        "imageSize = 224\n",
        "epochs = 50\n",
        "batch_size = 64\n",
        "learningRate=0.001\n",
        "weight_decay=0.0005"
      ]
    },
    {
      "cell_type": "code",
      "execution_count": null,
      "metadata": {
        "id": "MhQ-fYDFeFX_"
      },
      "outputs": [],
      "source": [
        "train_transform = transforms.Compose([\n",
        "    transforms.Resize((224, 224)),\n",
        "    transforms.RandomHorizontalFlip(),\n",
        "    transforms.RandomRotation(5),\n",
        "    transforms.ToTensor(),\n",
        "    transforms.Normalize(mean=[0.485, 0.456, 0.406], std=[0.229, 0.224, 0.225])\n",
        "])\n",
        "\n",
        "\n",
        "val_test_transform = transforms.Compose([\n",
        "    transforms.Resize((224, 224)),\n",
        "    transforms.ToTensor(),\n",
        "    transforms.Normalize(mean=[0.485, 0.456, 0.406], std=[0.229, 0.224, 0.225])\n",
        "])\n"
      ]
    },
    {
      "cell_type": "code",
      "execution_count": null,
      "metadata": {
        "id": "MCDkk5kAUmFg"
      },
      "outputs": [],
      "source": [
        "from torchvision.io import read_image\n",
        "from torchvision.transforms.functional import convert_image_dtype\n"
      ]
    },
    {
      "cell_type": "code",
      "source": [
        "import torchvision.datasets as datasets\n",
        "\n",
        "train_dataset = datasets.ImageFolder(train_dir, transform=train_transform)\n",
        "train_loader = DataLoader(train_dataset, batch_size=batch_size, shuffle=True)\n",
        "\n",
        "test_dataset = datasets.ImageFolder(test_dir, transform=val_test_transform)\n",
        "test_loader = DataLoader(test_dataset, batch_size=64, shuffle=True)"
      ],
      "metadata": {
        "id": "wlY8z2Tuphy0"
      },
      "execution_count": null,
      "outputs": []
    },
    {
      "cell_type": "code",
      "source": [
        "# Periksa distribusi kelas\n",
        "class_counts = {}\n",
        "for _, label in train_dataset:\n",
        "    if label in class_counts:\n",
        "        class_counts[label] += 1\n",
        "    else:\n",
        "        class_counts[label] = 1\n",
        "\n",
        "class_names = train_dataset.classes\n",
        "\n",
        "# Cetak informasi distribusi kelas\n",
        "for class_name, count in zip(class_names, class_counts.values()):\n",
        "    print(f\"Class: {class_name}, Number of images: {count}\")"
      ],
      "metadata": {
        "colab": {
          "base_uri": "https://localhost:8080/"
        },
        "id": "hz65uf_koLNG",
        "outputId": "fc17dc2a-d49a-43c9-d621-991a45378ee2"
      },
      "execution_count": null,
      "outputs": [
        {
          "output_type": "stream",
          "name": "stdout",
          "text": [
            "Class: Acne, Number of images: 138\n",
            "Class: Actinic Keratosis, Number of images: 138\n",
            "Class: Basal Cell Carcinoma, Number of images: 138\n",
            "Class: Eczemaa, Number of images: 138\n",
            "Class: Rosacea, Number of images: 138\n"
          ]
        }
      ]
    },
    {
      "cell_type": "code",
      "execution_count": null,
      "metadata": {
        "id": "EL65m1mlasC1"
      },
      "outputs": [],
      "source": [
        "# # Dapatkan daftar semua subdirektori di dalam train_dir\n",
        "# train_class_names = [d for d in os.listdir(train_dir) if os.path.isdir(os.path.join(train_dir, d))]\n",
        "# num_classes = len(train_class_names)\n",
        "\n",
        "# print(\"Jumlah kelas:\", num_classes)"
      ]
    },
    {
      "cell_type": "code",
      "execution_count": null,
      "metadata": {
        "id": "XW2zCI2k4oC8"
      },
      "outputs": [],
      "source": [
        "def optimizer_Setting(model):\n",
        "        return torch.optim.Adam(model.parameters(), lr=learningRate,  weight_decay = weight_decay)\n"
      ]
    },
    {
      "cell_type": "code",
      "source": [
        "from torchvision.models import mobilenet_v2\n",
        "\n",
        "# Load pretrained MobileNet V2 model\n",
        "model = mobilenet_v2(weights=models.MobileNet_V2_Weights.IMAGENET1K_V1)\n",
        "model.classifier[1] = nn.Linear(model.classifier[1].in_features, len(class_names))  # Sesuaikan layer terakhir\n",
        "\n",
        "# Membekukan layer terakhir (classifier)\n",
        "for param in model.classifier.parameters():\n",
        "    param.requires_grad = False\n",
        "\n",
        "# Membuka freeze untuk layer lainnya\n",
        "for name, param in model.named_parameters():\n",
        "    if \"classifier\" not in name:\n",
        "        param.requires_grad = True\n",
        "\n",
        "# Kriteria dan optimizer\n",
        "criterion = nn.CrossEntropyLoss()\n",
        "# optimizer = torch.optim.Adam(model.parameters(), lr=learningRate,  weight_decay = weight_decay)\n",
        "optimizer = optimizer_Setting(model)\n",
        "\n",
        "# Tentukan device\n",
        "device = torch.device(\"cuda:0\" if torch.cuda.is_available() else \"cpu\")\n",
        "model = model.to(device)"
      ],
      "metadata": {
        "id": "S5f91LAMqOvs",
        "colab": {
          "base_uri": "https://localhost:8080/"
        },
        "outputId": "bebfae97-4635-42b2-cfcf-deeef394db81"
      },
      "execution_count": null,
      "outputs": [
        {
          "output_type": "stream",
          "name": "stderr",
          "text": [
            "Downloading: \"https://download.pytorch.org/models/mobilenet_v2-b0353104.pth\" to /root/.cache/torch/hub/checkpoints/mobilenet_v2-b0353104.pth\n",
            "100%|██████████| 13.6M/13.6M [00:00<00:00, 101MB/s] \n"
          ]
        }
      ]
    },
    {
      "cell_type": "code",
      "source": [
        "# Tentukan path penyimpanan model\n",
        "save_path = 'best_model.pth'\n",
        "\n",
        "# Early stopping dan saving best model\n",
        "best_loss = float('inf')\n",
        "patience = 5\n",
        "trigger_times = 0"
      ],
      "metadata": {
        "id": "TEWD3UO3rH6Z"
      },
      "execution_count": null,
      "outputs": []
    },
    {
      "cell_type": "code",
      "source": [
        "# Fungsi pelatihan\n",
        "def train_model(model, criterion, optimizer, train_loader, test_loader,  save_path, num_epochs=15):\n",
        "   # Early stopping dan saving best model\n",
        "    best_loss = float('inf')\n",
        "    patience = 5\n",
        "    trigger_times = 0\n",
        "\n",
        "    for epoch in range(num_epochs):\n",
        "        model.train()\n",
        "        running_loss = 0.0\n",
        "        correct = 0\n",
        "        total = 0\n",
        "\n",
        "        for inputs, labels in train_loader:\n",
        "            inputs, labels = inputs.to(device), labels.to(device)\n",
        "\n",
        "            # Zero gradients\n",
        "            optimizer.zero_grad()\n",
        "\n",
        "            # Forward pass\n",
        "            outputs = model(inputs)\n",
        "            loss = criterion(outputs, labels)\n",
        "\n",
        "            # Backpropagation dan optimasi\n",
        "            loss.backward()\n",
        "            optimizer.step()\n",
        "\n",
        "            # Statistik\n",
        "            running_loss += loss.item() * inputs.size(0)\n",
        "            _, predicted = torch.max(outputs, 1)\n",
        "            total += labels.size(0)\n",
        "            correct += (predicted == labels).sum().item()\n",
        "\n",
        "        epoch_loss = running_loss / len(train_dataset)\n",
        "        epoch_acc = correct / total\n",
        "        print(f'Epoch {epoch+1}/{num_epochs}, Loss: {epoch_loss:.4f}, Accuracy: {epoch_acc:.4f}')\n",
        "\n",
        "        # Validasi dan cek early stopping\n",
        "        val_loss = validate(model, test_loader)\n",
        "        if val_loss < best_loss:\n",
        "            best_loss = val_loss\n",
        "            torch.save(model.state_dict(), save_path)\n",
        "            print(f'Best model saved with loss: {best_loss:.4f}')\n",
        "            trigger_times = 0\n",
        "        else:\n",
        "            trigger_times += 1\n",
        "            print(f'No improvement in loss for {trigger_times} epochs')\n",
        "\n",
        "        if trigger_times >= patience:\n",
        "            print('Early stopping triggered.')\n",
        "            break\n"
      ],
      "metadata": {
        "id": "aBw1eMiqqfq0"
      },
      "execution_count": null,
      "outputs": []
    },
    {
      "cell_type": "code",
      "source": [
        "def validate(model, test_loader):\n",
        "    model.eval()\n",
        "    running_loss = 0.0\n",
        "    criterion = nn.CrossEntropyLoss()\n",
        "\n",
        "    with torch.no_grad():\n",
        "        for inputs, labels in test_loader:\n",
        "            inputs, labels = inputs.to(device), labels.to(device)\n",
        "            outputs = model(inputs)\n",
        "            loss = criterion(outputs, labels)\n",
        "            running_loss += loss.item() * inputs.size(0)\n",
        "\n",
        "    return running_loss / len(test_dataset)"
      ],
      "metadata": {
        "id": "vYIWvS6luDYi"
      },
      "execution_count": null,
      "outputs": []
    },
    {
      "cell_type": "code",
      "source": [
        "\n",
        "mobileNetV2_save_path = '/content/drive/MyDrive/Colab/deep learning/mobileNetV2_best_model.pth'\n",
        "\n",
        "# Pelatihan dan pengujian model\n",
        "train_model(model, criterion, optimizer, train_loader, test_loader, mobileNetV2_save_path, num_epochs=epochs)"
      ],
      "metadata": {
        "colab": {
          "base_uri": "https://localhost:8080/"
        },
        "id": "tOOW20b9u-g-",
        "outputId": "d1e0bd6b-d255-4e86-d9d7-5b9050ba16c6"
      },
      "execution_count": null,
      "outputs": [
        {
          "output_type": "stream",
          "name": "stdout",
          "text": [
            "Epoch 1/50, Loss: 1.1103, Accuracy: 0.5652\n",
            "Best model saved with loss: 2.7768\n",
            "Epoch 2/50, Loss: 0.6339, Accuracy: 0.7667\n",
            "Best model saved with loss: 1.0904\n",
            "Epoch 3/50, Loss: 0.4008, Accuracy: 0.8551\n",
            "Best model saved with loss: 0.9163\n",
            "Epoch 4/50, Loss: 0.2837, Accuracy: 0.9029\n",
            "Best model saved with loss: 0.8065\n",
            "Epoch 5/50, Loss: 0.2063, Accuracy: 0.9275\n",
            "No improvement in loss for 1 epochs\n",
            "Epoch 6/50, Loss: 0.1895, Accuracy: 0.9377\n",
            "Best model saved with loss: 0.8059\n",
            "Epoch 7/50, Loss: 0.1165, Accuracy: 0.9681\n",
            "Best model saved with loss: 0.6358\n",
            "Epoch 8/50, Loss: 0.1090, Accuracy: 0.9638\n",
            "No improvement in loss for 1 epochs\n",
            "Epoch 9/50, Loss: 0.1331, Accuracy: 0.9609\n",
            "No improvement in loss for 2 epochs\n",
            "Epoch 10/50, Loss: 0.1040, Accuracy: 0.9667\n",
            "No improvement in loss for 3 epochs\n",
            "Epoch 11/50, Loss: 0.0816, Accuracy: 0.9696\n",
            "Best model saved with loss: 0.6287\n",
            "Epoch 12/50, Loss: 0.0535, Accuracy: 0.9826\n",
            "No improvement in loss for 1 epochs\n",
            "Epoch 13/50, Loss: 0.0610, Accuracy: 0.9812\n",
            "No improvement in loss for 2 epochs\n",
            "Epoch 14/50, Loss: 0.0453, Accuracy: 0.9826\n",
            "No improvement in loss for 3 epochs\n",
            "Epoch 15/50, Loss: 0.0650, Accuracy: 0.9754\n",
            "No improvement in loss for 4 epochs\n",
            "Epoch 16/50, Loss: 0.0628, Accuracy: 0.9797\n",
            "No improvement in loss for 5 epochs\n",
            "Early stopping triggered.\n"
          ]
        }
      ]
    },
    {
      "cell_type": "code",
      "source": [
        "from sklearn.metrics import classification_report, confusion_matrix, accuracy_score\n",
        "import seaborn as sns\n",
        "import matplotlib.pyplot as plt\n",
        "\n",
        "def evaluate(model, test_loader):\n",
        "    model.eval()\n",
        "    all_preds = []\n",
        "    all_labels = []\n",
        "\n",
        "    with torch.no_grad():\n",
        "        for inputs, labels in test_loader:\n",
        "            inputs, labels = inputs.to(device), labels.to(device)\n",
        "            outputs = model(inputs)\n",
        "            _, predicted = torch.max(outputs, 1)\n",
        "            all_preds.extend(predicted.cpu().numpy())\n",
        "            all_labels.extend(labels.cpu().numpy())\n",
        "\n",
        "    # Hitung akurasi\n",
        "    accuracy = accuracy_score(all_labels, all_preds)\n",
        "    print(f'Accuracy: {accuracy:.4f}')\n"
      ],
      "metadata": {
        "id": "Z2eK8F5ZoChu"
      },
      "execution_count": null,
      "outputs": []
    },
    {
      "cell_type": "code",
      "source": [
        "# Load model terbaik yang sudah disimpan\n",
        "model.load_state_dict(torch.load(mobileNetV2_save_path))\n",
        "\n",
        "# Evaluasi model\n",
        "evaluate(model, test_loader )"
      ],
      "metadata": {
        "colab": {
          "base_uri": "https://localhost:8080/"
        },
        "id": "TwUdRgH2oDOL",
        "outputId": "0efc0ed9-9a72-406b-9822-e27e1573bfc9"
      },
      "execution_count": null,
      "outputs": [
        {
          "output_type": "stream",
          "name": "stderr",
          "text": [
            "<ipython-input-27-ff2755d9c3f3>:2: FutureWarning: You are using `torch.load` with `weights_only=False` (the current default value), which uses the default pickle module implicitly. It is possible to construct malicious pickle data which will execute arbitrary code during unpickling (See https://github.com/pytorch/pytorch/blob/main/SECURITY.md#untrusted-models for more details). In a future release, the default value for `weights_only` will be flipped to `True`. This limits the functions that could be executed during unpickling. Arbitrary objects will no longer be allowed to be loaded via this mode unless they are explicitly allowlisted by the user via `torch.serialization.add_safe_globals`. We recommend you start setting `weights_only=True` for any use case where you don't have full control of the loaded file. Please open an issue on GitHub for any issues related to this experimental feature.\n",
            "  model.load_state_dict(torch.load(mobileNetV2_save_path))\n"
          ]
        },
        {
          "output_type": "stream",
          "name": "stdout",
          "text": [
            "Accuracy: 0.8000\n"
          ]
        }
      ]
    },
    {
      "cell_type": "code",
      "source": [
        "from torchvision.models import mobilenet_v3_small\n",
        "\n",
        "# Load pretrained MobileNet V3 Small model\n",
        "model_v3_small = mobilenet_v3_small(weights=models.MobileNet_V3_Small_Weights.IMAGENET1K_V1)\n",
        "model_v3_small.classifier[3] = nn.Linear(model_v3_small.classifier[3].in_features,  len(class_names))  # Sesuaikan layer terakhir\n",
        "\n",
        "# Membekukan layer terakhir (classifier)\n",
        "for param in model_v3_small.classifier.parameters():\n",
        "    param.requires_grad = False\n",
        "\n",
        "# Membuka freeze untuk layer lainnya\n",
        "for name, param in model_v3_small.named_parameters():\n",
        "    if \"classifier\" not in name:\n",
        "        param.requires_grad = True\n",
        "\n",
        "\n",
        "# Kriteria dan optimizer\n",
        "criterion = nn.CrossEntropyLoss()\n",
        "# optimizer = torch.optim.Adam(model_v3_small.parameters(), lr=learningRate)\n",
        "optimizer = optimizer_Setting(model_v3_small)\n",
        "\n",
        "# Tentukan device\n",
        "device = torch.device(\"cuda:0\" if torch.cuda.is_available() else \"cpu\")\n",
        "model_v3_small = model_v3_small.to(device)"
      ],
      "metadata": {
        "id": "NAAipKByyQAw",
        "colab": {
          "base_uri": "https://localhost:8080/"
        },
        "outputId": "1a688a6e-6bd1-4642-dfc7-463c95b6c9fd"
      },
      "execution_count": null,
      "outputs": [
        {
          "output_type": "stream",
          "name": "stderr",
          "text": [
            "Downloading: \"https://download.pytorch.org/models/mobilenet_v3_small-047dcff4.pth\" to /root/.cache/torch/hub/checkpoints/mobilenet_v3_small-047dcff4.pth\n",
            "100%|██████████| 9.83M/9.83M [00:00<00:00, 17.4MB/s]\n"
          ]
        }
      ]
    },
    {
      "cell_type": "code",
      "source": [
        "mobileNetV3_small_save_path = '/content/drive/MyDrive/Colab/deep learning/mobileNetV3_small_best_model.pth'\n",
        "\n",
        "# Pelatihan dan pengujian model\n",
        "train_model(model_v3_small, criterion, optimizer, train_loader, test_loader, mobileNetV3_small_save_path, num_epochs=epochs)"
      ],
      "metadata": {
        "id": "DjTRn6EPyY0Q",
        "colab": {
          "base_uri": "https://localhost:8080/"
        },
        "outputId": "38678600-7646-487b-c5cd-cc9066b87937"
      },
      "execution_count": null,
      "outputs": [
        {
          "output_type": "stream",
          "name": "stdout",
          "text": [
            "Epoch 1/50, Loss: 1.3638, Accuracy: 0.4594\n",
            "Best model saved with loss: 1.5321\n",
            "Epoch 2/50, Loss: 0.8693, Accuracy: 0.6855\n",
            "No improvement in loss for 1 epochs\n",
            "Epoch 3/50, Loss: 0.5814, Accuracy: 0.8145\n",
            "Best model saved with loss: 1.2519\n",
            "Epoch 4/50, Loss: 0.3720, Accuracy: 0.8928\n",
            "No improvement in loss for 1 epochs\n",
            "Epoch 5/50, Loss: 0.2308, Accuracy: 0.9362\n",
            "No improvement in loss for 2 epochs\n",
            "Epoch 6/50, Loss: 0.1201, Accuracy: 0.9710\n",
            "Best model saved with loss: 1.1993\n",
            "Epoch 7/50, Loss: 0.0626, Accuracy: 0.9899\n",
            "No improvement in loss for 1 epochs\n",
            "Epoch 8/50, Loss: 0.0459, Accuracy: 0.9913\n",
            "No improvement in loss for 2 epochs\n",
            "Epoch 9/50, Loss: 0.0654, Accuracy: 0.9783\n",
            "No improvement in loss for 3 epochs\n",
            "Epoch 10/50, Loss: 0.1116, Accuracy: 0.9652\n",
            "No improvement in loss for 4 epochs\n",
            "Epoch 11/50, Loss: 0.1228, Accuracy: 0.9623\n",
            "No improvement in loss for 5 epochs\n",
            "Early stopping triggered.\n"
          ]
        }
      ]
    },
    {
      "cell_type": "code",
      "execution_count": null,
      "metadata": {
        "id": "_29YMkxc2tqu",
        "colab": {
          "base_uri": "https://localhost:8080/"
        },
        "outputId": "a84350ed-7658-45e2-d199-0cd050debb8a"
      },
      "outputs": [
        {
          "output_type": "stream",
          "name": "stderr",
          "text": [
            "Downloading: \"https://download.pytorch.org/models/mobilenet_v3_large-8738ca79.pth\" to /root/.cache/torch/hub/checkpoints/mobilenet_v3_large-8738ca79.pth\n",
            "100%|██████████| 21.1M/21.1M [00:00<00:00, 94.7MB/s]\n"
          ]
        }
      ],
      "source": [
        "from torchvision.models import mobilenet_v3_large\n",
        "\n",
        "# Load pretrained MobileNet V3 large model\n",
        "model_v3_large = mobilenet_v3_large(weights=models.MobileNet_V3_Large_Weights.IMAGENET1K_V1)\n",
        "model_v3_large.classifier[3] = nn.Linear(model_v3_large.classifier[3].in_features,  len(class_names))  # Sesuaikan layer terakhir\n",
        "\n",
        "# Membekukan layer terakhir (classifier)\n",
        "for param in model_v3_large.classifier.parameters():\n",
        "    param.requires_grad = False\n",
        "\n",
        "# Membuka freeze untuk layer lainnya\n",
        "for name, param in model_v3_large.named_parameters():\n",
        "    if \"classifier\" not in name:\n",
        "        param.requires_grad = True\n",
        "# Kriteria dan optimizer\n",
        "criterion = nn.CrossEntropyLoss()\n",
        "# optimizer = torch.optim.Adam(model_v3_large.parameters(), lr=learningRate)\n",
        "optimizer = optimizer_Setting(model_v3_large)\n",
        "\n",
        "# Tentukan device\n",
        "device = torch.device(\"cuda:0\" if torch.cuda.is_available() else \"cpu\")\n",
        "model_v3_large = model_v3_large.to(device)"
      ]
    },
    {
      "cell_type": "code",
      "execution_count": null,
      "metadata": {
        "id": "PLJgD0g22tqv",
        "colab": {
          "base_uri": "https://localhost:8080/"
        },
        "outputId": "11cc4a26-bb82-4a3d-e6b1-86b91bd0027f"
      },
      "outputs": [
        {
          "output_type": "stream",
          "name": "stdout",
          "text": [
            "Epoch 1/50, Loss: 1.1604, Accuracy: 0.5536\n",
            "Best model saved with loss: 1.1575\n",
            "Epoch 2/50, Loss: 0.5428, Accuracy: 0.8145\n",
            "No improvement in loss for 1 epochs\n",
            "Epoch 3/50, Loss: 0.2505, Accuracy: 0.9319\n",
            "No improvement in loss for 2 epochs\n",
            "Epoch 4/50, Loss: 0.1142, Accuracy: 0.9652\n",
            "No improvement in loss for 3 epochs\n",
            "Epoch 5/50, Loss: 0.0855, Accuracy: 0.9826\n",
            "No improvement in loss for 4 epochs\n",
            "Epoch 6/50, Loss: 0.0764, Accuracy: 0.9783\n",
            "Best model saved with loss: 1.0969\n",
            "Epoch 7/50, Loss: 0.0651, Accuracy: 0.9797\n",
            "No improvement in loss for 1 epochs\n",
            "Epoch 8/50, Loss: 0.0829, Accuracy: 0.9768\n",
            "No improvement in loss for 2 epochs\n",
            "Epoch 9/50, Loss: 0.0464, Accuracy: 0.9913\n",
            "No improvement in loss for 3 epochs\n",
            "Epoch 10/50, Loss: 0.0360, Accuracy: 0.9928\n",
            "No improvement in loss for 4 epochs\n",
            "Epoch 11/50, Loss: 0.0528, Accuracy: 0.9899\n",
            "No improvement in loss for 5 epochs\n",
            "Early stopping triggered.\n"
          ]
        }
      ],
      "source": [
        "# mobileNetV3_large_save_path = '/content/drive/MyDrive/Colab Notebooks/Deep Learning/test skripsi/pytorch code/mobileNetV3_large_best_model.pth'\n",
        "mobileNetV3_large_save_path = '/content/drive/MyDrive/Colab/deep learning/mobileNetV3_large_best_model.pth'\n",
        "# Pelatihan dan pengujian model\n",
        "train_model(model_v3_large, criterion, optimizer, train_loader, test_loader, mobileNetV3_large_save_path, num_epochs=epochs)"
      ]
    },
    {
      "cell_type": "code",
      "execution_count": null,
      "metadata": {
        "id": "l0YDUREk2tqw",
        "colab": {
          "base_uri": "https://localhost:8080/"
        },
        "outputId": "52305746-17dc-4e63-b0b8-b07fb5e58e96"
      },
      "outputs": [
        {
          "output_type": "stream",
          "name": "stderr",
          "text": [
            "Downloading: \"https://download.pytorch.org/models/efficientnet_b2_rwightman-c35c1473.pth\" to /root/.cache/torch/hub/checkpoints/efficientnet_b2_rwightman-c35c1473.pth\n",
            "100%|██████████| 35.2M/35.2M [00:01<00:00, 21.9MB/s]\n"
          ]
        }
      ],
      "source": [
        "from torchvision.models import efficientnet_b2, EfficientNet_B2_Weights\n",
        "\n",
        "# Load pretrained EfficientNet B2 model\n",
        "model_efficientnet_b2 = efficientnet_b2(weights=EfficientNet_B2_Weights.IMAGENET1K_V1)\n",
        "model_efficientnet_b2.classifier[1] = nn.Linear(model_efficientnet_b2.classifier[1].in_features,  len(class_names))\n",
        "\n",
        "# Membekukan layer terakhir (classifier)\n",
        "for param in model_efficientnet_b2.classifier.parameters():\n",
        "    param.requires_grad = False\n",
        "\n",
        "# Membuka freeze untuk layer lainnya\n",
        "for name, param in model_efficientnet_b2.named_parameters():\n",
        "    if \"classifier\" not in name:\n",
        "        param.requires_grad = True\n",
        "\n",
        "# Kriteria dan optimizer\n",
        "criterion = nn.CrossEntropyLoss()\n",
        "# optimizer = torch.optim.Adam(model_efficientnet_b2.parameters(), lr=learningRate)\n",
        "optimizer = optimizer_Setting(model_efficientnet_b2)\n",
        "\n",
        "# Tentukan device\n",
        "device = torch.device(\"cuda:0\" if torch.cuda.is_available() else \"cpu\")\n",
        "model_efficientnet_b2 = model_efficientnet_b2.to(device)"
      ]
    },
    {
      "cell_type": "code",
      "execution_count": null,
      "metadata": {
        "id": "FKVuPjR02tqw",
        "colab": {
          "base_uri": "https://localhost:8080/"
        },
        "outputId": "a7efc79d-8313-46d4-9165-09fdc9cf4bdb"
      },
      "outputs": [
        {
          "output_type": "stream",
          "name": "stdout",
          "text": [
            "Epoch 1/50, Loss: 1.1651, Accuracy: 0.5420\n",
            "Best model saved with loss: 1.1484\n",
            "Epoch 2/50, Loss: 0.4792, Accuracy: 0.8493\n",
            "Best model saved with loss: 0.6716\n",
            "Epoch 3/50, Loss: 0.1952, Accuracy: 0.9478\n",
            "Best model saved with loss: 0.4511\n",
            "Epoch 4/50, Loss: 0.1206, Accuracy: 0.9609\n",
            "No improvement in loss for 1 epochs\n",
            "Epoch 5/50, Loss: 0.1033, Accuracy: 0.9652\n",
            "No improvement in loss for 2 epochs\n",
            "Epoch 6/50, Loss: 0.1470, Accuracy: 0.9609\n",
            "No improvement in loss for 3 epochs\n",
            "Epoch 7/50, Loss: 0.1395, Accuracy: 0.9565\n",
            "No improvement in loss for 4 epochs\n",
            "Epoch 8/50, Loss: 0.1305, Accuracy: 0.9565\n",
            "No improvement in loss for 5 epochs\n",
            "Early stopping triggered.\n"
          ]
        }
      ],
      "source": [
        "# efficientNet_b2_save_path = '/content/drive/MyDrive/Colab Notebooks/Deep Learning/test skripsi/pytorch code/efficientNet_b2_best_model.pth'\n",
        "efficientNet_b2_save_path = '/content/drive/MyDrive/Colab/deep learning/efficientNet_b2_best_model.pth'\n",
        "# Pelatihan dan pengujian model\n",
        "train_model(model_efficientnet_b2, criterion, optimizer, train_loader, test_loader, efficientNet_b2_save_path, num_epochs=epochs)"
      ]
    }
  ],
  "metadata": {
    "accelerator": "GPU",
    "colab": {
      "gpuType": "T4",
      "machine_shape": "hm",
      "provenance": [],
      "include_colab_link": true
    },
    "kernelspec": {
      "display_name": "Python 3",
      "name": "python3"
    },
    "language_info": {
      "name": "python"
    }
  },
  "nbformat": 4,
  "nbformat_minor": 0
}