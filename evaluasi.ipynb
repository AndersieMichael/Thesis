{
  "cells": [
    {
      "cell_type": "markdown",
      "metadata": {
        "id": "view-in-github",
        "colab_type": "text"
      },
      "source": [
        "<a href=\"https://colab.research.google.com/github/AndersieMichael/Thesis/blob/main/evaluasi.ipynb\" target=\"_parent\"><img src=\"https://colab.research.google.com/assets/colab-badge.svg\" alt=\"Open In Colab\"/></a>"
      ]
    },
    {
      "cell_type": "code",
      "execution_count": null,
      "metadata": {
        "id": "UwxwFKCU8zz5"
      },
      "outputs": [],
      "source": [
        "import torch\n",
        "import torch.nn as nn\n",
        "from torchvision import models, transforms\n",
        "from torch.utils.data import DataLoader, Dataset\n",
        "from torchvision.io import read_image\n",
        "import pandas as pd\n",
        "import os\n"
      ]
    },
    {
      "cell_type": "code",
      "execution_count": null,
      "metadata": {
        "colab": {
          "base_uri": "https://localhost:8080/"
        },
        "id": "4nQBUHrCPCEU",
        "outputId": "0accb0e6-f0a7-4162-9c29-5e0ee121beb2"
      },
      "outputs": [
        {
          "output_type": "stream",
          "name": "stdout",
          "text": [
            "Mounted at /content/drive\n",
            "['test', 'train', 'new_folder', 'new_folder2', 'train.cache', 'test.cache']\n"
          ]
        }
      ],
      "source": [
        "from google.colab import drive\n",
        "drive.mount('/content/drive')\n",
        "\n",
        "import os\n",
        "# path_to_dataset = '/content/drive/MyDrive/Colab Notebooks/Deep Learning/test skripsi/dataset/dataMerge'\n",
        "path_to_dataset = '/content/drive/MyDrive/Colab/deep learning/dataset/dataMerge'\n",
        "train_dir = os.path.join(path_to_dataset, 'train')\n",
        "test_dir = os.path.join(path_to_dataset, 'test')\n",
        "# val_dir = os.path.join(path_to_dataset, 'val')\n",
        "\n",
        "# Contoh: Akses dan list file dalam direktori dataset\n",
        "\n",
        "files = os.listdir(path_to_dataset)\n",
        "print(files)"
      ]
    },
    {
      "cell_type": "code",
      "execution_count": null,
      "metadata": {
        "colab": {
          "base_uri": "https://localhost:8080/"
        },
        "id": "3k8n_-XDfiET",
        "outputId": "e90a1fa4-322a-4a6d-cc39-afc43113b4dd"
      },
      "outputs": [
        {
          "output_type": "stream",
          "name": "stdout",
          "text": [
            "Collecting pytictoc\n",
            "  Downloading pytictoc-1.5.3-py2.py3-none-any.whl.metadata (2.9 kB)\n",
            "Downloading pytictoc-1.5.3-py2.py3-none-any.whl (4.0 kB)\n",
            "Installing collected packages: pytictoc\n",
            "Successfully installed pytictoc-1.5.3\n"
          ]
        }
      ],
      "source": [
        "!pip install pytictoc"
      ]
    },
    {
      "cell_type": "code",
      "execution_count": null,
      "metadata": {
        "colab": {
          "base_uri": "https://localhost:8080/"
        },
        "id": "AstWxpeU797W",
        "outputId": "b56dcafe-786c-4ed4-9523-ed073eb0a8fd"
      },
      "outputs": [
        {
          "output_type": "stream",
          "name": "stdout",
          "text": [
            "Collecting fvcore\n",
            "  Downloading fvcore-0.1.5.post20221221.tar.gz (50 kB)\n",
            "\u001b[2K     \u001b[90m━━━━━━━━━━━━━━━━━━━━━━━━━━━━━━━━━━━━━━━━\u001b[0m \u001b[32m50.2/50.2 kB\u001b[0m \u001b[31m4.6 MB/s\u001b[0m eta \u001b[36m0:00:00\u001b[0m\n",
            "\u001b[?25h  Preparing metadata (setup.py) ... \u001b[?25l\u001b[?25hdone\n",
            "Requirement already satisfied: numpy in /usr/local/lib/python3.10/dist-packages (from fvcore) (1.26.4)\n",
            "Collecting yacs>=0.1.6 (from fvcore)\n",
            "  Downloading yacs-0.1.8-py3-none-any.whl.metadata (639 bytes)\n",
            "Requirement already satisfied: pyyaml>=5.1 in /usr/local/lib/python3.10/dist-packages (from fvcore) (6.0.2)\n",
            "Requirement already satisfied: tqdm in /usr/local/lib/python3.10/dist-packages (from fvcore) (4.66.5)\n",
            "Requirement already satisfied: termcolor>=1.1 in /usr/local/lib/python3.10/dist-packages (from fvcore) (2.4.0)\n",
            "Requirement already satisfied: Pillow in /usr/local/lib/python3.10/dist-packages (from fvcore) (10.4.0)\n",
            "Requirement already satisfied: tabulate in /usr/local/lib/python3.10/dist-packages (from fvcore) (0.9.0)\n",
            "Collecting iopath>=0.1.7 (from fvcore)\n",
            "  Downloading iopath-0.1.10.tar.gz (42 kB)\n",
            "\u001b[2K     \u001b[90m━━━━━━━━━━━━━━━━━━━━━━━━━━━━━━━━━━━━━━━━\u001b[0m \u001b[32m42.2/42.2 kB\u001b[0m \u001b[31m3.1 MB/s\u001b[0m eta \u001b[36m0:00:00\u001b[0m\n",
            "\u001b[?25h  Preparing metadata (setup.py) ... \u001b[?25l\u001b[?25hdone\n",
            "Requirement already satisfied: typing_extensions in /usr/local/lib/python3.10/dist-packages (from iopath>=0.1.7->fvcore) (4.12.2)\n",
            "Collecting portalocker (from iopath>=0.1.7->fvcore)\n",
            "  Downloading portalocker-2.10.1-py3-none-any.whl.metadata (8.5 kB)\n",
            "Downloading yacs-0.1.8-py3-none-any.whl (14 kB)\n",
            "Downloading portalocker-2.10.1-py3-none-any.whl (18 kB)\n",
            "Building wheels for collected packages: fvcore, iopath\n",
            "  Building wheel for fvcore (setup.py) ... \u001b[?25l\u001b[?25hdone\n",
            "  Created wheel for fvcore: filename=fvcore-0.1.5.post20221221-py3-none-any.whl size=61395 sha256=2a64bef1abd45a7a401b2add522853c785a272a805a96579a856877925b64bc7\n",
            "  Stored in directory: /root/.cache/pip/wheels/01/c0/af/77c1cf53a1be9e42a52b48e5af2169d40ec2e89f7362489dd0\n",
            "  Building wheel for iopath (setup.py) ... \u001b[?25l\u001b[?25hdone\n",
            "  Created wheel for iopath: filename=iopath-0.1.10-py3-none-any.whl size=31529 sha256=69a3864d99e8260af7bdae39347d6aa78493e6a8eed7090cfdb59194fabcaced\n",
            "  Stored in directory: /root/.cache/pip/wheels/9a/a3/b6/ac0fcd1b4ed5cfeb3db92e6a0e476cfd48ed0df92b91080c1d\n",
            "Successfully built fvcore iopath\n",
            "Installing collected packages: yacs, portalocker, iopath, fvcore\n",
            "Successfully installed fvcore-0.1.5.post20221221 iopath-0.1.10 portalocker-2.10.1 yacs-0.1.8\n"
          ]
        }
      ],
      "source": [
        "pip install fvcore"
      ]
    },
    {
      "cell_type": "code",
      "execution_count": null,
      "metadata": {
        "id": "Zv9KK1NYc_nm"
      },
      "outputs": [],
      "source": [
        "#initialisasi variable\n",
        "\n",
        "mystate =32\n",
        "imageSize = 224\n",
        "epochs = 50\n",
        "batch_size = 64\n",
        "learningRate=0.001\n",
        "weight_decay=0.0005\n",
        "input_size = (3, imageSize, imageSize)"
      ]
    },
    {
      "cell_type": "code",
      "execution_count": null,
      "metadata": {
        "id": "MhQ-fYDFeFX_"
      },
      "outputs": [],
      "source": [
        "train_transform = transforms.Compose([\n",
        "    transforms.Resize((224, 224)),\n",
        "    transforms.RandomHorizontalFlip(),\n",
        "    transforms.RandomRotation(5),\n",
        "    transforms.ToTensor(),\n",
        "    transforms.Normalize(mean=[0.485, 0.456, 0.406], std=[0.229, 0.224, 0.225])\n",
        "])\n",
        "\n",
        "\n",
        "val_test_transform = transforms.Compose([\n",
        "    transforms.Resize((224, 224)),\n",
        "    transforms.ToTensor(),  # Pastikan ini muncul sebelum Normalize\n",
        "    transforms.Normalize(mean=[0.485, 0.456, 0.406], std=[0.229, 0.224, 0.225])\n",
        "])\n"
      ]
    },
    {
      "cell_type": "code",
      "execution_count": null,
      "metadata": {
        "id": "MCDkk5kAUmFg"
      },
      "outputs": [],
      "source": [
        "from torchvision.io import read_image\n",
        "from torchvision.transforms.functional import convert_image_dtype"
      ]
    },
    {
      "cell_type": "code",
      "execution_count": null,
      "metadata": {
        "id": "4PFKxIvoUovu"
      },
      "outputs": [],
      "source": [
        "import torchvision.datasets as datasets\n",
        "\n",
        "train_dataset = datasets.ImageFolder(train_dir, transform=train_transform)\n",
        "train_loader = DataLoader(train_dataset, batch_size=batch_size, shuffle=True)\n",
        "\n",
        "test_dataset = datasets.ImageFolder(test_dir, transform=val_test_transform)\n",
        "test_loader = DataLoader(test_dataset, batch_size=batch_size, shuffle=True)"
      ]
    },
    {
      "cell_type": "code",
      "execution_count": null,
      "metadata": {
        "colab": {
          "base_uri": "https://localhost:8080/"
        },
        "id": "EL65m1mlasC1",
        "outputId": "8a59782f-07be-44a5-91ed-d339e04bed14"
      },
      "outputs": [
        {
          "output_type": "stream",
          "name": "stdout",
          "text": [
            "Class: Acne, Number of images: 138\n",
            "Class: Actinic Keratosis, Number of images: 138\n",
            "Class: Basal Cell Carcinoma, Number of images: 138\n",
            "Class: Eczemaa, Number of images: 138\n",
            "Class: Rosacea, Number of images: 138\n"
          ]
        }
      ],
      "source": [
        "# Periksa distribusi kelas\n",
        "class_counts = {}\n",
        "for _, label in train_dataset:\n",
        "    if label in class_counts:\n",
        "        class_counts[label] += 1\n",
        "    else:\n",
        "        class_counts[label] = 1\n",
        "\n",
        "class_names = train_dataset.classes\n",
        "\n",
        "# Cetak informasi distribusi kelas\n",
        "for class_name, count in zip(class_names, class_counts.values()):\n",
        "    print(f\"Class: {class_name}, Number of images: {count}\")"
      ]
    },
    {
      "cell_type": "code",
      "execution_count": null,
      "metadata": {
        "id": "TH2B4_Xap_qy"
      },
      "outputs": [],
      "source": [
        "def optimizer_Setting(model):\n",
        "        return torch.optim.Adam(model.parameters(), lr=learningRate,  weight_decay = weight_decay)\n"
      ]
    },
    {
      "cell_type": "code",
      "execution_count": null,
      "metadata": {
        "id": "hIz3ZL8IW9-3",
        "colab": {
          "base_uri": "https://localhost:8080/"
        },
        "outputId": "17c5ab51-1fc1-4976-d5a8-fceac000b900"
      },
      "outputs": [
        {
          "output_type": "stream",
          "name": "stderr",
          "text": [
            "Downloading: \"https://download.pytorch.org/models/mobilenet_v3_small-047dcff4.pth\" to /root/.cache/torch/hub/checkpoints/mobilenet_v3_small-047dcff4.pth\n",
            "100%|██████████| 9.83M/9.83M [00:00<00:00, 143MB/s]\n"
          ]
        }
      ],
      "source": [
        "from torchvision.models import mobilenet_v3_small\n",
        "\n",
        "# Load pretrained MobileNet V3 Small model\n",
        "model_v3_small = mobilenet_v3_small(weights=models.MobileNet_V3_Small_Weights.IMAGENET1K_V1)\n",
        "model_v3_small.classifier[3] = nn.Linear(model_v3_small.classifier[3].in_features, len(class_names))  # Sesuaikan layer terakhir\n",
        "\n",
        "# Membekukan layer terakhir (classifier)\n",
        "for param in model_v3_small.classifier.parameters():\n",
        "    param.requires_grad = False\n",
        "\n",
        "# Membuka freeze untuk layer lainnya\n",
        "for name, param in model_v3_small.named_parameters():\n",
        "    if \"classifier\" not in name:\n",
        "        param.requires_grad = True\n",
        "\n",
        "\n",
        "# Kriteria dan optimizer\n",
        "criterion = nn.CrossEntropyLoss()\n",
        "# optimizer = torch.optim.Adam(model_v3_small.parameters(), lr=learningRate)\n",
        "optimizer = optimizer_Setting(model_v3_small)\n",
        "\n",
        "# Tentukan device\n",
        "device = torch.device(\"cuda:0\" if torch.cuda.is_available() else \"cpu\")\n",
        "model_v3_small = model_v3_small.to(device)"
      ]
    },
    {
      "cell_type": "code",
      "source": [
        "import torch\n",
        "from fvcore.nn import FlopCountAnalysis\n",
        "from pytictoc import TicToc\n",
        "\n",
        "from sklearn.metrics import accuracy_score\n",
        "\n",
        "def validate(model, test_loader):\n",
        "    model.eval()\n",
        "    running_loss = 0.0\n",
        "    criterion = nn.CrossEntropyLoss()\n",
        "\n",
        "    # Initialize TicToc\n",
        "    t = TicToc()\n",
        "    all_preds = []\n",
        "    all_labels = []\n",
        "\n",
        " # Ambil satu batch data untuk menghitung FLOPs\n",
        "    example_inputs, _ = next(iter(test_loader))\n",
        "    example_inputs = example_inputs.to(next(model.parameters()).device)\n",
        "\n",
        "    # Hitung FLOPs menggunakan fvcore\n",
        "    flops = FlopCountAnalysis(model, example_inputs)\n",
        "    total_flops = flops.total()\n",
        "    print(f\"Total FLOPs: {total_flops / 1e9} GFLOPs\")\n",
        "    gflops = total_flops / 1e9\n",
        "\n",
        "    t.tic()\n",
        "    with torch.no_grad():\n",
        "        for inputs, labels in test_loader:\n",
        "            inputs, labels = inputs.to(device), labels.to(device)\n",
        "            outputs = model(inputs)\n",
        "            _, predicted = torch.max(outputs, 1)\n",
        "            all_preds.extend(predicted.cpu().numpy())\n",
        "            all_labels.extend(labels.cpu().numpy())\n",
        "\n",
        "    t.toc()\n",
        "\n",
        "    # Calculate average loss over all batches\n",
        "    avg_loss = running_loss / len(test_loader)\n",
        "    print(f'Average Loss: {avg_loss:.4f}')\n",
        "\n",
        "    # Hitung akurasi\n",
        "    accuracy = accuracy_score(all_labels, all_preds)\n",
        "    print(f'Accuracy: {accuracy:.4f}')\n",
        "    total_time = t.tocvalue()\n",
        "    print(f'Total prediction time: {total_time:.2f} seconds')\n",
        "    print(f'Accuracy: {accuracy:.4f}')\n",
        "\n",
        "    return accuracy*100, total_time, gflops"
      ],
      "metadata": {
        "id": "kmzVhabwiIeV"
      },
      "execution_count": null,
      "outputs": []
    },
    {
      "cell_type": "code",
      "execution_count": null,
      "metadata": {
        "id": "tMWOD9HoyDOG"
      },
      "outputs": [],
      "source": [
        "# mobileNetV3_small_save_path = '/content/drive/MyDrive/Colab Notebooks/Deep Learning/test skripsi/pytorch code/mobileNetV3_small_best_model.pth'\n",
        "mobileNetV3_small_save_path = '/content/drive/MyDrive/Colab/deep learning/mobileNetV3_small_best_model.pth'\n",
        "\n",
        "# Menghitung total jumlah parameter\n",
        "total_params_mbv3s = sum(p.numel() for p in model_v3_small.parameters())\n"
      ]
    },
    {
      "cell_type": "code",
      "execution_count": null,
      "metadata": {
        "id": "fcF_K5odyEH7",
        "colab": {
          "base_uri": "https://localhost:8080/"
        },
        "outputId": "835d4e15-873b-4424-fcc8-b75a2eedcdae"
      },
      "outputs": [
        {
          "output_type": "stream",
          "name": "stderr",
          "text": [
            "<ipython-input-17-5622a628b1f0>:2: FutureWarning: You are using `torch.load` with `weights_only=False` (the current default value), which uses the default pickle module implicitly. It is possible to construct malicious pickle data which will execute arbitrary code during unpickling (See https://github.com/pytorch/pytorch/blob/main/SECURITY.md#untrusted-models for more details). In a future release, the default value for `weights_only` will be flipped to `True`. This limits the functions that could be executed during unpickling. Arbitrary objects will no longer be allowed to be loaded via this mode unless they are explicitly allowlisted by the user via `torch.serialization.add_safe_globals`. We recommend you start setting `weights_only=True` for any use case where you don't have full control of the loaded file. Please open an issue on GitHub for any issues related to this experimental feature.\n",
            "  model_v3_small.load_state_dict(torch.load(mobileNetV3_small_save_path))\n",
            "WARNING:fvcore.nn.jit_analysis:Unsupported operator aten::hardswish_ encountered 19 time(s)\n",
            "WARNING:fvcore.nn.jit_analysis:Unsupported operator aten::hardsigmoid encountered 9 time(s)\n",
            "WARNING:fvcore.nn.jit_analysis:Unsupported operator aten::mul encountered 9 time(s)\n",
            "WARNING:fvcore.nn.jit_analysis:Unsupported operator aten::add_ encountered 6 time(s)\n",
            "WARNING:fvcore.nn.jit_analysis:Unsupported operator aten::dropout_ encountered 1 time(s)\n"
          ]
        },
        {
          "output_type": "stream",
          "name": "stdout",
          "text": [
            "Total FLOPs: 3.752361984 GFLOPs\n",
            "Elapsed time is 75.904616 seconds.\n",
            "Average Loss: 0.0000\n",
            "Accuracy: 0.5946\n",
            "Total prediction time: 75.91 seconds\n",
            "Accuracy: 0.5946\n"
          ]
        }
      ],
      "source": [
        "\n",
        "# Load model terbaik yang sudah disimpan\n",
        "model_v3_small.load_state_dict(torch.load(mobileNetV3_small_save_path))\n",
        "\n",
        "# Validasi model dan ukur waktu prediksi\n",
        "mobileNetV3_smallResult_dummy, mobileNetV3_small_time_dummy, mobileNetV3_small_gflops_dummy = validate(model_v3_small, test_loader)"
      ]
    },
    {
      "cell_type": "code",
      "source": [
        "\n",
        "# Load model terbaik yang sudah disimpan\n",
        "model_v3_small.load_state_dict(torch.load(mobileNetV3_small_save_path))\n",
        "\n",
        "# Validasi model dan ukur waktu prediksi\n",
        "mobileNetV3_smallResult, mobileNetV3_small_time, mobileNetV3_small_gflops = validate(model_v3_small, test_loader)"
      ],
      "metadata": {
        "colab": {
          "base_uri": "https://localhost:8080/"
        },
        "id": "e9qxSxlnpx4J",
        "outputId": "02f689c2-42f0-47d6-932d-2c8a517b2544"
      },
      "execution_count": null,
      "outputs": [
        {
          "output_type": "stream",
          "name": "stderr",
          "text": [
            "<ipython-input-18-90640932f5e7>:2: FutureWarning: You are using `torch.load` with `weights_only=False` (the current default value), which uses the default pickle module implicitly. It is possible to construct malicious pickle data which will execute arbitrary code during unpickling (See https://github.com/pytorch/pytorch/blob/main/SECURITY.md#untrusted-models for more details). In a future release, the default value for `weights_only` will be flipped to `True`. This limits the functions that could be executed during unpickling. Arbitrary objects will no longer be allowed to be loaded via this mode unless they are explicitly allowlisted by the user via `torch.serialization.add_safe_globals`. We recommend you start setting `weights_only=True` for any use case where you don't have full control of the loaded file. Please open an issue on GitHub for any issues related to this experimental feature.\n",
            "  model_v3_small.load_state_dict(torch.load(mobileNetV3_small_save_path))\n",
            "WARNING:fvcore.nn.jit_analysis:Unsupported operator aten::hardswish_ encountered 19 time(s)\n",
            "WARNING:fvcore.nn.jit_analysis:Unsupported operator aten::hardsigmoid encountered 9 time(s)\n",
            "WARNING:fvcore.nn.jit_analysis:Unsupported operator aten::mul encountered 9 time(s)\n",
            "WARNING:fvcore.nn.jit_analysis:Unsupported operator aten::add_ encountered 6 time(s)\n",
            "WARNING:fvcore.nn.jit_analysis:Unsupported operator aten::dropout_ encountered 1 time(s)\n"
          ]
        },
        {
          "output_type": "stream",
          "name": "stdout",
          "text": [
            "Total FLOPs: 3.752361984 GFLOPs\n",
            "Elapsed time is 2.060521 seconds.\n",
            "Average Loss: 0.0000\n",
            "Accuracy: 0.5946\n",
            "Total prediction time: 2.06 seconds\n",
            "Accuracy: 0.5946\n"
          ]
        }
      ]
    },
    {
      "cell_type": "code",
      "source": [
        "mobileNetV3_smallResult"
      ],
      "metadata": {
        "colab": {
          "base_uri": "https://localhost:8080/"
        },
        "id": "hXo4rnkB1H1k",
        "outputId": "078e7e57-3f88-4c42-fa11-a4feff691e5b"
      },
      "execution_count": null,
      "outputs": [
        {
          "output_type": "execute_result",
          "data": {
            "text/plain": [
              "59.45945945945946"
            ]
          },
          "metadata": {},
          "execution_count": 19
        }
      ]
    },
    {
      "cell_type": "code",
      "execution_count": null,
      "metadata": {
        "id": "yDI7-rOXaS5c",
        "colab": {
          "base_uri": "https://localhost:8080/"
        },
        "outputId": "f91d04cc-70e6-4cbe-b375-6759a9fdc88b"
      },
      "outputs": [
        {
          "output_type": "stream",
          "name": "stderr",
          "text": [
            "Downloading: \"https://download.pytorch.org/models/mobilenet_v3_large-8738ca79.pth\" to /root/.cache/torch/hub/checkpoints/mobilenet_v3_large-8738ca79.pth\n",
            "100%|██████████| 21.1M/21.1M [00:00<00:00, 23.5MB/s]\n"
          ]
        }
      ],
      "source": [
        "from torchvision.models import mobilenet_v3_large\n",
        "\n",
        "# Load pretrained MobileNet V3 large model\n",
        "model_v3_large = mobilenet_v3_large(weights=models.MobileNet_V3_Large_Weights.IMAGENET1K_V1)\n",
        "model_v3_large.classifier[3] = nn.Linear(model_v3_large.classifier[3].in_features, len(class_names))  # Sesuaikan layer terakhir\n",
        "\n",
        "# Membekukan layer terakhir (classifier)\n",
        "for param in model_v3_large.classifier.parameters():\n",
        "    param.requires_grad = False\n",
        "\n",
        "# Membuka freeze untuk layer lainnya\n",
        "for name, param in model_v3_large.named_parameters():\n",
        "    if \"classifier\" not in name:\n",
        "        param.requires_grad = True\n",
        "# Kriteria dan optimizer\n",
        "criterion = nn.CrossEntropyLoss()\n",
        "# optimizer = torch.optim.Adam(model_v3_large.parameters(), lr=learningRate)\n",
        "optimizer = optimizer_Setting(model_v3_large)\n",
        "\n",
        "# Tentukan device\n",
        "device = torch.device(\"cuda:0\" if torch.cuda.is_available() else \"cpu\")\n",
        "model_v3_large = model_v3_large.to(device)"
      ]
    },
    {
      "cell_type": "code",
      "execution_count": null,
      "metadata": {
        "id": "AHYDqTLpZ7U7"
      },
      "outputs": [],
      "source": [
        "# mobileNetV3_large_save_path = '/content/drive/MyDrive/Colab Notebooks/Deep Learning/test skripsi/pytorch code/mobileNetV3_large_best_model.pth'\n",
        "mobileNetV3_large_save_path = '/content/drive/MyDrive/Colab/deep learning/mobileNetV3_large_best_model.pth'\n",
        "\n",
        "# Menghitung total jumlah parameter\n",
        "total_params_mbv3l = sum(p.numel() for p in model_v3_large.parameters())"
      ]
    },
    {
      "cell_type": "code",
      "execution_count": null,
      "metadata": {
        "id": "1sjc6gqRZ-1b",
        "colab": {
          "base_uri": "https://localhost:8080/"
        },
        "outputId": "09db5d51-2826-4b69-acdb-57e15fb6c91e"
      },
      "outputs": [
        {
          "output_type": "stream",
          "name": "stderr",
          "text": [
            "<ipython-input-22-95a17027a037>:2: FutureWarning: You are using `torch.load` with `weights_only=False` (the current default value), which uses the default pickle module implicitly. It is possible to construct malicious pickle data which will execute arbitrary code during unpickling (See https://github.com/pytorch/pytorch/blob/main/SECURITY.md#untrusted-models for more details). In a future release, the default value for `weights_only` will be flipped to `True`. This limits the functions that could be executed during unpickling. Arbitrary objects will no longer be allowed to be loaded via this mode unless they are explicitly allowlisted by the user via `torch.serialization.add_safe_globals`. We recommend you start setting `weights_only=True` for any use case where you don't have full control of the loaded file. Please open an issue on GitHub for any issues related to this experimental feature.\n",
            "  model_v3_large.load_state_dict(torch.load(mobileNetV3_large_save_path))\n",
            "WARNING:fvcore.nn.jit_analysis:Unsupported operator aten::hardswish_ encountered 21 time(s)\n",
            "WARNING:fvcore.nn.jit_analysis:Unsupported operator aten::add_ encountered 10 time(s)\n",
            "WARNING:fvcore.nn.jit_analysis:Unsupported operator aten::hardsigmoid encountered 8 time(s)\n",
            "WARNING:fvcore.nn.jit_analysis:Unsupported operator aten::mul encountered 8 time(s)\n",
            "WARNING:fvcore.nn.jit_analysis:Unsupported operator aten::dropout_ encountered 1 time(s)\n"
          ]
        },
        {
          "output_type": "stream",
          "name": "stdout",
          "text": [
            "Total FLOPs: 14.384654336 GFLOPs\n",
            "Elapsed time is 2.440837 seconds.\n",
            "Average Loss: 0.0000\n",
            "Accuracy: 0.6486\n",
            "Total prediction time: 2.44 seconds\n",
            "Accuracy: 0.6486\n"
          ]
        }
      ],
      "source": [
        "# Load model terbaik yang sudah disimpan\n",
        "model_v3_large.load_state_dict(torch.load(mobileNetV3_large_save_path))\n",
        "\n",
        "# Validasi model dan ukur waktu prediksi\n",
        "mobileNetV3_largeResult, mobileNetV3_large_time, mobileNetV3_large_gflops = validate(model_v3_large, test_loader)"
      ]
    },
    {
      "cell_type": "code",
      "source": [
        "mobileNetV3_largeResult"
      ],
      "metadata": {
        "colab": {
          "base_uri": "https://localhost:8080/"
        },
        "id": "pzpttY631S-j",
        "outputId": "8ded52fa-f6d2-4558-e123-731cde9720de"
      },
      "execution_count": null,
      "outputs": [
        {
          "output_type": "execute_result",
          "data": {
            "text/plain": [
              "64.86486486486487"
            ]
          },
          "metadata": {},
          "execution_count": 23
        }
      ]
    },
    {
      "cell_type": "code",
      "execution_count": null,
      "metadata": {
        "id": "LQ8lwalBqUUq",
        "colab": {
          "base_uri": "https://localhost:8080/"
        },
        "outputId": "7517deec-3224-474d-da6c-b8d626a2ac32"
      },
      "outputs": [
        {
          "output_type": "stream",
          "name": "stderr",
          "text": [
            "Downloading: \"https://download.pytorch.org/models/efficientnet_b2_rwightman-c35c1473.pth\" to /root/.cache/torch/hub/checkpoints/efficientnet_b2_rwightman-c35c1473.pth\n",
            "100%|██████████| 35.2M/35.2M [00:00<00:00, 39.7MB/s]\n"
          ]
        }
      ],
      "source": [
        "from torchvision.models import efficientnet_b2, EfficientNet_B2_Weights\n",
        "\n",
        "# Load pretrained EfficientNet B2 model\n",
        "model_efficientnet_b2 = efficientnet_b2(weights=EfficientNet_B2_Weights.IMAGENET1K_V1)\n",
        "model_efficientnet_b2.classifier[1] = nn.Linear(model_efficientnet_b2.classifier[1].in_features, len(class_names))\n",
        "\n",
        "# Membekukan layer terakhir (classifier)\n",
        "for param in model_efficientnet_b2.classifier.parameters():\n",
        "    param.requires_grad = False\n",
        "\n",
        "# Membuka freeze untuk layer lainnya\n",
        "for name, param in model_efficientnet_b2.named_parameters():\n",
        "    if \"classifier\" not in name:\n",
        "        param.requires_grad = True\n",
        "\n",
        "# Kriteria dan optimizer\n",
        "criterion = nn.CrossEntropyLoss()\n",
        "# optimizer = torch.optim.Adam(model_efficientnet_b2.parameters(), lr=learningRate)\n",
        "optimizer = optimizer_Setting(model_efficientnet_b2)\n",
        "\n",
        "# Tentukan device\n",
        "device = torch.device(\"cuda:0\" if torch.cuda.is_available() else \"cpu\")\n",
        "model_efficientnet_b2 = model_efficientnet_b2.to(device)"
      ]
    },
    {
      "cell_type": "code",
      "execution_count": null,
      "metadata": {
        "id": "eCcTiv57aEw8"
      },
      "outputs": [],
      "source": [
        "# efficientNet_b2_save_path = '/content/drive/MyDrive/Colab Notebooks/Deep Learning/test skripsi/pytorch code/efficientNet_b2_best_model.pth'\n",
        "efficientNet_b2_save_path = '/content/drive/MyDrive/Colab/deep learning/efficientNet_b2_best_model.pth'\n",
        "\n",
        "# Menghitung total jumlah parameter\n",
        "total_params_efb2 = sum(p.numel() for p in model_efficientnet_b2.parameters())"
      ]
    },
    {
      "cell_type": "code",
      "execution_count": null,
      "metadata": {
        "id": "F_SGi4q7bH0I",
        "colab": {
          "base_uri": "https://localhost:8080/"
        },
        "outputId": "40995f3c-62be-4b5a-e75e-abec498de3dc"
      },
      "outputs": [
        {
          "output_type": "stream",
          "name": "stderr",
          "text": [
            "<ipython-input-26-34a557dc29a8>:4: FutureWarning: You are using `torch.load` with `weights_only=False` (the current default value), which uses the default pickle module implicitly. It is possible to construct malicious pickle data which will execute arbitrary code during unpickling (See https://github.com/pytorch/pytorch/blob/main/SECURITY.md#untrusted-models for more details). In a future release, the default value for `weights_only` will be flipped to `True`. This limits the functions that could be executed during unpickling. Arbitrary objects will no longer be allowed to be loaded via this mode unless they are explicitly allowlisted by the user via `torch.serialization.add_safe_globals`. We recommend you start setting `weights_only=True` for any use case where you don't have full control of the loaded file. Please open an issue on GitHub for any issues related to this experimental feature.\n",
            "  model_efficientnet_b2.load_state_dict(torch.load(efficientNet_b2_save_path))\n",
            "WARNING:fvcore.nn.jit_analysis:Unsupported operator aten::silu_ encountered 69 time(s)\n",
            "WARNING:fvcore.nn.jit_analysis:Unsupported operator aten::sigmoid encountered 23 time(s)\n",
            "WARNING:fvcore.nn.jit_analysis:Unsupported operator aten::mul encountered 23 time(s)\n",
            "WARNING:fvcore.nn.jit_analysis:Unsupported operator aten::add_ encountered 16 time(s)\n",
            "WARNING:fvcore.nn.jit_analysis:Unsupported operator aten::dropout_ encountered 1 time(s)\n",
            "WARNING:fvcore.nn.jit_analysis:The following submodules of the model were never called during the trace of the graph. They may be unused, or they were accessed by direct calls to .forward() or via other python methods. In the latter case they will have zeros for statistics, though their statistics will still contribute to their parent calling module.\n",
            "features.1.0.stochastic_depth, features.1.1.stochastic_depth, features.2.0.stochastic_depth, features.2.1.stochastic_depth, features.2.2.stochastic_depth, features.3.0.stochastic_depth, features.3.1.stochastic_depth, features.3.2.stochastic_depth, features.4.0.stochastic_depth, features.4.1.stochastic_depth, features.4.2.stochastic_depth, features.4.3.stochastic_depth, features.5.0.stochastic_depth, features.5.1.stochastic_depth, features.5.2.stochastic_depth, features.5.3.stochastic_depth, features.6.0.stochastic_depth, features.6.1.stochastic_depth, features.6.2.stochastic_depth, features.6.3.stochastic_depth, features.6.4.stochastic_depth, features.7.0.stochastic_depth, features.7.1.stochastic_depth\n"
          ]
        },
        {
          "output_type": "stream",
          "name": "stdout",
          "text": [
            "Total FLOPs: 43.579193344 GFLOPs\n",
            "Elapsed time is 2.811683 seconds.\n",
            "Average Loss: 0.0000\n",
            "Accuracy: 0.8324\n",
            "Total prediction time: 2.81 seconds\n",
            "Accuracy: 0.8324\n"
          ]
        }
      ],
      "source": [
        "# efficientNet_b2Result, efficientNet_b2_time, efficientNet_b2_gflops = evaluate_model(model_efficientnet_b2, criterion, test_loader, efficientNet_b2_save_path)\n",
        "\n",
        "# Load model terbaik yang sudah disimpan\n",
        "model_efficientnet_b2.load_state_dict(torch.load(efficientNet_b2_save_path))\n",
        "\n",
        "# Validasi model dan ukur waktu prediksi\n",
        "efficientNet_b2Result, efficientNet_b2_time, efficientNet_b2_gflops = validate(model_efficientnet_b2, test_loader)"
      ]
    },
    {
      "cell_type": "code",
      "execution_count": null,
      "metadata": {
        "id": "Gsg9F9vKUpyM",
        "colab": {
          "base_uri": "https://localhost:8080/"
        },
        "outputId": "78155b07-082b-4382-ef72-034da5a6b340"
      },
      "outputs": [
        {
          "output_type": "stream",
          "name": "stderr",
          "text": [
            "Downloading: \"https://download.pytorch.org/models/mobilenet_v2-b0353104.pth\" to /root/.cache/torch/hub/checkpoints/mobilenet_v2-b0353104.pth\n",
            "100%|██████████| 13.6M/13.6M [00:00<00:00, 151MB/s]\n"
          ]
        }
      ],
      "source": [
        "from torchvision.models import mobilenet_v2\n",
        "\n",
        "# Load pretrained MobileNet V2 model\n",
        "model_mobilenet_v2 = mobilenet_v2(weights=models.MobileNet_V2_Weights.IMAGENET1K_V1)\n",
        "model_mobilenet_v2.classifier[1] = nn.Linear(model_mobilenet_v2.classifier[1].in_features, len(class_names))\n",
        "\n",
        "# Membekukan layer terakhir (classifier)\n",
        "for param in model_mobilenet_v2.classifier.parameters():\n",
        "    param.requires_grad = False\n",
        "\n",
        "# Membuka freeze untuk layer lainnya\n",
        "for name, param in model_mobilenet_v2.named_parameters():\n",
        "    if \"classifier\" not in name:\n",
        "        param.requires_grad = True\n",
        "\n",
        "# Kriteria dan optimizer\n",
        "criterion = nn.CrossEntropyLoss()\n",
        "# optimizer = torch.optim.Adam(model_v3_large.parameters(), lr=learningRate)\n",
        "optimizer = optimizer_Setting(model_mobilenet_v2)\n",
        "\n",
        "# Tentukan device\n",
        "device = torch.device(\"cuda:0\" if torch.cuda.is_available() else \"cpu\")\n",
        "model_mobilenet_v2 = model_mobilenet_v2.to(device)"
      ]
    },
    {
      "cell_type": "code",
      "execution_count": null,
      "metadata": {
        "id": "7eW59aR8eeHC"
      },
      "outputs": [],
      "source": [
        "\n",
        "# Contoh penggunaan fungsi\n",
        "# Pastikan model_mobilenet_v2, criterion, test_loader, dan mobileNetV2_save_path sudah terdefinisi\n",
        "# mobileNetV2_save_path = '/content/drive/MyDrive/Colab Notebooks/Deep Learning/test skripsi/pytorch code/mobileNetV2_best_model.pth'\n",
        "mobileNetV2_save_path = '/content/drive/MyDrive/Colab/deep learning/mobileNetV2_best_model.pth'\n",
        "\n",
        "# Menghitung total jumlah parameter\n",
        "total_params_mbv2 = sum(p.numel() for p in model_mobilenet_v2.parameters())\n",
        "\n",
        "# mobileNetV2Result, mobileNetV2_time, mobileNetV2_gflops = evaluate_model(model_mobilenet_v2, criterion, test_loader, mobileNetV2_save_path)"
      ]
    },
    {
      "cell_type": "code",
      "source": [
        "# Load model terbaik yang sudah disimpan\n",
        "model_mobilenet_v2.load_state_dict(torch.load(mobileNetV2_save_path))\n",
        "\n",
        "# Validasi model dan ukur waktu prediksi\n",
        "mobileNetV2Result, mobileNetV2_time, mobileNetV2_gflops = validate(model_mobilenet_v2, test_loader)"
      ],
      "metadata": {
        "colab": {
          "base_uri": "https://localhost:8080/"
        },
        "id": "-IiQXf7ftBOI",
        "outputId": "0406697e-8628-436f-edd9-a8e1c8223505"
      },
      "execution_count": null,
      "outputs": [
        {
          "output_type": "stream",
          "name": "stderr",
          "text": [
            "<ipython-input-29-01b7cd83db9b>:2: FutureWarning: You are using `torch.load` with `weights_only=False` (the current default value), which uses the default pickle module implicitly. It is possible to construct malicious pickle data which will execute arbitrary code during unpickling (See https://github.com/pytorch/pytorch/blob/main/SECURITY.md#untrusted-models for more details). In a future release, the default value for `weights_only` will be flipped to `True`. This limits the functions that could be executed during unpickling. Arbitrary objects will no longer be allowed to be loaded via this mode unless they are explicitly allowlisted by the user via `torch.serialization.add_safe_globals`. We recommend you start setting `weights_only=True` for any use case where you don't have full control of the loaded file. Please open an issue on GitHub for any issues related to this experimental feature.\n",
            "  model_mobilenet_v2.load_state_dict(torch.load(mobileNetV2_save_path))\n",
            "WARNING:fvcore.nn.jit_analysis:Unsupported operator aten::hardtanh_ encountered 35 time(s)\n",
            "WARNING:fvcore.nn.jit_analysis:Unsupported operator aten::add encountered 10 time(s)\n"
          ]
        },
        {
          "output_type": "stream",
          "name": "stdout",
          "text": [
            "Total FLOPs: 20.026855424 GFLOPs\n",
            "Elapsed time is 2.114084 seconds.\n",
            "Average Loss: 0.0000\n",
            "Accuracy: 0.8000\n",
            "Total prediction time: 2.12 seconds\n",
            "Accuracy: 0.8000\n"
          ]
        }
      ]
    },
    {
      "cell_type": "code",
      "execution_count": null,
      "metadata": {
        "collapsed": true,
        "id": "Ci5JTszaeF5J",
        "colab": {
          "base_uri": "https://localhost:8080/"
        },
        "outputId": "00eeadc9-dad6-498c-d00a-e1236b90c837"
      },
      "outputs": [
        {
          "output_type": "stream",
          "name": "stdout",
          "text": [
            "Collecting ultralytics\n",
            "  Downloading ultralytics-8.2.101-py3-none-any.whl.metadata (39 kB)\n",
            "Requirement already satisfied: numpy<2.0.0,>=1.23.0 in /usr/local/lib/python3.10/dist-packages (from ultralytics) (1.26.4)\n",
            "Requirement already satisfied: matplotlib>=3.3.0 in /usr/local/lib/python3.10/dist-packages (from ultralytics) (3.7.1)\n",
            "Requirement already satisfied: opencv-python>=4.6.0 in /usr/local/lib/python3.10/dist-packages (from ultralytics) (4.10.0.84)\n",
            "Requirement already satisfied: pillow>=7.1.2 in /usr/local/lib/python3.10/dist-packages (from ultralytics) (10.4.0)\n",
            "Requirement already satisfied: pyyaml>=5.3.1 in /usr/local/lib/python3.10/dist-packages (from ultralytics) (6.0.2)\n",
            "Requirement already satisfied: requests>=2.23.0 in /usr/local/lib/python3.10/dist-packages (from ultralytics) (2.32.3)\n",
            "Requirement already satisfied: scipy>=1.4.1 in /usr/local/lib/python3.10/dist-packages (from ultralytics) (1.13.1)\n",
            "Requirement already satisfied: torch>=1.8.0 in /usr/local/lib/python3.10/dist-packages (from ultralytics) (2.4.1+cu121)\n",
            "Requirement already satisfied: torchvision>=0.9.0 in /usr/local/lib/python3.10/dist-packages (from ultralytics) (0.19.1+cu121)\n",
            "Requirement already satisfied: tqdm>=4.64.0 in /usr/local/lib/python3.10/dist-packages (from ultralytics) (4.66.5)\n",
            "Requirement already satisfied: psutil in /usr/local/lib/python3.10/dist-packages (from ultralytics) (5.9.5)\n",
            "Requirement already satisfied: py-cpuinfo in /usr/local/lib/python3.10/dist-packages (from ultralytics) (9.0.0)\n",
            "Requirement already satisfied: pandas>=1.1.4 in /usr/local/lib/python3.10/dist-packages (from ultralytics) (2.1.4)\n",
            "Requirement already satisfied: seaborn>=0.11.0 in /usr/local/lib/python3.10/dist-packages (from ultralytics) (0.13.1)\n",
            "Collecting ultralytics-thop>=2.0.0 (from ultralytics)\n",
            "  Downloading ultralytics_thop-2.0.8-py3-none-any.whl.metadata (9.3 kB)\n",
            "Requirement already satisfied: contourpy>=1.0.1 in /usr/local/lib/python3.10/dist-packages (from matplotlib>=3.3.0->ultralytics) (1.3.0)\n",
            "Requirement already satisfied: cycler>=0.10 in /usr/local/lib/python3.10/dist-packages (from matplotlib>=3.3.0->ultralytics) (0.12.1)\n",
            "Requirement already satisfied: fonttools>=4.22.0 in /usr/local/lib/python3.10/dist-packages (from matplotlib>=3.3.0->ultralytics) (4.53.1)\n",
            "Requirement already satisfied: kiwisolver>=1.0.1 in /usr/local/lib/python3.10/dist-packages (from matplotlib>=3.3.0->ultralytics) (1.4.7)\n",
            "Requirement already satisfied: packaging>=20.0 in /usr/local/lib/python3.10/dist-packages (from matplotlib>=3.3.0->ultralytics) (24.1)\n",
            "Requirement already satisfied: pyparsing>=2.3.1 in /usr/local/lib/python3.10/dist-packages (from matplotlib>=3.3.0->ultralytics) (3.1.4)\n",
            "Requirement already satisfied: python-dateutil>=2.7 in /usr/local/lib/python3.10/dist-packages (from matplotlib>=3.3.0->ultralytics) (2.8.2)\n",
            "Requirement already satisfied: pytz>=2020.1 in /usr/local/lib/python3.10/dist-packages (from pandas>=1.1.4->ultralytics) (2024.2)\n",
            "Requirement already satisfied: tzdata>=2022.1 in /usr/local/lib/python3.10/dist-packages (from pandas>=1.1.4->ultralytics) (2024.1)\n",
            "Requirement already satisfied: charset-normalizer<4,>=2 in /usr/local/lib/python3.10/dist-packages (from requests>=2.23.0->ultralytics) (3.3.2)\n",
            "Requirement already satisfied: idna<4,>=2.5 in /usr/local/lib/python3.10/dist-packages (from requests>=2.23.0->ultralytics) (3.10)\n",
            "Requirement already satisfied: urllib3<3,>=1.21.1 in /usr/local/lib/python3.10/dist-packages (from requests>=2.23.0->ultralytics) (2.2.3)\n",
            "Requirement already satisfied: certifi>=2017.4.17 in /usr/local/lib/python3.10/dist-packages (from requests>=2.23.0->ultralytics) (2024.8.30)\n",
            "Requirement already satisfied: filelock in /usr/local/lib/python3.10/dist-packages (from torch>=1.8.0->ultralytics) (3.16.1)\n",
            "Requirement already satisfied: typing-extensions>=4.8.0 in /usr/local/lib/python3.10/dist-packages (from torch>=1.8.0->ultralytics) (4.12.2)\n",
            "Requirement already satisfied: sympy in /usr/local/lib/python3.10/dist-packages (from torch>=1.8.0->ultralytics) (1.13.3)\n",
            "Requirement already satisfied: networkx in /usr/local/lib/python3.10/dist-packages (from torch>=1.8.0->ultralytics) (3.3)\n",
            "Requirement already satisfied: jinja2 in /usr/local/lib/python3.10/dist-packages (from torch>=1.8.0->ultralytics) (3.1.4)\n",
            "Requirement already satisfied: fsspec in /usr/local/lib/python3.10/dist-packages (from torch>=1.8.0->ultralytics) (2024.6.1)\n",
            "Requirement already satisfied: six>=1.5 in /usr/local/lib/python3.10/dist-packages (from python-dateutil>=2.7->matplotlib>=3.3.0->ultralytics) (1.16.0)\n",
            "Requirement already satisfied: MarkupSafe>=2.0 in /usr/local/lib/python3.10/dist-packages (from jinja2->torch>=1.8.0->ultralytics) (2.1.5)\n",
            "Requirement already satisfied: mpmath<1.4,>=1.1.0 in /usr/local/lib/python3.10/dist-packages (from sympy->torch>=1.8.0->ultralytics) (1.3.0)\n",
            "Downloading ultralytics-8.2.101-py3-none-any.whl (874 kB)\n",
            "\u001b[2K   \u001b[90m━━━━━━━━━━━━━━━━━━━━━━━━━━━━━━━━━━━━━━━━\u001b[0m \u001b[32m874.1/874.1 kB\u001b[0m \u001b[31m35.7 MB/s\u001b[0m eta \u001b[36m0:00:00\u001b[0m\n",
            "\u001b[?25hDownloading ultralytics_thop-2.0.8-py3-none-any.whl (26 kB)\n",
            "Installing collected packages: ultralytics-thop, ultralytics\n",
            "Successfully installed ultralytics-8.2.101 ultralytics-thop-2.0.8\n"
          ]
        }
      ],
      "source": [
        "!pip install ultralytics"
      ]
    },
    {
      "cell_type": "code",
      "execution_count": null,
      "metadata": {
        "id": "jDAgMlM8eLbd",
        "colab": {
          "base_uri": "https://localhost:8080/"
        },
        "outputId": "0685b8f3-2bd9-483a-ec07-7957cfd0284f"
      },
      "outputs": [
        {
          "output_type": "stream",
          "name": "stdout",
          "text": [
            "Creating new Ultralytics Settings v0.0.6 file ✅ \n",
            "View Ultralytics Settings with 'yolo settings' or at '/root/.config/Ultralytics/settings.json'\n",
            "Update Settings with 'yolo settings key=value', i.e. 'yolo settings runs_dir=path/to/dir'. For help see https://docs.ultralytics.com/quickstart/#ultralytics-settings.\n"
          ]
        }
      ],
      "source": [
        "from ultralytics import YOLO"
      ]
    },
    {
      "cell_type": "code",
      "execution_count": null,
      "metadata": {
        "id": "vbFYCYwdeM5G",
        "colab": {
          "base_uri": "https://localhost:8080/"
        },
        "outputId": "08440265-17c4-445f-8d8b-fccacd227316"
      },
      "outputs": [
        {
          "output_type": "stream",
          "name": "stdout",
          "text": [
            "Downloading https://github.com/ultralytics/assets/releases/download/v8.2.0/yolov8s-cls.pt to 'yolov8s-cls.pt'...\n"
          ]
        },
        {
          "output_type": "stream",
          "name": "stderr",
          "text": [
            "100%|██████████| 12.3M/12.3M [00:00<00:00, 181MB/s]\n"
          ]
        },
        {
          "output_type": "stream",
          "name": "stdout",
          "text": [
            "YOLOv8s-cls summary: 99 layers, 6,361,736 parameters, 0 gradients, 13.6 GFLOPs\n"
          ]
        },
        {
          "output_type": "execute_result",
          "data": {
            "text/plain": [
              "(99, 6361736, 0, 13.609779199999998)"
            ]
          },
          "metadata": {},
          "execution_count": 32
        }
      ],
      "source": [
        "modelyolov8s = YOLO('yolov8s-cls.pt')  # load a pretrained YOLOv8n detection model\n",
        "modelyolov8s.info()"
      ]
    },
    {
      "cell_type": "code",
      "execution_count": null,
      "metadata": {
        "id": "1EAuCXVIeOsV",
        "colab": {
          "base_uri": "https://localhost:8080/"
        },
        "outputId": "0a9b2bff-992c-47e0-a7fc-ebc739f1c8d7"
      },
      "outputs": [
        {
          "output_type": "stream",
          "name": "stdout",
          "text": [
            "Ultralytics YOLOv8.2.101 🚀 Python-3.10.12 torch-2.4.1+cu121 CUDA:0 (Tesla T4, 15102MiB)\n",
            "Setup complete ✅ (2 CPUs, 12.7 GB RAM, 36.7/112.6 GB disk)\n"
          ]
        }
      ],
      "source": [
        "%pip install ultralytics\n",
        "import ultralytics\n",
        "ultralytics.checks()"
      ]
    },
    {
      "cell_type": "code",
      "execution_count": null,
      "metadata": {
        "id": "ZDNbydpaeQqH",
        "collapsed": true,
        "colab": {
          "base_uri": "https://localhost:8080/"
        },
        "outputId": "bf3abe6a-a10f-49c7-baa8-758626651b70"
      },
      "outputs": [
        {
          "output_type": "stream",
          "name": "stdout",
          "text": [
            "Ultralytics YOLOv8.2.101 🚀 Python-3.10.12 torch-2.4.1+cu121 CUDA:0 (Tesla T4, 15102MiB)\n",
            "\u001b[34m\u001b[1mengine/trainer: \u001b[0mtask=classify, mode=train, model=yolov8s-cls.pt, data=/content/drive/MyDrive/Colab/deep learning/dataset/dataMerge, epochs=50, time=None, patience=100, batch=64, imgsz=224, save=True, save_period=-1, cache=False, device=None, workers=8, project=None, name=train1, exist_ok=False, pretrained=True, optimizer=Adam, verbose=True, seed=0, deterministic=True, single_cls=False, rect=False, cos_lr=False, close_mosaic=10, resume=False, amp=True, fraction=1.0, profile=False, freeze=1, multi_scale=False, overlap_mask=True, mask_ratio=4, dropout=0.0, val=True, split=val, save_json=False, save_hybrid=False, conf=None, iou=0.7, max_det=300, half=False, dnn=False, plots=True, source=None, vid_stride=1, stream_buffer=False, visualize=False, augment=False, agnostic_nms=False, classes=None, retina_masks=False, embed=None, show=False, save_frames=False, save_txt=False, save_conf=False, save_crop=False, show_labels=True, show_conf=True, show_boxes=True, line_width=None, format=torchscript, keras=False, optimize=False, int8=False, dynamic=False, simplify=True, opset=None, workspace=4, nms=False, lr0=0.001, lrf=0.01, momentum=0.937, weight_decay=0.0005, warmup_epochs=3.0, warmup_momentum=0.8, warmup_bias_lr=0.1, box=7.5, cls=0.5, dfl=1.5, pose=12.0, kobj=1.0, label_smoothing=0.0, nbs=64, hsv_h=0.015, hsv_s=0.7, hsv_v=0.4, degrees=0.0, translate=0.1, scale=0.5, shear=0.0, perspective=0.0, flipud=0.0, fliplr=0.5, bgr=0.0, mosaic=1.0, mixup=0.0, copy_paste=0.0, auto_augment=randaugment, erasing=0.4, crop_fraction=1.0, cfg=None, tracker=botsort.yaml, save_dir=runs/classify/train1\n",
            "\u001b[34m\u001b[1mtrain:\u001b[0m /content/drive/MyDrive/Colab/deep learning/dataset/dataMerge/train... found 690 images in 5 classes ✅ \n",
            "\u001b[34m\u001b[1mval:\u001b[0m None...\n",
            "\u001b[34m\u001b[1mtest:\u001b[0m /content/drive/MyDrive/Colab/deep learning/dataset/dataMerge/test... found 185 images in 5 classes ✅ \n",
            "Overriding model.yaml nc=1000 with nc=5\n",
            "\n",
            "                   from  n    params  module                                       arguments                     \n",
            "  0                  -1  1       928  ultralytics.nn.modules.conv.Conv             [3, 32, 3, 2]                 \n",
            "  1                  -1  1     18560  ultralytics.nn.modules.conv.Conv             [32, 64, 3, 2]                \n",
            "  2                  -1  1     29056  ultralytics.nn.modules.block.C2f             [64, 64, 1, True]             \n",
            "  3                  -1  1     73984  ultralytics.nn.modules.conv.Conv             [64, 128, 3, 2]               \n",
            "  4                  -1  2    197632  ultralytics.nn.modules.block.C2f             [128, 128, 2, True]           \n",
            "  5                  -1  1    295424  ultralytics.nn.modules.conv.Conv             [128, 256, 3, 2]              \n",
            "  6                  -1  2    788480  ultralytics.nn.modules.block.C2f             [256, 256, 2, True]           \n",
            "  7                  -1  1   1180672  ultralytics.nn.modules.conv.Conv             [256, 512, 3, 2]              \n",
            "  8                  -1  1   1838080  ultralytics.nn.modules.block.C2f             [512, 512, 1, True]           \n",
            "  9                  -1  1    664325  ultralytics.nn.modules.head.Classify         [512, 5]                      \n",
            "YOLOv8s-cls summary: 99 layers, 5,087,141 parameters, 5,087,141 gradients, 12.6 GFLOPs\n",
            "Transferred 156/158 items from pretrained weights\n",
            "\u001b[34m\u001b[1mTensorBoard: \u001b[0mStart with 'tensorboard --logdir runs/classify/train1', view at http://localhost:6006/\n",
            "Freezing layer 'model.0.conv.weight'\n",
            "Freezing layer 'model.0.bn.weight'\n",
            "Freezing layer 'model.0.bn.bias'\n",
            "\u001b[34m\u001b[1mAMP: \u001b[0mrunning Automatic Mixed Precision (AMP) checks with YOLOv8n...\n",
            "Downloading https://github.com/ultralytics/assets/releases/download/v8.2.0/yolov8n.pt to 'yolov8n.pt'...\n"
          ]
        },
        {
          "output_type": "stream",
          "name": "stderr",
          "text": [
            "100%|██████████| 6.25M/6.25M [00:00<00:00, 176MB/s]\n"
          ]
        },
        {
          "output_type": "stream",
          "name": "stdout",
          "text": [
            "\u001b[34m\u001b[1mAMP: \u001b[0mchecks passed ✅\n"
          ]
        },
        {
          "output_type": "stream",
          "name": "stderr",
          "text": [
            "\u001b[34m\u001b[1mtrain: \u001b[0mScanning /content/drive/MyDrive/Colab/deep learning/dataset/dataMerge/train... 690 images, 0 corrupt: 100%|██████████| 690/690 [00:00<?, ?it/s]\n",
            "\u001b[34m\u001b[1mval: \u001b[0mScanning /content/drive/MyDrive/Colab/deep learning/dataset/dataMerge/test... 185 images, 0 corrupt: 100%|██████████| 185/185 [00:00<?, ?it/s]\n"
          ]
        },
        {
          "output_type": "stream",
          "name": "stdout",
          "text": [
            "\u001b[34m\u001b[1moptimizer:\u001b[0m Adam(lr=0.001, momentum=0.937) with parameter groups 26 weight(decay=0.0), 27 weight(decay=0.0005), 27 bias(decay=0.0)\n",
            "\u001b[34m\u001b[1mTensorBoard: \u001b[0mmodel graph visualization added ✅\n",
            "Image sizes 224 train, 224 val\n",
            "Using 2 dataloader workers\n",
            "Logging results to \u001b[1mruns/classify/train1\u001b[0m\n",
            "Starting training for 50 epochs...\n",
            "\n",
            "      Epoch    GPU_mem       loss  Instances       Size\n"
          ]
        },
        {
          "output_type": "stream",
          "name": "stderr",
          "text": [
            "       1/50       8.9G      1.615         64        224:  36%|███▋      | 4/11 [00:04<00:05,  1.37it/s]"
          ]
        },
        {
          "output_type": "stream",
          "name": "stdout",
          "text": [
            "Downloading https://ultralytics.com/assets/Arial.ttf to '/root/.config/Ultralytics/Arial.ttf'...\n"
          ]
        },
        {
          "output_type": "stream",
          "name": "stderr",
          "text": [
            "\n",
            "100%|██████████| 755k/755k [00:00<00:00, 38.4MB/s]\n",
            "       1/50       8.9G      1.484         50        224: 100%|██████████| 11/11 [00:15<00:00,  1.44s/it]\n",
            "               classes   top1_acc   top5_acc: 100%|██████████| 2/2 [00:01<00:00,  1.59it/s]"
          ]
        },
        {
          "output_type": "stream",
          "name": "stdout",
          "text": [
            "                   all      0.443          1\n"
          ]
        },
        {
          "output_type": "stream",
          "name": "stderr",
          "text": [
            "\n"
          ]
        },
        {
          "output_type": "stream",
          "name": "stdout",
          "text": [
            "\n",
            "      Epoch    GPU_mem       loss  Instances       Size\n"
          ]
        },
        {
          "output_type": "stream",
          "name": "stderr",
          "text": [
            "       2/50      1.27G      1.186         50        224: 100%|██████████| 11/11 [00:11<00:00,  1.05s/it]\n",
            "               classes   top1_acc   top5_acc: 100%|██████████| 2/2 [00:00<00:00, 13.69it/s]"
          ]
        },
        {
          "output_type": "stream",
          "name": "stdout",
          "text": [
            "                   all      0.514          1\n"
          ]
        },
        {
          "output_type": "stream",
          "name": "stderr",
          "text": [
            "\n"
          ]
        },
        {
          "output_type": "stream",
          "name": "stdout",
          "text": [
            "\n",
            "      Epoch    GPU_mem       loss  Instances       Size\n"
          ]
        },
        {
          "output_type": "stream",
          "name": "stderr",
          "text": [
            "       3/50      1.27G     0.9463         50        224: 100%|██████████| 11/11 [00:13<00:00,  1.23s/it]\n",
            "               classes   top1_acc   top5_acc: 100%|██████████| 2/2 [00:00<00:00, 17.64it/s]"
          ]
        },
        {
          "output_type": "stream",
          "name": "stdout",
          "text": [
            "                   all      0.686          1\n"
          ]
        },
        {
          "output_type": "stream",
          "name": "stderr",
          "text": [
            "\n"
          ]
        },
        {
          "output_type": "stream",
          "name": "stdout",
          "text": [
            "\n",
            "      Epoch    GPU_mem       loss  Instances       Size\n"
          ]
        },
        {
          "output_type": "stream",
          "name": "stderr",
          "text": [
            "       4/50      1.27G     0.8014         50        224: 100%|██████████| 11/11 [00:10<00:00,  1.01it/s]\n",
            "               classes   top1_acc   top5_acc: 100%|██████████| 2/2 [00:00<00:00, 16.46it/s]"
          ]
        },
        {
          "output_type": "stream",
          "name": "stdout",
          "text": [
            "                   all      0.692          1\n"
          ]
        },
        {
          "output_type": "stream",
          "name": "stderr",
          "text": [
            "\n"
          ]
        },
        {
          "output_type": "stream",
          "name": "stdout",
          "text": [
            "\n",
            "      Epoch    GPU_mem       loss  Instances       Size\n"
          ]
        },
        {
          "output_type": "stream",
          "name": "stderr",
          "text": [
            "       5/50      1.26G     0.6494         50        224: 100%|██████████| 11/11 [00:12<00:00,  1.09s/it]\n",
            "               classes   top1_acc   top5_acc: 100%|██████████| 2/2 [00:00<00:00, 22.11it/s]"
          ]
        },
        {
          "output_type": "stream",
          "name": "stdout",
          "text": [
            "                   all      0.741          1\n"
          ]
        },
        {
          "output_type": "stream",
          "name": "stderr",
          "text": [
            "\n"
          ]
        },
        {
          "output_type": "stream",
          "name": "stdout",
          "text": [
            "\n",
            "      Epoch    GPU_mem       loss  Instances       Size\n"
          ]
        },
        {
          "output_type": "stream",
          "name": "stderr",
          "text": [
            "       6/50      1.27G     0.5687         50        224: 100%|██████████| 11/11 [00:08<00:00,  1.27it/s]\n",
            "               classes   top1_acc   top5_acc: 100%|██████████| 2/2 [00:00<00:00, 22.89it/s]"
          ]
        },
        {
          "output_type": "stream",
          "name": "stdout",
          "text": [
            "                   all      0.773          1\n"
          ]
        },
        {
          "output_type": "stream",
          "name": "stderr",
          "text": [
            "\n"
          ]
        },
        {
          "output_type": "stream",
          "name": "stdout",
          "text": [
            "\n",
            "      Epoch    GPU_mem       loss  Instances       Size\n"
          ]
        },
        {
          "output_type": "stream",
          "name": "stderr",
          "text": [
            "       7/50      1.27G     0.4263         50        224: 100%|██████████| 11/11 [00:09<00:00,  1.12it/s]\n",
            "               classes   top1_acc   top5_acc: 100%|██████████| 2/2 [00:00<00:00, 19.14it/s]"
          ]
        },
        {
          "output_type": "stream",
          "name": "stdout",
          "text": [
            "                   all      0.784          1\n"
          ]
        },
        {
          "output_type": "stream",
          "name": "stderr",
          "text": [
            "\n"
          ]
        },
        {
          "output_type": "stream",
          "name": "stdout",
          "text": [
            "\n",
            "      Epoch    GPU_mem       loss  Instances       Size\n"
          ]
        },
        {
          "output_type": "stream",
          "name": "stderr",
          "text": [
            "       8/50      1.27G     0.3868         50        224: 100%|██████████| 11/11 [00:11<00:00,  1.07s/it]\n",
            "               classes   top1_acc   top5_acc: 100%|██████████| 2/2 [00:00<00:00, 17.76it/s]"
          ]
        },
        {
          "output_type": "stream",
          "name": "stdout",
          "text": [
            "                   all      0.746          1\n"
          ]
        },
        {
          "output_type": "stream",
          "name": "stderr",
          "text": [
            "\n"
          ]
        },
        {
          "output_type": "stream",
          "name": "stdout",
          "text": [
            "\n",
            "      Epoch    GPU_mem       loss  Instances       Size\n"
          ]
        },
        {
          "output_type": "stream",
          "name": "stderr",
          "text": [
            "       9/50      1.27G     0.3309         50        224: 100%|██████████| 11/11 [00:08<00:00,  1.32it/s]\n",
            "               classes   top1_acc   top5_acc: 100%|██████████| 2/2 [00:00<00:00, 14.33it/s]\n"
          ]
        },
        {
          "output_type": "stream",
          "name": "stdout",
          "text": [
            "                   all      0.751          1\n",
            "\n",
            "      Epoch    GPU_mem       loss  Instances       Size\n"
          ]
        },
        {
          "output_type": "stream",
          "name": "stderr",
          "text": [
            "      10/50      1.26G     0.3224         50        224: 100%|██████████| 11/11 [00:10<00:00,  1.08it/s]\n",
            "               classes   top1_acc   top5_acc: 100%|██████████| 2/2 [00:00<00:00, 30.17it/s]"
          ]
        },
        {
          "output_type": "stream",
          "name": "stdout",
          "text": [
            "                   all      0.784          1\n"
          ]
        },
        {
          "output_type": "stream",
          "name": "stderr",
          "text": [
            "\n"
          ]
        },
        {
          "output_type": "stream",
          "name": "stdout",
          "text": [
            "\n",
            "      Epoch    GPU_mem       loss  Instances       Size\n"
          ]
        },
        {
          "output_type": "stream",
          "name": "stderr",
          "text": [
            "      11/50      1.27G     0.2837         50        224: 100%|██████████| 11/11 [00:13<00:00,  1.23s/it]\n",
            "               classes   top1_acc   top5_acc: 100%|██████████| 2/2 [00:00<00:00, 14.41it/s]\n"
          ]
        },
        {
          "output_type": "stream",
          "name": "stdout",
          "text": [
            "                   all      0.768          1\n",
            "\n",
            "      Epoch    GPU_mem       loss  Instances       Size\n"
          ]
        },
        {
          "output_type": "stream",
          "name": "stderr",
          "text": [
            "      12/50      1.27G     0.3154         50        224: 100%|██████████| 11/11 [00:08<00:00,  1.32it/s]\n",
            "               classes   top1_acc   top5_acc: 100%|██████████| 2/2 [00:00<00:00, 11.67it/s]"
          ]
        },
        {
          "output_type": "stream",
          "name": "stdout",
          "text": [
            "                   all      0.784          1\n"
          ]
        },
        {
          "output_type": "stream",
          "name": "stderr",
          "text": [
            "\n"
          ]
        },
        {
          "output_type": "stream",
          "name": "stdout",
          "text": [
            "\n",
            "      Epoch    GPU_mem       loss  Instances       Size\n"
          ]
        },
        {
          "output_type": "stream",
          "name": "stderr",
          "text": [
            "      13/50      1.27G     0.2736         50        224: 100%|██████████| 11/11 [00:10<00:00,  1.05it/s]\n",
            "               classes   top1_acc   top5_acc: 100%|██████████| 2/2 [00:00<00:00, 23.33it/s]"
          ]
        },
        {
          "output_type": "stream",
          "name": "stdout",
          "text": [
            "                   all      0.778          1\n"
          ]
        },
        {
          "output_type": "stream",
          "name": "stderr",
          "text": [
            "\n"
          ]
        },
        {
          "output_type": "stream",
          "name": "stdout",
          "text": [
            "\n",
            "      Epoch    GPU_mem       loss  Instances       Size\n"
          ]
        },
        {
          "output_type": "stream",
          "name": "stderr",
          "text": [
            "      14/50      1.27G     0.2549         50        224: 100%|██████████| 11/11 [00:11<00:00,  1.03s/it]\n",
            "               classes   top1_acc   top5_acc: 100%|██████████| 2/2 [00:00<00:00, 17.33it/s]"
          ]
        },
        {
          "output_type": "stream",
          "name": "stdout",
          "text": [
            "                   all      0.784          1\n"
          ]
        },
        {
          "output_type": "stream",
          "name": "stderr",
          "text": [
            "\n"
          ]
        },
        {
          "output_type": "stream",
          "name": "stdout",
          "text": [
            "\n",
            "      Epoch    GPU_mem       loss  Instances       Size\n"
          ]
        },
        {
          "output_type": "stream",
          "name": "stderr",
          "text": [
            "      15/50      1.26G     0.2265         50        224: 100%|██████████| 11/11 [00:09<00:00,  1.17it/s]\n",
            "               classes   top1_acc   top5_acc: 100%|██████████| 2/2 [00:00<00:00, 17.03it/s]"
          ]
        },
        {
          "output_type": "stream",
          "name": "stdout",
          "text": [
            "                   all      0.751          1\n"
          ]
        },
        {
          "output_type": "stream",
          "name": "stderr",
          "text": [
            "\n"
          ]
        },
        {
          "output_type": "stream",
          "name": "stdout",
          "text": [
            "\n",
            "      Epoch    GPU_mem       loss  Instances       Size\n"
          ]
        },
        {
          "output_type": "stream",
          "name": "stderr",
          "text": [
            "      16/50      1.27G     0.1907         50        224: 100%|██████████| 11/11 [00:09<00:00,  1.16it/s]\n",
            "               classes   top1_acc   top5_acc: 100%|██████████| 2/2 [00:00<00:00, 22.69it/s]"
          ]
        },
        {
          "output_type": "stream",
          "name": "stdout",
          "text": [
            "                   all      0.795          1\n"
          ]
        },
        {
          "output_type": "stream",
          "name": "stderr",
          "text": [
            "\n"
          ]
        },
        {
          "output_type": "stream",
          "name": "stdout",
          "text": [
            "\n",
            "      Epoch    GPU_mem       loss  Instances       Size\n"
          ]
        },
        {
          "output_type": "stream",
          "name": "stderr",
          "text": [
            "      17/50      1.27G     0.1888         50        224: 100%|██████████| 11/11 [00:11<00:00,  1.08s/it]\n",
            "               classes   top1_acc   top5_acc: 100%|██████████| 2/2 [00:00<00:00, 20.65it/s]"
          ]
        },
        {
          "output_type": "stream",
          "name": "stdout",
          "text": [
            "                   all      0.773          1\n"
          ]
        },
        {
          "output_type": "stream",
          "name": "stderr",
          "text": [
            "\n"
          ]
        },
        {
          "output_type": "stream",
          "name": "stdout",
          "text": [
            "\n",
            "      Epoch    GPU_mem       loss  Instances       Size\n"
          ]
        },
        {
          "output_type": "stream",
          "name": "stderr",
          "text": [
            "      18/50      1.27G     0.1962         50        224: 100%|██████████| 11/11 [00:08<00:00,  1.24it/s]\n",
            "               classes   top1_acc   top5_acc: 100%|██████████| 2/2 [00:00<00:00, 25.57it/s]"
          ]
        },
        {
          "output_type": "stream",
          "name": "stdout",
          "text": [
            "                   all      0.816          1\n"
          ]
        },
        {
          "output_type": "stream",
          "name": "stderr",
          "text": [
            "\n"
          ]
        },
        {
          "output_type": "stream",
          "name": "stdout",
          "text": [
            "\n",
            "      Epoch    GPU_mem       loss  Instances       Size\n"
          ]
        },
        {
          "output_type": "stream",
          "name": "stderr",
          "text": [
            "      19/50      1.27G     0.1842         50        224: 100%|██████████| 11/11 [00:11<00:00,  1.02s/it]\n",
            "               classes   top1_acc   top5_acc: 100%|██████████| 2/2 [00:00<00:00, 18.77it/s]"
          ]
        },
        {
          "output_type": "stream",
          "name": "stdout",
          "text": [
            "                   all      0.816          1\n"
          ]
        },
        {
          "output_type": "stream",
          "name": "stderr",
          "text": [
            "\n"
          ]
        },
        {
          "output_type": "stream",
          "name": "stdout",
          "text": [
            "\n",
            "      Epoch    GPU_mem       loss  Instances       Size\n"
          ]
        },
        {
          "output_type": "stream",
          "name": "stderr",
          "text": [
            "      20/50      1.26G      0.155         50        224: 100%|██████████| 11/11 [00:11<00:00,  1.03s/it]\n",
            "               classes   top1_acc   top5_acc: 100%|██████████| 2/2 [00:00<00:00, 16.80it/s]"
          ]
        },
        {
          "output_type": "stream",
          "name": "stdout",
          "text": [
            "                   all      0.811          1\n"
          ]
        },
        {
          "output_type": "stream",
          "name": "stderr",
          "text": [
            "\n"
          ]
        },
        {
          "output_type": "stream",
          "name": "stdout",
          "text": [
            "\n",
            "      Epoch    GPU_mem       loss  Instances       Size\n"
          ]
        },
        {
          "output_type": "stream",
          "name": "stderr",
          "text": [
            "      21/50      1.27G      0.163         50        224: 100%|██████████| 11/11 [00:07<00:00,  1.42it/s]\n",
            "               classes   top1_acc   top5_acc: 100%|██████████| 2/2 [00:00<00:00, 21.72it/s]"
          ]
        },
        {
          "output_type": "stream",
          "name": "stdout",
          "text": [
            "                   all      0.784          1\n"
          ]
        },
        {
          "output_type": "stream",
          "name": "stderr",
          "text": [
            "\n"
          ]
        },
        {
          "output_type": "stream",
          "name": "stdout",
          "text": [
            "\n",
            "      Epoch    GPU_mem       loss  Instances       Size\n"
          ]
        },
        {
          "output_type": "stream",
          "name": "stderr",
          "text": [
            "      22/50      1.27G     0.1218         50        224: 100%|██████████| 11/11 [00:12<00:00,  1.12s/it]\n",
            "               classes   top1_acc   top5_acc: 100%|██████████| 2/2 [00:00<00:00, 19.62it/s]"
          ]
        },
        {
          "output_type": "stream",
          "name": "stdout",
          "text": [
            "                   all      0.827          1\n"
          ]
        },
        {
          "output_type": "stream",
          "name": "stderr",
          "text": [
            "\n"
          ]
        },
        {
          "output_type": "stream",
          "name": "stdout",
          "text": [
            "\n",
            "      Epoch    GPU_mem       loss  Instances       Size\n"
          ]
        },
        {
          "output_type": "stream",
          "name": "stderr",
          "text": [
            "      23/50      1.27G     0.1117         50        224: 100%|██████████| 11/11 [00:10<00:00,  1.06it/s]\n",
            "               classes   top1_acc   top5_acc: 100%|██████████| 2/2 [00:00<00:00, 10.76it/s]"
          ]
        },
        {
          "output_type": "stream",
          "name": "stdout",
          "text": [
            "                   all      0.811          1\n"
          ]
        },
        {
          "output_type": "stream",
          "name": "stderr",
          "text": [
            "\n"
          ]
        },
        {
          "output_type": "stream",
          "name": "stdout",
          "text": [
            "\n",
            "      Epoch    GPU_mem       loss  Instances       Size\n"
          ]
        },
        {
          "output_type": "stream",
          "name": "stderr",
          "text": [
            "      24/50      1.27G     0.1361         50        224: 100%|██████████| 11/11 [00:07<00:00,  1.39it/s]\n",
            "               classes   top1_acc   top5_acc: 100%|██████████| 2/2 [00:00<00:00, 14.96it/s]"
          ]
        },
        {
          "output_type": "stream",
          "name": "stdout",
          "text": [
            "                   all      0.784          1\n"
          ]
        },
        {
          "output_type": "stream",
          "name": "stderr",
          "text": [
            "\n"
          ]
        },
        {
          "output_type": "stream",
          "name": "stdout",
          "text": [
            "\n",
            "      Epoch    GPU_mem       loss  Instances       Size\n"
          ]
        },
        {
          "output_type": "stream",
          "name": "stderr",
          "text": [
            "      25/50      1.26G     0.1199         50        224: 100%|██████████| 11/11 [00:12<00:00,  1.09s/it]\n",
            "               classes   top1_acc   top5_acc: 100%|██████████| 2/2 [00:00<00:00, 21.05it/s]"
          ]
        },
        {
          "output_type": "stream",
          "name": "stdout",
          "text": [
            "                   all      0.795          1\n"
          ]
        },
        {
          "output_type": "stream",
          "name": "stderr",
          "text": [
            "\n"
          ]
        },
        {
          "output_type": "stream",
          "name": "stdout",
          "text": [
            "\n",
            "      Epoch    GPU_mem       loss  Instances       Size\n"
          ]
        },
        {
          "output_type": "stream",
          "name": "stderr",
          "text": [
            "      26/50      1.27G     0.1225         50        224: 100%|██████████| 11/11 [00:09<00:00,  1.19it/s]\n",
            "               classes   top1_acc   top5_acc: 100%|██████████| 2/2 [00:00<00:00, 21.71it/s]"
          ]
        },
        {
          "output_type": "stream",
          "name": "stdout",
          "text": [
            "                   all      0.778          1\n"
          ]
        },
        {
          "output_type": "stream",
          "name": "stderr",
          "text": [
            "\n"
          ]
        },
        {
          "output_type": "stream",
          "name": "stdout",
          "text": [
            "\n",
            "      Epoch    GPU_mem       loss  Instances       Size\n"
          ]
        },
        {
          "output_type": "stream",
          "name": "stderr",
          "text": [
            "      27/50      1.27G     0.1364         50        224: 100%|██████████| 11/11 [00:09<00:00,  1.14it/s]\n",
            "               classes   top1_acc   top5_acc: 100%|██████████| 2/2 [00:00<00:00, 29.23it/s]"
          ]
        },
        {
          "output_type": "stream",
          "name": "stdout",
          "text": [
            "                   all        0.8          1\n"
          ]
        },
        {
          "output_type": "stream",
          "name": "stderr",
          "text": [
            "\n"
          ]
        },
        {
          "output_type": "stream",
          "name": "stdout",
          "text": [
            "\n",
            "      Epoch    GPU_mem       loss  Instances       Size\n"
          ]
        },
        {
          "output_type": "stream",
          "name": "stderr",
          "text": [
            "      28/50      1.27G       0.12         50        224: 100%|██████████| 11/11 [00:11<00:00,  1.07s/it]\n",
            "               classes   top1_acc   top5_acc: 100%|██████████| 2/2 [00:00<00:00, 19.80it/s]"
          ]
        },
        {
          "output_type": "stream",
          "name": "stdout",
          "text": [
            "                   all        0.8          1\n"
          ]
        },
        {
          "output_type": "stream",
          "name": "stderr",
          "text": [
            "\n"
          ]
        },
        {
          "output_type": "stream",
          "name": "stdout",
          "text": [
            "\n",
            "      Epoch    GPU_mem       loss  Instances       Size\n"
          ]
        },
        {
          "output_type": "stream",
          "name": "stderr",
          "text": [
            "      29/50      1.27G     0.1154         50        224: 100%|██████████| 11/11 [00:09<00:00,  1.17it/s]\n",
            "               classes   top1_acc   top5_acc: 100%|██████████| 2/2 [00:00<00:00, 12.14it/s]"
          ]
        },
        {
          "output_type": "stream",
          "name": "stdout",
          "text": [
            "                   all      0.811          1\n"
          ]
        },
        {
          "output_type": "stream",
          "name": "stderr",
          "text": [
            "\n"
          ]
        },
        {
          "output_type": "stream",
          "name": "stdout",
          "text": [
            "\n",
            "      Epoch    GPU_mem       loss  Instances       Size\n"
          ]
        },
        {
          "output_type": "stream",
          "name": "stderr",
          "text": [
            "      30/50      1.26G    0.09966         50        224: 100%|██████████| 11/11 [00:09<00:00,  1.13it/s]\n",
            "               classes   top1_acc   top5_acc: 100%|██████████| 2/2 [00:00<00:00, 14.94it/s]"
          ]
        },
        {
          "output_type": "stream",
          "name": "stdout",
          "text": [
            "                   all      0.811          1\n"
          ]
        },
        {
          "output_type": "stream",
          "name": "stderr",
          "text": [
            "\n"
          ]
        },
        {
          "output_type": "stream",
          "name": "stdout",
          "text": [
            "\n",
            "      Epoch    GPU_mem       loss  Instances       Size\n"
          ]
        },
        {
          "output_type": "stream",
          "name": "stderr",
          "text": [
            "      31/50      1.27G    0.09015         50        224: 100%|██████████| 11/11 [00:12<00:00,  1.14s/it]\n",
            "               classes   top1_acc   top5_acc: 100%|██████████| 2/2 [00:00<00:00, 21.89it/s]"
          ]
        },
        {
          "output_type": "stream",
          "name": "stdout",
          "text": [
            "                   all      0.789          1\n"
          ]
        },
        {
          "output_type": "stream",
          "name": "stderr",
          "text": [
            "\n"
          ]
        },
        {
          "output_type": "stream",
          "name": "stdout",
          "text": [
            "\n",
            "      Epoch    GPU_mem       loss  Instances       Size\n"
          ]
        },
        {
          "output_type": "stream",
          "name": "stderr",
          "text": [
            "      32/50      1.27G      0.104         50        224: 100%|██████████| 11/11 [00:07<00:00,  1.40it/s]\n",
            "               classes   top1_acc   top5_acc: 100%|██████████| 2/2 [00:00<00:00, 20.96it/s]"
          ]
        },
        {
          "output_type": "stream",
          "name": "stdout",
          "text": [
            "                   all      0.789          1\n"
          ]
        },
        {
          "output_type": "stream",
          "name": "stderr",
          "text": [
            "\n"
          ]
        },
        {
          "output_type": "stream",
          "name": "stdout",
          "text": [
            "\n",
            "      Epoch    GPU_mem       loss  Instances       Size\n"
          ]
        },
        {
          "output_type": "stream",
          "name": "stderr",
          "text": [
            "      33/50      1.27G     0.1298         50        224: 100%|██████████| 11/11 [00:12<00:00,  1.13s/it]\n",
            "               classes   top1_acc   top5_acc: 100%|██████████| 2/2 [00:00<00:00, 24.45it/s]"
          ]
        },
        {
          "output_type": "stream",
          "name": "stdout",
          "text": [
            "                   all      0.805          1\n"
          ]
        },
        {
          "output_type": "stream",
          "name": "stderr",
          "text": [
            "\n"
          ]
        },
        {
          "output_type": "stream",
          "name": "stdout",
          "text": [
            "\n",
            "      Epoch    GPU_mem       loss  Instances       Size\n"
          ]
        },
        {
          "output_type": "stream",
          "name": "stderr",
          "text": [
            "      34/50      1.27G    0.06791         50        224: 100%|██████████| 11/11 [00:10<00:00,  1.06it/s]\n",
            "               classes   top1_acc   top5_acc: 100%|██████████| 2/2 [00:00<00:00, 12.89it/s]"
          ]
        },
        {
          "output_type": "stream",
          "name": "stdout",
          "text": [
            "                   all      0.811          1\n"
          ]
        },
        {
          "output_type": "stream",
          "name": "stderr",
          "text": [
            "\n"
          ]
        },
        {
          "output_type": "stream",
          "name": "stdout",
          "text": [
            "\n",
            "      Epoch    GPU_mem       loss  Instances       Size\n"
          ]
        },
        {
          "output_type": "stream",
          "name": "stderr",
          "text": [
            "      35/50      1.26G    0.04956         50        224: 100%|██████████| 11/11 [00:08<00:00,  1.35it/s]\n",
            "               classes   top1_acc   top5_acc: 100%|██████████| 2/2 [00:00<00:00, 20.03it/s]"
          ]
        },
        {
          "output_type": "stream",
          "name": "stdout",
          "text": [
            "                   all      0.805          1\n"
          ]
        },
        {
          "output_type": "stream",
          "name": "stderr",
          "text": [
            "\n"
          ]
        },
        {
          "output_type": "stream",
          "name": "stdout",
          "text": [
            "\n",
            "      Epoch    GPU_mem       loss  Instances       Size\n"
          ]
        },
        {
          "output_type": "stream",
          "name": "stderr",
          "text": [
            "      36/50      1.27G    0.04513         50        224: 100%|██████████| 11/11 [00:11<00:00,  1.08s/it]\n",
            "               classes   top1_acc   top5_acc: 100%|██████████| 2/2 [00:00<00:00, 17.89it/s]"
          ]
        },
        {
          "output_type": "stream",
          "name": "stdout",
          "text": [
            "                   all      0.832          1\n"
          ]
        },
        {
          "output_type": "stream",
          "name": "stderr",
          "text": [
            "\n"
          ]
        },
        {
          "output_type": "stream",
          "name": "stdout",
          "text": [
            "\n",
            "      Epoch    GPU_mem       loss  Instances       Size\n"
          ]
        },
        {
          "output_type": "stream",
          "name": "stderr",
          "text": [
            "      37/50      1.27G    0.04695         50        224: 100%|██████████| 11/11 [00:10<00:00,  1.02it/s]\n",
            "               classes   top1_acc   top5_acc: 100%|██████████| 2/2 [00:00<00:00, 13.12it/s]"
          ]
        },
        {
          "output_type": "stream",
          "name": "stdout",
          "text": [
            "                   all      0.805          1\n"
          ]
        },
        {
          "output_type": "stream",
          "name": "stderr",
          "text": [
            "\n"
          ]
        },
        {
          "output_type": "stream",
          "name": "stdout",
          "text": [
            "\n",
            "      Epoch    GPU_mem       loss  Instances       Size\n"
          ]
        },
        {
          "output_type": "stream",
          "name": "stderr",
          "text": [
            "      38/50      1.27G    0.07334         50        224: 100%|██████████| 11/11 [00:07<00:00,  1.51it/s]\n",
            "               classes   top1_acc   top5_acc: 100%|██████████| 2/2 [00:00<00:00, 21.70it/s]"
          ]
        },
        {
          "output_type": "stream",
          "name": "stdout",
          "text": [
            "                   all      0.822          1\n"
          ]
        },
        {
          "output_type": "stream",
          "name": "stderr",
          "text": [
            "\n"
          ]
        },
        {
          "output_type": "stream",
          "name": "stdout",
          "text": [
            "\n",
            "      Epoch    GPU_mem       loss  Instances       Size\n"
          ]
        },
        {
          "output_type": "stream",
          "name": "stderr",
          "text": [
            "      39/50      1.27G    0.04134         50        224: 100%|██████████| 11/11 [00:12<00:00,  1.12s/it]\n",
            "               classes   top1_acc   top5_acc: 100%|██████████| 2/2 [00:00<00:00, 16.25it/s]"
          ]
        },
        {
          "output_type": "stream",
          "name": "stdout",
          "text": [
            "                   all      0.811          1\n"
          ]
        },
        {
          "output_type": "stream",
          "name": "stderr",
          "text": [
            "\n"
          ]
        },
        {
          "output_type": "stream",
          "name": "stdout",
          "text": [
            "\n",
            "      Epoch    GPU_mem       loss  Instances       Size\n"
          ]
        },
        {
          "output_type": "stream",
          "name": "stderr",
          "text": [
            "      40/50      1.26G    0.04848         50        224: 100%|██████████| 11/11 [00:08<00:00,  1.25it/s]\n",
            "               classes   top1_acc   top5_acc: 100%|██████████| 2/2 [00:00<00:00, 16.94it/s]"
          ]
        },
        {
          "output_type": "stream",
          "name": "stdout",
          "text": [
            "                   all      0.822          1\n"
          ]
        },
        {
          "output_type": "stream",
          "name": "stderr",
          "text": [
            "\n"
          ]
        },
        {
          "output_type": "stream",
          "name": "stdout",
          "text": [
            "\n",
            "      Epoch    GPU_mem       loss  Instances       Size\n"
          ]
        },
        {
          "output_type": "stream",
          "name": "stderr",
          "text": [
            "      41/50      1.27G    0.04769         50        224: 100%|██████████| 11/11 [00:08<00:00,  1.35it/s]\n",
            "               classes   top1_acc   top5_acc: 100%|██████████| 2/2 [00:00<00:00, 16.22it/s]"
          ]
        },
        {
          "output_type": "stream",
          "name": "stdout",
          "text": [
            "                   all      0.822          1\n"
          ]
        },
        {
          "output_type": "stream",
          "name": "stderr",
          "text": [
            "\n"
          ]
        },
        {
          "output_type": "stream",
          "name": "stdout",
          "text": [
            "\n",
            "      Epoch    GPU_mem       loss  Instances       Size\n"
          ]
        },
        {
          "output_type": "stream",
          "name": "stderr",
          "text": [
            "      42/50      1.27G    0.06067         50        224: 100%|██████████| 11/11 [00:11<00:00,  1.03s/it]\n",
            "               classes   top1_acc   top5_acc: 100%|██████████| 2/2 [00:00<00:00, 17.74it/s]"
          ]
        },
        {
          "output_type": "stream",
          "name": "stdout",
          "text": [
            "                   all      0.811          1\n"
          ]
        },
        {
          "output_type": "stream",
          "name": "stderr",
          "text": [
            "\n"
          ]
        },
        {
          "output_type": "stream",
          "name": "stdout",
          "text": [
            "\n",
            "      Epoch    GPU_mem       loss  Instances       Size\n"
          ]
        },
        {
          "output_type": "stream",
          "name": "stderr",
          "text": [
            "      43/50      1.27G    0.06661         50        224: 100%|██████████| 11/11 [00:11<00:00,  1.02s/it]\n",
            "               classes   top1_acc   top5_acc: 100%|██████████| 2/2 [00:00<00:00, 12.18it/s]"
          ]
        },
        {
          "output_type": "stream",
          "name": "stdout",
          "text": [
            "                   all      0.822          1\n"
          ]
        },
        {
          "output_type": "stream",
          "name": "stderr",
          "text": [
            "\n"
          ]
        },
        {
          "output_type": "stream",
          "name": "stdout",
          "text": [
            "\n",
            "      Epoch    GPU_mem       loss  Instances       Size\n"
          ]
        },
        {
          "output_type": "stream",
          "name": "stderr",
          "text": [
            "      44/50      1.27G    0.05203         50        224: 100%|██████████| 11/11 [00:07<00:00,  1.49it/s]\n",
            "               classes   top1_acc   top5_acc: 100%|██████████| 2/2 [00:00<00:00, 26.49it/s]"
          ]
        },
        {
          "output_type": "stream",
          "name": "stdout",
          "text": [
            "                   all      0.827          1\n"
          ]
        },
        {
          "output_type": "stream",
          "name": "stderr",
          "text": [
            "\n"
          ]
        },
        {
          "output_type": "stream",
          "name": "stdout",
          "text": [
            "\n",
            "      Epoch    GPU_mem       loss  Instances       Size\n"
          ]
        },
        {
          "output_type": "stream",
          "name": "stderr",
          "text": [
            "      45/50      1.26G    0.05466         50        224: 100%|██████████| 11/11 [00:12<00:00,  1.10s/it]\n",
            "               classes   top1_acc   top5_acc: 100%|██████████| 2/2 [00:00<00:00, 21.62it/s]"
          ]
        },
        {
          "output_type": "stream",
          "name": "stdout",
          "text": [
            "                   all      0.838          1\n"
          ]
        },
        {
          "output_type": "stream",
          "name": "stderr",
          "text": [
            "\n"
          ]
        },
        {
          "output_type": "stream",
          "name": "stdout",
          "text": [
            "\n",
            "      Epoch    GPU_mem       loss  Instances       Size\n"
          ]
        },
        {
          "output_type": "stream",
          "name": "stderr",
          "text": [
            "      46/50      1.27G    0.02939         50        224: 100%|██████████| 11/11 [00:09<00:00,  1.14it/s]\n",
            "               classes   top1_acc   top5_acc: 100%|██████████| 2/2 [00:00<00:00, 14.08it/s]"
          ]
        },
        {
          "output_type": "stream",
          "name": "stdout",
          "text": [
            "                   all      0.832          1\n"
          ]
        },
        {
          "output_type": "stream",
          "name": "stderr",
          "text": [
            "\n"
          ]
        },
        {
          "output_type": "stream",
          "name": "stdout",
          "text": [
            "\n",
            "      Epoch    GPU_mem       loss  Instances       Size\n"
          ]
        },
        {
          "output_type": "stream",
          "name": "stderr",
          "text": [
            "      47/50      1.27G    0.03428         50        224: 100%|██████████| 11/11 [00:09<00:00,  1.19it/s]\n",
            "               classes   top1_acc   top5_acc: 100%|██████████| 2/2 [00:00<00:00, 27.72it/s]"
          ]
        },
        {
          "output_type": "stream",
          "name": "stdout",
          "text": [
            "                   all      0.843          1\n"
          ]
        },
        {
          "output_type": "stream",
          "name": "stderr",
          "text": [
            "\n"
          ]
        },
        {
          "output_type": "stream",
          "name": "stdout",
          "text": [
            "\n",
            "      Epoch    GPU_mem       loss  Instances       Size\n"
          ]
        },
        {
          "output_type": "stream",
          "name": "stderr",
          "text": [
            "      48/50      1.27G    0.03713         50        224: 100%|██████████| 11/11 [00:11<00:00,  1.05s/it]\n",
            "               classes   top1_acc   top5_acc: 100%|██████████| 2/2 [00:00<00:00, 21.14it/s]"
          ]
        },
        {
          "output_type": "stream",
          "name": "stdout",
          "text": [
            "                   all      0.843          1\n"
          ]
        },
        {
          "output_type": "stream",
          "name": "stderr",
          "text": [
            "\n"
          ]
        },
        {
          "output_type": "stream",
          "name": "stdout",
          "text": [
            "\n",
            "      Epoch    GPU_mem       loss  Instances       Size\n"
          ]
        },
        {
          "output_type": "stream",
          "name": "stderr",
          "text": [
            "      49/50      1.27G    0.03656         50        224: 100%|██████████| 11/11 [00:10<00:00,  1.05it/s]\n",
            "               classes   top1_acc   top5_acc: 100%|██████████| 2/2 [00:00<00:00, 21.65it/s]"
          ]
        },
        {
          "output_type": "stream",
          "name": "stdout",
          "text": [
            "                   all      0.832          1\n"
          ]
        },
        {
          "output_type": "stream",
          "name": "stderr",
          "text": [
            "\n"
          ]
        },
        {
          "output_type": "stream",
          "name": "stdout",
          "text": [
            "\n",
            "      Epoch    GPU_mem       loss  Instances       Size\n"
          ]
        },
        {
          "output_type": "stream",
          "name": "stderr",
          "text": [
            "      50/50      1.26G    0.02558         50        224: 100%|██████████| 11/11 [00:08<00:00,  1.30it/s]\n",
            "               classes   top1_acc   top5_acc: 100%|██████████| 2/2 [00:00<00:00, 21.81it/s]"
          ]
        },
        {
          "output_type": "stream",
          "name": "stdout",
          "text": [
            "                   all      0.843          1\n"
          ]
        },
        {
          "output_type": "stream",
          "name": "stderr",
          "text": [
            "\n"
          ]
        },
        {
          "output_type": "stream",
          "name": "stdout",
          "text": [
            "\n",
            "50 epochs completed in 0.177 hours.\n",
            "Optimizer stripped from runs/classify/train1/weights/last.pt, 10.3MB\n",
            "Optimizer stripped from runs/classify/train1/weights/best.pt, 10.3MB\n",
            "\n",
            "Validating runs/classify/train1/weights/best.pt...\n",
            "Ultralytics YOLOv8.2.101 🚀 Python-3.10.12 torch-2.4.1+cu121 CUDA:0 (Tesla T4, 15102MiB)\n",
            "YOLOv8s-cls summary (fused): 73 layers, 5,081,605 parameters, 0 gradients, 12.5 GFLOPs\n",
            "WARNING ⚠️ Dataset 'split=val' not found, using 'split=test' instead.\n",
            "\u001b[34m\u001b[1mtrain:\u001b[0m /content/drive/MyDrive/Colab/deep learning/dataset/dataMerge/train... found 690 images in 5 classes ✅ \n",
            "\u001b[34m\u001b[1mval:\u001b[0m None...\n",
            "\u001b[34m\u001b[1mtest:\u001b[0m /content/drive/MyDrive/Colab/deep learning/dataset/dataMerge/test... found 185 images in 5 classes ✅ \n"
          ]
        },
        {
          "output_type": "stream",
          "name": "stderr",
          "text": [
            "               classes   top1_acc   top5_acc: 100%|██████████| 2/2 [00:00<00:00,  8.57it/s]\n"
          ]
        },
        {
          "output_type": "stream",
          "name": "stdout",
          "text": [
            "                   all      0.843          1\n",
            "Speed: 0.1ms preprocess, 0.5ms inference, 0.0ms loss, 0.0ms postprocess per image\n",
            "Results saved to \u001b[1mruns/classify/train1\u001b[0m\n",
            "Results saved to \u001b[1mruns/classify/train1\u001b[0m\n"
          ]
        }
      ],
      "source": [
        "# Train the model\n",
        "results = modelyolov8s.train(data='/content/drive/MyDrive/Colab/deep learning/dataset/dataMerge', epochs=epochs, imgsz=imageSize, lr0 = learningRate, optimizer = 'Adam', batch =batch_size , freeze = 1, name ='train1')"
      ]
    },
    {
      "cell_type": "code",
      "execution_count": null,
      "metadata": {
        "id": "o32K1dZreYfl"
      },
      "outputs": [],
      "source": [
        "bestModelYoloS = YOLO('/content/runs/classify/train1/weights/best.pt')  # load a custom model"
      ]
    },
    {
      "cell_type": "code",
      "execution_count": null,
      "metadata": {
        "id": "JE-paT_c_yfX"
      },
      "outputs": [],
      "source": [
        "# Total parameter untuk masing-masing model\n",
        "path_class = ['/content/drive/MyDrive/Colab/deep learning/dataset/dataMerge/test/Acne',\n",
        "              '/content/drive/MyDrive/Colab/deep learning/dataset/dataMerge/test/Actinic Keratosis',\n",
        "              '/content/drive/MyDrive/Colab/deep learning/dataset/dataMerge/test/Basal Cell Carcinoma',\n",
        "              '/content/drive/MyDrive/Colab/deep learning/dataset/dataMerge/test/Eczemaa',\n",
        "              '/content/drive/MyDrive/Colab/deep learning/dataset/dataMerge/test/Rosacea']"
      ]
    },
    {
      "cell_type": "code",
      "execution_count": null,
      "metadata": {
        "id": "yLjsuXW29-Hq"
      },
      "outputs": [],
      "source": [
        "def evaluate_model_yolo(model, model_path, device=None):\n",
        "  # Setup TicToc\n",
        "  t = TicToc()\n",
        "  # List to store prediction results\n",
        "  prediction_tests = []\n",
        "  if device is None:\n",
        "        # Automatically choose the device: Use GPU if available, else CPU\n",
        "    device = torch.device('cuda' if torch.cuda.is_available() else 'cpu')\n",
        "\n",
        "    # Move model to the selected device\n",
        "  model.to(device)\n",
        "  t.tic()  # Start timing\n",
        "  # Proses untuk setiap predictionTest\n",
        "  for i in range(5):\n",
        "    prediction_result = model.predict(model_path[i])\n",
        "    prediction_tests.append(prediction_result)\n",
        "\n",
        "  t.toc()  # Stop timing and get total time\n",
        "  # Menggunakan total waktu evaluasi\n",
        "  elapsed_time_s = t.elapsed\n",
        "  print(f\"Total Prediction Time: {elapsed_time_s:.2f} seconds\")\n",
        "\n",
        "  return prediction_tests, elapsed_time_s"
      ]
    },
    {
      "cell_type": "code",
      "execution_count": null,
      "metadata": {
        "collapsed": true,
        "id": "15eOVFn9Ants",
        "colab": {
          "base_uri": "https://localhost:8080/"
        },
        "outputId": "52cf396f-09b3-4650-e6ed-a1b221cca6cf"
      },
      "outputs": [
        {
          "output_type": "stream",
          "name": "stdout",
          "text": [
            "\n",
            "image 1/37 /content/drive/MyDrive/Colab/deep learning/dataset/dataMerge/test/Acne/032839HB.jpg: 224x224 Acne 0.93, Rosacea 0.06, Eczemaa 0.01, Actinic Keratosis 0.00, Basal Cell Carcinoma 0.00, 5.3ms\n",
            "image 2/37 /content/drive/MyDrive/Colab/deep learning/dataset/dataMerge/test/Acne/032897HB.jpg: 224x224 Acne 1.00, Rosacea 0.00, Eczemaa 0.00, Actinic Keratosis 0.00, Basal Cell Carcinoma 0.00, 5.4ms\n",
            "image 3/37 /content/drive/MyDrive/Colab/deep learning/dataset/dataMerge/test/Acne/07AcnePittedScars1.jpg: 224x224 Acne 1.00, Basal Cell Carcinoma 0.00, Actinic Keratosis 0.00, Eczemaa 0.00, Rosacea 0.00, 9.3ms\n",
            "image 4/37 /content/drive/MyDrive/Colab/deep learning/dataset/dataMerge/test/Acne/acne-Closed-Comedo.jpg: 224x224 Basal Cell Carcinoma 0.78, Acne 0.19, Actinic Keratosis 0.03, Rosacea 0.00, Eczemaa 0.00, 7.0ms\n",
            "image 5/37 /content/drive/MyDrive/Colab/deep learning/dataset/dataMerge/test/Acne/acne-closed-comedo-8.jpg: 224x224 Acne 1.00, Basal Cell Carcinoma 0.00, Actinic Keratosis 0.00, Rosacea 0.00, Eczemaa 0.00, 4.9ms\n",
            "image 6/37 /content/drive/MyDrive/Colab/deep learning/dataset/dataMerge/test/Acne/acne-cystic-13.jpg: 224x224 Acne 1.00, Rosacea 0.00, Actinic Keratosis 0.00, Basal Cell Carcinoma 0.00, Eczemaa 0.00, 5.1ms\n",
            "image 7/37 /content/drive/MyDrive/Colab/deep learning/dataset/dataMerge/test/Acne/acne-excoriated-24.jpg: 224x224 Acne 1.00, Rosacea 0.00, Eczemaa 0.00, Actinic Keratosis 0.00, Basal Cell Carcinoma 0.00, 4.9ms\n",
            "image 8/37 /content/drive/MyDrive/Colab/deep learning/dataset/dataMerge/test/Acne/acne-excoriated-27.jpg: 224x224 Acne 1.00, Rosacea 0.00, Eczemaa 0.00, Actinic Keratosis 0.00, Basal Cell Carcinoma 0.00, 5.5ms\n",
            "image 9/37 /content/drive/MyDrive/Colab/deep learning/dataset/dataMerge/test/Acne/acne-infantile-1.jpg: 224x224 Acne 1.00, Eczemaa 0.00, Rosacea 0.00, Actinic Keratosis 0.00, Basal Cell Carcinoma 0.00, 4.0ms\n",
            "image 10/37 /content/drive/MyDrive/Colab/deep learning/dataset/dataMerge/test/Acne/acne-open-comedo-58.jpg: 224x224 Acne 1.00, Basal Cell Carcinoma 0.00, Actinic Keratosis 0.00, Rosacea 0.00, Eczemaa 0.00, 3.2ms\n",
            "image 11/37 /content/drive/MyDrive/Colab/deep learning/dataset/dataMerge/test/Acne/acne-open-comedo-59.jpg: 224x224 Acne 1.00, Rosacea 0.00, Eczemaa 0.00, Basal Cell Carcinoma 0.00, Actinic Keratosis 0.00, 3.1ms\n",
            "image 12/37 /content/drive/MyDrive/Colab/deep learning/dataset/dataMerge/test/Acne/acne-open-comedo-61.jpg: 224x224 Acne 1.00, Rosacea 0.00, Basal Cell Carcinoma 0.00, Actinic Keratosis 0.00, Eczemaa 0.00, 3.0ms\n",
            "image 13/37 /content/drive/MyDrive/Colab/deep learning/dataset/dataMerge/test/Acne/acne-open-comedo-62.jpg: 224x224 Acne 0.95, Basal Cell Carcinoma 0.05, Eczemaa 0.00, Actinic Keratosis 0.00, Rosacea 0.00, 3.1ms\n",
            "image 14/37 /content/drive/MyDrive/Colab/deep learning/dataset/dataMerge/test/Acne/acne-open-comedo-63.jpg: 224x224 Acne 1.00, Basal Cell Carcinoma 0.00, Eczemaa 0.00, Rosacea 0.00, Actinic Keratosis 0.00, 3.3ms\n",
            "image 15/37 /content/drive/MyDrive/Colab/deep learning/dataset/dataMerge/test/Acne/acne-open-comedo-64.jpg: 224x224 Acne 1.00, Rosacea 0.00, Basal Cell Carcinoma 0.00, Actinic Keratosis 0.00, Eczemaa 0.00, 3.9ms\n",
            "image 16/37 /content/drive/MyDrive/Colab/deep learning/dataset/dataMerge/test/Acne/acne-open-comedo-65.jpg: 224x224 Acne 0.97, Actinic Keratosis 0.02, Rosacea 0.00, Basal Cell Carcinoma 0.00, Eczemaa 0.00, 3.0ms\n",
            "image 17/37 /content/drive/MyDrive/Colab/deep learning/dataset/dataMerge/test/Acne/acne-open-comedo-66.jpg: 224x224 Basal Cell Carcinoma 0.98, Acne 0.02, Actinic Keratosis 0.00, Eczemaa 0.00, Rosacea 0.00, 3.1ms\n",
            "image 18/37 /content/drive/MyDrive/Colab/deep learning/dataset/dataMerge/test/Acne/acne-open-comedo-68.jpg: 224x224 Acne 1.00, Basal Cell Carcinoma 0.00, Eczemaa 0.00, Actinic Keratosis 0.00, Rosacea 0.00, 3.1ms\n",
            "image 19/37 /content/drive/MyDrive/Colab/deep learning/dataset/dataMerge/test/Acne/acne-open-comedo-73.jpg: 224x224 Actinic Keratosis 0.86, Rosacea 0.05, Basal Cell Carcinoma 0.05, Acne 0.04, Eczemaa 0.00, 3.0ms\n",
            "image 20/37 /content/drive/MyDrive/Colab/deep learning/dataset/dataMerge/test/Acne/acne-pustular-10.jpg: 224x224 Acne 1.00, Rosacea 0.00, Eczemaa 0.00, Basal Cell Carcinoma 0.00, Actinic Keratosis 0.00, 3.3ms\n",
            "image 21/37 /content/drive/MyDrive/Colab/deep learning/dataset/dataMerge/test/Acne/acne-pustular-12.jpg: 224x224 Acne 1.00, Rosacea 0.00, Actinic Keratosis 0.00, Eczemaa 0.00, Basal Cell Carcinoma 0.00, 3.5ms\n",
            "image 22/37 /content/drive/MyDrive/Colab/deep learning/dataset/dataMerge/test/Acne/acne-pustular-13.jpg: 224x224 Acne 1.00, Rosacea 0.00, Actinic Keratosis 0.00, Eczemaa 0.00, Basal Cell Carcinoma 0.00, 3.3ms\n",
            "image 23/37 /content/drive/MyDrive/Colab/deep learning/dataset/dataMerge/test/Acne/acne-pustular-14.jpg: 224x224 Acne 1.00, Rosacea 0.00, Actinic Keratosis 0.00, Eczemaa 0.00, Basal Cell Carcinoma 0.00, 3.1ms\n",
            "image 24/37 /content/drive/MyDrive/Colab/deep learning/dataset/dataMerge/test/Acne/acne-pustular-15.jpg: 224x224 Acne 1.00, Rosacea 0.00, Actinic Keratosis 0.00, Eczemaa 0.00, Basal Cell Carcinoma 0.00, 3.1ms\n",
            "image 25/37 /content/drive/MyDrive/Colab/deep learning/dataset/dataMerge/test/Acne/acne-pustular-16.jpg: 224x224 Acne 1.00, Rosacea 0.00, Basal Cell Carcinoma 0.00, Actinic Keratosis 0.00, Eczemaa 0.00, 3.1ms\n",
            "image 26/37 /content/drive/MyDrive/Colab/deep learning/dataset/dataMerge/test/Acne/acne-pustular-17.jpg: 224x224 Acne 1.00, Rosacea 0.00, Eczemaa 0.00, Basal Cell Carcinoma 0.00, Actinic Keratosis 0.00, 3.1ms\n",
            "image 27/37 /content/drive/MyDrive/Colab/deep learning/dataset/dataMerge/test/Acne/acne-pustular-18.jpg: 224x224 Acne 1.00, Actinic Keratosis 0.00, Rosacea 0.00, Basal Cell Carcinoma 0.00, Eczemaa 0.00, 3.0ms\n",
            "image 28/37 /content/drive/MyDrive/Colab/deep learning/dataset/dataMerge/test/Acne/acne-pustular-21.jpg: 224x224 Acne 1.00, Actinic Keratosis 0.00, Rosacea 0.00, Eczemaa 0.00, Basal Cell Carcinoma 0.00, 5.5ms\n",
            "image 29/37 /content/drive/MyDrive/Colab/deep learning/dataset/dataMerge/test/Acne/acne-pustular-23.jpg: 224x224 Acne 1.00, Eczemaa 0.00, Rosacea 0.00, Basal Cell Carcinoma 0.00, Actinic Keratosis 0.00, 3.1ms\n",
            "image 30/37 /content/drive/MyDrive/Colab/deep learning/dataset/dataMerge/test/Acne/acne-pustular-24.jpg: 224x224 Acne 1.00, Rosacea 0.00, Eczemaa 0.00, Actinic Keratosis 0.00, Basal Cell Carcinoma 0.00, 3.2ms\n",
            "image 31/37 /content/drive/MyDrive/Colab/deep learning/dataset/dataMerge/test/Acne/acne-pustular-25.jpg: 224x224 Acne 1.00, Rosacea 0.00, Eczemaa 0.00, Basal Cell Carcinoma 0.00, Actinic Keratosis 0.00, 3.1ms\n",
            "image 32/37 /content/drive/MyDrive/Colab/deep learning/dataset/dataMerge/test/Acne/acne-pustular-27.jpg: 224x224 Acne 1.00, Rosacea 0.00, Eczemaa 0.00, Basal Cell Carcinoma 0.00, Actinic Keratosis 0.00, 3.1ms\n",
            "image 33/37 /content/drive/MyDrive/Colab/deep learning/dataset/dataMerge/test/Acne/acne-pustular-28.jpg: 224x224 Acne 1.00, Rosacea 0.00, Actinic Keratosis 0.00, Basal Cell Carcinoma 0.00, Eczemaa 0.00, 4.0ms\n",
            "image 34/37 /content/drive/MyDrive/Colab/deep learning/dataset/dataMerge/test/Acne/acne-pustular-29.jpg: 224x224 Acne 1.00, Eczemaa 0.00, Rosacea 0.00, Basal Cell Carcinoma 0.00, Actinic Keratosis 0.00, 6.3ms\n",
            "image 35/37 /content/drive/MyDrive/Colab/deep learning/dataset/dataMerge/test/Acne/acne-pustular-30.jpg: 224x224 Acne 1.00, Eczemaa 0.00, Basal Cell Carcinoma 0.00, Rosacea 0.00, Actinic Keratosis 0.00, 3.0ms\n",
            "image 36/37 /content/drive/MyDrive/Colab/deep learning/dataset/dataMerge/test/Acne/acne-pustular-31.jpg: 224x224 Acne 0.98, Eczemaa 0.02, Basal Cell Carcinoma 0.00, Rosacea 0.00, Actinic Keratosis 0.00, 3.1ms\n",
            "image 37/37 /content/drive/MyDrive/Colab/deep learning/dataset/dataMerge/test/Acne/acne-pustular-43.jpg: 224x224 Acne 1.00, Eczemaa 0.00, Rosacea 0.00, Basal Cell Carcinoma 0.00, Actinic Keratosis 0.00, 3.2ms\n",
            "Speed: 7.3ms preprocess, 4.0ms inference, 0.1ms postprocess per image at shape (1, 3, 224, 224)\n",
            "\n",
            "image 1/37 /content/drive/MyDrive/Colab/deep learning/dataset/dataMerge/test/Actinic Keratosis/actinic-keratosis-5FU-10.jpg: 224x224 Actinic Keratosis 1.00, Basal Cell Carcinoma 0.00, Acne 0.00, Eczemaa 0.00, Rosacea 0.00, 3.2ms\n",
            "image 2/37 /content/drive/MyDrive/Colab/deep learning/dataset/dataMerge/test/Actinic Keratosis/actinic-keratosis-5FU-15.jpg: 224x224 Actinic Keratosis 1.00, Eczemaa 0.00, Basal Cell Carcinoma 0.00, Rosacea 0.00, Acne 0.00, 3.0ms\n",
            "image 3/37 /content/drive/MyDrive/Colab/deep learning/dataset/dataMerge/test/Actinic Keratosis/actinic-keratosis-5FU-25.jpg: 224x224 Actinic Keratosis 1.00, Rosacea 0.00, Basal Cell Carcinoma 0.00, Eczemaa 0.00, Acne 0.00, 3.0ms\n",
            "image 4/37 /content/drive/MyDrive/Colab/deep learning/dataset/dataMerge/test/Actinic Keratosis/actinic-keratosis-5FU-26.jpg: 224x224 Actinic Keratosis 0.98, Eczemaa 0.02, Rosacea 0.00, Basal Cell Carcinoma 0.00, Acne 0.00, 3.4ms\n",
            "image 5/37 /content/drive/MyDrive/Colab/deep learning/dataset/dataMerge/test/Actinic Keratosis/actinic-keratosis-5FU-32.jpg: 224x224 Actinic Keratosis 1.00, Eczemaa 0.00, Acne 0.00, Rosacea 0.00, Basal Cell Carcinoma 0.00, 3.1ms\n",
            "image 6/37 /content/drive/MyDrive/Colab/deep learning/dataset/dataMerge/test/Actinic Keratosis/actinic-keratosis-5FU-35.jpg: 224x224 Actinic Keratosis 1.00, Basal Cell Carcinoma 0.00, Eczemaa 0.00, Rosacea 0.00, Acne 0.00, 3.2ms\n",
            "image 7/37 /content/drive/MyDrive/Colab/deep learning/dataset/dataMerge/test/Actinic Keratosis/actinic-keratosis-5FU-65.jpg: 224x224 Eczemaa 0.48, Acne 0.26, Actinic Keratosis 0.24, Basal Cell Carcinoma 0.01, Rosacea 0.01, 3.0ms\n",
            "image 8/37 /content/drive/MyDrive/Colab/deep learning/dataset/dataMerge/test/Actinic Keratosis/actinic-keratosis-face-33.jpg: 224x224 Actinic Keratosis 0.99, Rosacea 0.01, Eczemaa 0.00, Basal Cell Carcinoma 0.00, Acne 0.00, 5.0ms\n",
            "image 9/37 /content/drive/MyDrive/Colab/deep learning/dataset/dataMerge/test/Actinic Keratosis/actinic-keratosis-face-35.jpg: 224x224 Rosacea 0.75, Actinic Keratosis 0.25, Acne 0.00, Basal Cell Carcinoma 0.00, Eczemaa 0.00, 4.1ms\n",
            "image 10/37 /content/drive/MyDrive/Colab/deep learning/dataset/dataMerge/test/Actinic Keratosis/actinic-keratosis-face-39.jpg: 224x224 Actinic Keratosis 1.00, Basal Cell Carcinoma 0.00, Rosacea 0.00, Eczemaa 0.00, Acne 0.00, 7.7ms\n",
            "image 11/37 /content/drive/MyDrive/Colab/deep learning/dataset/dataMerge/test/Actinic Keratosis/actinic-keratosis-face-43.jpg: 224x224 Actinic Keratosis 1.00, Rosacea 0.00, Basal Cell Carcinoma 0.00, Eczemaa 0.00, Acne 0.00, 5.1ms\n",
            "image 12/37 /content/drive/MyDrive/Colab/deep learning/dataset/dataMerge/test/Actinic Keratosis/actinic-keratosis-face-46.jpg: 224x224 Basal Cell Carcinoma 0.98, Actinic Keratosis 0.01, Rosacea 0.00, Eczemaa 0.00, Acne 0.00, 7.5ms\n",
            "image 13/37 /content/drive/MyDrive/Colab/deep learning/dataset/dataMerge/test/Actinic Keratosis/actinic-keratosis-face-48.jpg: 224x224 Actinic Keratosis 1.00, Basal Cell Carcinoma 0.00, Rosacea 0.00, Eczemaa 0.00, Acne 0.00, 5.4ms\n",
            "image 14/37 /content/drive/MyDrive/Colab/deep learning/dataset/dataMerge/test/Actinic Keratosis/actinic-keratosis-face-49.jpg: 224x224 Rosacea 0.94, Actinic Keratosis 0.06, Eczemaa 0.00, Basal Cell Carcinoma 0.00, Acne 0.00, 8.4ms\n",
            "image 15/37 /content/drive/MyDrive/Colab/deep learning/dataset/dataMerge/test/Actinic Keratosis/actinic-keratosis-face-50.jpg: 224x224 Actinic Keratosis 0.66, Rosacea 0.34, Acne 0.00, Basal Cell Carcinoma 0.00, Eczemaa 0.00, 5.6ms\n",
            "image 16/37 /content/drive/MyDrive/Colab/deep learning/dataset/dataMerge/test/Actinic Keratosis/actinic-keratosis-face-51.jpg: 224x224 Actinic Keratosis 1.00, Basal Cell Carcinoma 0.00, Acne 0.00, Rosacea 0.00, Eczemaa 0.00, 4.9ms\n",
            "image 17/37 /content/drive/MyDrive/Colab/deep learning/dataset/dataMerge/test/Actinic Keratosis/actinic-keratosis-face-56.jpg: 224x224 Rosacea 1.00, Actinic Keratosis 0.00, Acne 0.00, Eczemaa 0.00, Basal Cell Carcinoma 0.00, 8.6ms\n",
            "image 18/37 /content/drive/MyDrive/Colab/deep learning/dataset/dataMerge/test/Actinic Keratosis/actinic-keratosis-face-60.jpg: 224x224 Actinic Keratosis 1.00, Basal Cell Carcinoma 0.00, Eczemaa 0.00, Acne 0.00, Rosacea 0.00, 7.3ms\n",
            "image 19/37 /content/drive/MyDrive/Colab/deep learning/dataset/dataMerge/test/Actinic Keratosis/actinic-keratosis-face-9.jpg: 224x224 Actinic Keratosis 1.00, Basal Cell Carcinoma 0.00, Rosacea 0.00, Eczemaa 0.00, Acne 0.00, 7.2ms\n",
            "image 20/37 /content/drive/MyDrive/Colab/deep learning/dataset/dataMerge/test/Actinic Keratosis/actinic-keratosis-horn-1.jpg: 224x224 Actinic Keratosis 0.81, Basal Cell Carcinoma 0.19, Acne 0.00, Eczemaa 0.00, Rosacea 0.00, 3.1ms\n",
            "image 21/37 /content/drive/MyDrive/Colab/deep learning/dataset/dataMerge/test/Actinic Keratosis/actinic-keratosis-horn-23.jpg: 224x224 Actinic Keratosis 0.96, Basal Cell Carcinoma 0.04, Eczemaa 0.00, Rosacea 0.00, Acne 0.00, 3.1ms\n",
            "image 22/37 /content/drive/MyDrive/Colab/deep learning/dataset/dataMerge/test/Actinic Keratosis/actinic-keratosis-horn-24.jpg: 224x224 Actinic Keratosis 1.00, Basal Cell Carcinoma 0.00, Rosacea 0.00, Eczemaa 0.00, Acne 0.00, 3.0ms\n",
            "image 23/37 /content/drive/MyDrive/Colab/deep learning/dataset/dataMerge/test/Actinic Keratosis/actinic-keratosis-lesion-11.jpg: 224x224 Eczemaa 0.86, Basal Cell Carcinoma 0.12, Actinic Keratosis 0.02, Rosacea 0.00, Acne 0.00, 3.1ms\n",
            "image 24/37 /content/drive/MyDrive/Colab/deep learning/dataset/dataMerge/test/Actinic Keratosis/actinic-keratosis-lesion-22.jpg: 224x224 Actinic Keratosis 1.00, Eczemaa 0.00, Basal Cell Carcinoma 0.00, Rosacea 0.00, Acne 0.00, 3.0ms\n",
            "image 25/37 /content/drive/MyDrive/Colab/deep learning/dataset/dataMerge/test/Actinic Keratosis/actinic-keratosis-lesion-24.jpg: 224x224 Actinic Keratosis 0.46, Eczemaa 0.38, Basal Cell Carcinoma 0.16, Rosacea 0.00, Acne 0.00, 3.6ms\n",
            "image 26/37 /content/drive/MyDrive/Colab/deep learning/dataset/dataMerge/test/Actinic Keratosis/actinic-keratosis-lesion-31.jpg: 224x224 Actinic Keratosis 1.00, Acne 0.00, Basal Cell Carcinoma 0.00, Rosacea 0.00, Eczemaa 0.00, 4.2ms\n",
            "image 27/37 /content/drive/MyDrive/Colab/deep learning/dataset/dataMerge/test/Actinic Keratosis/actinic-keratosis-lesion-32.jpg: 224x224 Actinic Keratosis 1.00, Basal Cell Carcinoma 0.00, Acne 0.00, Rosacea 0.00, Eczemaa 0.00, 3.1ms\n",
            "image 28/37 /content/drive/MyDrive/Colab/deep learning/dataset/dataMerge/test/Actinic Keratosis/actinic-keratosis-lesion-34.jpg: 224x224 Basal Cell Carcinoma 0.78, Eczemaa 0.18, Actinic Keratosis 0.04, Acne 0.00, Rosacea 0.00, 3.0ms\n",
            "image 29/37 /content/drive/MyDrive/Colab/deep learning/dataset/dataMerge/test/Actinic Keratosis/actinic-keratosis-lesion-36.jpg: 224x224 Actinic Keratosis 1.00, Eczemaa 0.00, Basal Cell Carcinoma 0.00, Rosacea 0.00, Acne 0.00, 5.6ms\n",
            "image 30/37 /content/drive/MyDrive/Colab/deep learning/dataset/dataMerge/test/Actinic Keratosis/actinic-keratosis-lesion-39.jpg: 224x224 Actinic Keratosis 0.92, Basal Cell Carcinoma 0.07, Rosacea 0.01, Eczemaa 0.00, Acne 0.00, 3.0ms\n",
            "image 31/37 /content/drive/MyDrive/Colab/deep learning/dataset/dataMerge/test/Actinic Keratosis/actinic-keratosis-lesion-41.jpg: 224x224 Actinic Keratosis 0.66, Acne 0.34, Basal Cell Carcinoma 0.00, Rosacea 0.00, Eczemaa 0.00, 3.1ms\n",
            "image 32/37 /content/drive/MyDrive/Colab/deep learning/dataset/dataMerge/test/Actinic Keratosis/actinic-keratosis-lesion-48.jpg: 224x224 Actinic Keratosis 1.00, Basal Cell Carcinoma 0.00, Rosacea 0.00, Acne 0.00, Eczemaa 0.00, 3.2ms\n",
            "image 33/37 /content/drive/MyDrive/Colab/deep learning/dataset/dataMerge/test/Actinic Keratosis/actinic-keratosis-lesion-52.jpg: 224x224 Actinic Keratosis 1.00, Basal Cell Carcinoma 0.00, Acne 0.00, Eczemaa 0.00, Rosacea 0.00, 3.0ms\n",
            "image 34/37 /content/drive/MyDrive/Colab/deep learning/dataset/dataMerge/test/Actinic Keratosis/actinic-keratosis-lesion-56.jpg: 224x224 Actinic Keratosis 1.00, Basal Cell Carcinoma 0.00, Rosacea 0.00, Eczemaa 0.00, Acne 0.00, 3.2ms\n",
            "image 35/37 /content/drive/MyDrive/Colab/deep learning/dataset/dataMerge/test/Actinic Keratosis/actinic-keratosis-lesion-57.jpg: 224x224 Actinic Keratosis 0.78, Basal Cell Carcinoma 0.22, Rosacea 0.00, Eczemaa 0.00, Acne 0.00, 3.1ms\n",
            "image 36/37 /content/drive/MyDrive/Colab/deep learning/dataset/dataMerge/test/Actinic Keratosis/actinic-keratosis-nose-1.jpg: 224x224 Actinic Keratosis 0.96, Basal Cell Carcinoma 0.04, Eczemaa 0.00, Rosacea 0.00, Acne 0.00, 3.1ms\n",
            "image 37/37 /content/drive/MyDrive/Colab/deep learning/dataset/dataMerge/test/Actinic Keratosis/actinic-keratosis-nose-14.jpg: 224x224 Actinic Keratosis 0.89, Rosacea 0.06, Basal Cell Carcinoma 0.05, Acne 0.00, Eczemaa 0.00, 3.0ms\n",
            "Speed: 7.0ms preprocess, 4.3ms inference, 0.1ms postprocess per image at shape (1, 3, 224, 224)\n",
            "\n",
            "image 1/37 /content/drive/MyDrive/Colab/deep learning/dataset/dataMerge/test/Basal Cell Carcinoma/basal-cell-carcinoma-face-10.jpg: 224x224 Basal Cell Carcinoma 1.00, Eczemaa 0.00, Actinic Keratosis 0.00, Rosacea 0.00, Acne 0.00, 6.4ms\n",
            "image 2/37 /content/drive/MyDrive/Colab/deep learning/dataset/dataMerge/test/Basal Cell Carcinoma/basal-cell-carcinoma-face-11.jpg: 224x224 Basal Cell Carcinoma 1.00, Actinic Keratosis 0.00, Acne 0.00, Rosacea 0.00, Eczemaa 0.00, 5.0ms\n",
            "image 3/37 /content/drive/MyDrive/Colab/deep learning/dataset/dataMerge/test/Basal Cell Carcinoma/basal-cell-carcinoma-face-13.jpg: 224x224 Basal Cell Carcinoma 1.00, Eczemaa 0.00, Acne 0.00, Actinic Keratosis 0.00, Rosacea 0.00, 7.3ms\n",
            "image 4/37 /content/drive/MyDrive/Colab/deep learning/dataset/dataMerge/test/Basal Cell Carcinoma/basal-cell-carcinoma-face-22.jpg: 224x224 Basal Cell Carcinoma 1.00, Rosacea 0.00, Actinic Keratosis 0.00, Eczemaa 0.00, Acne 0.00, 5.3ms\n",
            "image 5/37 /content/drive/MyDrive/Colab/deep learning/dataset/dataMerge/test/Basal Cell Carcinoma/basal-cell-carcinoma-face-4.jpg: 224x224 Basal Cell Carcinoma 0.98, Actinic Keratosis 0.01, Eczemaa 0.00, Rosacea 0.00, Acne 0.00, 3.9ms\n",
            "image 6/37 /content/drive/MyDrive/Colab/deep learning/dataset/dataMerge/test/Basal Cell Carcinoma/basal-cell-carcinoma-face-9.jpg: 224x224 Basal Cell Carcinoma 1.00, Acne 0.00, Eczemaa 0.00, Actinic Keratosis 0.00, Rosacea 0.00, 4.4ms\n",
            "image 7/37 /content/drive/MyDrive/Colab/deep learning/dataset/dataMerge/test/Basal Cell Carcinoma/basal-cell-carcinoma-lesion-92.jpg: 224x224 Basal Cell Carcinoma 1.00, Eczemaa 0.00, Actinic Keratosis 0.00, Rosacea 0.00, Acne 0.00, 4.6ms\n",
            "image 8/37 /content/drive/MyDrive/Colab/deep learning/dataset/dataMerge/test/Basal Cell Carcinoma/basal-cell-carcinoma-lid-11.jpg: 224x224 Basal Cell Carcinoma 1.00, Actinic Keratosis 0.00, Eczemaa 0.00, Rosacea 0.00, Acne 0.00, 5.0ms\n",
            "image 9/37 /content/drive/MyDrive/Colab/deep learning/dataset/dataMerge/test/Basal Cell Carcinoma/basal-cell-carcinoma-lid-16.jpg: 224x224 Basal Cell Carcinoma 0.96, Actinic Keratosis 0.04, Eczemaa 0.00, Acne 0.00, Rosacea 0.00, 7.5ms\n",
            "image 10/37 /content/drive/MyDrive/Colab/deep learning/dataset/dataMerge/test/Basal Cell Carcinoma/basal-cell-carcinoma-lid-17.jpg: 224x224 Basal Cell Carcinoma 0.96, Actinic Keratosis 0.04, Eczemaa 0.00, Acne 0.00, Rosacea 0.00, 8.3ms\n",
            "image 11/37 /content/drive/MyDrive/Colab/deep learning/dataset/dataMerge/test/Basal Cell Carcinoma/basal-cell-carcinoma-lid-18.jpg: 224x224 Basal Cell Carcinoma 1.00, Actinic Keratosis 0.00, Eczemaa 0.00, Acne 0.00, Rosacea 0.00, 9.4ms\n",
            "image 12/37 /content/drive/MyDrive/Colab/deep learning/dataset/dataMerge/test/Basal Cell Carcinoma/basal-cell-carcinoma-lid-22.jpg: 224x224 Basal Cell Carcinoma 1.00, Actinic Keratosis 0.00, Eczemaa 0.00, Acne 0.00, Rosacea 0.00, 4.3ms\n",
            "image 13/37 /content/drive/MyDrive/Colab/deep learning/dataset/dataMerge/test/Basal Cell Carcinoma/basal-cell-carcinoma-lid-23.jpg: 224x224 Basal Cell Carcinoma 1.00, Acne 0.00, Actinic Keratosis 0.00, Rosacea 0.00, Eczemaa 0.00, 3.3ms\n",
            "image 14/37 /content/drive/MyDrive/Colab/deep learning/dataset/dataMerge/test/Basal Cell Carcinoma/basal-cell-carcinoma-lid-24.jpg: 224x224 Actinic Keratosis 0.93, Basal Cell Carcinoma 0.07, Eczemaa 0.00, Acne 0.00, Rosacea 0.00, 3.2ms\n",
            "image 15/37 /content/drive/MyDrive/Colab/deep learning/dataset/dataMerge/test/Basal Cell Carcinoma/basal-cell-carcinoma-lid-25.jpg: 224x224 Actinic Keratosis 1.00, Basal Cell Carcinoma 0.00, Eczemaa 0.00, Rosacea 0.00, Acne 0.00, 3.0ms\n",
            "image 16/37 /content/drive/MyDrive/Colab/deep learning/dataset/dataMerge/test/Basal Cell Carcinoma/basal-cell-carcinoma-lid-26.jpg: 224x224 Actinic Keratosis 0.98, Basal Cell Carcinoma 0.02, Acne 0.00, Eczemaa 0.00, Rosacea 0.00, 3.4ms\n",
            "image 17/37 /content/drive/MyDrive/Colab/deep learning/dataset/dataMerge/test/Basal Cell Carcinoma/basal-cell-carcinoma-lid-31.jpg: 224x224 Basal Cell Carcinoma 0.88, Actinic Keratosis 0.12, Rosacea 0.00, Eczemaa 0.00, Acne 0.00, 3.1ms\n",
            "image 18/37 /content/drive/MyDrive/Colab/deep learning/dataset/dataMerge/test/Basal Cell Carcinoma/basal-cell-carcinoma-lid-4.jpg: 224x224 Eczemaa 0.99, Basal Cell Carcinoma 0.01, Actinic Keratosis 0.00, Rosacea 0.00, Acne 0.00, 3.3ms\n",
            "image 19/37 /content/drive/MyDrive/Colab/deep learning/dataset/dataMerge/test/Basal Cell Carcinoma/basal-cell-carcinoma-lid-6.jpg: 224x224 Basal Cell Carcinoma 1.00, Actinic Keratosis 0.00, Eczemaa 0.00, Rosacea 0.00, Acne 0.00, 3.0ms\n",
            "image 20/37 /content/drive/MyDrive/Colab/deep learning/dataset/dataMerge/test/Basal Cell Carcinoma/basal-cell-carcinoma-lid-8.jpg: 224x224 Basal Cell Carcinoma 1.00, Actinic Keratosis 0.00, Eczemaa 0.00, Rosacea 0.00, Acne 0.00, 3.9ms\n",
            "image 21/37 /content/drive/MyDrive/Colab/deep learning/dataset/dataMerge/test/Basal Cell Carcinoma/basal-cell-carcinoma-lip-14.jpg: 224x224 Basal Cell Carcinoma 1.00, Actinic Keratosis 0.00, Eczemaa 0.00, Acne 0.00, Rosacea 0.00, 3.1ms\n",
            "image 22/37 /content/drive/MyDrive/Colab/deep learning/dataset/dataMerge/test/Basal Cell Carcinoma/basal-cell-carcinoma-lip-26.jpg: 224x224 Basal Cell Carcinoma 1.00, Acne 0.00, Actinic Keratosis 0.00, Eczemaa 0.00, Rosacea 0.00, 3.5ms\n",
            "image 23/37 /content/drive/MyDrive/Colab/deep learning/dataset/dataMerge/test/Basal Cell Carcinoma/basal-cell-carcinoma-lip-27.jpg: 224x224 Eczemaa 0.85, Basal Cell Carcinoma 0.14, Acne 0.01, Actinic Keratosis 0.00, Rosacea 0.00, 3.1ms\n",
            "image 24/37 /content/drive/MyDrive/Colab/deep learning/dataset/dataMerge/test/Basal Cell Carcinoma/basal-cell-carcinoma-lip-30.jpg: 224x224 Basal Cell Carcinoma 0.54, Actinic Keratosis 0.41, Eczemaa 0.03, Rosacea 0.01, Acne 0.00, 3.3ms\n",
            "image 25/37 /content/drive/MyDrive/Colab/deep learning/dataset/dataMerge/test/Basal Cell Carcinoma/basal-cell-carcinoma-lip-31.jpg: 224x224 Acne 0.55, Basal Cell Carcinoma 0.34, Rosacea 0.06, Actinic Keratosis 0.05, Eczemaa 0.00, 3.1ms\n",
            "image 26/37 /content/drive/MyDrive/Colab/deep learning/dataset/dataMerge/test/Basal Cell Carcinoma/basal-cell-carcinoma-lip-32.jpg: 224x224 Basal Cell Carcinoma 1.00, Actinic Keratosis 0.00, Rosacea 0.00, Eczemaa 0.00, Acne 0.00, 3.4ms\n",
            "image 27/37 /content/drive/MyDrive/Colab/deep learning/dataset/dataMerge/test/Basal Cell Carcinoma/basal-cell-carcinoma-lip-34.jpg: 224x224 Basal Cell Carcinoma 1.00, Eczemaa 0.00, Rosacea 0.00, Actinic Keratosis 0.00, Acne 0.00, 3.0ms\n",
            "image 28/37 /content/drive/MyDrive/Colab/deep learning/dataset/dataMerge/test/Basal Cell Carcinoma/basal-cell-carcinoma-lip-5.jpg: 224x224 Basal Cell Carcinoma 1.00, Actinic Keratosis 0.00, Eczemaa 0.00, Acne 0.00, Rosacea 0.00, 3.1ms\n",
            "image 29/37 /content/drive/MyDrive/Colab/deep learning/dataset/dataMerge/test/Basal Cell Carcinoma/basal-cell-carcinoma-nose-1.jpg: 224x224 Basal Cell Carcinoma 0.98, Eczemaa 0.01, Actinic Keratosis 0.00, Acne 0.00, Rosacea 0.00, 3.2ms\n",
            "image 30/37 /content/drive/MyDrive/Colab/deep learning/dataset/dataMerge/test/Basal Cell Carcinoma/basal-cell-carcinoma-nose-21.jpg: 224x224 Basal Cell Carcinoma 0.85, Rosacea 0.14, Eczemaa 0.00, Actinic Keratosis 0.00, Acne 0.00, 3.2ms\n",
            "image 31/37 /content/drive/MyDrive/Colab/deep learning/dataset/dataMerge/test/Basal Cell Carcinoma/basal-cell-carcinoma-nose-38.jpg: 224x224 Rosacea 0.61, Basal Cell Carcinoma 0.21, Actinic Keratosis 0.15, Eczemaa 0.03, Acne 0.00, 3.2ms\n",
            "image 32/37 /content/drive/MyDrive/Colab/deep learning/dataset/dataMerge/test/Basal Cell Carcinoma/basal-cell-carcinoma-nose-44.jpg: 224x224 Eczemaa 0.98, Basal Cell Carcinoma 0.02, Acne 0.00, Rosacea 0.00, Actinic Keratosis 0.00, 3.1ms\n",
            "image 33/37 /content/drive/MyDrive/Colab/deep learning/dataset/dataMerge/test/Basal Cell Carcinoma/basal-cell-carcinoma-nose-70.jpg: 224x224 Basal Cell Carcinoma 0.96, Eczemaa 0.04, Actinic Keratosis 0.00, Acne 0.00, Rosacea 0.00, 3.1ms\n",
            "image 34/37 /content/drive/MyDrive/Colab/deep learning/dataset/dataMerge/test/Basal Cell Carcinoma/basal-cell-carcinoma-nose-71.jpg: 224x224 Basal Cell Carcinoma 1.00, Eczemaa 0.00, Actinic Keratosis 0.00, Rosacea 0.00, Acne 0.00, 3.1ms\n",
            "image 35/37 /content/drive/MyDrive/Colab/deep learning/dataset/dataMerge/test/Basal Cell Carcinoma/basal-cell-carcinoma-nose-72.jpg: 224x224 Basal Cell Carcinoma 1.00, Actinic Keratosis 0.00, Eczemaa 0.00, Acne 0.00, Rosacea 0.00, 3.0ms\n",
            "image 36/37 /content/drive/MyDrive/Colab/deep learning/dataset/dataMerge/test/Basal Cell Carcinoma/basal-cell-carcinoma-nose-73.jpg: 224x224 Basal Cell Carcinoma 1.00, Actinic Keratosis 0.00, Eczemaa 0.00, Acne 0.00, Rosacea 0.00, 3.0ms\n",
            "image 37/37 /content/drive/MyDrive/Colab/deep learning/dataset/dataMerge/test/Basal Cell Carcinoma/basal-cell-carcinoma-nose-74.jpg: 224x224 Basal Cell Carcinoma 1.00, Acne 0.00, Actinic Keratosis 0.00, Eczemaa 0.00, Rosacea 0.00, 3.0ms\n",
            "Speed: 7.0ms preprocess, 4.1ms inference, 0.1ms postprocess per image at shape (1, 3, 224, 224)\n",
            "\n",
            "image 1/37 /content/drive/MyDrive/Colab/deep learning/dataset/dataMerge/test/Eczemaa/eczem49.jpg: 224x224 Eczemaa 1.00, Acne 0.00, Rosacea 0.00, Basal Cell Carcinoma 0.00, Actinic Keratosis 0.00, 3.3ms\n",
            "image 2/37 /content/drive/MyDrive/Colab/deep learning/dataset/dataMerge/test/Eczemaa/eczema-acute-20.jpg: 224x224 Eczemaa 1.00, Acne 0.00, Basal Cell Carcinoma 0.00, Rosacea 0.00, Actinic Keratosis 0.00, 5.0ms\n",
            "image 3/37 /content/drive/MyDrive/Colab/deep learning/dataset/dataMerge/test/Eczemaa/eczema-acute-22.jpg: 224x224 Eczemaa 1.00, Basal Cell Carcinoma 0.00, Actinic Keratosis 0.00, Rosacea 0.00, Acne 0.00, 8.6ms\n",
            "image 4/37 /content/drive/MyDrive/Colab/deep learning/dataset/dataMerge/test/Eczemaa/eczema-chronic-14.jpg: 224x224 Eczemaa 0.95, Rosacea 0.04, Acne 0.00, Actinic Keratosis 0.00, Basal Cell Carcinoma 0.00, 11.4ms\n",
            "image 5/37 /content/drive/MyDrive/Colab/deep learning/dataset/dataMerge/test/Eczemaa/eczema-chronic-47.jpg: 224x224 Eczemaa 0.87, Basal Cell Carcinoma 0.13, Acne 0.00, Actinic Keratosis 0.00, Rosacea 0.00, 5.8ms\n",
            "image 6/37 /content/drive/MyDrive/Colab/deep learning/dataset/dataMerge/test/Eczemaa/eczema-ears-6.jpg: 224x224 Eczemaa 0.76, Basal Cell Carcinoma 0.23, Actinic Keratosis 0.00, Acne 0.00, Rosacea 0.00, 7.8ms\n",
            "image 7/37 /content/drive/MyDrive/Colab/deep learning/dataset/dataMerge/test/Eczemaa/eczema-face-1.jpg: 224x224 Eczemaa 1.00, Rosacea 0.00, Acne 0.00, Basal Cell Carcinoma 0.00, Actinic Keratosis 0.00, 4.8ms\n",
            "image 8/37 /content/drive/MyDrive/Colab/deep learning/dataset/dataMerge/test/Eczemaa/eczema-face-11.jpg: 224x224 Actinic Keratosis 0.44, Eczemaa 0.37, Rosacea 0.15, Acne 0.03, Basal Cell Carcinoma 0.00, 4.4ms\n",
            "image 9/37 /content/drive/MyDrive/Colab/deep learning/dataset/dataMerge/test/Eczemaa/eczema-lids-14.jpg: 224x224 Eczemaa 1.00, Rosacea 0.00, Basal Cell Carcinoma 0.00, Actinic Keratosis 0.00, Acne 0.00, 4.8ms\n",
            "image 10/37 /content/drive/MyDrive/Colab/deep learning/dataset/dataMerge/test/Eczemaa/eczema-lids-9.jpg: 224x224 Eczemaa 1.00, Rosacea 0.00, Basal Cell Carcinoma 0.00, Actinic Keratosis 0.00, Acne 0.00, 4.7ms\n",
            "image 11/37 /content/drive/MyDrive/Colab/deep learning/dataset/dataMerge/test/Eczemaa/eczema.14.jpg: 224x224 Eczemaa 1.00, Rosacea 0.00, Acne 0.00, Basal Cell Carcinoma 0.00, Actinic Keratosis 0.00, 7.2ms\n",
            "image 12/37 /content/drive/MyDrive/Colab/deep learning/dataset/dataMerge/test/Eczemaa/eczema.20.jpg: 224x224 Eczemaa 1.00, Rosacea 0.00, Basal Cell Carcinoma 0.00, Acne 0.00, Actinic Keratosis 0.00, 8.1ms\n",
            "image 13/37 /content/drive/MyDrive/Colab/deep learning/dataset/dataMerge/test/Eczemaa/eczema.21.jpg: 224x224 Eczemaa 1.00, Acne 0.00, Actinic Keratosis 0.00, Rosacea 0.00, Basal Cell Carcinoma 0.00, 5.7ms\n",
            "image 14/37 /content/drive/MyDrive/Colab/deep learning/dataset/dataMerge/test/Eczemaa/eczema.25.jpg: 224x224 Eczemaa 0.90, Rosacea 0.09, Basal Cell Carcinoma 0.00, Actinic Keratosis 0.00, Acne 0.00, 10.3ms\n",
            "image 15/37 /content/drive/MyDrive/Colab/deep learning/dataset/dataMerge/test/Eczemaa/eczema.5.jpg: 224x224 Eczemaa 0.67, Rosacea 0.32, Acne 0.01, Basal Cell Carcinoma 0.00, Actinic Keratosis 0.00, 5.3ms\n",
            "image 16/37 /content/drive/MyDrive/Colab/deep learning/dataset/dataMerge/test/Eczemaa/eczema.8.jpg: 224x224 Eczemaa 1.00, Rosacea 0.00, Acne 0.00, Actinic Keratosis 0.00, Basal Cell Carcinoma 0.00, 5.2ms\n",
            "image 17/37 /content/drive/MyDrive/Colab/deep learning/dataset/dataMerge/test/Eczemaa/eczema.jpg: 224x224 Eczemaa 1.00, Actinic Keratosis 0.00, Rosacea 0.00, Basal Cell Carcinoma 0.00, Acne 0.00, 4.6ms\n",
            "image 18/37 /content/drive/MyDrive/Colab/deep learning/dataset/dataMerge/test/Eczemaa/eczema130.jpg: 224x224 Eczemaa 1.00, Acne 0.00, Rosacea 0.00, Basal Cell Carcinoma 0.00, Actinic Keratosis 0.00, 4.9ms\n",
            "image 19/37 /content/drive/MyDrive/Colab/deep learning/dataset/dataMerge/test/Eczemaa/eczema134.jpg: 224x224 Actinic Keratosis 0.55, Eczemaa 0.45, Basal Cell Carcinoma 0.00, Acne 0.00, Rosacea 0.00, 4.4ms\n",
            "image 20/37 /content/drive/MyDrive/Colab/deep learning/dataset/dataMerge/test/Eczemaa/eczema135.jpg: 224x224 Eczemaa 1.00, Acne 0.00, Rosacea 0.00, Basal Cell Carcinoma 0.00, Actinic Keratosis 0.00, 5.1ms\n",
            "image 21/37 /content/drive/MyDrive/Colab/deep learning/dataset/dataMerge/test/Eczemaa/eczema136.jpg: 224x224 Eczemaa 0.84, Rosacea 0.14, Actinic Keratosis 0.02, Acne 0.00, Basal Cell Carcinoma 0.00, 5.2ms\n",
            "image 22/37 /content/drive/MyDrive/Colab/deep learning/dataset/dataMerge/test/Eczemaa/eczema142.jpg: 224x224 Eczemaa 1.00, Basal Cell Carcinoma 0.00, Acne 0.00, Rosacea 0.00, Actinic Keratosis 0.00, 6.9ms\n",
            "image 23/37 /content/drive/MyDrive/Colab/deep learning/dataset/dataMerge/test/Eczemaa/eczema144.jpg: 224x224 Eczemaa 1.00, Rosacea 0.00, Basal Cell Carcinoma 0.00, Actinic Keratosis 0.00, Acne 0.00, 5.5ms\n",
            "image 24/37 /content/drive/MyDrive/Colab/deep learning/dataset/dataMerge/test/Eczemaa/eczema147.jpg: 224x224 Eczemaa 1.00, Rosacea 0.00, Acne 0.00, Basal Cell Carcinoma 0.00, Actinic Keratosis 0.00, 5.2ms\n",
            "image 25/37 /content/drive/MyDrive/Colab/deep learning/dataset/dataMerge/test/Eczemaa/eczema148.jpg: 224x224 Eczemaa 0.61, Rosacea 0.37, Acne 0.01, Actinic Keratosis 0.00, Basal Cell Carcinoma 0.00, 5.4ms\n",
            "image 26/37 /content/drive/MyDrive/Colab/deep learning/dataset/dataMerge/test/Eczemaa/eczema149.jpg: 224x224 Eczemaa 1.00, Basal Cell Carcinoma 0.00, Acne 0.00, Rosacea 0.00, Actinic Keratosis 0.00, 5.1ms\n",
            "image 27/37 /content/drive/MyDrive/Colab/deep learning/dataset/dataMerge/test/Eczemaa/eczema155.png: 224x224 Eczemaa 1.00, Basal Cell Carcinoma 0.00, Acne 0.00, Rosacea 0.00, Actinic Keratosis 0.00, 4.5ms\n",
            "image 28/37 /content/drive/MyDrive/Colab/deep learning/dataset/dataMerge/test/Eczemaa/eczema23.jpg: 224x224 Eczemaa 1.00, Rosacea 0.00, Actinic Keratosis 0.00, Acne 0.00, Basal Cell Carcinoma 0.00, 5.7ms\n",
            "image 29/37 /content/drive/MyDrive/Colab/deep learning/dataset/dataMerge/test/Eczemaa/eczema28..jpg: 224x224 Eczemaa 1.00, Acne 0.00, Basal Cell Carcinoma 0.00, Actinic Keratosis 0.00, Rosacea 0.00, 6.6ms\n",
            "image 30/37 /content/drive/MyDrive/Colab/deep learning/dataset/dataMerge/test/Eczemaa/eczema31.jpg: 224x224 Eczemaa 0.99, Acne 0.01, Rosacea 0.00, Actinic Keratosis 0.00, Basal Cell Carcinoma 0.00, 5.4ms\n",
            "image 31/37 /content/drive/MyDrive/Colab/deep learning/dataset/dataMerge/test/Eczemaa/eczema43.jpg: 224x224 Actinic Keratosis 0.66, Rosacea 0.33, Eczemaa 0.00, Basal Cell Carcinoma 0.00, Acne 0.00, 5.3ms\n",
            "image 32/37 /content/drive/MyDrive/Colab/deep learning/dataset/dataMerge/test/Eczemaa/eczema48.jpeg: 224x224 Acne 0.86, Eczemaa 0.14, Rosacea 0.00, Actinic Keratosis 0.00, Basal Cell Carcinoma 0.00, 6.7ms\n",
            "image 33/37 /content/drive/MyDrive/Colab/deep learning/dataset/dataMerge/test/Eczemaa/eczema52.jpg: 224x224 Eczemaa 0.67, Rosacea 0.30, Acne 0.02, Actinic Keratosis 0.01, Basal Cell Carcinoma 0.00, 8.0ms\n",
            "image 34/37 /content/drive/MyDrive/Colab/deep learning/dataset/dataMerge/test/Eczemaa/eczema53.jpg: 224x224 Acne 0.85, Rosacea 0.10, Eczemaa 0.04, Actinic Keratosis 0.00, Basal Cell Carcinoma 0.00, 9.6ms\n",
            "image 35/37 /content/drive/MyDrive/Colab/deep learning/dataset/dataMerge/test/Eczemaa/eczema54.jpg: 224x224 Eczemaa 0.99, Rosacea 0.01, Basal Cell Carcinoma 0.00, Actinic Keratosis 0.00, Acne 0.00, 4.5ms\n",
            "image 36/37 /content/drive/MyDrive/Colab/deep learning/dataset/dataMerge/test/Eczemaa/eczema7.jpg: 224x224 Eczemaa 0.82, Acne 0.16, Actinic Keratosis 0.01, Rosacea 0.00, Basal Cell Carcinoma 0.00, 3.9ms\n",
            "image 37/37 /content/drive/MyDrive/Colab/deep learning/dataset/dataMerge/test/Eczemaa/eczema8.jpg: 224x224 Basal Cell Carcinoma 1.00, Rosacea 0.00, Eczemaa 0.00, Acne 0.00, Actinic Keratosis 0.00, 5.0ms\n",
            "Speed: 14.9ms preprocess, 5.9ms inference, 0.1ms postprocess per image at shape (1, 3, 224, 224)\n",
            "\n",
            "image 1/37 /content/drive/MyDrive/Colab/deep learning/dataset/dataMerge/test/Rosacea/rosacea-102.jpg: 224x224 Rosacea 0.95, Basal Cell Carcinoma 0.02, Acne 0.02, Actinic Keratosis 0.01, Eczemaa 0.00, 8.1ms\n",
            "image 2/37 /content/drive/MyDrive/Colab/deep learning/dataset/dataMerge/test/Rosacea/rosacea-111.jpg: 224x224 Rosacea 1.00, Basal Cell Carcinoma 0.00, Eczemaa 0.00, Actinic Keratosis 0.00, Acne 0.00, 5.7ms\n",
            "image 3/37 /content/drive/MyDrive/Colab/deep learning/dataset/dataMerge/test/Rosacea/rosacea-112.jpg: 224x224 Rosacea 1.00, Actinic Keratosis 0.00, Eczemaa 0.00, Basal Cell Carcinoma 0.00, Acne 0.00, 6.9ms\n",
            "image 4/37 /content/drive/MyDrive/Colab/deep learning/dataset/dataMerge/test/Rosacea/rosacea-113.jpg: 224x224 Rosacea 1.00, Actinic Keratosis 0.00, Eczemaa 0.00, Acne 0.00, Basal Cell Carcinoma 0.00, 5.3ms\n",
            "image 5/37 /content/drive/MyDrive/Colab/deep learning/dataset/dataMerge/test/Rosacea/rosacea-116.jpg: 224x224 Rosacea 1.00, Eczemaa 0.00, Acne 0.00, Actinic Keratosis 0.00, Basal Cell Carcinoma 0.00, 3.7ms\n",
            "image 6/37 /content/drive/MyDrive/Colab/deep learning/dataset/dataMerge/test/Rosacea/rosacea-117.jpg: 224x224 Rosacea 0.94, Acne 0.06, Actinic Keratosis 0.00, Basal Cell Carcinoma 0.00, Eczemaa 0.00, 4.4ms\n",
            "image 7/37 /content/drive/MyDrive/Colab/deep learning/dataset/dataMerge/test/Rosacea/rosacea-14.jpg: 224x224 Rosacea 1.00, Actinic Keratosis 0.00, Basal Cell Carcinoma 0.00, Eczemaa 0.00, Acne 0.00, 4.2ms\n",
            "image 8/37 /content/drive/MyDrive/Colab/deep learning/dataset/dataMerge/test/Rosacea/rosacea-16.jpg: 224x224 Rosacea 1.00, Acne 0.00, Actinic Keratosis 0.00, Eczemaa 0.00, Basal Cell Carcinoma 0.00, 5.0ms\n",
            "image 9/37 /content/drive/MyDrive/Colab/deep learning/dataset/dataMerge/test/Rosacea/rosacea-21.jpg: 224x224 Rosacea 1.00, Actinic Keratosis 0.00, Acne 0.00, Basal Cell Carcinoma 0.00, Eczemaa 0.00, 4.8ms\n",
            "image 10/37 /content/drive/MyDrive/Colab/deep learning/dataset/dataMerge/test/Rosacea/rosacea-26.jpg: 224x224 Rosacea 1.00, Acne 0.00, Eczemaa 0.00, Basal Cell Carcinoma 0.00, Actinic Keratosis 0.00, 8.9ms\n",
            "image 11/37 /content/drive/MyDrive/Colab/deep learning/dataset/dataMerge/test/Rosacea/rosacea-31.jpg: 224x224 Rosacea 1.00, Actinic Keratosis 0.00, Eczemaa 0.00, Basal Cell Carcinoma 0.00, Acne 0.00, 4.5ms\n",
            "image 12/37 /content/drive/MyDrive/Colab/deep learning/dataset/dataMerge/test/Rosacea/rosacea-33.jpg: 224x224 Rosacea 1.00, Acne 0.00, Eczemaa 0.00, Basal Cell Carcinoma 0.00, Actinic Keratosis 0.00, 4.4ms\n",
            "image 13/37 /content/drive/MyDrive/Colab/deep learning/dataset/dataMerge/test/Rosacea/rosacea-4.jpg: 224x224 Acne 0.62, Eczemaa 0.35, Rosacea 0.02, Actinic Keratosis 0.01, Basal Cell Carcinoma 0.00, 4.6ms\n",
            "image 14/37 /content/drive/MyDrive/Colab/deep learning/dataset/dataMerge/test/Rosacea/rosacea-40.jpg: 224x224 Rosacea 1.00, Eczemaa 0.00, Acne 0.00, Basal Cell Carcinoma 0.00, Actinic Keratosis 0.00, 5.0ms\n",
            "image 15/37 /content/drive/MyDrive/Colab/deep learning/dataset/dataMerge/test/Rosacea/rosacea-41.jpg: 224x224 Rosacea 1.00, Eczemaa 0.00, Acne 0.00, Actinic Keratosis 0.00, Basal Cell Carcinoma 0.00, 5.2ms\n",
            "image 16/37 /content/drive/MyDrive/Colab/deep learning/dataset/dataMerge/test/Rosacea/rosacea-44.jpg: 224x224 Rosacea 1.00, Eczemaa 0.00, Acne 0.00, Basal Cell Carcinoma 0.00, Actinic Keratosis 0.00, 6.2ms\n",
            "image 17/37 /content/drive/MyDrive/Colab/deep learning/dataset/dataMerge/test/Rosacea/rosacea-45.jpg: 224x224 Rosacea 0.97, Acne 0.02, Actinic Keratosis 0.01, Eczemaa 0.00, Basal Cell Carcinoma 0.00, 4.7ms\n",
            "image 18/37 /content/drive/MyDrive/Colab/deep learning/dataset/dataMerge/test/Rosacea/rosacea-49.jpg: 224x224 Rosacea 1.00, Acne 0.00, Actinic Keratosis 0.00, Eczemaa 0.00, Basal Cell Carcinoma 0.00, 6.4ms\n",
            "image 19/37 /content/drive/MyDrive/Colab/deep learning/dataset/dataMerge/test/Rosacea/rosacea-52.jpg: 224x224 Acne 0.95, Rosacea 0.03, Eczemaa 0.01, Basal Cell Carcinoma 0.00, Actinic Keratosis 0.00, 4.8ms\n",
            "image 20/37 /content/drive/MyDrive/Colab/deep learning/dataset/dataMerge/test/Rosacea/rosacea-54.jpg: 224x224 Rosacea 1.00, Acne 0.00, Actinic Keratosis 0.00, Eczemaa 0.00, Basal Cell Carcinoma 0.00, 4.6ms\n",
            "image 21/37 /content/drive/MyDrive/Colab/deep learning/dataset/dataMerge/test/Rosacea/rosacea-58.jpg: 224x224 Rosacea 1.00, Eczemaa 0.00, Acne 0.00, Actinic Keratosis 0.00, Basal Cell Carcinoma 0.00, 5.0ms\n",
            "image 22/37 /content/drive/MyDrive/Colab/deep learning/dataset/dataMerge/test/Rosacea/rosacea-60.jpg: 224x224 Rosacea 1.00, Actinic Keratosis 0.00, Acne 0.00, Basal Cell Carcinoma 0.00, Eczemaa 0.00, 7.4ms\n",
            "image 23/37 /content/drive/MyDrive/Colab/deep learning/dataset/dataMerge/test/Rosacea/rosacea-68.jpg: 224x224 Rosacea 1.00, Actinic Keratosis 0.00, Eczemaa 0.00, Basal Cell Carcinoma 0.00, Acne 0.00, 4.8ms\n",
            "image 24/37 /content/drive/MyDrive/Colab/deep learning/dataset/dataMerge/test/Rosacea/rosacea-71.jpg: 224x224 Actinic Keratosis 0.58, Rosacea 0.37, Basal Cell Carcinoma 0.02, Acne 0.02, Eczemaa 0.01, 19.3ms\n",
            "image 25/37 /content/drive/MyDrive/Colab/deep learning/dataset/dataMerge/test/Rosacea/rosacea-8.jpg: 224x224 Rosacea 1.00, Actinic Keratosis 0.00, Acne 0.00, Eczemaa 0.00, Basal Cell Carcinoma 0.00, 16.2ms\n",
            "image 26/37 /content/drive/MyDrive/Colab/deep learning/dataset/dataMerge/test/Rosacea/rosacea-81.jpg: 224x224 Rosacea 1.00, Acne 0.00, Eczemaa 0.00, Actinic Keratosis 0.00, Basal Cell Carcinoma 0.00, 5.0ms\n",
            "image 27/37 /content/drive/MyDrive/Colab/deep learning/dataset/dataMerge/test/Rosacea/rosacea-83.jpg: 224x224 Eczemaa 0.87, Acne 0.11, Rosacea 0.01, Basal Cell Carcinoma 0.01, Actinic Keratosis 0.00, 4.6ms\n",
            "image 28/37 /content/drive/MyDrive/Colab/deep learning/dataset/dataMerge/test/Rosacea/rosacea-86.jpg: 224x224 Actinic Keratosis 0.47, Rosacea 0.47, Eczemaa 0.04, Acne 0.01, Basal Cell Carcinoma 0.01, 5.1ms\n",
            "image 29/37 /content/drive/MyDrive/Colab/deep learning/dataset/dataMerge/test/Rosacea/rosacea-89.jpg: 224x224 Rosacea 0.96, Acne 0.03, Eczemaa 0.01, Basal Cell Carcinoma 0.00, Actinic Keratosis 0.00, 5.0ms\n",
            "image 30/37 /content/drive/MyDrive/Colab/deep learning/dataset/dataMerge/test/Rosacea/rosacea-90.jpg: 224x224 Rosacea 0.95, Actinic Keratosis 0.03, Basal Cell Carcinoma 0.02, Acne 0.00, Eczemaa 0.00, 7.3ms\n",
            "image 31/37 /content/drive/MyDrive/Colab/deep learning/dataset/dataMerge/test/Rosacea/rosacea-91.jpg: 224x224 Eczemaa 0.99, Basal Cell Carcinoma 0.01, Acne 0.00, Rosacea 0.00, Actinic Keratosis 0.00, 4.4ms\n",
            "image 32/37 /content/drive/MyDrive/Colab/deep learning/dataset/dataMerge/test/Rosacea/rosacea-94.jpg: 224x224 Rosacea 0.95, Eczemaa 0.05, Actinic Keratosis 0.00, Acne 0.00, Basal Cell Carcinoma 0.00, 4.8ms\n",
            "image 33/37 /content/drive/MyDrive/Colab/deep learning/dataset/dataMerge/test/Rosacea/rosacea-96.jpg: 224x224 Rosacea 1.00, Eczemaa 0.00, Acne 0.00, Actinic Keratosis 0.00, Basal Cell Carcinoma 0.00, 17.8ms\n",
            "image 34/37 /content/drive/MyDrive/Colab/deep learning/dataset/dataMerge/test/Rosacea/rosacea-99.jpg: 224x224 Rosacea 1.00, Eczemaa 0.00, Actinic Keratosis 0.00, Basal Cell Carcinoma 0.00, Acne 0.00, 4.8ms\n",
            "image 35/37 /content/drive/MyDrive/Colab/deep learning/dataset/dataMerge/test/Rosacea/rosacea-nose-10.jpg: 224x224 Rosacea 1.00, Basal Cell Carcinoma 0.00, Eczemaa 0.00, Acne 0.00, Actinic Keratosis 0.00, 4.7ms\n",
            "image 36/37 /content/drive/MyDrive/Colab/deep learning/dataset/dataMerge/test/Rosacea/rosacea-nose-11.jpg: 224x224 Rosacea 1.00, Basal Cell Carcinoma 0.00, Actinic Keratosis 0.00, Acne 0.00, Eczemaa 0.00, 6.7ms\n",
            "image 37/37 /content/drive/MyDrive/Colab/deep learning/dataset/dataMerge/test/Rosacea/rosacea-nose-5.jpg: 224x224 Rosacea 0.99, Eczemaa 0.00, Actinic Keratosis 0.00, Basal Cell Carcinoma 0.00, Acne 0.00, 21.9ms\n",
            "Speed: 11.4ms preprocess, 6.8ms inference, 0.1ms postprocess per image at shape (1, 3, 224, 224)\n",
            "Elapsed time is 5.889155 seconds.\n",
            "Total Prediction Time: 5.89 seconds\n"
          ]
        }
      ],
      "source": [
        "prediction_tests,total_inference_time_yolov8S_percobaan = evaluate_model_yolo(bestModelYoloS,path_class)"
      ]
    },
    {
      "cell_type": "code",
      "execution_count": null,
      "metadata": {
        "id": "UbU6sO0EA1hV",
        "colab": {
          "base_uri": "https://localhost:8080/"
        },
        "outputId": "beb249d2-f2de-4055-b1aa-57b91c861c9f"
      },
      "outputs": [
        {
          "output_type": "execute_result",
          "data": {
            "text/plain": [
              "5.8891545750000205"
            ]
          },
          "metadata": {},
          "execution_count": 39
        }
      ],
      "source": [
        "total_inference_time_yolov8S_percobaan"
      ]
    },
    {
      "cell_type": "code",
      "execution_count": null,
      "metadata": {
        "id": "XX8AaSURIJhg",
        "colab": {
          "base_uri": "https://localhost:8080/"
        },
        "outputId": "e09cb800-6748-407e-b447-c4bb89afbbd8"
      },
      "outputs": [
        {
          "output_type": "stream",
          "name": "stdout",
          "text": [
            "Akurasi untuk predictionTest0: 91.89%\n",
            "Akurasi untuk predictionTest1: 81.08%\n",
            "Akurasi untuk predictionTest2: 78.38%\n",
            "Akurasi untuk predictionTest3: 83.78%\n",
            "Akurasi untuk predictionTest4: 83.78%\n",
            "Akurasi keseluruhan model: 83.78%\n"
          ]
        }
      ],
      "source": [
        "total_correct_predictions = 0\n",
        "total_all_predictions = 0\n",
        "total_running_loss = 0.0  # to accumulate the total loss\n",
        "\n",
        "\n",
        "# Proses untuk setiap predictionTest\n",
        "for i, predictionTest in enumerate(prediction_tests):\n",
        "    correct_predictions = 0\n",
        "    true_label = i  # karena semua ground truth di predictionTesti adalah i\n",
        "\n",
        "    for result in predictionTest:\n",
        "        predicted_label = result.probs.top1  # asumsi bahwa probs.top1 adalah label prediksi teratas\n",
        "        if predicted_label == true_label:\n",
        "            correct_predictions += 1\n",
        "\n",
        "    # Jumlah total prediksi untuk setiap kelas\n",
        "    total_predictions = len(predictionTest)\n",
        "    total_all_predictions += total_predictions\n",
        "    total_correct_predictions += correct_predictions\n",
        "\n",
        "    # Akurasi untuk kelas ini\n",
        "    accuracy = (correct_predictions / total_predictions) * 100\n",
        "    print(f\"Akurasi untuk predictionTest{i}: {accuracy:.2f}%\")\n",
        "\n",
        "# Akurasi keseluruhan\n",
        "overall_accuracy_yolov8S = (total_correct_predictions / total_all_predictions) * 100\n",
        "\n",
        "print(f\"Akurasi keseluruhan model: {overall_accuracy_yolov8S:.2f}%\")\n",
        "# print(f\"Total waktu inferensi: {total_inference_time_yolov8S:.2f} detik\")"
      ]
    },
    {
      "cell_type": "code",
      "execution_count": null,
      "metadata": {
        "id": "FImRWniPgaiz",
        "colab": {
          "base_uri": "https://localhost:8080/"
        },
        "outputId": "dd2e02ba-b86a-4f67-a565-7b9886341f4f"
      },
      "outputs": [
        {
          "output_type": "stream",
          "name": "stdout",
          "text": [
            "Downloading https://github.com/ultralytics/assets/releases/download/v8.2.0/yolov8n-cls.pt to 'yolov8n-cls.pt'...\n"
          ]
        },
        {
          "output_type": "stream",
          "name": "stderr",
          "text": [
            "100%|██████████| 5.31M/5.31M [00:00<00:00, 122MB/s]\n"
          ]
        },
        {
          "output_type": "stream",
          "name": "stdout",
          "text": [
            "YOLOv8n-cls summary: 99 layers, 2,719,288 parameters, 0 gradients, 4.4 GFLOPs\n"
          ]
        },
        {
          "output_type": "execute_result",
          "data": {
            "text/plain": [
              "(99, 2719288, 0, 4.383948800000001)"
            ]
          },
          "metadata": {},
          "execution_count": 41
        }
      ],
      "source": [
        "modelyolov8n = YOLO('yolov8n-cls.pt')  # load a pretrained YOLOv8n detection model\n",
        "modelyolov8n.info()"
      ]
    },
    {
      "cell_type": "code",
      "execution_count": null,
      "metadata": {
        "id": "3y8Kw5LWgiCM",
        "collapsed": true,
        "colab": {
          "base_uri": "https://localhost:8080/"
        },
        "outputId": "eada7167-77c0-4d9f-820a-fdb06330e25f"
      },
      "outputs": [
        {
          "metadata": {
            "tags": null
          },
          "name": "stdout",
          "output_type": "stream",
          "text": [
            "Ultralytics YOLOv8.2.101 🚀 Python-3.10.12 torch-2.4.1+cu121 CUDA:0 (Tesla T4, 15102MiB)\n",
            "\u001b[34m\u001b[1mengine/trainer: \u001b[0mtask=classify, mode=train, model=yolov8n-cls.pt, data=/content/drive/MyDrive/Colab/deep learning/dataset/dataMerge, epochs=50, time=None, patience=100, batch=64, imgsz=224, save=True, save_period=-1, cache=False, device=None, workers=8, project=None, name=train2, exist_ok=False, pretrained=True, optimizer=Adam, verbose=True, seed=0, deterministic=True, single_cls=False, rect=False, cos_lr=False, close_mosaic=10, resume=False, amp=True, fraction=1.0, profile=False, freeze=1, multi_scale=False, overlap_mask=True, mask_ratio=4, dropout=0.0, val=True, split=val, save_json=False, save_hybrid=False, conf=None, iou=0.7, max_det=300, half=False, dnn=False, plots=True, source=None, vid_stride=1, stream_buffer=False, visualize=False, augment=False, agnostic_nms=False, classes=None, retina_masks=False, embed=None, show=False, save_frames=False, save_txt=False, save_conf=False, save_crop=False, show_labels=True, show_conf=True, show_boxes=True, line_width=None, format=torchscript, keras=False, optimize=False, int8=False, dynamic=False, simplify=True, opset=None, workspace=4, nms=False, lr0=0.001, lrf=0.01, momentum=0.937, weight_decay=0.0005, warmup_epochs=3.0, warmup_momentum=0.8, warmup_bias_lr=0.1, box=7.5, cls=0.5, dfl=1.5, pose=12.0, kobj=1.0, label_smoothing=0.0, nbs=64, hsv_h=0.015, hsv_s=0.7, hsv_v=0.4, degrees=0.0, translate=0.1, scale=0.5, shear=0.0, perspective=0.0, flipud=0.0, fliplr=0.5, bgr=0.0, mosaic=1.0, mixup=0.0, copy_paste=0.0, auto_augment=randaugment, erasing=0.4, crop_fraction=1.0, cfg=None, tracker=botsort.yaml, save_dir=runs/classify/train2\n",
            "\u001b[34m\u001b[1mtrain:\u001b[0m /content/drive/MyDrive/Colab/deep learning/dataset/dataMerge/train... found 690 images in 5 classes ✅ \n",
            "\u001b[34m\u001b[1mval:\u001b[0m None...\n",
            "\u001b[34m\u001b[1mtest:\u001b[0m /content/drive/MyDrive/Colab/deep learning/dataset/dataMerge/test... found 185 images in 5 classes ✅ \n",
            "Overriding model.yaml nc=1000 with nc=5\n",
            "\n",
            "                   from  n    params  module                                       arguments                     \n",
            "  0                  -1  1       464  ultralytics.nn.modules.conv.Conv             [3, 16, 3, 2]                 \n",
            "  1                  -1  1      4672  ultralytics.nn.modules.conv.Conv             [16, 32, 3, 2]                \n",
            "  2                  -1  1      7360  ultralytics.nn.modules.block.C2f             [32, 32, 1, True]             \n",
            "  3                  -1  1     18560  ultralytics.nn.modules.conv.Conv             [32, 64, 3, 2]                \n",
            "  4                  -1  2     49664  ultralytics.nn.modules.block.C2f             [64, 64, 2, True]             \n",
            "  5                  -1  1     73984  ultralytics.nn.modules.conv.Conv             [64, 128, 3, 2]               \n",
            "  6                  -1  2    197632  ultralytics.nn.modules.block.C2f             [128, 128, 2, True]           \n",
            "  7                  -1  1    295424  ultralytics.nn.modules.conv.Conv             [128, 256, 3, 2]              \n",
            "  8                  -1  1    460288  ultralytics.nn.modules.block.C2f             [256, 256, 1, True]           \n",
            "  9                  -1  1    336645  ultralytics.nn.modules.head.Classify         [256, 5]                      \n",
            "YOLOv8n-cls summary: 99 layers, 1,444,693 parameters, 1,444,693 gradients, 3.4 GFLOPs\n",
            "Transferred 156/158 items from pretrained weights\n",
            "\u001b[34m\u001b[1mTensorBoard: \u001b[0mStart with 'tensorboard --logdir runs/classify/train2', view at http://localhost:6006/\n",
            "Freezing layer 'model.0.conv.weight'\n",
            "Freezing layer 'model.0.bn.weight'\n",
            "Freezing layer 'model.0.bn.bias'\n",
            "\u001b[34m\u001b[1mAMP: \u001b[0mrunning Automatic Mixed Precision (AMP) checks with YOLOv8n...\n",
            "\u001b[34m\u001b[1mAMP: \u001b[0mchecks passed ✅\n"
          ]
        },
        {
          "metadata": {
            "tags": null
          },
          "name": "stderr",
          "output_type": "stream",
          "text": [
            "\u001b[34m\u001b[1mtrain: \u001b[0mScanning /content/drive/MyDrive/Colab/deep learning/dataset/dataMerge/train... 690 images, 0 corrupt: 100%|██████████| 690/690 [00:00<?, ?it/s]\n",
            "\u001b[34m\u001b[1mval: \u001b[0mScanning /content/drive/MyDrive/Colab/deep learning/dataset/dataMerge/test... 185 images, 0 corrupt: 100%|██████████| 185/185 [00:00<?, ?it/s]\n"
          ]
        },
        {
          "metadata": {
            "tags": null
          },
          "name": "stdout",
          "output_type": "stream",
          "text": [
            "\u001b[34m\u001b[1moptimizer:\u001b[0m Adam(lr=0.001, momentum=0.937) with parameter groups 26 weight(decay=0.0), 27 weight(decay=0.0005), 27 bias(decay=0.0)\n",
            "\u001b[34m\u001b[1mTensorBoard: \u001b[0mmodel graph visualization added ✅\n",
            "Image sizes 224 train, 224 val\n",
            "Using 2 dataloader workers\n",
            "Logging results to \u001b[1mruns/classify/train2\u001b[0m\n",
            "Starting training for 50 epochs...\n",
            "\n",
            "      Epoch    GPU_mem       loss  Instances       Size\n"
          ]
        },
        {
          "metadata": {
            "tags": null
          },
          "name": "stderr",
          "output_type": "stream",
          "text": [
            "       1/50     0.801G      1.543         50        224: 100%|██████████| 11/11 [00:19<00:00,  1.81s/it]\n",
            "               classes   top1_acc   top5_acc: 100%|██████████| 2/2 [00:00<00:00,  2.10it/s]"
          ]
        },
        {
          "metadata": {
            "tags": null
          },
          "name": "stdout",
          "output_type": "stream",
          "text": [
            "                   all        0.4          1\n"
          ]
        },
        {
          "metadata": {
            "tags": null
          },
          "name": "stderr",
          "output_type": "stream",
          "text": [
            "\n"
          ]
        },
        {
          "metadata": {
            "tags": null
          },
          "name": "stdout",
          "output_type": "stream",
          "text": [
            "\n",
            "      Epoch    GPU_mem       loss  Instances       Size\n"
          ]
        },
        {
          "metadata": {
            "tags": null
          },
          "name": "stderr",
          "output_type": "stream",
          "text": [
            "       2/50      0.81G      1.249         50        224: 100%|██████████| 11/11 [00:14<00:00,  1.30s/it]\n",
            "               classes   top1_acc   top5_acc: 100%|██████████| 2/2 [00:00<00:00, 34.81it/s]"
          ]
        },
        {
          "metadata": {
            "tags": null
          },
          "name": "stdout",
          "output_type": "stream",
          "text": [
            "                   all      0.514          1\n"
          ]
        },
        {
          "metadata": {
            "tags": null
          },
          "name": "stderr",
          "output_type": "stream",
          "text": [
            "\n"
          ]
        },
        {
          "metadata": {
            "tags": null
          },
          "name": "stdout",
          "output_type": "stream",
          "text": [
            "\n",
            "      Epoch    GPU_mem       loss  Instances       Size\n"
          ]
        },
        {
          "metadata": {
            "tags": null
          },
          "name": "stderr",
          "output_type": "stream",
          "text": [
            "       3/50      0.81G       1.07         50        224: 100%|██████████| 11/11 [00:13<00:00,  1.19s/it]\n",
            "               classes   top1_acc   top5_acc: 100%|██████████| 2/2 [00:00<00:00, 13.16it/s]"
          ]
        },
        {
          "metadata": {
            "tags": null
          },
          "name": "stdout",
          "output_type": "stream",
          "text": [
            "                   all      0.578          1\n"
          ]
        },
        {
          "metadata": {
            "tags": null
          },
          "name": "stderr",
          "output_type": "stream",
          "text": [
            "\n"
          ]
        },
        {
          "metadata": {
            "tags": null
          },
          "name": "stdout",
          "output_type": "stream",
          "text": [
            "\n",
            "      Epoch    GPU_mem       loss  Instances       Size\n"
          ]
        },
        {
          "metadata": {
            "tags": null
          },
          "name": "stderr",
          "output_type": "stream",
          "text": [
            "       4/50      0.81G     0.9455         50        224: 100%|██████████| 11/11 [00:07<00:00,  1.46it/s]\n",
            "               classes   top1_acc   top5_acc: 100%|██████████| 2/2 [00:00<00:00, 25.18it/s]"
          ]
        },
        {
          "metadata": {
            "tags": null
          },
          "name": "stdout",
          "output_type": "stream",
          "text": [
            "                   all      0.686          1\n"
          ]
        },
        {
          "metadata": {
            "tags": null
          },
          "name": "stderr",
          "output_type": "stream",
          "text": [
            "\n"
          ]
        },
        {
          "metadata": {
            "tags": null
          },
          "name": "stdout",
          "output_type": "stream",
          "text": [
            "\n",
            "      Epoch    GPU_mem       loss  Instances       Size\n"
          ]
        },
        {
          "metadata": {
            "tags": null
          },
          "name": "stderr",
          "output_type": "stream",
          "text": [
            "       5/50      0.81G     0.7879         50        224: 100%|██████████| 11/11 [00:13<00:00,  1.20s/it]\n",
            "               classes   top1_acc   top5_acc: 100%|██████████| 2/2 [00:00<00:00, 28.62it/s]"
          ]
        },
        {
          "metadata": {
            "tags": null
          },
          "name": "stdout",
          "output_type": "stream",
          "text": [
            "                   all      0.681          1\n"
          ]
        },
        {
          "metadata": {
            "tags": null
          },
          "name": "stderr",
          "output_type": "stream",
          "text": [
            "\n"
          ]
        },
        {
          "metadata": {
            "tags": null
          },
          "name": "stdout",
          "output_type": "stream",
          "text": [
            "\n",
            "      Epoch    GPU_mem       loss  Instances       Size\n"
          ]
        },
        {
          "metadata": {
            "tags": null
          },
          "name": "stderr",
          "output_type": "stream",
          "text": [
            "       6/50      0.81G     0.7038         50        224: 100%|██████████| 11/11 [00:09<00:00,  1.21it/s]\n",
            "               classes   top1_acc   top5_acc: 100%|██████████| 2/2 [00:00<00:00, 16.92it/s]"
          ]
        },
        {
          "metadata": {
            "tags": null
          },
          "name": "stdout",
          "output_type": "stream",
          "text": [
            "                   all      0.703          1\n"
          ]
        },
        {
          "metadata": {
            "tags": null
          },
          "name": "stderr",
          "output_type": "stream",
          "text": [
            "\n"
          ]
        },
        {
          "metadata": {
            "tags": null
          },
          "name": "stdout",
          "output_type": "stream",
          "text": [
            "\n",
            "      Epoch    GPU_mem       loss  Instances       Size\n"
          ]
        },
        {
          "metadata": {
            "tags": null
          },
          "name": "stderr",
          "output_type": "stream",
          "text": [
            "       7/50      0.81G     0.5999         50        224: 100%|██████████| 11/11 [00:12<00:00,  1.11s/it]\n",
            "               classes   top1_acc   top5_acc: 100%|██████████| 2/2 [00:00<00:00, 28.15it/s]"
          ]
        },
        {
          "metadata": {
            "tags": null
          },
          "name": "stdout",
          "output_type": "stream",
          "text": [
            "                   all       0.73          1\n"
          ]
        },
        {
          "metadata": {
            "tags": null
          },
          "name": "stderr",
          "output_type": "stream",
          "text": [
            "\n"
          ]
        },
        {
          "metadata": {
            "tags": null
          },
          "name": "stdout",
          "output_type": "stream",
          "text": [
            "\n",
            "      Epoch    GPU_mem       loss  Instances       Size\n"
          ]
        },
        {
          "metadata": {
            "tags": null
          },
          "name": "stderr",
          "output_type": "stream",
          "text": [
            "       8/50      0.81G     0.5664         50        224: 100%|██████████| 11/11 [00:11<00:00,  1.07s/it]\n",
            "               classes   top1_acc   top5_acc: 100%|██████████| 2/2 [00:00<00:00, 11.70it/s]"
          ]
        },
        {
          "metadata": {
            "tags": null
          },
          "name": "stdout",
          "output_type": "stream",
          "text": [
            "                   all      0.686          1\n"
          ]
        },
        {
          "metadata": {
            "tags": null
          },
          "name": "stderr",
          "output_type": "stream",
          "text": [
            "\n"
          ]
        },
        {
          "metadata": {
            "tags": null
          },
          "name": "stdout",
          "output_type": "stream",
          "text": [
            "\n",
            "      Epoch    GPU_mem       loss  Instances       Size\n"
          ]
        },
        {
          "metadata": {
            "tags": null
          },
          "name": "stderr",
          "output_type": "stream",
          "text": [
            "       9/50      0.81G     0.5076         50        224: 100%|██████████| 11/11 [00:10<00:00,  1.04it/s]\n",
            "               classes   top1_acc   top5_acc: 100%|██████████| 2/2 [00:00<00:00, 27.19it/s]"
          ]
        },
        {
          "metadata": {
            "tags": null
          },
          "name": "stdout",
          "output_type": "stream",
          "text": [
            "                   all      0.708          1\n"
          ]
        },
        {
          "metadata": {
            "tags": null
          },
          "name": "stderr",
          "output_type": "stream",
          "text": [
            "\n"
          ]
        },
        {
          "metadata": {
            "tags": null
          },
          "name": "stdout",
          "output_type": "stream",
          "text": [
            "\n",
            "      Epoch    GPU_mem       loss  Instances       Size\n"
          ]
        },
        {
          "metadata": {
            "tags": null
          },
          "name": "stderr",
          "output_type": "stream",
          "text": [
            "      10/50      0.81G     0.4513         50        224: 100%|██████████| 11/11 [00:14<00:00,  1.29s/it]\n",
            "               classes   top1_acc   top5_acc: 100%|██████████| 2/2 [00:00<00:00, 17.40it/s]"
          ]
        },
        {
          "metadata": {
            "tags": null
          },
          "name": "stdout",
          "output_type": "stream",
          "text": [
            "                   all      0.751          1\n"
          ]
        },
        {
          "metadata": {
            "tags": null
          },
          "name": "stderr",
          "output_type": "stream",
          "text": [
            "\n"
          ]
        },
        {
          "metadata": {
            "tags": null
          },
          "name": "stdout",
          "output_type": "stream",
          "text": [
            "\n",
            "      Epoch    GPU_mem       loss  Instances       Size\n"
          ]
        },
        {
          "metadata": {
            "tags": null
          },
          "name": "stderr",
          "output_type": "stream",
          "text": [
            "      11/50      0.81G     0.4295         50        224: 100%|██████████| 11/11 [00:09<00:00,  1.15it/s]\n",
            "               classes   top1_acc   top5_acc: 100%|██████████| 2/2 [00:00<00:00, 11.66it/s]\n"
          ]
        },
        {
          "metadata": {
            "tags": null
          },
          "name": "stdout",
          "output_type": "stream",
          "text": [
            "                   all      0.768          1\n",
            "\n",
            "      Epoch    GPU_mem       loss  Instances       Size\n"
          ]
        },
        {
          "metadata": {
            "tags": null
          },
          "name": "stderr",
          "output_type": "stream",
          "text": [
            "      12/50      0.81G     0.4104         50        224: 100%|██████████| 11/11 [00:10<00:00,  1.02it/s]\n",
            "               classes   top1_acc   top5_acc: 100%|██████████| 2/2 [00:00<00:00, 27.08it/s]"
          ]
        },
        {
          "metadata": {
            "tags": null
          },
          "name": "stdout",
          "output_type": "stream",
          "text": [
            "                   all      0.773          1\n"
          ]
        },
        {
          "metadata": {
            "tags": null
          },
          "name": "stderr",
          "output_type": "stream",
          "text": [
            "\n"
          ]
        },
        {
          "metadata": {
            "tags": null
          },
          "name": "stdout",
          "output_type": "stream",
          "text": [
            "\n",
            "      Epoch    GPU_mem       loss  Instances       Size\n"
          ]
        },
        {
          "metadata": {
            "tags": null
          },
          "name": "stderr",
          "output_type": "stream",
          "text": [
            "      13/50      0.81G     0.3412         50        224: 100%|██████████| 11/11 [00:10<00:00,  1.00it/s]\n",
            "               classes   top1_acc   top5_acc: 100%|██████████| 2/2 [00:00<00:00, 21.03it/s]"
          ]
        },
        {
          "metadata": {
            "tags": null
          },
          "name": "stdout",
          "output_type": "stream",
          "text": [
            "                   all      0.773          1\n"
          ]
        },
        {
          "metadata": {
            "tags": null
          },
          "name": "stderr",
          "output_type": "stream",
          "text": [
            "\n"
          ]
        },
        {
          "metadata": {
            "tags": null
          },
          "name": "stdout",
          "output_type": "stream",
          "text": [
            "\n",
            "      Epoch    GPU_mem       loss  Instances       Size\n"
          ]
        },
        {
          "metadata": {
            "tags": null
          },
          "name": "stderr",
          "output_type": "stream",
          "text": [
            "      14/50      0.81G     0.3813         50        224: 100%|██████████| 11/11 [00:10<00:00,  1.08it/s]\n",
            "               classes   top1_acc   top5_acc: 100%|██████████| 2/2 [00:00<00:00, 30.40it/s]"
          ]
        },
        {
          "metadata": {
            "tags": null
          },
          "name": "stdout",
          "output_type": "stream",
          "text": [
            "                   all      0.762          1\n"
          ]
        },
        {
          "metadata": {
            "tags": null
          },
          "name": "stderr",
          "output_type": "stream",
          "text": [
            "\n"
          ]
        },
        {
          "metadata": {
            "tags": null
          },
          "name": "stdout",
          "output_type": "stream",
          "text": [
            "\n",
            "      Epoch    GPU_mem       loss  Instances       Size\n"
          ]
        },
        {
          "metadata": {
            "tags": null
          },
          "name": "stderr",
          "output_type": "stream",
          "text": [
            "      15/50      0.81G     0.3206         50        224: 100%|██████████| 11/11 [00:12<00:00,  1.14s/it]\n",
            "               classes   top1_acc   top5_acc: 100%|██████████| 2/2 [00:00<00:00,  9.26it/s]"
          ]
        },
        {
          "metadata": {
            "tags": null
          },
          "name": "stdout",
          "output_type": "stream",
          "text": [
            "                   all      0.762          1\n"
          ]
        },
        {
          "metadata": {
            "tags": null
          },
          "name": "stderr",
          "output_type": "stream",
          "text": [
            "\n"
          ]
        },
        {
          "metadata": {
            "tags": null
          },
          "name": "stdout",
          "output_type": "stream",
          "text": [
            "\n",
            "      Epoch    GPU_mem       loss  Instances       Size\n"
          ]
        },
        {
          "metadata": {
            "tags": null
          },
          "name": "stderr",
          "output_type": "stream",
          "text": [
            "      16/50      0.81G     0.2582         50        224: 100%|██████████| 11/11 [00:08<00:00,  1.32it/s]\n",
            "               classes   top1_acc   top5_acc: 100%|██████████| 2/2 [00:00<00:00, 26.28it/s]"
          ]
        },
        {
          "metadata": {
            "tags": null
          },
          "name": "stdout",
          "output_type": "stream",
          "text": [
            "                   all      0.757          1\n"
          ]
        },
        {
          "metadata": {
            "tags": null
          },
          "name": "stderr",
          "output_type": "stream",
          "text": [
            "\n"
          ]
        },
        {
          "metadata": {
            "tags": null
          },
          "name": "stdout",
          "output_type": "stream",
          "text": [
            "\n",
            "      Epoch    GPU_mem       loss  Instances       Size\n"
          ]
        },
        {
          "metadata": {
            "tags": null
          },
          "name": "stderr",
          "output_type": "stream",
          "text": [
            "      17/50      0.81G     0.2689         50        224: 100%|██████████| 11/11 [00:13<00:00,  1.20s/it]\n",
            "               classes   top1_acc   top5_acc: 100%|██████████| 2/2 [00:00<00:00, 37.12it/s]"
          ]
        },
        {
          "metadata": {
            "tags": null
          },
          "name": "stdout",
          "output_type": "stream",
          "text": [
            "                   all      0.773          1\n"
          ]
        },
        {
          "metadata": {
            "tags": null
          },
          "name": "stderr",
          "output_type": "stream",
          "text": [
            "\n"
          ]
        },
        {
          "metadata": {
            "tags": null
          },
          "name": "stdout",
          "output_type": "stream",
          "text": [
            "\n",
            "      Epoch    GPU_mem       loss  Instances       Size\n"
          ]
        },
        {
          "metadata": {
            "tags": null
          },
          "name": "stderr",
          "output_type": "stream",
          "text": [
            "      18/50      0.81G     0.2556         50        224: 100%|██████████| 11/11 [00:10<00:00,  1.05it/s]\n",
            "               classes   top1_acc   top5_acc: 100%|██████████| 2/2 [00:00<00:00, 36.72it/s]"
          ]
        },
        {
          "metadata": {
            "tags": null
          },
          "name": "stdout",
          "output_type": "stream",
          "text": [
            "                   all      0.757          1\n"
          ]
        },
        {
          "metadata": {
            "tags": null
          },
          "name": "stderr",
          "output_type": "stream",
          "text": [
            "\n"
          ]
        },
        {
          "metadata": {
            "tags": null
          },
          "name": "stdout",
          "output_type": "stream",
          "text": [
            "\n",
            "      Epoch    GPU_mem       loss  Instances       Size\n"
          ]
        },
        {
          "metadata": {
            "tags": null
          },
          "name": "stderr",
          "output_type": "stream",
          "text": [
            "      19/50      0.81G     0.2425         50        224: 100%|██████████| 11/11 [00:10<00:00,  1.03it/s]\n",
            "               classes   top1_acc   top5_acc: 100%|██████████| 2/2 [00:00<00:00, 30.87it/s]"
          ]
        },
        {
          "metadata": {
            "tags": null
          },
          "name": "stdout",
          "output_type": "stream",
          "text": [
            "                   all      0.778          1\n"
          ]
        },
        {
          "metadata": {
            "tags": null
          },
          "name": "stderr",
          "output_type": "stream",
          "text": [
            "\n"
          ]
        },
        {
          "metadata": {
            "tags": null
          },
          "name": "stdout",
          "output_type": "stream",
          "text": [
            "\n",
            "      Epoch    GPU_mem       loss  Instances       Size\n"
          ]
        },
        {
          "metadata": {
            "tags": null
          },
          "name": "stderr",
          "output_type": "stream",
          "text": [
            "      20/50      0.81G     0.2417         50        224: 100%|██████████| 11/11 [00:11<00:00,  1.05s/it]\n",
            "               classes   top1_acc   top5_acc: 100%|██████████| 2/2 [00:00<00:00, 15.06it/s]"
          ]
        },
        {
          "metadata": {
            "tags": null
          },
          "name": "stdout",
          "output_type": "stream",
          "text": [
            "                   all      0.784          1\n"
          ]
        },
        {
          "metadata": {
            "tags": null
          },
          "name": "stderr",
          "output_type": "stream",
          "text": [
            "\n"
          ]
        },
        {
          "metadata": {
            "tags": null
          },
          "name": "stdout",
          "output_type": "stream",
          "text": [
            "\n",
            "      Epoch    GPU_mem       loss  Instances       Size\n"
          ]
        },
        {
          "metadata": {
            "tags": null
          },
          "name": "stderr",
          "output_type": "stream",
          "text": [
            "      21/50      0.81G     0.1979         50        224: 100%|██████████| 11/11 [00:08<00:00,  1.25it/s]\n",
            "               classes   top1_acc   top5_acc: 100%|██████████| 2/2 [00:00<00:00, 25.45it/s]"
          ]
        },
        {
          "metadata": {
            "tags": null
          },
          "name": "stdout",
          "output_type": "stream",
          "text": [
            "                   all      0.768          1\n"
          ]
        },
        {
          "metadata": {
            "tags": null
          },
          "name": "stderr",
          "output_type": "stream",
          "text": [
            "\n"
          ]
        },
        {
          "metadata": {
            "tags": null
          },
          "name": "stdout",
          "output_type": "stream",
          "text": [
            "\n",
            "      Epoch    GPU_mem       loss  Instances       Size\n"
          ]
        },
        {
          "metadata": {
            "tags": null
          },
          "name": "stderr",
          "output_type": "stream",
          "text": [
            "      22/50      0.81G     0.1676         50        224: 100%|██████████| 11/11 [00:12<00:00,  1.16s/it]\n",
            "               classes   top1_acc   top5_acc: 100%|██████████| 2/2 [00:00<00:00, 14.02it/s]"
          ]
        },
        {
          "metadata": {
            "tags": null
          },
          "name": "stdout",
          "output_type": "stream",
          "text": [
            "                   all      0.778          1\n"
          ]
        },
        {
          "metadata": {
            "tags": null
          },
          "name": "stderr",
          "output_type": "stream",
          "text": [
            "\n"
          ]
        },
        {
          "metadata": {
            "tags": null
          },
          "name": "stdout",
          "output_type": "stream",
          "text": [
            "\n",
            "      Epoch    GPU_mem       loss  Instances       Size\n"
          ]
        },
        {
          "metadata": {
            "tags": null
          },
          "name": "stderr",
          "output_type": "stream",
          "text": [
            "      23/50      0.81G     0.1618         50        224: 100%|██████████| 11/11 [00:07<00:00,  1.43it/s]\n",
            "               classes   top1_acc   top5_acc: 100%|██████████| 2/2 [00:00<00:00, 26.34it/s]"
          ]
        },
        {
          "metadata": {
            "tags": null
          },
          "name": "stdout",
          "output_type": "stream",
          "text": [
            "                   all      0.795          1\n"
          ]
        },
        {
          "metadata": {
            "tags": null
          },
          "name": "stderr",
          "output_type": "stream",
          "text": [
            "\n"
          ]
        },
        {
          "metadata": {
            "tags": null
          },
          "name": "stdout",
          "output_type": "stream",
          "text": [
            "\n",
            "      Epoch    GPU_mem       loss  Instances       Size\n"
          ]
        },
        {
          "metadata": {
            "tags": null
          },
          "name": "stderr",
          "output_type": "stream",
          "text": [
            "      24/50      0.81G     0.2113         50        224: 100%|██████████| 11/11 [00:13<00:00,  1.23s/it]\n",
            "               classes   top1_acc   top5_acc: 100%|██████████| 2/2 [00:00<00:00, 31.69it/s]"
          ]
        },
        {
          "metadata": {
            "tags": null
          },
          "name": "stdout",
          "output_type": "stream",
          "text": [
            "                   all      0.805          1\n"
          ]
        },
        {
          "metadata": {
            "tags": null
          },
          "name": "stderr",
          "output_type": "stream",
          "text": [
            "\n"
          ]
        },
        {
          "metadata": {
            "tags": null
          },
          "name": "stdout",
          "output_type": "stream",
          "text": [
            "\n",
            "      Epoch    GPU_mem       loss  Instances       Size\n"
          ]
        },
        {
          "metadata": {
            "tags": null
          },
          "name": "stderr",
          "output_type": "stream",
          "text": [
            "      25/50      0.81G     0.1681         50        224: 100%|██████████| 11/11 [00:08<00:00,  1.34it/s]\n",
            "               classes   top1_acc   top5_acc: 100%|██████████| 2/2 [00:00<00:00, 29.07it/s]"
          ]
        },
        {
          "metadata": {
            "tags": null
          },
          "name": "stdout",
          "output_type": "stream",
          "text": [
            "                   all      0.805          1\n"
          ]
        },
        {
          "metadata": {
            "tags": null
          },
          "name": "stderr",
          "output_type": "stream",
          "text": [
            "\n"
          ]
        },
        {
          "metadata": {
            "tags": null
          },
          "name": "stdout",
          "output_type": "stream",
          "text": [
            "\n",
            "      Epoch    GPU_mem       loss  Instances       Size\n"
          ]
        },
        {
          "metadata": {
            "tags": null
          },
          "name": "stderr",
          "output_type": "stream",
          "text": [
            "      26/50      0.81G     0.1476         50        224: 100%|██████████| 11/11 [00:14<00:00,  1.28s/it]\n",
            "               classes   top1_acc   top5_acc: 100%|██████████| 2/2 [00:00<00:00, 33.73it/s]"
          ]
        },
        {
          "metadata": {
            "tags": null
          },
          "name": "stdout",
          "output_type": "stream",
          "text": [
            "                   all      0.822          1\n"
          ]
        },
        {
          "metadata": {
            "tags": null
          },
          "name": "stderr",
          "output_type": "stream",
          "text": [
            "\n"
          ]
        },
        {
          "metadata": {
            "tags": null
          },
          "name": "stdout",
          "output_type": "stream",
          "text": [
            "\n",
            "      Epoch    GPU_mem       loss  Instances       Size\n"
          ]
        },
        {
          "metadata": {
            "tags": null
          },
          "name": "stderr",
          "output_type": "stream",
          "text": [
            "      27/50      0.81G     0.1836         50        224: 100%|██████████| 11/11 [00:09<00:00,  1.18it/s]\n",
            "               classes   top1_acc   top5_acc: 100%|██████████| 2/2 [00:00<00:00, 16.11it/s]\n"
          ]
        },
        {
          "metadata": {
            "tags": null
          },
          "name": "stdout",
          "output_type": "stream",
          "text": [
            "                   all      0.822          1\n",
            "\n",
            "      Epoch    GPU_mem       loss  Instances       Size\n"
          ]
        },
        {
          "metadata": {
            "tags": null
          },
          "name": "stderr",
          "output_type": "stream",
          "text": [
            "      28/50      0.81G     0.1823         50        224: 100%|██████████| 11/11 [00:11<00:00,  1.07s/it]\n",
            "               classes   top1_acc   top5_acc: 100%|██████████| 2/2 [00:00<00:00, 20.97it/s]"
          ]
        },
        {
          "metadata": {
            "tags": null
          },
          "name": "stdout",
          "output_type": "stream",
          "text": [
            "                   all      0.778          1\n"
          ]
        },
        {
          "metadata": {
            "tags": null
          },
          "name": "stderr",
          "output_type": "stream",
          "text": [
            "\n"
          ]
        },
        {
          "metadata": {
            "tags": null
          },
          "name": "stdout",
          "output_type": "stream",
          "text": [
            "\n",
            "      Epoch    GPU_mem       loss  Instances       Size\n"
          ]
        },
        {
          "metadata": {
            "tags": null
          },
          "name": "stderr",
          "output_type": "stream",
          "text": [
            "      29/50      0.81G     0.1483         50        224: 100%|██████████| 11/11 [00:11<00:00,  1.04s/it]\n",
            "               classes   top1_acc   top5_acc: 100%|██████████| 2/2 [00:00<00:00, 12.77it/s]\n"
          ]
        },
        {
          "metadata": {
            "tags": null
          },
          "name": "stdout",
          "output_type": "stream",
          "text": [
            "                   all      0.768          1\n",
            "\n",
            "      Epoch    GPU_mem       loss  Instances       Size\n"
          ]
        },
        {
          "metadata": {
            "tags": null
          },
          "name": "stderr",
          "output_type": "stream",
          "text": [
            "      30/50      0.81G     0.1348         50        224: 100%|██████████| 11/11 [00:08<00:00,  1.33it/s]\n",
            "               classes   top1_acc   top5_acc: 100%|██████████| 2/2 [00:00<00:00, 35.21it/s]"
          ]
        },
        {
          "metadata": {
            "tags": null
          },
          "name": "stdout",
          "output_type": "stream",
          "text": [
            "                   all      0.805          1\n"
          ]
        },
        {
          "metadata": {
            "tags": null
          },
          "name": "stderr",
          "output_type": "stream",
          "text": [
            "\n"
          ]
        },
        {
          "metadata": {
            "tags": null
          },
          "name": "stdout",
          "output_type": "stream",
          "text": [
            "\n",
            "      Epoch    GPU_mem       loss  Instances       Size\n"
          ]
        },
        {
          "metadata": {
            "tags": null
          },
          "name": "stderr",
          "output_type": "stream",
          "text": [
            "      31/50      0.81G     0.1461         50        224: 100%|██████████| 11/11 [00:12<00:00,  1.18s/it]\n",
            "               classes   top1_acc   top5_acc: 100%|██████████| 2/2 [00:00<00:00, 31.75it/s]"
          ]
        },
        {
          "metadata": {
            "tags": null
          },
          "name": "stdout",
          "output_type": "stream",
          "text": [
            "                   all      0.789          1\n"
          ]
        },
        {
          "metadata": {
            "tags": null
          },
          "name": "stderr",
          "output_type": "stream",
          "text": [
            "\n"
          ]
        },
        {
          "metadata": {
            "tags": null
          },
          "name": "stdout",
          "output_type": "stream",
          "text": [
            "\n",
            "      Epoch    GPU_mem       loss  Instances       Size\n"
          ]
        },
        {
          "metadata": {
            "tags": null
          },
          "name": "stderr",
          "output_type": "stream",
          "text": [
            "      32/50      0.81G     0.1278         50        224: 100%|██████████| 11/11 [00:09<00:00,  1.20it/s]\n",
            "               classes   top1_acc   top5_acc: 100%|██████████| 2/2 [00:00<00:00, 34.78it/s]"
          ]
        },
        {
          "metadata": {
            "tags": null
          },
          "name": "stdout",
          "output_type": "stream",
          "text": [
            "                   all      0.816          1\n"
          ]
        },
        {
          "metadata": {
            "tags": null
          },
          "name": "stderr",
          "output_type": "stream",
          "text": [
            "\n"
          ]
        },
        {
          "metadata": {
            "tags": null
          },
          "name": "stdout",
          "output_type": "stream",
          "text": [
            "\n",
            "      Epoch    GPU_mem       loss  Instances       Size\n"
          ]
        },
        {
          "metadata": {
            "tags": null
          },
          "name": "stderr",
          "output_type": "stream",
          "text": [
            "      33/50      0.81G     0.1509         50        224: 100%|██████████| 11/11 [00:12<00:00,  1.11s/it]\n",
            "               classes   top1_acc   top5_acc: 100%|██████████| 2/2 [00:00<00:00, 32.09it/s]\n"
          ]
        },
        {
          "metadata": {
            "tags": null
          },
          "name": "stdout",
          "output_type": "stream",
          "text": [
            "                   all      0.789          1\n",
            "\n",
            "      Epoch    GPU_mem       loss  Instances       Size\n"
          ]
        },
        {
          "metadata": {
            "tags": null
          },
          "name": "stderr",
          "output_type": "stream",
          "text": [
            "      34/50      0.81G     0.1279         50        224: 100%|██████████| 11/11 [00:10<00:00,  1.05it/s]\n",
            "               classes   top1_acc   top5_acc: 100%|██████████| 2/2 [00:00<00:00, 20.69it/s]"
          ]
        },
        {
          "metadata": {
            "tags": null
          },
          "name": "stdout",
          "output_type": "stream",
          "text": [
            "                   all        0.8          1\n"
          ]
        },
        {
          "metadata": {
            "tags": null
          },
          "name": "stderr",
          "output_type": "stream",
          "text": [
            "\n"
          ]
        },
        {
          "metadata": {
            "tags": null
          },
          "name": "stdout",
          "output_type": "stream",
          "text": [
            "\n",
            "      Epoch    GPU_mem       loss  Instances       Size\n"
          ]
        },
        {
          "metadata": {
            "tags": null
          },
          "name": "stderr",
          "output_type": "stream",
          "text": [
            "      35/50      0.81G    0.09734         50        224: 100%|██████████| 11/11 [00:09<00:00,  1.11it/s]\n",
            "               classes   top1_acc   top5_acc: 100%|██████████| 2/2 [00:00<00:00, 29.00it/s]"
          ]
        },
        {
          "metadata": {
            "tags": null
          },
          "name": "stdout",
          "output_type": "stream",
          "text": [
            "                   all      0.827          1\n"
          ]
        },
        {
          "metadata": {
            "tags": null
          },
          "name": "stderr",
          "output_type": "stream",
          "text": [
            "\n"
          ]
        },
        {
          "metadata": {
            "tags": null
          },
          "name": "stdout",
          "output_type": "stream",
          "text": [
            "\n",
            "      Epoch    GPU_mem       loss  Instances       Size\n"
          ]
        },
        {
          "metadata": {
            "tags": null
          },
          "name": "stderr",
          "output_type": "stream",
          "text": [
            "      36/50      0.81G     0.1146         50        224: 100%|██████████| 11/11 [00:10<00:00,  1.00it/s]\n",
            "               classes   top1_acc   top5_acc: 100%|██████████| 2/2 [00:00<00:00, 13.32it/s]"
          ]
        },
        {
          "metadata": {
            "tags": null
          },
          "name": "stdout",
          "output_type": "stream",
          "text": [
            "                   all      0.778          1\n"
          ]
        },
        {
          "metadata": {
            "tags": null
          },
          "name": "stderr",
          "output_type": "stream",
          "text": [
            "\n"
          ]
        },
        {
          "metadata": {
            "tags": null
          },
          "name": "stdout",
          "output_type": "stream",
          "text": [
            "\n",
            "      Epoch    GPU_mem       loss  Instances       Size\n"
          ]
        },
        {
          "output_type": "stream",
          "name": "stderr",
          "text": [
            "      37/50      0.81G    0.09969         50        224: 100%|██████████| 11/11 [00:09<00:00,  1.20it/s]\n",
            "               classes   top1_acc   top5_acc: 100%|██████████| 2/2 [00:00<00:00, 34.67it/s]"
          ]
        },
        {
          "output_type": "stream",
          "name": "stdout",
          "text": [
            "                   all      0.795          1\n"
          ]
        },
        {
          "output_type": "stream",
          "name": "stderr",
          "text": [
            "\n"
          ]
        },
        {
          "output_type": "stream",
          "name": "stdout",
          "text": [
            "\n",
            "      Epoch    GPU_mem       loss  Instances       Size\n"
          ]
        },
        {
          "output_type": "stream",
          "name": "stderr",
          "text": [
            "      38/50      0.81G     0.1144         50        224: 100%|██████████| 11/11 [00:13<00:00,  1.24s/it]\n",
            "               classes   top1_acc   top5_acc: 100%|██████████| 2/2 [00:00<00:00, 28.22it/s]"
          ]
        },
        {
          "output_type": "stream",
          "name": "stdout",
          "text": [
            "                   all        0.8          1\n"
          ]
        },
        {
          "output_type": "stream",
          "name": "stderr",
          "text": [
            "\n"
          ]
        },
        {
          "output_type": "stream",
          "name": "stdout",
          "text": [
            "\n",
            "      Epoch    GPU_mem       loss  Instances       Size\n"
          ]
        },
        {
          "output_type": "stream",
          "name": "stderr",
          "text": [
            "      39/50      0.81G     0.1001         50        224: 100%|██████████| 11/11 [00:07<00:00,  1.43it/s]\n",
            "               classes   top1_acc   top5_acc: 100%|██████████| 2/2 [00:00<00:00, 26.11it/s]"
          ]
        },
        {
          "output_type": "stream",
          "name": "stdout",
          "text": [
            "                   all      0.811          1\n"
          ]
        },
        {
          "output_type": "stream",
          "name": "stderr",
          "text": [
            "\n"
          ]
        },
        {
          "output_type": "stream",
          "name": "stdout",
          "text": [
            "\n",
            "      Epoch    GPU_mem       loss  Instances       Size\n"
          ]
        },
        {
          "output_type": "stream",
          "name": "stderr",
          "text": [
            "      40/50      0.81G    0.06927         50        224: 100%|██████████| 11/11 [00:13<00:00,  1.21s/it]\n",
            "               classes   top1_acc   top5_acc: 100%|██████████| 2/2 [00:00<00:00, 28.55it/s]"
          ]
        },
        {
          "output_type": "stream",
          "name": "stdout",
          "text": [
            "                   all      0.805          1\n"
          ]
        },
        {
          "output_type": "stream",
          "name": "stderr",
          "text": [
            "\n"
          ]
        },
        {
          "output_type": "stream",
          "name": "stdout",
          "text": [
            "\n",
            "      Epoch    GPU_mem       loss  Instances       Size\n"
          ]
        },
        {
          "output_type": "stream",
          "name": "stderr",
          "text": [
            "      41/50      0.81G     0.1019         50        224: 100%|██████████| 11/11 [00:10<00:00,  1.01it/s]\n",
            "               classes   top1_acc   top5_acc: 100%|██████████| 2/2 [00:00<00:00,  9.74it/s]"
          ]
        },
        {
          "output_type": "stream",
          "name": "stdout",
          "text": [
            "                   all      0.811          1\n"
          ]
        },
        {
          "output_type": "stream",
          "name": "stderr",
          "text": [
            "\n"
          ]
        },
        {
          "output_type": "stream",
          "name": "stdout",
          "text": [
            "\n",
            "      Epoch    GPU_mem       loss  Instances       Size\n"
          ]
        },
        {
          "output_type": "stream",
          "name": "stderr",
          "text": [
            "      42/50      0.81G     0.1018         50        224: 100%|██████████| 11/11 [00:07<00:00,  1.38it/s]\n",
            "               classes   top1_acc   top5_acc: 100%|██████████| 2/2 [00:00<00:00, 25.04it/s]"
          ]
        },
        {
          "output_type": "stream",
          "name": "stdout",
          "text": [
            "                   all      0.816          1\n"
          ]
        },
        {
          "output_type": "stream",
          "name": "stderr",
          "text": [
            "\n"
          ]
        },
        {
          "output_type": "stream",
          "name": "stdout",
          "text": [
            "\n",
            "      Epoch    GPU_mem       loss  Instances       Size\n"
          ]
        },
        {
          "output_type": "stream",
          "name": "stderr",
          "text": [
            "      43/50      0.81G     0.1097         50        224: 100%|██████████| 11/11 [00:13<00:00,  1.19s/it]\n",
            "               classes   top1_acc   top5_acc: 100%|██████████| 2/2 [00:00<00:00,  9.75it/s]"
          ]
        },
        {
          "output_type": "stream",
          "name": "stdout",
          "text": [
            "                   all      0.816          1\n"
          ]
        },
        {
          "output_type": "stream",
          "name": "stderr",
          "text": [
            "\n"
          ]
        },
        {
          "output_type": "stream",
          "name": "stdout",
          "text": [
            "\n",
            "      Epoch    GPU_mem       loss  Instances       Size\n"
          ]
        },
        {
          "output_type": "stream",
          "name": "stderr",
          "text": [
            "      44/50      0.81G    0.08825         50        224: 100%|██████████| 11/11 [00:07<00:00,  1.48it/s]\n",
            "               classes   top1_acc   top5_acc: 100%|██████████| 2/2 [00:00<00:00, 23.73it/s]"
          ]
        },
        {
          "output_type": "stream",
          "name": "stdout",
          "text": [
            "                   all      0.822          1\n"
          ]
        },
        {
          "output_type": "stream",
          "name": "stderr",
          "text": [
            "\n"
          ]
        },
        {
          "output_type": "stream",
          "name": "stdout",
          "text": [
            "\n",
            "      Epoch    GPU_mem       loss  Instances       Size\n"
          ]
        },
        {
          "output_type": "stream",
          "name": "stderr",
          "text": [
            "      45/50      0.81G    0.09169         50        224: 100%|██████████| 11/11 [00:13<00:00,  1.24s/it]\n",
            "               classes   top1_acc   top5_acc: 100%|██████████| 2/2 [00:00<00:00, 23.91it/s]"
          ]
        },
        {
          "output_type": "stream",
          "name": "stdout",
          "text": [
            "                   all      0.822          1\n"
          ]
        },
        {
          "output_type": "stream",
          "name": "stderr",
          "text": [
            "\n"
          ]
        },
        {
          "output_type": "stream",
          "name": "stdout",
          "text": [
            "\n",
            "      Epoch    GPU_mem       loss  Instances       Size\n"
          ]
        },
        {
          "output_type": "stream",
          "name": "stderr",
          "text": [
            "      46/50      0.81G    0.08112         50        224: 100%|██████████| 11/11 [00:08<00:00,  1.37it/s]\n",
            "               classes   top1_acc   top5_acc: 100%|██████████| 2/2 [00:00<00:00, 27.52it/s]"
          ]
        },
        {
          "output_type": "stream",
          "name": "stdout",
          "text": [
            "                   all      0.822          1\n"
          ]
        },
        {
          "output_type": "stream",
          "name": "stderr",
          "text": [
            "\n"
          ]
        },
        {
          "output_type": "stream",
          "name": "stdout",
          "text": [
            "\n",
            "      Epoch    GPU_mem       loss  Instances       Size\n"
          ]
        },
        {
          "output_type": "stream",
          "name": "stderr",
          "text": [
            "      47/50      0.81G    0.07966         50        224: 100%|██████████| 11/11 [00:12<00:00,  1.15s/it]\n",
            "               classes   top1_acc   top5_acc: 100%|██████████| 2/2 [00:00<00:00, 21.96it/s]"
          ]
        },
        {
          "output_type": "stream",
          "name": "stdout",
          "text": [
            "                   all      0.816          1\n"
          ]
        },
        {
          "output_type": "stream",
          "name": "stderr",
          "text": [
            "\n"
          ]
        },
        {
          "output_type": "stream",
          "name": "stdout",
          "text": [
            "\n",
            "      Epoch    GPU_mem       loss  Instances       Size\n"
          ]
        },
        {
          "output_type": "stream",
          "name": "stderr",
          "text": [
            "      48/50      0.81G    0.06693         50        224: 100%|██████████| 11/11 [00:09<00:00,  1.19it/s]\n",
            "               classes   top1_acc   top5_acc: 100%|██████████| 2/2 [00:00<00:00, 15.70it/s]"
          ]
        },
        {
          "output_type": "stream",
          "name": "stdout",
          "text": [
            "                   all      0.811          1\n"
          ]
        },
        {
          "output_type": "stream",
          "name": "stderr",
          "text": [
            "\n"
          ]
        },
        {
          "output_type": "stream",
          "name": "stdout",
          "text": [
            "\n",
            "      Epoch    GPU_mem       loss  Instances       Size\n"
          ]
        },
        {
          "output_type": "stream",
          "name": "stderr",
          "text": [
            "      49/50      0.81G    0.08196         50        224: 100%|██████████| 11/11 [00:10<00:00,  1.01it/s]\n",
            "               classes   top1_acc   top5_acc: 100%|██████████| 2/2 [00:00<00:00, 30.95it/s]"
          ]
        },
        {
          "output_type": "stream",
          "name": "stdout",
          "text": [
            "                   all      0.811          1\n"
          ]
        },
        {
          "output_type": "stream",
          "name": "stderr",
          "text": [
            "\n"
          ]
        },
        {
          "output_type": "stream",
          "name": "stdout",
          "text": [
            "\n",
            "      Epoch    GPU_mem       loss  Instances       Size\n"
          ]
        },
        {
          "output_type": "stream",
          "name": "stderr",
          "text": [
            "      50/50      0.81G    0.06605         50        224: 100%|██████████| 11/11 [00:10<00:00,  1.04it/s]\n",
            "               classes   top1_acc   top5_acc: 100%|██████████| 2/2 [00:00<00:00, 10.54it/s]"
          ]
        },
        {
          "output_type": "stream",
          "name": "stdout",
          "text": [
            "                   all      0.811          1\n"
          ]
        },
        {
          "output_type": "stream",
          "name": "stderr",
          "text": [
            "\n"
          ]
        },
        {
          "output_type": "stream",
          "name": "stdout",
          "text": [
            "\n",
            "50 epochs completed in 0.185 hours.\n",
            "Optimizer stripped from runs/classify/train2/weights/last.pt, 3.0MB\n",
            "Optimizer stripped from runs/classify/train2/weights/best.pt, 3.0MB\n",
            "\n",
            "Validating runs/classify/train2/weights/best.pt...\n",
            "Ultralytics YOLOv8.2.101 🚀 Python-3.10.12 torch-2.4.1+cu121 CUDA:0 (Tesla T4, 15102MiB)\n",
            "YOLOv8n-cls summary (fused): 73 layers, 1,441,285 parameters, 0 gradients, 3.3 GFLOPs\n",
            "WARNING ⚠️ Dataset 'split=val' not found, using 'split=test' instead.\n",
            "\u001b[34m\u001b[1mtrain:\u001b[0m /content/drive/MyDrive/Colab/deep learning/dataset/dataMerge/train... found 690 images in 5 classes ✅ \n",
            "\u001b[34m\u001b[1mval:\u001b[0m None...\n",
            "\u001b[34m\u001b[1mtest:\u001b[0m /content/drive/MyDrive/Colab/deep learning/dataset/dataMerge/test... found 185 images in 5 classes ✅ \n"
          ]
        },
        {
          "output_type": "stream",
          "name": "stderr",
          "text": [
            "               classes   top1_acc   top5_acc: 100%|██████████| 2/2 [00:00<00:00, 21.42it/s]\n"
          ]
        },
        {
          "output_type": "stream",
          "name": "stdout",
          "text": [
            "                   all      0.827          1\n",
            "Speed: 0.1ms preprocess, 0.2ms inference, 0.0ms loss, 0.0ms postprocess per image\n",
            "Results saved to \u001b[1mruns/classify/train2\u001b[0m\n",
            "Results saved to \u001b[1mruns/classify/train2\u001b[0m\n"
          ]
        }
      ],
      "source": [
        "# Train the model\n",
        "results = modelyolov8n.train(data='/content/drive/MyDrive/Colab/deep learning/dataset/dataMerge', epochs=epochs, imgsz=imageSize, lr0 = learningRate, optimizer = 'Adam', batch =batch_size , freeze = 1, name ='train2')"
      ]
    },
    {
      "cell_type": "code",
      "execution_count": null,
      "metadata": {
        "id": "ZhsqKNLDg01B"
      },
      "outputs": [],
      "source": [
        "bestModelYoloN = YOLO('/content/runs/classify/train2/weights/best.pt')  # load a custom model"
      ]
    },
    {
      "cell_type": "code",
      "execution_count": null,
      "metadata": {
        "id": "SWriHwt-NXAk",
        "collapsed": true,
        "colab": {
          "base_uri": "https://localhost:8080/"
        },
        "outputId": "c84ab3ca-e9c3-486f-b96b-afe064975f08"
      },
      "outputs": [
        {
          "output_type": "stream",
          "name": "stdout",
          "text": [
            "\n",
            "image 1/37 /content/drive/MyDrive/Colab/deep learning/dataset/dataMerge/test/Acne/032839HB.jpg: 224x224 Eczemaa 0.96, Acne 0.03, Rosacea 0.01, Basal Cell Carcinoma 0.00, Actinic Keratosis 0.00, 3.4ms\n",
            "image 2/37 /content/drive/MyDrive/Colab/deep learning/dataset/dataMerge/test/Acne/032897HB.jpg: 224x224 Acne 0.47, Rosacea 0.42, Eczemaa 0.11, Actinic Keratosis 0.00, Basal Cell Carcinoma 0.00, 3.5ms\n",
            "image 3/37 /content/drive/MyDrive/Colab/deep learning/dataset/dataMerge/test/Acne/07AcnePittedScars1.jpg: 224x224 Acne 0.99, Actinic Keratosis 0.01, Basal Cell Carcinoma 0.00, Rosacea 0.00, Eczemaa 0.00, 3.1ms\n",
            "image 4/37 /content/drive/MyDrive/Colab/deep learning/dataset/dataMerge/test/Acne/acne-Closed-Comedo.jpg: 224x224 Actinic Keratosis 0.71, Acne 0.26, Rosacea 0.02, Basal Cell Carcinoma 0.01, Eczemaa 0.00, 2.9ms\n",
            "image 5/37 /content/drive/MyDrive/Colab/deep learning/dataset/dataMerge/test/Acne/acne-closed-comedo-8.jpg: 224x224 Acne 1.00, Actinic Keratosis 0.00, Basal Cell Carcinoma 0.00, Eczemaa 0.00, Rosacea 0.00, 3.1ms\n",
            "image 6/37 /content/drive/MyDrive/Colab/deep learning/dataset/dataMerge/test/Acne/acne-cystic-13.jpg: 224x224 Acne 1.00, Rosacea 0.00, Actinic Keratosis 0.00, Basal Cell Carcinoma 0.00, Eczemaa 0.00, 3.5ms\n",
            "image 7/37 /content/drive/MyDrive/Colab/deep learning/dataset/dataMerge/test/Acne/acne-excoriated-24.jpg: 224x224 Acne 1.00, Eczemaa 0.00, Rosacea 0.00, Actinic Keratosis 0.00, Basal Cell Carcinoma 0.00, 3.1ms\n",
            "image 8/37 /content/drive/MyDrive/Colab/deep learning/dataset/dataMerge/test/Acne/acne-excoriated-27.jpg: 224x224 Acne 1.00, Eczemaa 0.00, Actinic Keratosis 0.00, Rosacea 0.00, Basal Cell Carcinoma 0.00, 5.2ms\n",
            "image 9/37 /content/drive/MyDrive/Colab/deep learning/dataset/dataMerge/test/Acne/acne-infantile-1.jpg: 224x224 Acne 1.00, Actinic Keratosis 0.00, Rosacea 0.00, Eczemaa 0.00, Basal Cell Carcinoma 0.00, 2.8ms\n",
            "image 10/37 /content/drive/MyDrive/Colab/deep learning/dataset/dataMerge/test/Acne/acne-open-comedo-58.jpg: 224x224 Acne 1.00, Basal Cell Carcinoma 0.00, Actinic Keratosis 0.00, Eczemaa 0.00, Rosacea 0.00, 2.7ms\n",
            "image 11/37 /content/drive/MyDrive/Colab/deep learning/dataset/dataMerge/test/Acne/acne-open-comedo-59.jpg: 224x224 Acne 1.00, Rosacea 0.00, Eczemaa 0.00, Actinic Keratosis 0.00, Basal Cell Carcinoma 0.00, 4.9ms\n",
            "image 12/37 /content/drive/MyDrive/Colab/deep learning/dataset/dataMerge/test/Acne/acne-open-comedo-61.jpg: 224x224 Acne 0.99, Actinic Keratosis 0.01, Rosacea 0.00, Basal Cell Carcinoma 0.00, Eczemaa 0.00, 3.3ms\n",
            "image 13/37 /content/drive/MyDrive/Colab/deep learning/dataset/dataMerge/test/Acne/acne-open-comedo-62.jpg: 224x224 Acne 0.87, Basal Cell Carcinoma 0.12, Actinic Keratosis 0.01, Eczemaa 0.00, Rosacea 0.00, 2.8ms\n",
            "image 14/37 /content/drive/MyDrive/Colab/deep learning/dataset/dataMerge/test/Acne/acne-open-comedo-63.jpg: 224x224 Acne 1.00, Actinic Keratosis 0.00, Basal Cell Carcinoma 0.00, Eczemaa 0.00, Rosacea 0.00, 2.9ms\n",
            "image 15/37 /content/drive/MyDrive/Colab/deep learning/dataset/dataMerge/test/Acne/acne-open-comedo-64.jpg: 224x224 Acne 1.00, Rosacea 0.00, Eczemaa 0.00, Actinic Keratosis 0.00, Basal Cell Carcinoma 0.00, 3.0ms\n",
            "image 16/37 /content/drive/MyDrive/Colab/deep learning/dataset/dataMerge/test/Acne/acne-open-comedo-65.jpg: 224x224 Actinic Keratosis 0.67, Acne 0.32, Rosacea 0.01, Basal Cell Carcinoma 0.00, Eczemaa 0.00, 3.1ms\n",
            "image 17/37 /content/drive/MyDrive/Colab/deep learning/dataset/dataMerge/test/Acne/acne-open-comedo-66.jpg: 224x224 Acne 0.56, Eczemaa 0.34, Basal Cell Carcinoma 0.11, Actinic Keratosis 0.00, Rosacea 0.00, 4.2ms\n",
            "image 18/37 /content/drive/MyDrive/Colab/deep learning/dataset/dataMerge/test/Acne/acne-open-comedo-68.jpg: 224x224 Acne 0.98, Actinic Keratosis 0.01, Eczemaa 0.01, Rosacea 0.00, Basal Cell Carcinoma 0.00, 4.6ms\n",
            "image 19/37 /content/drive/MyDrive/Colab/deep learning/dataset/dataMerge/test/Acne/acne-open-comedo-73.jpg: 224x224 Rosacea 0.80, Basal Cell Carcinoma 0.18, Eczemaa 0.01, Actinic Keratosis 0.01, Acne 0.00, 4.6ms\n",
            "image 20/37 /content/drive/MyDrive/Colab/deep learning/dataset/dataMerge/test/Acne/acne-pustular-10.jpg: 224x224 Acne 1.00, Rosacea 0.00, Eczemaa 0.00, Actinic Keratosis 0.00, Basal Cell Carcinoma 0.00, 5.5ms\n",
            "image 21/37 /content/drive/MyDrive/Colab/deep learning/dataset/dataMerge/test/Acne/acne-pustular-12.jpg: 224x224 Acne 0.95, Rosacea 0.05, Actinic Keratosis 0.00, Eczemaa 0.00, Basal Cell Carcinoma 0.00, 5.0ms\n",
            "image 22/37 /content/drive/MyDrive/Colab/deep learning/dataset/dataMerge/test/Acne/acne-pustular-13.jpg: 224x224 Acne 1.00, Rosacea 0.00, Actinic Keratosis 0.00, Eczemaa 0.00, Basal Cell Carcinoma 0.00, 5.0ms\n",
            "image 23/37 /content/drive/MyDrive/Colab/deep learning/dataset/dataMerge/test/Acne/acne-pustular-14.jpg: 224x224 Acne 1.00, Rosacea 0.00, Actinic Keratosis 0.00, Eczemaa 0.00, Basal Cell Carcinoma 0.00, 3.8ms\n",
            "image 24/37 /content/drive/MyDrive/Colab/deep learning/dataset/dataMerge/test/Acne/acne-pustular-15.jpg: 224x224 Acne 1.00, Rosacea 0.00, Actinic Keratosis 0.00, Eczemaa 0.00, Basal Cell Carcinoma 0.00, 4.3ms\n",
            "image 25/37 /content/drive/MyDrive/Colab/deep learning/dataset/dataMerge/test/Acne/acne-pustular-16.jpg: 224x224 Acne 1.00, Rosacea 0.00, Eczemaa 0.00, Actinic Keratosis 0.00, Basal Cell Carcinoma 0.00, 4.6ms\n",
            "image 26/37 /content/drive/MyDrive/Colab/deep learning/dataset/dataMerge/test/Acne/acne-pustular-17.jpg: 224x224 Acne 1.00, Rosacea 0.00, Eczemaa 0.00, Actinic Keratosis 0.00, Basal Cell Carcinoma 0.00, 4.1ms\n",
            "image 27/37 /content/drive/MyDrive/Colab/deep learning/dataset/dataMerge/test/Acne/acne-pustular-18.jpg: 224x224 Acne 0.95, Rosacea 0.03, Actinic Keratosis 0.02, Eczemaa 0.01, Basal Cell Carcinoma 0.00, 4.1ms\n",
            "image 28/37 /content/drive/MyDrive/Colab/deep learning/dataset/dataMerge/test/Acne/acne-pustular-21.jpg: 224x224 Acne 1.00, Rosacea 0.00, Eczemaa 0.00, Actinic Keratosis 0.00, Basal Cell Carcinoma 0.00, 4.1ms\n",
            "image 29/37 /content/drive/MyDrive/Colab/deep learning/dataset/dataMerge/test/Acne/acne-pustular-23.jpg: 224x224 Acne 1.00, Eczemaa 0.00, Rosacea 0.00, Actinic Keratosis 0.00, Basal Cell Carcinoma 0.00, 4.0ms\n",
            "image 30/37 /content/drive/MyDrive/Colab/deep learning/dataset/dataMerge/test/Acne/acne-pustular-24.jpg: 224x224 Acne 1.00, Rosacea 0.00, Eczemaa 0.00, Actinic Keratosis 0.00, Basal Cell Carcinoma 0.00, 4.4ms\n",
            "image 31/37 /content/drive/MyDrive/Colab/deep learning/dataset/dataMerge/test/Acne/acne-pustular-25.jpg: 224x224 Acne 1.00, Eczemaa 0.00, Rosacea 0.00, Actinic Keratosis 0.00, Basal Cell Carcinoma 0.00, 4.7ms\n",
            "image 32/37 /content/drive/MyDrive/Colab/deep learning/dataset/dataMerge/test/Acne/acne-pustular-27.jpg: 224x224 Acne 1.00, Rosacea 0.00, Actinic Keratosis 0.00, Eczemaa 0.00, Basal Cell Carcinoma 0.00, 3.0ms\n",
            "image 33/37 /content/drive/MyDrive/Colab/deep learning/dataset/dataMerge/test/Acne/acne-pustular-28.jpg: 224x224 Acne 1.00, Rosacea 0.00, Actinic Keratosis 0.00, Basal Cell Carcinoma 0.00, Eczemaa 0.00, 3.1ms\n",
            "image 34/37 /content/drive/MyDrive/Colab/deep learning/dataset/dataMerge/test/Acne/acne-pustular-29.jpg: 224x224 Acne 1.00, Rosacea 0.00, Actinic Keratosis 0.00, Eczemaa 0.00, Basal Cell Carcinoma 0.00, 3.3ms\n",
            "image 35/37 /content/drive/MyDrive/Colab/deep learning/dataset/dataMerge/test/Acne/acne-pustular-30.jpg: 224x224 Acne 1.00, Rosacea 0.00, Eczemaa 0.00, Actinic Keratosis 0.00, Basal Cell Carcinoma 0.00, 3.0ms\n",
            "image 36/37 /content/drive/MyDrive/Colab/deep learning/dataset/dataMerge/test/Acne/acne-pustular-31.jpg: 224x224 Acne 1.00, Rosacea 0.00, Eczemaa 0.00, Actinic Keratosis 0.00, Basal Cell Carcinoma 0.00, 2.9ms\n",
            "image 37/37 /content/drive/MyDrive/Colab/deep learning/dataset/dataMerge/test/Acne/acne-pustular-43.jpg: 224x224 Acne 1.00, Rosacea 0.00, Eczemaa 0.00, Actinic Keratosis 0.00, Basal Cell Carcinoma 0.00, 3.0ms\n",
            "Speed: 7.1ms preprocess, 3.7ms inference, 0.1ms postprocess per image at shape (1, 3, 224, 224)\n",
            "\n",
            "image 1/37 /content/drive/MyDrive/Colab/deep learning/dataset/dataMerge/test/Actinic Keratosis/actinic-keratosis-5FU-10.jpg: 224x224 Actinic Keratosis 0.99, Basal Cell Carcinoma 0.01, Acne 0.00, Eczemaa 0.00, Rosacea 0.00, 3.2ms\n",
            "image 2/37 /content/drive/MyDrive/Colab/deep learning/dataset/dataMerge/test/Actinic Keratosis/actinic-keratosis-5FU-15.jpg: 224x224 Actinic Keratosis 0.97, Eczemaa 0.02, Basal Cell Carcinoma 0.00, Rosacea 0.00, Acne 0.00, 3.1ms\n",
            "image 3/37 /content/drive/MyDrive/Colab/deep learning/dataset/dataMerge/test/Actinic Keratosis/actinic-keratosis-5FU-25.jpg: 224x224 Actinic Keratosis 0.95, Rosacea 0.05, Basal Cell Carcinoma 0.00, Eczemaa 0.00, Acne 0.00, 3.1ms\n",
            "image 4/37 /content/drive/MyDrive/Colab/deep learning/dataset/dataMerge/test/Actinic Keratosis/actinic-keratosis-5FU-26.jpg: 224x224 Actinic Keratosis 0.92, Rosacea 0.07, Basal Cell Carcinoma 0.00, Eczemaa 0.00, Acne 0.00, 3.0ms\n",
            "image 5/37 /content/drive/MyDrive/Colab/deep learning/dataset/dataMerge/test/Actinic Keratosis/actinic-keratosis-5FU-32.jpg: 224x224 Actinic Keratosis 1.00, Acne 0.00, Rosacea 0.00, Eczemaa 0.00, Basal Cell Carcinoma 0.00, 2.9ms\n",
            "image 6/37 /content/drive/MyDrive/Colab/deep learning/dataset/dataMerge/test/Actinic Keratosis/actinic-keratosis-5FU-35.jpg: 224x224 Actinic Keratosis 1.00, Basal Cell Carcinoma 0.00, Rosacea 0.00, Eczemaa 0.00, Acne 0.00, 3.0ms\n",
            "image 7/37 /content/drive/MyDrive/Colab/deep learning/dataset/dataMerge/test/Actinic Keratosis/actinic-keratosis-5FU-65.jpg: 224x224 Acne 0.89, Actinic Keratosis 0.10, Eczemaa 0.00, Basal Cell Carcinoma 0.00, Rosacea 0.00, 2.8ms\n",
            "image 8/37 /content/drive/MyDrive/Colab/deep learning/dataset/dataMerge/test/Actinic Keratosis/actinic-keratosis-face-33.jpg: 224x224 Rosacea 0.95, Actinic Keratosis 0.03, Eczemaa 0.01, Basal Cell Carcinoma 0.00, Acne 0.00, 2.8ms\n",
            "image 9/37 /content/drive/MyDrive/Colab/deep learning/dataset/dataMerge/test/Actinic Keratosis/actinic-keratosis-face-35.jpg: 224x224 Actinic Keratosis 0.95, Rosacea 0.04, Basal Cell Carcinoma 0.01, Acne 0.00, Eczemaa 0.00, 2.9ms\n",
            "image 10/37 /content/drive/MyDrive/Colab/deep learning/dataset/dataMerge/test/Actinic Keratosis/actinic-keratosis-face-39.jpg: 224x224 Actinic Keratosis 0.97, Basal Cell Carcinoma 0.02, Eczemaa 0.00, Rosacea 0.00, Acne 0.00, 4.1ms\n",
            "image 11/37 /content/drive/MyDrive/Colab/deep learning/dataset/dataMerge/test/Actinic Keratosis/actinic-keratosis-face-43.jpg: 224x224 Actinic Keratosis 1.00, Rosacea 0.00, Basal Cell Carcinoma 0.00, Acne 0.00, Eczemaa 0.00, 8.5ms\n",
            "image 12/37 /content/drive/MyDrive/Colab/deep learning/dataset/dataMerge/test/Actinic Keratosis/actinic-keratosis-face-46.jpg: 224x224 Eczemaa 0.82, Basal Cell Carcinoma 0.16, Actinic Keratosis 0.02, Acne 0.00, Rosacea 0.00, 3.4ms\n",
            "image 13/37 /content/drive/MyDrive/Colab/deep learning/dataset/dataMerge/test/Actinic Keratosis/actinic-keratosis-face-48.jpg: 224x224 Actinic Keratosis 0.99, Rosacea 0.01, Eczemaa 0.00, Basal Cell Carcinoma 0.00, Acne 0.00, 3.2ms\n",
            "image 14/37 /content/drive/MyDrive/Colab/deep learning/dataset/dataMerge/test/Actinic Keratosis/actinic-keratosis-face-49.jpg: 224x224 Actinic Keratosis 0.75, Rosacea 0.24, Eczemaa 0.00, Acne 0.00, Basal Cell Carcinoma 0.00, 3.4ms\n",
            "image 15/37 /content/drive/MyDrive/Colab/deep learning/dataset/dataMerge/test/Actinic Keratosis/actinic-keratosis-face-50.jpg: 224x224 Rosacea 0.87, Actinic Keratosis 0.12, Acne 0.01, Basal Cell Carcinoma 0.00, Eczemaa 0.00, 2.8ms\n",
            "image 16/37 /content/drive/MyDrive/Colab/deep learning/dataset/dataMerge/test/Actinic Keratosis/actinic-keratosis-face-51.jpg: 224x224 Actinic Keratosis 1.00, Basal Cell Carcinoma 0.00, Rosacea 0.00, Acne 0.00, Eczemaa 0.00, 3.6ms\n",
            "image 17/37 /content/drive/MyDrive/Colab/deep learning/dataset/dataMerge/test/Actinic Keratosis/actinic-keratosis-face-56.jpg: 224x224 Actinic Keratosis 0.70, Rosacea 0.18, Acne 0.12, Eczemaa 0.00, Basal Cell Carcinoma 0.00, 2.8ms\n",
            "image 18/37 /content/drive/MyDrive/Colab/deep learning/dataset/dataMerge/test/Actinic Keratosis/actinic-keratosis-face-60.jpg: 224x224 Actinic Keratosis 1.00, Basal Cell Carcinoma 0.00, Acne 0.00, Eczemaa 0.00, Rosacea 0.00, 3.2ms\n",
            "image 19/37 /content/drive/MyDrive/Colab/deep learning/dataset/dataMerge/test/Actinic Keratosis/actinic-keratosis-face-9.jpg: 224x224 Actinic Keratosis 1.00, Basal Cell Carcinoma 0.00, Eczemaa 0.00, Rosacea 0.00, Acne 0.00, 5.8ms\n",
            "image 20/37 /content/drive/MyDrive/Colab/deep learning/dataset/dataMerge/test/Actinic Keratosis/actinic-keratosis-horn-1.jpg: 224x224 Actinic Keratosis 0.97, Basal Cell Carcinoma 0.02, Acne 0.00, Eczemaa 0.00, Rosacea 0.00, 3.6ms\n",
            "image 21/37 /content/drive/MyDrive/Colab/deep learning/dataset/dataMerge/test/Actinic Keratosis/actinic-keratosis-horn-23.jpg: 224x224 Actinic Keratosis 0.96, Rosacea 0.03, Basal Cell Carcinoma 0.01, Eczemaa 0.00, Acne 0.00, 3.9ms\n",
            "image 22/37 /content/drive/MyDrive/Colab/deep learning/dataset/dataMerge/test/Actinic Keratosis/actinic-keratosis-horn-24.jpg: 224x224 Actinic Keratosis 1.00, Basal Cell Carcinoma 0.00, Rosacea 0.00, Eczemaa 0.00, Acne 0.00, 4.1ms\n",
            "image 23/37 /content/drive/MyDrive/Colab/deep learning/dataset/dataMerge/test/Actinic Keratosis/actinic-keratosis-lesion-11.jpg: 224x224 Eczemaa 0.93, Actinic Keratosis 0.03, Basal Cell Carcinoma 0.03, Acne 0.02, Rosacea 0.00, 3.3ms\n",
            "image 24/37 /content/drive/MyDrive/Colab/deep learning/dataset/dataMerge/test/Actinic Keratosis/actinic-keratosis-lesion-22.jpg: 224x224 Actinic Keratosis 1.00, Eczemaa 0.00, Basal Cell Carcinoma 0.00, Rosacea 0.00, Acne 0.00, 3.2ms\n",
            "image 25/37 /content/drive/MyDrive/Colab/deep learning/dataset/dataMerge/test/Actinic Keratosis/actinic-keratosis-lesion-24.jpg: 224x224 Actinic Keratosis 0.69, Basal Cell Carcinoma 0.28, Eczemaa 0.02, Rosacea 0.00, Acne 0.00, 3.9ms\n",
            "image 26/37 /content/drive/MyDrive/Colab/deep learning/dataset/dataMerge/test/Actinic Keratosis/actinic-keratosis-lesion-31.jpg: 224x224 Actinic Keratosis 1.00, Basal Cell Carcinoma 0.00, Acne 0.00, Rosacea 0.00, Eczemaa 0.00, 3.0ms\n",
            "image 27/37 /content/drive/MyDrive/Colab/deep learning/dataset/dataMerge/test/Actinic Keratosis/actinic-keratosis-lesion-32.jpg: 224x224 Actinic Keratosis 0.98, Basal Cell Carcinoma 0.02, Acne 0.00, Eczemaa 0.00, Rosacea 0.00, 4.0ms\n",
            "image 28/37 /content/drive/MyDrive/Colab/deep learning/dataset/dataMerge/test/Actinic Keratosis/actinic-keratosis-lesion-34.jpg: 224x224 Actinic Keratosis 0.72, Basal Cell Carcinoma 0.27, Eczemaa 0.01, Rosacea 0.00, Acne 0.00, 4.0ms\n",
            "image 29/37 /content/drive/MyDrive/Colab/deep learning/dataset/dataMerge/test/Actinic Keratosis/actinic-keratosis-lesion-36.jpg: 224x224 Actinic Keratosis 1.00, Basal Cell Carcinoma 0.00, Rosacea 0.00, Eczemaa 0.00, Acne 0.00, 4.2ms\n",
            "image 30/37 /content/drive/MyDrive/Colab/deep learning/dataset/dataMerge/test/Actinic Keratosis/actinic-keratosis-lesion-39.jpg: 224x224 Actinic Keratosis 0.99, Basal Cell Carcinoma 0.01, Acne 0.00, Rosacea 0.00, Eczemaa 0.00, 4.1ms\n",
            "image 31/37 /content/drive/MyDrive/Colab/deep learning/dataset/dataMerge/test/Actinic Keratosis/actinic-keratosis-lesion-41.jpg: 224x224 Actinic Keratosis 1.00, Rosacea 0.00, Acne 0.00, Basal Cell Carcinoma 0.00, Eczemaa 0.00, 4.2ms\n",
            "image 32/37 /content/drive/MyDrive/Colab/deep learning/dataset/dataMerge/test/Actinic Keratosis/actinic-keratosis-lesion-48.jpg: 224x224 Actinic Keratosis 0.58, Basal Cell Carcinoma 0.42, Rosacea 0.00, Acne 0.00, Eczemaa 0.00, 4.1ms\n",
            "image 33/37 /content/drive/MyDrive/Colab/deep learning/dataset/dataMerge/test/Actinic Keratosis/actinic-keratosis-lesion-52.jpg: 224x224 Actinic Keratosis 0.98, Basal Cell Carcinoma 0.01, Acne 0.01, Eczemaa 0.00, Rosacea 0.00, 4.1ms\n",
            "image 34/37 /content/drive/MyDrive/Colab/deep learning/dataset/dataMerge/test/Actinic Keratosis/actinic-keratosis-lesion-56.jpg: 224x224 Actinic Keratosis 0.99, Basal Cell Carcinoma 0.01, Eczemaa 0.00, Acne 0.00, Rosacea 0.00, 4.3ms\n",
            "image 35/37 /content/drive/MyDrive/Colab/deep learning/dataset/dataMerge/test/Actinic Keratosis/actinic-keratosis-lesion-57.jpg: 224x224 Actinic Keratosis 0.96, Basal Cell Carcinoma 0.04, Acne 0.00, Eczemaa 0.00, Rosacea 0.00, 4.1ms\n",
            "image 36/37 /content/drive/MyDrive/Colab/deep learning/dataset/dataMerge/test/Actinic Keratosis/actinic-keratosis-nose-1.jpg: 224x224 Actinic Keratosis 0.81, Basal Cell Carcinoma 0.18, Eczemaa 0.01, Rosacea 0.00, Acne 0.00, 4.5ms\n",
            "image 37/37 /content/drive/MyDrive/Colab/deep learning/dataset/dataMerge/test/Actinic Keratosis/actinic-keratosis-nose-14.jpg: 224x224 Actinic Keratosis 0.72, Basal Cell Carcinoma 0.26, Rosacea 0.02, Eczemaa 0.00, Acne 0.00, 4.1ms\n",
            "Speed: 6.2ms preprocess, 3.7ms inference, 0.1ms postprocess per image at shape (1, 3, 224, 224)\n",
            "\n",
            "image 1/37 /content/drive/MyDrive/Colab/deep learning/dataset/dataMerge/test/Basal Cell Carcinoma/basal-cell-carcinoma-face-10.jpg: 224x224 Basal Cell Carcinoma 1.00, Actinic Keratosis 0.00, Eczemaa 0.00, Acne 0.00, Rosacea 0.00, 4.3ms\n",
            "image 2/37 /content/drive/MyDrive/Colab/deep learning/dataset/dataMerge/test/Basal Cell Carcinoma/basal-cell-carcinoma-face-11.jpg: 224x224 Basal Cell Carcinoma 1.00, Actinic Keratosis 0.00, Eczemaa 0.00, Acne 0.00, Rosacea 0.00, 4.3ms\n",
            "image 3/37 /content/drive/MyDrive/Colab/deep learning/dataset/dataMerge/test/Basal Cell Carcinoma/basal-cell-carcinoma-face-13.jpg: 224x224 Basal Cell Carcinoma 1.00, Actinic Keratosis 0.00, Acne 0.00, Eczemaa 0.00, Rosacea 0.00, 4.7ms\n",
            "image 4/37 /content/drive/MyDrive/Colab/deep learning/dataset/dataMerge/test/Basal Cell Carcinoma/basal-cell-carcinoma-face-22.jpg: 224x224 Basal Cell Carcinoma 1.00, Actinic Keratosis 0.00, Eczemaa 0.00, Rosacea 0.00, Acne 0.00, 2.9ms\n",
            "image 5/37 /content/drive/MyDrive/Colab/deep learning/dataset/dataMerge/test/Basal Cell Carcinoma/basal-cell-carcinoma-face-4.jpg: 224x224 Basal Cell Carcinoma 0.55, Actinic Keratosis 0.45, Acne 0.00, Eczemaa 0.00, Rosacea 0.00, 2.8ms\n",
            "image 6/37 /content/drive/MyDrive/Colab/deep learning/dataset/dataMerge/test/Basal Cell Carcinoma/basal-cell-carcinoma-face-9.jpg: 224x224 Basal Cell Carcinoma 1.00, Actinic Keratosis 0.00, Acne 0.00, Eczemaa 0.00, Rosacea 0.00, 3.1ms\n",
            "image 7/37 /content/drive/MyDrive/Colab/deep learning/dataset/dataMerge/test/Basal Cell Carcinoma/basal-cell-carcinoma-lesion-92.jpg: 224x224 Basal Cell Carcinoma 0.86, Eczemaa 0.13, Actinic Keratosis 0.01, Rosacea 0.00, Acne 0.00, 3.0ms\n",
            "image 8/37 /content/drive/MyDrive/Colab/deep learning/dataset/dataMerge/test/Basal Cell Carcinoma/basal-cell-carcinoma-lid-11.jpg: 224x224 Basal Cell Carcinoma 1.00, Eczemaa 0.00, Actinic Keratosis 0.00, Rosacea 0.00, Acne 0.00, 3.2ms\n",
            "image 9/37 /content/drive/MyDrive/Colab/deep learning/dataset/dataMerge/test/Basal Cell Carcinoma/basal-cell-carcinoma-lid-16.jpg: 224x224 Basal Cell Carcinoma 0.78, Eczemaa 0.22, Acne 0.00, Rosacea 0.00, Actinic Keratosis 0.00, 3.0ms\n",
            "image 10/37 /content/drive/MyDrive/Colab/deep learning/dataset/dataMerge/test/Basal Cell Carcinoma/basal-cell-carcinoma-lid-17.jpg: 224x224 Basal Cell Carcinoma 0.78, Eczemaa 0.22, Acne 0.00, Rosacea 0.00, Actinic Keratosis 0.00, 3.4ms\n",
            "image 11/37 /content/drive/MyDrive/Colab/deep learning/dataset/dataMerge/test/Basal Cell Carcinoma/basal-cell-carcinoma-lid-18.jpg: 224x224 Basal Cell Carcinoma 0.96, Actinic Keratosis 0.03, Eczemaa 0.00, Acne 0.00, Rosacea 0.00, 3.1ms\n",
            "image 12/37 /content/drive/MyDrive/Colab/deep learning/dataset/dataMerge/test/Basal Cell Carcinoma/basal-cell-carcinoma-lid-22.jpg: 224x224 Basal Cell Carcinoma 0.97, Actinic Keratosis 0.03, Eczemaa 0.00, Acne 0.00, Rosacea 0.00, 3.1ms\n",
            "image 13/37 /content/drive/MyDrive/Colab/deep learning/dataset/dataMerge/test/Basal Cell Carcinoma/basal-cell-carcinoma-lid-23.jpg: 224x224 Basal Cell Carcinoma 0.72, Actinic Keratosis 0.28, Rosacea 0.00, Acne 0.00, Eczemaa 0.00, 3.0ms\n",
            "image 14/37 /content/drive/MyDrive/Colab/deep learning/dataset/dataMerge/test/Basal Cell Carcinoma/basal-cell-carcinoma-lid-24.jpg: 224x224 Actinic Keratosis 0.97, Basal Cell Carcinoma 0.02, Eczemaa 0.01, Acne 0.00, Rosacea 0.00, 3.4ms\n",
            "image 15/37 /content/drive/MyDrive/Colab/deep learning/dataset/dataMerge/test/Basal Cell Carcinoma/basal-cell-carcinoma-lid-25.jpg: 224x224 Actinic Keratosis 1.00, Basal Cell Carcinoma 0.00, Eczemaa 0.00, Rosacea 0.00, Acne 0.00, 3.0ms\n",
            "image 16/37 /content/drive/MyDrive/Colab/deep learning/dataset/dataMerge/test/Basal Cell Carcinoma/basal-cell-carcinoma-lid-26.jpg: 224x224 Actinic Keratosis 0.88, Eczemaa 0.12, Basal Cell Carcinoma 0.00, Rosacea 0.00, Acne 0.00, 3.0ms\n",
            "image 17/37 /content/drive/MyDrive/Colab/deep learning/dataset/dataMerge/test/Basal Cell Carcinoma/basal-cell-carcinoma-lid-31.jpg: 224x224 Basal Cell Carcinoma 0.99, Actinic Keratosis 0.01, Eczemaa 0.00, Acne 0.00, Rosacea 0.00, 4.7ms\n",
            "image 18/37 /content/drive/MyDrive/Colab/deep learning/dataset/dataMerge/test/Basal Cell Carcinoma/basal-cell-carcinoma-lid-4.jpg: 224x224 Eczemaa 0.60, Actinic Keratosis 0.38, Basal Cell Carcinoma 0.02, Acne 0.00, Rosacea 0.00, 3.4ms\n",
            "image 19/37 /content/drive/MyDrive/Colab/deep learning/dataset/dataMerge/test/Basal Cell Carcinoma/basal-cell-carcinoma-lid-6.jpg: 224x224 Basal Cell Carcinoma 0.98, Eczemaa 0.01, Actinic Keratosis 0.00, Rosacea 0.00, Acne 0.00, 3.0ms\n",
            "image 20/37 /content/drive/MyDrive/Colab/deep learning/dataset/dataMerge/test/Basal Cell Carcinoma/basal-cell-carcinoma-lid-8.jpg: 224x224 Basal Cell Carcinoma 0.99, Eczemaa 0.01, Actinic Keratosis 0.00, Rosacea 0.00, Acne 0.00, 2.9ms\n",
            "image 21/37 /content/drive/MyDrive/Colab/deep learning/dataset/dataMerge/test/Basal Cell Carcinoma/basal-cell-carcinoma-lip-14.jpg: 224x224 Basal Cell Carcinoma 1.00, Actinic Keratosis 0.00, Eczemaa 0.00, Acne 0.00, Rosacea 0.00, 3.0ms\n",
            "image 22/37 /content/drive/MyDrive/Colab/deep learning/dataset/dataMerge/test/Basal Cell Carcinoma/basal-cell-carcinoma-lip-26.jpg: 224x224 Basal Cell Carcinoma 1.00, Actinic Keratosis 0.00, Acne 0.00, Eczemaa 0.00, Rosacea 0.00, 3.0ms\n",
            "image 23/37 /content/drive/MyDrive/Colab/deep learning/dataset/dataMerge/test/Basal Cell Carcinoma/basal-cell-carcinoma-lip-27.jpg: 224x224 Eczemaa 0.77, Acne 0.20, Basal Cell Carcinoma 0.04, Rosacea 0.00, Actinic Keratosis 0.00, 2.9ms\n",
            "image 24/37 /content/drive/MyDrive/Colab/deep learning/dataset/dataMerge/test/Basal Cell Carcinoma/basal-cell-carcinoma-lip-30.jpg: 224x224 Actinic Keratosis 0.78, Basal Cell Carcinoma 0.13, Rosacea 0.05, Eczemaa 0.03, Acne 0.01, 2.9ms\n",
            "image 25/37 /content/drive/MyDrive/Colab/deep learning/dataset/dataMerge/test/Basal Cell Carcinoma/basal-cell-carcinoma-lip-31.jpg: 224x224 Basal Cell Carcinoma 0.57, Acne 0.34, Actinic Keratosis 0.09, Rosacea 0.00, Eczemaa 0.00, 2.9ms\n",
            "image 26/37 /content/drive/MyDrive/Colab/deep learning/dataset/dataMerge/test/Basal Cell Carcinoma/basal-cell-carcinoma-lip-32.jpg: 224x224 Actinic Keratosis 0.88, Basal Cell Carcinoma 0.12, Acne 0.00, Eczemaa 0.00, Rosacea 0.00, 3.0ms\n",
            "image 27/37 /content/drive/MyDrive/Colab/deep learning/dataset/dataMerge/test/Basal Cell Carcinoma/basal-cell-carcinoma-lip-34.jpg: 224x224 Basal Cell Carcinoma 0.52, Actinic Keratosis 0.48, Rosacea 0.00, Acne 0.00, Eczemaa 0.00, 2.8ms\n",
            "image 28/37 /content/drive/MyDrive/Colab/deep learning/dataset/dataMerge/test/Basal Cell Carcinoma/basal-cell-carcinoma-lip-5.jpg: 224x224 Basal Cell Carcinoma 1.00, Actinic Keratosis 0.00, Eczemaa 0.00, Acne 0.00, Rosacea 0.00, 4.8ms\n",
            "image 29/37 /content/drive/MyDrive/Colab/deep learning/dataset/dataMerge/test/Basal Cell Carcinoma/basal-cell-carcinoma-nose-1.jpg: 224x224 Basal Cell Carcinoma 0.99, Eczemaa 0.01, Actinic Keratosis 0.00, Acne 0.00, Rosacea 0.00, 4.5ms\n",
            "image 30/37 /content/drive/MyDrive/Colab/deep learning/dataset/dataMerge/test/Basal Cell Carcinoma/basal-cell-carcinoma-nose-21.jpg: 224x224 Basal Cell Carcinoma 0.64, Rosacea 0.34, Actinic Keratosis 0.02, Eczemaa 0.00, Acne 0.00, 2.9ms\n",
            "image 31/37 /content/drive/MyDrive/Colab/deep learning/dataset/dataMerge/test/Basal Cell Carcinoma/basal-cell-carcinoma-nose-38.jpg: 224x224 Rosacea 0.97, Eczemaa 0.03, Basal Cell Carcinoma 0.01, Actinic Keratosis 0.00, Acne 0.00, 3.0ms\n",
            "image 32/37 /content/drive/MyDrive/Colab/deep learning/dataset/dataMerge/test/Basal Cell Carcinoma/basal-cell-carcinoma-nose-44.jpg: 224x224 Eczemaa 0.69, Acne 0.19, Basal Cell Carcinoma 0.12, Rosacea 0.00, Actinic Keratosis 0.00, 3.1ms\n",
            "image 33/37 /content/drive/MyDrive/Colab/deep learning/dataset/dataMerge/test/Basal Cell Carcinoma/basal-cell-carcinoma-nose-70.jpg: 224x224 Actinic Keratosis 0.67, Basal Cell Carcinoma 0.32, Eczemaa 0.01, Rosacea 0.00, Acne 0.00, 3.2ms\n",
            "image 34/37 /content/drive/MyDrive/Colab/deep learning/dataset/dataMerge/test/Basal Cell Carcinoma/basal-cell-carcinoma-nose-71.jpg: 224x224 Basal Cell Carcinoma 1.00, Actinic Keratosis 0.00, Eczemaa 0.00, Rosacea 0.00, Acne 0.00, 3.1ms\n",
            "image 35/37 /content/drive/MyDrive/Colab/deep learning/dataset/dataMerge/test/Basal Cell Carcinoma/basal-cell-carcinoma-nose-72.jpg: 224x224 Basal Cell Carcinoma 0.82, Actinic Keratosis 0.18, Eczemaa 0.00, Rosacea 0.00, Acne 0.00, 4.3ms\n",
            "image 36/37 /content/drive/MyDrive/Colab/deep learning/dataset/dataMerge/test/Basal Cell Carcinoma/basal-cell-carcinoma-nose-73.jpg: 224x224 Actinic Keratosis 0.64, Basal Cell Carcinoma 0.36, Rosacea 0.00, Acne 0.00, Eczemaa 0.00, 4.0ms\n",
            "image 37/37 /content/drive/MyDrive/Colab/deep learning/dataset/dataMerge/test/Basal Cell Carcinoma/basal-cell-carcinoma-nose-74.jpg: 224x224 Basal Cell Carcinoma 1.00, Acne 0.00, Eczemaa 0.00, Rosacea 0.00, Actinic Keratosis 0.00, 4.3ms\n",
            "Speed: 5.9ms preprocess, 3.4ms inference, 0.1ms postprocess per image at shape (1, 3, 224, 224)\n",
            "\n",
            "image 1/37 /content/drive/MyDrive/Colab/deep learning/dataset/dataMerge/test/Eczemaa/eczem49.jpg: 224x224 Eczemaa 1.00, Acne 0.00, Basal Cell Carcinoma 0.00, Rosacea 0.00, Actinic Keratosis 0.00, 4.0ms\n",
            "image 2/37 /content/drive/MyDrive/Colab/deep learning/dataset/dataMerge/test/Eczemaa/eczema-acute-20.jpg: 224x224 Rosacea 0.88, Eczemaa 0.11, Basal Cell Carcinoma 0.01, Acne 0.01, Actinic Keratosis 0.00, 4.5ms\n",
            "image 3/37 /content/drive/MyDrive/Colab/deep learning/dataset/dataMerge/test/Eczemaa/eczema-acute-22.jpg: 224x224 Eczemaa 0.75, Rosacea 0.25, Actinic Keratosis 0.00, Basal Cell Carcinoma 0.00, Acne 0.00, 4.0ms\n",
            "image 4/37 /content/drive/MyDrive/Colab/deep learning/dataset/dataMerge/test/Eczemaa/eczema-chronic-14.jpg: 224x224 Eczemaa 0.89, Rosacea 0.10, Acne 0.00, Actinic Keratosis 0.00, Basal Cell Carcinoma 0.00, 4.3ms\n",
            "image 5/37 /content/drive/MyDrive/Colab/deep learning/dataset/dataMerge/test/Eczemaa/eczema-chronic-47.jpg: 224x224 Eczemaa 0.98, Basal Cell Carcinoma 0.02, Actinic Keratosis 0.01, Acne 0.00, Rosacea 0.00, 4.6ms\n",
            "image 6/37 /content/drive/MyDrive/Colab/deep learning/dataset/dataMerge/test/Eczemaa/eczema-ears-6.jpg: 224x224 Eczemaa 0.91, Actinic Keratosis 0.07, Basal Cell Carcinoma 0.03, Acne 0.00, Rosacea 0.00, 3.9ms\n",
            "image 7/37 /content/drive/MyDrive/Colab/deep learning/dataset/dataMerge/test/Eczemaa/eczema-face-1.jpg: 224x224 Eczemaa 1.00, Acne 0.00, Basal Cell Carcinoma 0.00, Rosacea 0.00, Actinic Keratosis 0.00, 4.1ms\n",
            "image 8/37 /content/drive/MyDrive/Colab/deep learning/dataset/dataMerge/test/Eczemaa/eczema-face-11.jpg: 224x224 Eczemaa 0.95, Actinic Keratosis 0.03, Rosacea 0.02, Basal Cell Carcinoma 0.00, Acne 0.00, 4.4ms\n",
            "image 9/37 /content/drive/MyDrive/Colab/deep learning/dataset/dataMerge/test/Eczemaa/eczema-lids-14.jpg: 224x224 Eczemaa 0.99, Rosacea 0.01, Actinic Keratosis 0.00, Basal Cell Carcinoma 0.00, Acne 0.00, 4.8ms\n",
            "image 10/37 /content/drive/MyDrive/Colab/deep learning/dataset/dataMerge/test/Eczemaa/eczema-lids-9.jpg: 224x224 Eczemaa 1.00, Basal Cell Carcinoma 0.00, Actinic Keratosis 0.00, Rosacea 0.00, Acne 0.00, 4.2ms\n",
            "image 11/37 /content/drive/MyDrive/Colab/deep learning/dataset/dataMerge/test/Eczemaa/eczema.14.jpg: 224x224 Eczemaa 1.00, Acne 0.00, Rosacea 0.00, Basal Cell Carcinoma 0.00, Actinic Keratosis 0.00, 3.1ms\n",
            "image 12/37 /content/drive/MyDrive/Colab/deep learning/dataset/dataMerge/test/Eczemaa/eczema.20.jpg: 224x224 Eczemaa 1.00, Acne 0.00, Rosacea 0.00, Basal Cell Carcinoma 0.00, Actinic Keratosis 0.00, 3.1ms\n",
            "image 13/37 /content/drive/MyDrive/Colab/deep learning/dataset/dataMerge/test/Eczemaa/eczema.21.jpg: 224x224 Eczemaa 0.94, Acne 0.04, Rosacea 0.01, Actinic Keratosis 0.00, Basal Cell Carcinoma 0.00, 2.9ms\n",
            "image 14/37 /content/drive/MyDrive/Colab/deep learning/dataset/dataMerge/test/Eczemaa/eczema.25.jpg: 224x224 Eczemaa 1.00, Rosacea 0.00, Basal Cell Carcinoma 0.00, Actinic Keratosis 0.00, Acne 0.00, 2.8ms\n",
            "image 15/37 /content/drive/MyDrive/Colab/deep learning/dataset/dataMerge/test/Eczemaa/eczema.5.jpg: 224x224 Eczemaa 0.94, Rosacea 0.06, Acne 0.00, Actinic Keratosis 0.00, Basal Cell Carcinoma 0.00, 3.0ms\n",
            "image 16/37 /content/drive/MyDrive/Colab/deep learning/dataset/dataMerge/test/Eczemaa/eczema.8.jpg: 224x224 Eczemaa 0.98, Acne 0.01, Rosacea 0.01, Actinic Keratosis 0.00, Basal Cell Carcinoma 0.00, 2.9ms\n",
            "image 17/37 /content/drive/MyDrive/Colab/deep learning/dataset/dataMerge/test/Eczemaa/eczema.jpg: 224x224 Eczemaa 0.99, Actinic Keratosis 0.01, Rosacea 0.00, Acne 0.00, Basal Cell Carcinoma 0.00, 3.4ms\n",
            "image 18/37 /content/drive/MyDrive/Colab/deep learning/dataset/dataMerge/test/Eczemaa/eczema130.jpg: 224x224 Eczemaa 1.00, Acne 0.00, Rosacea 0.00, Basal Cell Carcinoma 0.00, Actinic Keratosis 0.00, 2.9ms\n",
            "image 19/37 /content/drive/MyDrive/Colab/deep learning/dataset/dataMerge/test/Eczemaa/eczema134.jpg: 224x224 Actinic Keratosis 0.51, Eczemaa 0.49, Basal Cell Carcinoma 0.00, Rosacea 0.00, Acne 0.00, 5.1ms\n",
            "image 20/37 /content/drive/MyDrive/Colab/deep learning/dataset/dataMerge/test/Eczemaa/eczema135.jpg: 224x224 Eczemaa 1.00, Acne 0.00, Rosacea 0.00, Basal Cell Carcinoma 0.00, Actinic Keratosis 0.00, 3.1ms\n",
            "image 21/37 /content/drive/MyDrive/Colab/deep learning/dataset/dataMerge/test/Eczemaa/eczema136.jpg: 224x224 Eczemaa 0.50, Rosacea 0.49, Actinic Keratosis 0.01, Acne 0.00, Basal Cell Carcinoma 0.00, 3.3ms\n",
            "image 22/37 /content/drive/MyDrive/Colab/deep learning/dataset/dataMerge/test/Eczemaa/eczema142.jpg: 224x224 Eczemaa 1.00, Acne 0.00, Basal Cell Carcinoma 0.00, Rosacea 0.00, Actinic Keratosis 0.00, 3.3ms\n",
            "image 23/37 /content/drive/MyDrive/Colab/deep learning/dataset/dataMerge/test/Eczemaa/eczema144.jpg: 224x224 Eczemaa 1.00, Basal Cell Carcinoma 0.00, Rosacea 0.00, Actinic Keratosis 0.00, Acne 0.00, 2.9ms\n",
            "image 24/37 /content/drive/MyDrive/Colab/deep learning/dataset/dataMerge/test/Eczemaa/eczema147.jpg: 224x224 Eczemaa 0.99, Rosacea 0.01, Acne 0.00, Basal Cell Carcinoma 0.00, Actinic Keratosis 0.00, 4.6ms\n",
            "image 25/37 /content/drive/MyDrive/Colab/deep learning/dataset/dataMerge/test/Eczemaa/eczema148.jpg: 224x224 Rosacea 0.62, Eczemaa 0.35, Actinic Keratosis 0.03, Acne 0.00, Basal Cell Carcinoma 0.00, 3.0ms\n",
            "image 26/37 /content/drive/MyDrive/Colab/deep learning/dataset/dataMerge/test/Eczemaa/eczema149.jpg: 224x224 Eczemaa 1.00, Acne 0.00, Basal Cell Carcinoma 0.00, Rosacea 0.00, Actinic Keratosis 0.00, 3.3ms\n",
            "image 27/37 /content/drive/MyDrive/Colab/deep learning/dataset/dataMerge/test/Eczemaa/eczema155.png: 224x224 Eczemaa 1.00, Acne 0.00, Basal Cell Carcinoma 0.00, Rosacea 0.00, Actinic Keratosis 0.00, 3.0ms\n",
            "image 28/37 /content/drive/MyDrive/Colab/deep learning/dataset/dataMerge/test/Eczemaa/eczema23.jpg: 224x224 Eczemaa 1.00, Rosacea 0.00, Acne 0.00, Actinic Keratosis 0.00, Basal Cell Carcinoma 0.00, 3.0ms\n",
            "image 29/37 /content/drive/MyDrive/Colab/deep learning/dataset/dataMerge/test/Eczemaa/eczema28..jpg: 224x224 Eczemaa 1.00, Acne 0.00, Actinic Keratosis 0.00, Basal Cell Carcinoma 0.00, Rosacea 0.00, 2.8ms\n",
            "image 30/37 /content/drive/MyDrive/Colab/deep learning/dataset/dataMerge/test/Eczemaa/eczema31.jpg: 224x224 Eczemaa 0.91, Rosacea 0.09, Actinic Keratosis 0.00, Acne 0.00, Basal Cell Carcinoma 0.00, 2.9ms\n",
            "image 31/37 /content/drive/MyDrive/Colab/deep learning/dataset/dataMerge/test/Eczemaa/eczema43.jpg: 224x224 Rosacea 0.99, Actinic Keratosis 0.00, Eczemaa 0.00, Acne 0.00, Basal Cell Carcinoma 0.00, 3.2ms\n",
            "image 32/37 /content/drive/MyDrive/Colab/deep learning/dataset/dataMerge/test/Eczemaa/eczema48.jpeg: 224x224 Acne 1.00, Eczemaa 0.00, Basal Cell Carcinoma 0.00, Actinic Keratosis 0.00, Rosacea 0.00, 3.2ms\n",
            "image 33/37 /content/drive/MyDrive/Colab/deep learning/dataset/dataMerge/test/Eczemaa/eczema52.jpg: 224x224 Actinic Keratosis 0.35, Eczemaa 0.30, Rosacea 0.19, Acne 0.08, Basal Cell Carcinoma 0.07, 5.7ms\n",
            "image 34/37 /content/drive/MyDrive/Colab/deep learning/dataset/dataMerge/test/Eczemaa/eczema53.jpg: 224x224 Eczemaa 0.50, Acne 0.47, Rosacea 0.03, Actinic Keratosis 0.00, Basal Cell Carcinoma 0.00, 2.9ms\n",
            "image 35/37 /content/drive/MyDrive/Colab/deep learning/dataset/dataMerge/test/Eczemaa/eczema54.jpg: 224x224 Eczemaa 0.93, Rosacea 0.07, Acne 0.00, Basal Cell Carcinoma 0.00, Actinic Keratosis 0.00, 3.1ms\n",
            "image 36/37 /content/drive/MyDrive/Colab/deep learning/dataset/dataMerge/test/Eczemaa/eczema7.jpg: 224x224 Eczemaa 0.97, Acne 0.01, Rosacea 0.01, Basal Cell Carcinoma 0.01, Actinic Keratosis 0.00, 3.2ms\n",
            "image 37/37 /content/drive/MyDrive/Colab/deep learning/dataset/dataMerge/test/Eczemaa/eczema8.jpg: 224x224 Eczemaa 0.92, Basal Cell Carcinoma 0.08, Actinic Keratosis 0.00, Rosacea 0.00, Acne 0.00, 4.2ms\n",
            "Speed: 8.7ms preprocess, 3.6ms inference, 0.1ms postprocess per image at shape (1, 3, 224, 224)\n",
            "\n",
            "image 1/37 /content/drive/MyDrive/Colab/deep learning/dataset/dataMerge/test/Rosacea/rosacea-102.jpg: 224x224 Actinic Keratosis 0.69, Rosacea 0.31, Basal Cell Carcinoma 0.00, Eczemaa 0.00, Acne 0.00, 4.4ms\n",
            "image 2/37 /content/drive/MyDrive/Colab/deep learning/dataset/dataMerge/test/Rosacea/rosacea-111.jpg: 224x224 Rosacea 0.88, Basal Cell Carcinoma 0.12, Actinic Keratosis 0.00, Eczemaa 0.00, Acne 0.00, 6.7ms\n",
            "image 3/37 /content/drive/MyDrive/Colab/deep learning/dataset/dataMerge/test/Rosacea/rosacea-112.jpg: 224x224 Rosacea 0.75, Actinic Keratosis 0.19, Eczemaa 0.06, Basal Cell Carcinoma 0.00, Acne 0.00, 6.3ms\n",
            "image 4/37 /content/drive/MyDrive/Colab/deep learning/dataset/dataMerge/test/Rosacea/rosacea-113.jpg: 224x224 Rosacea 1.00, Actinic Keratosis 0.00, Eczemaa 0.00, Acne 0.00, Basal Cell Carcinoma 0.00, 5.4ms\n",
            "image 5/37 /content/drive/MyDrive/Colab/deep learning/dataset/dataMerge/test/Rosacea/rosacea-116.jpg: 224x224 Rosacea 1.00, Eczemaa 0.00, Actinic Keratosis 0.00, Basal Cell Carcinoma 0.00, Acne 0.00, 5.8ms\n",
            "image 6/37 /content/drive/MyDrive/Colab/deep learning/dataset/dataMerge/test/Rosacea/rosacea-117.jpg: 224x224 Rosacea 0.99, Acne 0.01, Actinic Keratosis 0.00, Eczemaa 0.00, Basal Cell Carcinoma 0.00, 7.7ms\n",
            "image 7/37 /content/drive/MyDrive/Colab/deep learning/dataset/dataMerge/test/Rosacea/rosacea-14.jpg: 224x224 Rosacea 1.00, Actinic Keratosis 0.00, Eczemaa 0.00, Acne 0.00, Basal Cell Carcinoma 0.00, 4.8ms\n",
            "image 8/37 /content/drive/MyDrive/Colab/deep learning/dataset/dataMerge/test/Rosacea/rosacea-16.jpg: 224x224 Rosacea 1.00, Acne 0.00, Actinic Keratosis 0.00, Eczemaa 0.00, Basal Cell Carcinoma 0.00, 4.9ms\n",
            "image 9/37 /content/drive/MyDrive/Colab/deep learning/dataset/dataMerge/test/Rosacea/rosacea-21.jpg: 224x224 Rosacea 0.97, Actinic Keratosis 0.03, Acne 0.00, Eczemaa 0.00, Basal Cell Carcinoma 0.00, 4.3ms\n",
            "image 10/37 /content/drive/MyDrive/Colab/deep learning/dataset/dataMerge/test/Rosacea/rosacea-26.jpg: 224x224 Rosacea 1.00, Eczemaa 0.00, Acne 0.00, Basal Cell Carcinoma 0.00, Actinic Keratosis 0.00, 4.4ms\n",
            "image 11/37 /content/drive/MyDrive/Colab/deep learning/dataset/dataMerge/test/Rosacea/rosacea-31.jpg: 224x224 Rosacea 0.98, Actinic Keratosis 0.02, Eczemaa 0.00, Basal Cell Carcinoma 0.00, Acne 0.00, 5.8ms\n",
            "image 12/37 /content/drive/MyDrive/Colab/deep learning/dataset/dataMerge/test/Rosacea/rosacea-33.jpg: 224x224 Rosacea 1.00, Acne 0.00, Eczemaa 0.00, Actinic Keratosis 0.00, Basal Cell Carcinoma 0.00, 5.1ms\n",
            "image 13/37 /content/drive/MyDrive/Colab/deep learning/dataset/dataMerge/test/Rosacea/rosacea-4.jpg: 224x224 Eczemaa 0.84, Acne 0.14, Rosacea 0.01, Basal Cell Carcinoma 0.00, Actinic Keratosis 0.00, 5.2ms\n",
            "image 14/37 /content/drive/MyDrive/Colab/deep learning/dataset/dataMerge/test/Rosacea/rosacea-40.jpg: 224x224 Rosacea 1.00, Eczemaa 0.00, Acne 0.00, Actinic Keratosis 0.00, Basal Cell Carcinoma 0.00, 4.3ms\n",
            "image 15/37 /content/drive/MyDrive/Colab/deep learning/dataset/dataMerge/test/Rosacea/rosacea-41.jpg: 224x224 Rosacea 0.98, Eczemaa 0.02, Actinic Keratosis 0.00, Acne 0.00, Basal Cell Carcinoma 0.00, 5.6ms\n",
            "image 16/37 /content/drive/MyDrive/Colab/deep learning/dataset/dataMerge/test/Rosacea/rosacea-44.jpg: 224x224 Rosacea 1.00, Eczemaa 0.00, Basal Cell Carcinoma 0.00, Acne 0.00, Actinic Keratosis 0.00, 4.0ms\n",
            "image 17/37 /content/drive/MyDrive/Colab/deep learning/dataset/dataMerge/test/Rosacea/rosacea-45.jpg: 224x224 Rosacea 0.73, Actinic Keratosis 0.19, Acne 0.07, Eczemaa 0.00, Basal Cell Carcinoma 0.00, 3.9ms\n",
            "image 18/37 /content/drive/MyDrive/Colab/deep learning/dataset/dataMerge/test/Rosacea/rosacea-49.jpg: 224x224 Rosacea 1.00, Acne 0.00, Actinic Keratosis 0.00, Eczemaa 0.00, Basal Cell Carcinoma 0.00, 3.9ms\n",
            "image 19/37 /content/drive/MyDrive/Colab/deep learning/dataset/dataMerge/test/Rosacea/rosacea-52.jpg: 224x224 Rosacea 0.53, Acne 0.41, Eczemaa 0.06, Basal Cell Carcinoma 0.00, Actinic Keratosis 0.00, 3.9ms\n",
            "image 20/37 /content/drive/MyDrive/Colab/deep learning/dataset/dataMerge/test/Rosacea/rosacea-54.jpg: 224x224 Rosacea 1.00, Eczemaa 0.00, Acne 0.00, Actinic Keratosis 0.00, Basal Cell Carcinoma 0.00, 4.0ms\n",
            "image 21/37 /content/drive/MyDrive/Colab/deep learning/dataset/dataMerge/test/Rosacea/rosacea-58.jpg: 224x224 Rosacea 1.00, Eczemaa 0.00, Actinic Keratosis 0.00, Acne 0.00, Basal Cell Carcinoma 0.00, 3.8ms\n",
            "image 22/37 /content/drive/MyDrive/Colab/deep learning/dataset/dataMerge/test/Rosacea/rosacea-60.jpg: 224x224 Rosacea 1.00, Eczemaa 0.00, Actinic Keratosis 0.00, Acne 0.00, Basal Cell Carcinoma 0.00, 5.3ms\n",
            "image 23/37 /content/drive/MyDrive/Colab/deep learning/dataset/dataMerge/test/Rosacea/rosacea-68.jpg: 224x224 Rosacea 1.00, Eczemaa 0.00, Actinic Keratosis 0.00, Basal Cell Carcinoma 0.00, Acne 0.00, 3.9ms\n",
            "image 24/37 /content/drive/MyDrive/Colab/deep learning/dataset/dataMerge/test/Rosacea/rosacea-71.jpg: 224x224 Rosacea 0.98, Actinic Keratosis 0.01, Basal Cell Carcinoma 0.00, Eczemaa 0.00, Acne 0.00, 3.8ms\n",
            "image 25/37 /content/drive/MyDrive/Colab/deep learning/dataset/dataMerge/test/Rosacea/rosacea-8.jpg: 224x224 Rosacea 1.00, Actinic Keratosis 0.00, Eczemaa 0.00, Acne 0.00, Basal Cell Carcinoma 0.00, 4.2ms\n",
            "image 26/37 /content/drive/MyDrive/Colab/deep learning/dataset/dataMerge/test/Rosacea/rosacea-81.jpg: 224x224 Rosacea 1.00, Acne 0.00, Eczemaa 0.00, Actinic Keratosis 0.00, Basal Cell Carcinoma 0.00, 3.6ms\n",
            "image 27/37 /content/drive/MyDrive/Colab/deep learning/dataset/dataMerge/test/Rosacea/rosacea-83.jpg: 224x224 Eczemaa 0.36, Actinic Keratosis 0.30, Acne 0.18, Basal Cell Carcinoma 0.12, Rosacea 0.05, 17.8ms\n",
            "image 28/37 /content/drive/MyDrive/Colab/deep learning/dataset/dataMerge/test/Rosacea/rosacea-86.jpg: 224x224 Actinic Keratosis 0.79, Eczemaa 0.17, Rosacea 0.04, Acne 0.01, Basal Cell Carcinoma 0.00, 3.8ms\n",
            "image 29/37 /content/drive/MyDrive/Colab/deep learning/dataset/dataMerge/test/Rosacea/rosacea-89.jpg: 224x224 Rosacea 1.00, Eczemaa 0.00, Acne 0.00, Actinic Keratosis 0.00, Basal Cell Carcinoma 0.00, 3.8ms\n",
            "image 30/37 /content/drive/MyDrive/Colab/deep learning/dataset/dataMerge/test/Rosacea/rosacea-90.jpg: 224x224 Acne 0.40, Eczemaa 0.29, Rosacea 0.17, Actinic Keratosis 0.10, Basal Cell Carcinoma 0.03, 3.9ms\n",
            "image 31/37 /content/drive/MyDrive/Colab/deep learning/dataset/dataMerge/test/Rosacea/rosacea-91.jpg: 224x224 Acne 0.50, Eczemaa 0.45, Basal Cell Carcinoma 0.03, Actinic Keratosis 0.01, Rosacea 0.00, 6.1ms\n",
            "image 32/37 /content/drive/MyDrive/Colab/deep learning/dataset/dataMerge/test/Rosacea/rosacea-94.jpg: 224x224 Rosacea 0.99, Actinic Keratosis 0.01, Eczemaa 0.00, Basal Cell Carcinoma 0.00, Acne 0.00, 4.6ms\n",
            "image 33/37 /content/drive/MyDrive/Colab/deep learning/dataset/dataMerge/test/Rosacea/rosacea-96.jpg: 224x224 Rosacea 1.00, Actinic Keratosis 0.00, Eczemaa 0.00, Acne 0.00, Basal Cell Carcinoma 0.00, 3.7ms\n",
            "image 34/37 /content/drive/MyDrive/Colab/deep learning/dataset/dataMerge/test/Rosacea/rosacea-99.jpg: 224x224 Rosacea 1.00, Eczemaa 0.00, Actinic Keratosis 0.00, Acne 0.00, Basal Cell Carcinoma 0.00, 4.3ms\n",
            "image 35/37 /content/drive/MyDrive/Colab/deep learning/dataset/dataMerge/test/Rosacea/rosacea-nose-10.jpg: 224x224 Rosacea 0.53, Basal Cell Carcinoma 0.47, Actinic Keratosis 0.00, Eczemaa 0.00, Acne 0.00, 4.2ms\n",
            "image 36/37 /content/drive/MyDrive/Colab/deep learning/dataset/dataMerge/test/Rosacea/rosacea-nose-11.jpg: 224x224 Rosacea 1.00, Eczemaa 0.00, Basal Cell Carcinoma 0.00, Actinic Keratosis 0.00, Acne 0.00, 3.9ms\n",
            "image 37/37 /content/drive/MyDrive/Colab/deep learning/dataset/dataMerge/test/Rosacea/rosacea-nose-5.jpg: 224x224 Rosacea 1.00, Basal Cell Carcinoma 0.00, Eczemaa 0.00, Acne 0.00, Actinic Keratosis 0.00, 3.7ms\n",
            "Speed: 8.7ms preprocess, 5.0ms inference, 0.1ms postprocess per image at shape (1, 3, 224, 224)\n",
            "Elapsed time is 4.720222 seconds.\n",
            "Total Prediction Time: 4.72 seconds\n"
          ]
        }
      ],
      "source": [
        "prediction_tests_yolov8N,total_inference_time_yolov8N_percobaan = evaluate_model_yolo(bestModelYoloN,path_class)"
      ]
    },
    {
      "cell_type": "code",
      "execution_count": null,
      "metadata": {
        "id": "0bZYMO-qg01D",
        "colab": {
          "base_uri": "https://localhost:8080/"
        },
        "outputId": "dc599d62-0573-4d98-af7f-b47103efc314"
      },
      "outputs": [
        {
          "output_type": "stream",
          "name": "stdout",
          "text": [
            "Akurasi untuk predictionTest0: 89.19%\n",
            "Akurasi untuk predictionTest1: 86.49%\n",
            "Akurasi untuk predictionTest2: 70.27%\n",
            "Akurasi untuk predictionTest3: 83.78%\n",
            "Akurasi untuk predictionTest4: 83.78%\n",
            "Akurasi keseluruhan model: 82.70%\n"
          ]
        }
      ],
      "source": [
        "total_correct_predictions = 0\n",
        "total_all_predictions = 0\n",
        "\n",
        "# Proses untuk setiap predictionTest\n",
        "for i, predictionTest in enumerate(prediction_tests_yolov8N):\n",
        "    correct_predictions = 0\n",
        "    true_label = i  # karena semua ground truth di predictionTesti adalah i\n",
        "\n",
        "    for result in predictionTest:\n",
        "        predicted_label = result.probs.top1  # asumsi bahwa probs.top1 adalah label prediksi teratas\n",
        "        if predicted_label == true_label:\n",
        "            correct_predictions += 1\n",
        "\n",
        "    # Jumlah total prediksi untuk setiap kelas\n",
        "    total_predictions = len(predictionTest)\n",
        "    total_all_predictions += total_predictions\n",
        "    total_correct_predictions += correct_predictions\n",
        "\n",
        "    # Akurasi untuk kelas ini\n",
        "    accuracy = (correct_predictions / total_predictions) * 100\n",
        "    print(f\"Akurasi untuk predictionTest{i}: {accuracy:.2f}%\")\n",
        "\n",
        "# Akurasi keseluruhan\n",
        "overall_accuracy_yolov8N = (total_correct_predictions / total_all_predictions) * 100\n",
        "\n",
        "print(f\"Akurasi keseluruhan model: {overall_accuracy_yolov8N:.2f}%\")\n",
        "# print(f\"Total waktu inferensi: {total_inference_time_yolov8S:.2f} detik\")"
      ]
    },
    {
      "cell_type": "code",
      "execution_count": null,
      "metadata": {
        "id": "3Q3hjnkk12su",
        "colab": {
          "base_uri": "https://localhost:8080/"
        },
        "outputId": "cfa7f4c2-28c9-436c-b292-eb583b2602f0"
      },
      "outputs": [
        {
          "output_type": "stream",
          "name": "stdout",
          "text": [
            "['MobileNetV2', 'MobileNetV3Small', 'MobileNetV3Large', 'EfficientNetB2', 'YOLOV8N-cls', 'YOLOV8S-cls']\n"
          ]
        }
      ],
      "source": [
        "# Membuat array string\n",
        "array_model = [\"MobileNetV2\", \"MobileNetV3Small\", \"MobileNetV3Large\", \"EfficientNetB2\" , \"YOLOV8N-cls\", \"YOLOV8S-cls\"]\n",
        "\n",
        "# Menampilkan array string\n",
        "print(array_model)"
      ]
    },
    {
      "cell_type": "code",
      "execution_count": null,
      "metadata": {
        "id": "NLIGBUKW19Wv"
      },
      "outputs": [],
      "source": [
        "best_accuracies = [mobileNetV2Result, mobileNetV3_smallResult, mobileNetV3_largeResult, efficientNet_b2Result, overall_accuracy_yolov8N, overall_accuracy_yolov8S]"
      ]
    },
    {
      "cell_type": "code",
      "source": [
        "best_accuracies"
      ],
      "metadata": {
        "id": "EXbyWXzY1gN8",
        "colab": {
          "base_uri": "https://localhost:8080/"
        },
        "outputId": "908d9b50-a145-428b-8bfa-116385bb9da4"
      },
      "execution_count": null,
      "outputs": [
        {
          "output_type": "execute_result",
          "data": {
            "text/plain": [
              "[80.0,\n",
              " 59.45945945945946,\n",
              " 64.86486486486487,\n",
              " 83.24324324324324,\n",
              " 82.70270270270271,\n",
              " 83.78378378378379]"
            ]
          },
          "metadata": {},
          "execution_count": 48
        }
      ]
    },
    {
      "cell_type": "code",
      "execution_count": null,
      "metadata": {
        "id": "azuMpqQs2cuZ"
      },
      "outputs": [],
      "source": [
        "import matplotlib.pyplot as plt\n",
        "\n",
        "def plot_model_inference_time(model_names, accuracies, inference_times ):\n",
        "    # Membuat scatter plot\n",
        "    plt.figure(figsize=(10, 5))\n",
        "    for i in range(len(model_names)):\n",
        "        plt.scatter(inference_times[i], accuracies[i], label=model_names[i])\n",
        "\n",
        "    # Menambahkan judul dan label\n",
        "    plt.title('Relationship Between Inference Time and Model Accuracy')\n",
        "    plt.xlabel('Inference Time (seconds)')\n",
        "    plt.ylabel('Accuracy (%)')\n",
        "\n",
        "    # Menambahkan legenda\n",
        "    plt.legend()\n",
        "\n",
        "    # Menampilkan grid\n",
        "    plt.grid(True)\n",
        "\n",
        "    # Menampilkan grafik\n",
        "    plt.show()"
      ]
    },
    {
      "cell_type": "code",
      "execution_count": null,
      "metadata": {
        "id": "fRNHawJb2eL4"
      },
      "outputs": [],
      "source": [
        "inference_times = [mobileNetV2_time, mobileNetV3_small_time, mobileNetV3_large_time, efficientNet_b2_time, total_inference_time_yolov8N_percobaan,  total_inference_time_yolov8S_percobaan]"
      ]
    },
    {
      "cell_type": "code",
      "source": [
        "inference_times"
      ],
      "metadata": {
        "id": "scWfnnm-6f1X",
        "colab": {
          "base_uri": "https://localhost:8080/"
        },
        "outputId": "d8d63529-c502-40b9-a725-d642ecc80e17"
      },
      "execution_count": null,
      "outputs": [
        {
          "output_type": "execute_result",
          "data": {
            "text/plain": [
              "[2.11624112100003,\n",
              " 2.062641633999988,\n",
              " 2.4430919720000475,\n",
              " 2.814097531000016,\n",
              " 4.720222062999937,\n",
              " 5.8891545750000205]"
            ]
          },
          "metadata": {},
          "execution_count": 51
        }
      ]
    },
    {
      "cell_type": "code",
      "execution_count": null,
      "metadata": {
        "id": "Ay2EDZVE239t",
        "colab": {
          "base_uri": "https://localhost:8080/",
          "height": 487
        },
        "outputId": "2c57b8a2-e9f3-4fd0-8e23-fa6357bf7364"
      },
      "outputs": [
        {
          "output_type": "display_data",
          "data": {
            "text/plain": [
              "<Figure size 1000x500 with 1 Axes>"
            ],
            "image/png": "[encoded data removed]"
          },
          "metadata": {}
        }
      ],
      "source": [
        "plot_model_inference_time(array_model, best_accuracies, inference_times)"
      ]
    },
    {
      "cell_type": "code",
      "execution_count": null,
      "metadata": {
        "id": "LrqtIvY1Biz6"
      },
      "outputs": [],
      "source": [
        "def get_gflops_input(prompt):\n",
        "    while True:\n",
        "        try:\n",
        "            # Meminta input dari pengguna\n",
        "            user_input = input(prompt)\n",
        "            # Mengkonversi input ke tipe float\n",
        "            gflops = float(user_input)\n",
        "            if gflops < 0:\n",
        "                raise ValueError(\"GFLOPs tidak boleh negatif.\")\n",
        "            return gflops\n",
        "        except ValueError as e:\n",
        "            # Jika konversi gagal atau input negatif, berikan pesan kesalahan dan minta lagi\n",
        "            print(\"Error:\", e)\n",
        "            print(\"Silakan masukkan angka yang valid untuk GFLOPs.\")"
      ]
    },
    {
      "cell_type": "code",
      "execution_count": null,
      "metadata": {
        "id": "wmkuMqiZBFz6",
        "colab": {
          "base_uri": "https://localhost:8080/"
        },
        "outputId": "832acadc-a9c4-45e9-8b40-f89ccdc2824c"
      },
      "outputs": [
        {
          "output_type": "stream",
          "name": "stdout",
          "text": [
            "YOLOv8n-cls summary: 99 layers, 1,444,693 parameters, 0 gradients, 3.4 GFLOPs\n"
          ]
        },
        {
          "output_type": "execute_result",
          "data": {
            "text/plain": [
              "(99, 1444693, 0, 3.3650687999999995)"
            ]
          },
          "metadata": {},
          "execution_count": 54
        }
      ],
      "source": [
        "modelyolov8n.info()"
      ]
    },
    {
      "cell_type": "code",
      "execution_count": null,
      "metadata": {
        "id": "vQLyAm1KBdpe",
        "colab": {
          "base_uri": "https://localhost:8080/"
        },
        "outputId": "a9d87ab9-f88a-4ed6-8208-6e3e0aec662c"
      },
      "outputs": [
        {
          "output_type": "stream",
          "name": "stdout",
          "text": [
            "Masukkan jumlah GFLOPs: 3.4 \n",
            "Jumlah GFLOPs yang Anda masukkan adalah: 3.4\n"
          ]
        }
      ],
      "source": [
        "# Meminta pengguna memasukkan GFLOPs\n",
        "gflops_yoloV8n = get_gflops_input(\"Masukkan jumlah GFLOPs: \")\n",
        "print(\"Jumlah GFLOPs yang Anda masukkan adalah:\", gflops_yoloV8n)\n"
      ]
    },
    {
      "cell_type": "code",
      "source": [
        "modelyolov8s.info()"
      ],
      "metadata": {
        "colab": {
          "base_uri": "https://localhost:8080/"
        },
        "id": "zQ4MhfUKzqAl",
        "outputId": "3a795b07-b42c-4a88-81d8-502b4042aef5"
      },
      "execution_count": null,
      "outputs": [
        {
          "output_type": "stream",
          "name": "stdout",
          "text": [
            "YOLOv8s-cls summary: 99 layers, 5,087,141 parameters, 0 gradients, 12.6 GFLOPs\n"
          ]
        },
        {
          "output_type": "execute_result",
          "data": {
            "text/plain": [
              "(99, 5087141, 0, 12.5908992)"
            ]
          },
          "metadata": {},
          "execution_count": 58
        }
      ]
    },
    {
      "cell_type": "code",
      "source": [
        "# Meminta pengguna memasukkan GFLOPs\n",
        "gflops_yoloV8s = get_gflops_input(\"Masukkan jumlah GFLOPs: \")\n",
        "print(\"Jumlah GFLOPs yang Anda masukkan adalah:\", gflops_yoloV8s)\n"
      ],
      "metadata": {
        "colab": {
          "base_uri": "https://localhost:8080/"
        },
        "id": "5ycFngP6zse1",
        "outputId": "916c170a-c2e7-4504-ea5e-9293012b5179"
      },
      "execution_count": null,
      "outputs": [
        {
          "output_type": "stream",
          "name": "stdout",
          "text": [
            "Masukkan jumlah GFLOPs: 12.6 \n",
            "Jumlah GFLOPs yang Anda masukkan adalah: 12.6\n"
          ]
        }
      ]
    },
    {
      "cell_type": "code",
      "source": [
        "Glops_model = [mobileNetV2_gflops, mobileNetV3_small_gflops, mobileNetV3_large_gflops, efficientNet_b2_gflops, gflops_yoloV8n,  gflops_yoloV8s]"
      ],
      "metadata": {
        "id": "ezPOT9jpzvk7"
      },
      "execution_count": null,
      "outputs": []
    },
    {
      "cell_type": "code",
      "source": [
        "def plot_model_Gflops(model_names, accuracies, flops):\n",
        "    # Membuat scatter plot\n",
        "    plt.figure(figsize=(10, 5))\n",
        "    for i in range(len(model_names)):\n",
        "        plt.scatter(flops[i], accuracies[i], label=model_names[i])\n",
        "\n",
        "    # Menambahkan judul dan label\n",
        "    plt.title('The Relationship Between FLOPs and Model Accuracy')\n",
        "    plt.xlabel('FLOPs (GFLOPs)')\n",
        "    plt.ylabel('Accuracy (%)')\n",
        "\n",
        "    # Menambahkan legenda\n",
        "    plt.legend()\n",
        "\n",
        "    # Menampilkan grid\n",
        "    plt.grid(True)\n",
        "\n",
        "    # Menampilkan grafik\n",
        "    plt.show()\n"
      ],
      "metadata": {
        "id": "P7AGitM9zyWy"
      },
      "execution_count": null,
      "outputs": []
    },
    {
      "cell_type": "code",
      "source": [
        "plot_model_Gflops(array_model, best_accuracies, Glops_model)"
      ],
      "metadata": {
        "colab": {
          "base_uri": "https://localhost:8080/",
          "height": 487
        },
        "id": "1fY9qJ8Wz0bi",
        "outputId": "050dc096-4c20-4a18-82aa-0237579ab213"
      },
      "execution_count": null,
      "outputs": [
        {
          "output_type": "display_data",
          "data": {
            "text/plain": [
              "<Figure size 1000x500 with 1 Axes>"
            ],
            "image/png": "[encoded data removed]"
          },
          "metadata": {}
        }
      ]
    },
    {
      "cell_type": "code",
      "source": [
        "modelyolov8n.info()"
      ],
      "metadata": {
        "colab": {
          "base_uri": "https://localhost:8080/"
        },
        "id": "2dDgKtuhz7Cg",
        "outputId": "94172961-eba3-4de1-95eb-d551c90f4a5e"
      },
      "execution_count": null,
      "outputs": [
        {
          "output_type": "stream",
          "name": "stdout",
          "text": [
            "YOLOv8n-cls summary: 99 layers, 1,444,693 parameters, 0 gradients, 3.4 GFLOPs\n"
          ]
        },
        {
          "output_type": "execute_result",
          "data": {
            "text/plain": [
              "(99, 1444693, 0, 3.3650687999999995)"
            ]
          },
          "metadata": {},
          "execution_count": 63
        }
      ]
    },
    {
      "cell_type": "code",
      "source": [
        "# Meminta pengguna memasukkan GFLOPs\n",
        "total_params_yolov8n = get_gflops_input(\"Masukkan jumlah total_params: \")\n",
        "print(\"Jumlah total_params yang Anda masukkan adalah:\", total_params_yolov8n)\n"
      ],
      "metadata": {
        "colab": {
          "base_uri": "https://localhost:8080/"
        },
        "id": "Qoqq2-dTz9JM",
        "outputId": "a937d6ec-3232-4cb7-97dc-358ccad9d56d"
      },
      "execution_count": null,
      "outputs": [
        {
          "output_type": "stream",
          "name": "stdout",
          "text": [
            "Masukkan jumlah total_params: 1444693\n",
            "Jumlah total_params yang Anda masukkan adalah: 1444693.0\n"
          ]
        }
      ]
    },
    {
      "cell_type": "code",
      "source": [
        "modelyolov8s.info()"
      ],
      "metadata": {
        "colab": {
          "base_uri": "https://localhost:8080/"
        },
        "id": "m8IjgH22z-8o",
        "outputId": "cd1aa4dd-0800-49af-e3ff-31490229086e"
      },
      "execution_count": null,
      "outputs": [
        {
          "output_type": "stream",
          "name": "stdout",
          "text": [
            "YOLOv8s-cls summary: 99 layers, 5,087,141 parameters, 0 gradients, 12.6 GFLOPs\n"
          ]
        },
        {
          "output_type": "execute_result",
          "data": {
            "text/plain": [
              "(99, 5087141, 0, 12.5908992)"
            ]
          },
          "metadata": {},
          "execution_count": 65
        }
      ]
    },
    {
      "cell_type": "code",
      "source": [
        "# Meminta pengguna memasukkan GFLOPs\n",
        "total_params_yolov8s = get_gflops_input(\"Masukkan jumlah total_params: \")\n",
        "print(\"Jumlah total_params yang Anda masukkan adalah:\", total_params_yolov8s)\n"
      ],
      "metadata": {
        "colab": {
          "base_uri": "https://localhost:8080/"
        },
        "id": "7FHQF4cez_3d",
        "outputId": "856e362b-07d0-4d14-d4f5-c69940ffd69a"
      },
      "execution_count": null,
      "outputs": [
        {
          "output_type": "stream",
          "name": "stdout",
          "text": [
            "Masukkan jumlah total_params: 5087141\n",
            "Jumlah total_params yang Anda masukkan adalah: 5087141.0\n"
          ]
        }
      ]
    },
    {
      "cell_type": "code",
      "execution_count": null,
      "metadata": {
        "id": "wijH08barPfw",
        "colab": {
          "base_uri": "https://localhost:8080/",
          "height": 641
        },
        "outputId": "769fc8f2-2b45-42f9-c122-208fd699acaa"
      },
      "outputs": [
        {
          "output_type": "display_data",
          "data": {
            "text/plain": [
              "<Figure size 1100x700 with 1 Axes>"
            ],
            "image/png": "[encoded data removed]"
          },
          "metadata": {}
        }
      ],
      "source": [
        "import matplotlib.pyplot as plt\n",
        "\n",
        "\n",
        "# Total parameter untuk masing-masing model\n",
        "total_params = [total_params_mbv2, total_params_mbv3s, total_params_mbv3l, total_params_efb2, total_params_yolov8n, total_params_yolov8s]\n",
        "\n",
        "# Membuat bar chart\n",
        "plt.figure(figsize=(11, 7))\n",
        "bars = plt.bar(array_model, total_params, color='blue')\n",
        "\n",
        "# Menambahkan judul dan label\n",
        "plt.title('Comparison of Total Parameters')\n",
        "plt.xlabel('Model')\n",
        "plt.ylabel('Total Parameter')\n",
        "\n",
        "# Menampilkan grid\n",
        "plt.grid(True)\n",
        "\n",
        "# Menampilkan angka pada setiap bar\n",
        "for bar in bars:\n",
        "    yval = bar.get_height()\n",
        "    plt.text(bar.get_x() + bar.get_width()/2, yval, round(yval), va='bottom')  # Posisi teks di atas setiap bar\n",
        "\n",
        "# Menampilkan grafik\n",
        "plt.show()\n"
      ]
    }
  ],
  "metadata": {
    "accelerator": "GPU",
    "colab": {
      "gpuType": "T4",
      "provenance": [],
      "machine_shape": "hm",
      "include_colab_link": true
    },
    "kernelspec": {
      "display_name": "Python 3",
      "name": "python3"
    },
    "language_info": {
      "name": "python"
    }
  },
  "nbformat": 4,
  "nbformat_minor": 0
}