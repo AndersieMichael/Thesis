{
  "cells": [
    {
      "cell_type": "markdown",
      "metadata": {
        "id": "view-in-github",
        "colab_type": "text"
      },
      "source": [
        "<a href=\"https://colab.research.google.com/github/AndersieMichael/Thesis/blob/main/evaluasi.ipynb\" target=\"_parent\"><img src=\"https://colab.research.google.com/assets/colab-badge.svg\" alt=\"Open In Colab\"/></a>"
      ]
    },
    {
      "cell_type": "code",
      "execution_count": null,
      "metadata": {
        "id": "UwxwFKCU8zz5"
      },
      "outputs": [],
      "source": [
        "import torch\n",
        "import torch.nn as nn\n",
        "from torchvision import models, transforms\n",
        "from torch.utils.data import DataLoader, Dataset\n",
        "from torchvision.io import read_image\n",
        "import pandas as pd\n",
        "import os\n"
      ]
    },
    {
      "cell_type": "code",
      "execution_count": null,
      "metadata": {
        "colab": {
          "base_uri": "https://localhost:8080/"
        },
        "id": "4nQBUHrCPCEU",
        "outputId": "79d44943-5b56-403b-8eef-9990bb6d2eeb"
      },
      "outputs": [
        {
          "output_type": "stream",
          "name": "stdout",
          "text": [
            "Drive already mounted at /content/drive; to attempt to forcibly remount, call drive.mount(\"/content/drive\", force_remount=True).\n",
            "['test', 'train', 'train.cache', 'test.cache']\n"
          ]
        }
      ],
      "source": [
        "from google.colab import drive\n",
        "drive.mount('/content/drive')\n",
        "\n",
        "import os\n",
        "# path_to_dataset = '/content/drive/MyDrive/Colab Notebooks/Deep Learning/test skripsi/dataset/dataMerge'\n",
        "path_to_dataset = '/content/drive/MyDrive/Colab/deep learning/dataset/dataMerge'\n",
        "train_dir = os.path.join(path_to_dataset, 'train')\n",
        "test_dir = os.path.join(path_to_dataset, 'test')\n",
        "\n",
        "files = os.listdir(path_to_dataset)\n",
        "print(files)"
      ]
    },
    {
      "cell_type": "code",
      "execution_count": null,
      "metadata": {
        "colab": {
          "base_uri": "https://localhost:8080/"
        },
        "id": "3k8n_-XDfiET",
        "outputId": "21b3c511-b031-450f-a157-9d88383e5855"
      },
      "outputs": [
        {
          "output_type": "stream",
          "name": "stdout",
          "text": [
            "Collecting pytictoc\n",
            "  Downloading pytictoc-1.5.3-py2.py3-none-any.whl.metadata (2.9 kB)\n",
            "Downloading pytictoc-1.5.3-py2.py3-none-any.whl (4.0 kB)\n",
            "Installing collected packages: pytictoc\n",
            "Successfully installed pytictoc-1.5.3\n"
          ]
        }
      ],
      "source": [
        "!pip install pytictoc"
      ]
    },
    {
      "cell_type": "code",
      "execution_count": null,
      "metadata": {
        "colab": {
          "base_uri": "https://localhost:8080/"
        },
        "id": "AstWxpeU797W",
        "outputId": "51082c50-b2da-49e0-ba83-09b7afa2ad79"
      },
      "outputs": [
        {
          "output_type": "stream",
          "name": "stdout",
          "text": [
            "Collecting fvcore\n",
            "  Downloading fvcore-0.1.5.post20221221.tar.gz (50 kB)\n",
            "\u001b[2K     \u001b[90m━━━━━━━━━━━━━━━━━━━━━━━━━━━━━━━━━━━━━━━━\u001b[0m \u001b[32m50.2/50.2 kB\u001b[0m \u001b[31m2.8 MB/s\u001b[0m eta \u001b[36m0:00:00\u001b[0m\n",
            "\u001b[?25h  Preparing metadata (setup.py) ... \u001b[?25l\u001b[?25hdone\n",
            "Requirement already satisfied: numpy in /usr/local/lib/python3.10/dist-packages (from fvcore) (1.26.4)\n",
            "Collecting yacs>=0.1.6 (from fvcore)\n",
            "  Downloading yacs-0.1.8-py3-none-any.whl.metadata (639 bytes)\n",
            "Requirement already satisfied: pyyaml>=5.1 in /usr/local/lib/python3.10/dist-packages (from fvcore) (6.0.2)\n",
            "Requirement already satisfied: tqdm in /usr/local/lib/python3.10/dist-packages (from fvcore) (4.66.6)\n",
            "Requirement already satisfied: termcolor>=1.1 in /usr/local/lib/python3.10/dist-packages (from fvcore) (2.5.0)\n",
            "Requirement already satisfied: Pillow in /usr/local/lib/python3.10/dist-packages (from fvcore) (11.0.0)\n",
            "Requirement already satisfied: tabulate in /usr/local/lib/python3.10/dist-packages (from fvcore) (0.9.0)\n",
            "Collecting iopath>=0.1.7 (from fvcore)\n",
            "  Downloading iopath-0.1.10.tar.gz (42 kB)\n",
            "\u001b[2K     \u001b[90m━━━━━━━━━━━━━━━━━━━━━━━━━━━━━━━━━━━━━━━━\u001b[0m \u001b[32m42.2/42.2 kB\u001b[0m \u001b[31m3.4 MB/s\u001b[0m eta \u001b[36m0:00:00\u001b[0m\n",
            "\u001b[?25h  Preparing metadata (setup.py) ... \u001b[?25l\u001b[?25hdone\n",
            "Requirement already satisfied: typing_extensions in /usr/local/lib/python3.10/dist-packages (from iopath>=0.1.7->fvcore) (4.12.2)\n",
            "Collecting portalocker (from iopath>=0.1.7->fvcore)\n",
            "  Downloading portalocker-2.10.1-py3-none-any.whl.metadata (8.5 kB)\n",
            "Downloading yacs-0.1.8-py3-none-any.whl (14 kB)\n",
            "Downloading portalocker-2.10.1-py3-none-any.whl (18 kB)\n",
            "Building wheels for collected packages: fvcore, iopath\n",
            "  Building wheel for fvcore (setup.py) ... \u001b[?25l\u001b[?25hdone\n",
            "  Created wheel for fvcore: filename=fvcore-0.1.5.post20221221-py3-none-any.whl size=61396 sha256=7b40808467998532fcd9e12a9f2ba61bc3da14ed3a6e1553aba35d7a57a95f86\n",
            "  Stored in directory: /root/.cache/pip/wheels/01/c0/af/77c1cf53a1be9e42a52b48e5af2169d40ec2e89f7362489dd0\n",
            "  Building wheel for iopath (setup.py) ... \u001b[?25l\u001b[?25hdone\n",
            "  Created wheel for iopath: filename=iopath-0.1.10-py3-none-any.whl size=31528 sha256=7e10651e74e4e09474dfc12bbd47299742e6d993e89ba602d36946b190f122d4\n",
            "  Stored in directory: /root/.cache/pip/wheels/9a/a3/b6/ac0fcd1b4ed5cfeb3db92e6a0e476cfd48ed0df92b91080c1d\n",
            "Successfully built fvcore iopath\n",
            "Installing collected packages: yacs, portalocker, iopath, fvcore\n",
            "Successfully installed fvcore-0.1.5.post20221221 iopath-0.1.10 portalocker-2.10.1 yacs-0.1.8\n"
          ]
        }
      ],
      "source": [
        "pip install fvcore"
      ]
    },
    {
      "cell_type": "code",
      "execution_count": null,
      "metadata": {
        "id": "Zv9KK1NYc_nm"
      },
      "outputs": [],
      "source": [
        "#initialisasi variable\n",
        "\n",
        "mystate =32\n",
        "imageSize = 224\n",
        "epochs = 50\n",
        "batch_size = 64\n",
        "learningRate=0.001\n",
        "weight_decay=0.0005\n",
        "input_size = (3, imageSize, imageSize)"
      ]
    },
    {
      "cell_type": "code",
      "execution_count": null,
      "metadata": {
        "id": "MhQ-fYDFeFX_"
      },
      "outputs": [],
      "source": [
        "train_transform = transforms.Compose([\n",
        "    transforms.Resize((224, 224)),\n",
        "    transforms.RandomHorizontalFlip(),\n",
        "    transforms.RandomRotation(5),\n",
        "    transforms.ToTensor(),\n",
        "    transforms.Normalize(mean=[0.485, 0.456, 0.406], std=[0.229, 0.224, 0.225])\n",
        "])\n",
        "\n",
        "\n",
        "val_test_transform = transforms.Compose([\n",
        "    transforms.Resize((224, 224)),\n",
        "    transforms.ToTensor(),  # Pastikan ini muncul sebelum Normalize\n",
        "    transforms.Normalize(mean=[0.485, 0.456, 0.406], std=[0.229, 0.224, 0.225])\n",
        "])\n"
      ]
    },
    {
      "cell_type": "code",
      "execution_count": null,
      "metadata": {
        "id": "MCDkk5kAUmFg"
      },
      "outputs": [],
      "source": [
        "from torchvision.io import read_image\n",
        "from torchvision.transforms.functional import convert_image_dtype"
      ]
    },
    {
      "cell_type": "code",
      "execution_count": null,
      "metadata": {
        "id": "4PFKxIvoUovu"
      },
      "outputs": [],
      "source": [
        "import torchvision.datasets as datasets\n",
        "\n",
        "train_dataset = datasets.ImageFolder(train_dir, transform=train_transform)\n",
        "train_loader = DataLoader(train_dataset, batch_size=batch_size, shuffle=True)\n",
        "\n",
        "test_dataset = datasets.ImageFolder(test_dir, transform=val_test_transform)\n",
        "test_loader = DataLoader(test_dataset, batch_size=batch_size, shuffle=True)"
      ]
    },
    {
      "cell_type": "code",
      "execution_count": null,
      "metadata": {
        "colab": {
          "base_uri": "https://localhost:8080/"
        },
        "id": "EL65m1mlasC1",
        "outputId": "e99a211a-37b0-4690-e175-a4878164ac21"
      },
      "outputs": [
        {
          "output_type": "stream",
          "name": "stdout",
          "text": [
            "Class: Acne, Number of images: 138\n",
            "Class: Actinic Keratosis, Number of images: 138\n",
            "Class: Basal Cell Carcinoma, Number of images: 138\n",
            "Class: Eczemaa, Number of images: 138\n",
            "Class: Rosacea, Number of images: 138\n"
          ]
        }
      ],
      "source": [
        "# Periksa distribusi kelas\n",
        "class_counts = {}\n",
        "for _, label in train_dataset:\n",
        "    if label in class_counts:\n",
        "        class_counts[label] += 1\n",
        "    else:\n",
        "        class_counts[label] = 1\n",
        "\n",
        "class_names = train_dataset.classes\n",
        "\n",
        "# Cetak informasi distribusi kelas\n",
        "for class_name, count in zip(class_names, class_counts.values()):\n",
        "    print(f\"Class: {class_name}, Number of images: {count}\")"
      ]
    },
    {
      "cell_type": "code",
      "execution_count": null,
      "metadata": {
        "id": "TH2B4_Xap_qy"
      },
      "outputs": [],
      "source": [
        "def optimizer_Setting(model):\n",
        "        return torch.optim.Adam(model.parameters(), lr=learningRate,  weight_decay = weight_decay)\n"
      ]
    },
    {
      "cell_type": "code",
      "execution_count": null,
      "metadata": {
        "id": "hIz3ZL8IW9-3",
        "colab": {
          "base_uri": "https://localhost:8080/"
        },
        "outputId": "2c0e2c0e-5a8d-4935-ddb6-37e476b790f0"
      },
      "outputs": [
        {
          "output_type": "stream",
          "name": "stderr",
          "text": [
            "Downloading: \"https://download.pytorch.org/models/mobilenet_v3_small-047dcff4.pth\" to /root/.cache/torch/hub/checkpoints/mobilenet_v3_small-047dcff4.pth\n",
            "100%|██████████| 9.83M/9.83M [00:00<00:00, 47.4MB/s]\n"
          ]
        }
      ],
      "source": [
        "from torchvision.models import mobilenet_v3_small\n",
        "\n",
        "# Load pretrained MobileNet V3 Small model\n",
        "model_v3_small = mobilenet_v3_small(weights=models.MobileNet_V3_Small_Weights.IMAGENET1K_V1)\n",
        "model_v3_small.classifier[3] = nn.Linear(model_v3_small.classifier[3].in_features, len(class_names))  # Sesuaikan layer terakhir\n",
        "\n",
        "# Membekukan layer terakhir (classifier)\n",
        "for param in model_v3_small.classifier.parameters():\n",
        "    param.requires_grad = False\n",
        "\n",
        "# Membuka freeze untuk layer lainnya\n",
        "for name, param in model_v3_small.named_parameters():\n",
        "    if \"classifier\" not in name:\n",
        "        param.requires_grad = True\n",
        "\n",
        "\n",
        "# Kriteria dan optimizer\n",
        "criterion = nn.CrossEntropyLoss()\n",
        "# optimizer = torch.optim.Adam(model_v3_small.parameters(), lr=learningRate)\n",
        "optimizer = optimizer_Setting(model_v3_small)\n",
        "\n",
        "# Tentukan device\n",
        "device = torch.device(\"cuda:0\" if torch.cuda.is_available() else \"cpu\")\n",
        "model_v3_small = model_v3_small.to(device)"
      ]
    },
    {
      "cell_type": "code",
      "source": [
        "import torch\n",
        "from fvcore.nn import FlopCountAnalysis\n",
        "from pytictoc import TicToc\n",
        "\n",
        "from sklearn.metrics import accuracy_score\n",
        "\n",
        "def validate(model, test_loader):\n",
        "    model.eval()\n",
        "    running_loss = 0.0\n",
        "    criterion = nn.CrossEntropyLoss()\n",
        "\n",
        "    # Initialize TicToc\n",
        "    t = TicToc()\n",
        "    all_preds = []\n",
        "    all_labels = []\n",
        "\n",
        " # Ambil satu batch data untuk menghitung FLOPs\n",
        "    example_inputs, _ = next(iter(test_loader))\n",
        "    example_inputs = example_inputs.to(next(model.parameters()).device)\n",
        "\n",
        "    # Hitung FLOPs menggunakan fvcore\n",
        "    flops = FlopCountAnalysis(model, example_inputs)\n",
        "    total_flops = flops.total()\n",
        "    print(f\"Total FLOPs: {total_flops / 1e9} GFLOPs\")\n",
        "    gflops = total_flops / 1e9\n",
        "\n",
        "    t.tic()\n",
        "    with torch.no_grad():\n",
        "        for inputs, labels in test_loader:\n",
        "            inputs, labels = inputs.to(device), labels.to(device)\n",
        "            outputs = model(inputs)\n",
        "            _, predicted = torch.max(outputs, 1)\n",
        "            all_preds.extend(predicted.cpu().numpy())\n",
        "            all_labels.extend(labels.cpu().numpy())\n",
        "\n",
        "    t.toc()\n",
        "\n",
        "    # Calculate average loss over all batches\n",
        "    avg_loss = running_loss / len(test_loader)\n",
        "    print(f'Average Loss: {avg_loss:.4f}')\n",
        "\n",
        "    # Hitung akurasi\n",
        "    accuracy = accuracy_score(all_labels, all_preds)\n",
        "    print(f'Accuracy: {accuracy:.4f}')\n",
        "    total_time = t.tocvalue()\n",
        "    print(f'Total prediction time: {total_time:.2f} seconds')\n",
        "    print(f'Accuracy: {accuracy:.4f}')\n",
        "\n",
        "    return accuracy*100, total_time, gflops"
      ],
      "metadata": {
        "id": "kmzVhabwiIeV"
      },
      "execution_count": null,
      "outputs": []
    },
    {
      "cell_type": "code",
      "execution_count": null,
      "metadata": {
        "id": "tMWOD9HoyDOG"
      },
      "outputs": [],
      "source": [
        "# mobileNetV3_small_save_path = '/content/drive/MyDrive/Colab Notebooks/Deep Learning/test skripsi/pytorch code/mobileNetV3_small_best_model.pth'\n",
        "mobileNetV3_small_save_path = '/content/drive/MyDrive/Colab/deep learning/mobileNetV3_small_best_model.pth'\n",
        "\n",
        "# Menghitung total jumlah parameter\n",
        "total_params_mbv3s = sum(p.numel() for p in model_v3_small.parameters())\n"
      ]
    },
    {
      "cell_type": "code",
      "execution_count": null,
      "metadata": {
        "id": "fcF_K5odyEH7",
        "colab": {
          "base_uri": "https://localhost:8080/"
        },
        "outputId": "478bc180-e4e3-4a77-afbe-e5676be2a11e"
      },
      "outputs": [
        {
          "output_type": "stream",
          "name": "stderr",
          "text": [
            "<ipython-input-15-7f94f373e5bf>:2: FutureWarning: You are using `torch.load` with `weights_only=False` (the current default value), which uses the default pickle module implicitly. It is possible to construct malicious pickle data which will execute arbitrary code during unpickling (See https://github.com/pytorch/pytorch/blob/main/SECURITY.md#untrusted-models for more details). In a future release, the default value for `weights_only` will be flipped to `True`. This limits the functions that could be executed during unpickling. Arbitrary objects will no longer be allowed to be loaded via this mode unless they are explicitly allowlisted by the user via `torch.serialization.add_safe_globals`. We recommend you start setting `weights_only=True` for any use case where you don't have full control of the loaded file. Please open an issue on GitHub for any issues related to this experimental feature.\n",
            "  model_v3_small.load_state_dict(torch.load(mobileNetV3_small_save_path, map_location=torch.device('cpu')))\n",
            "WARNING:fvcore.nn.jit_analysis:Unsupported operator aten::hardswish_ encountered 19 time(s)\n",
            "WARNING:fvcore.nn.jit_analysis:Unsupported operator aten::hardsigmoid encountered 9 time(s)\n",
            "WARNING:fvcore.nn.jit_analysis:Unsupported operator aten::mul encountered 9 time(s)\n",
            "WARNING:fvcore.nn.jit_analysis:Unsupported operator aten::add_ encountered 6 time(s)\n",
            "WARNING:fvcore.nn.jit_analysis:Unsupported operator aten::dropout_ encountered 1 time(s)\n"
          ]
        },
        {
          "output_type": "stream",
          "name": "stdout",
          "text": [
            "Total FLOPs: 3.752361984 GFLOPs\n",
            "Elapsed time is 61.466084 seconds.\n",
            "Average Loss: 0.0000\n",
            "Accuracy: 0.5838\n",
            "Total prediction time: 61.47 seconds\n",
            "Accuracy: 0.5838\n"
          ]
        }
      ],
      "source": [
        "\n",
        "# Load model terbaik yang sudah disimpan\n",
        "model_v3_small.load_state_dict(torch.load(mobileNetV3_small_save_path, map_location=torch.device('cpu')))\n",
        "# model_v3_small.load_state_dict(torch.load(mobileNetV3_small_save_path))\n",
        "\n",
        "# Validasi model dan ukur waktu prediksi\n",
        "mobileNetV3_smallResult_dummy, mobileNetV3_small_time_dummy, mobileNetV3_small_gflops_dummy = validate(model_v3_small, test_loader)"
      ]
    },
    {
      "cell_type": "code",
      "source": [
        "\n",
        "# Load model terbaik yang sudah disimpan\n",
        "model_v3_small.load_state_dict(torch.load(mobileNetV3_small_save_path, map_location=torch.device('cpu')))\n",
        "# model_v3_small.load_state_dict(torch.load(mobileNetV3_small_save_path))\n",
        "\n",
        "# Validasi model dan ukur waktu prediksi\n",
        "mobileNetV3_smallResult, mobileNetV3_small_time, mobileNetV3_small_gflops = validate(model_v3_small, test_loader)"
      ],
      "metadata": {
        "colab": {
          "base_uri": "https://localhost:8080/"
        },
        "id": "e9qxSxlnpx4J",
        "outputId": "992dc553-444d-4181-9019-9d1185a2c2c0"
      },
      "execution_count": null,
      "outputs": [
        {
          "output_type": "stream",
          "name": "stderr",
          "text": [
            "<ipython-input-16-bd4ab8215b14>:2: FutureWarning: You are using `torch.load` with `weights_only=False` (the current default value), which uses the default pickle module implicitly. It is possible to construct malicious pickle data which will execute arbitrary code during unpickling (See https://github.com/pytorch/pytorch/blob/main/SECURITY.md#untrusted-models for more details). In a future release, the default value for `weights_only` will be flipped to `True`. This limits the functions that could be executed during unpickling. Arbitrary objects will no longer be allowed to be loaded via this mode unless they are explicitly allowlisted by the user via `torch.serialization.add_safe_globals`. We recommend you start setting `weights_only=True` for any use case where you don't have full control of the loaded file. Please open an issue on GitHub for any issues related to this experimental feature.\n",
            "  model_v3_small.load_state_dict(torch.load(mobileNetV3_small_save_path, map_location=torch.device('cpu')))\n",
            "WARNING:fvcore.nn.jit_analysis:Unsupported operator aten::hardswish_ encountered 19 time(s)\n",
            "WARNING:fvcore.nn.jit_analysis:Unsupported operator aten::hardsigmoid encountered 9 time(s)\n",
            "WARNING:fvcore.nn.jit_analysis:Unsupported operator aten::mul encountered 9 time(s)\n",
            "WARNING:fvcore.nn.jit_analysis:Unsupported operator aten::add_ encountered 6 time(s)\n",
            "WARNING:fvcore.nn.jit_analysis:Unsupported operator aten::dropout_ encountered 1 time(s)\n"
          ]
        },
        {
          "output_type": "stream",
          "name": "stdout",
          "text": [
            "Total FLOPs: 3.752361984 GFLOPs\n",
            "Elapsed time is 1.839495 seconds.\n",
            "Average Loss: 0.0000\n",
            "Accuracy: 0.5838\n",
            "Total prediction time: 1.84 seconds\n",
            "Accuracy: 0.5838\n"
          ]
        }
      ]
    },
    {
      "cell_type": "code",
      "source": [
        "mobileNetV3_smallResult"
      ],
      "metadata": {
        "colab": {
          "base_uri": "https://localhost:8080/"
        },
        "id": "hXo4rnkB1H1k",
        "outputId": "1b850952-b470-4440-d80d-087e0254b184"
      },
      "execution_count": null,
      "outputs": [
        {
          "output_type": "execute_result",
          "data": {
            "text/plain": [
              "58.37837837837838"
            ]
          },
          "metadata": {},
          "execution_count": 17
        }
      ]
    },
    {
      "cell_type": "code",
      "execution_count": null,
      "metadata": {
        "id": "yDI7-rOXaS5c",
        "colab": {
          "base_uri": "https://localhost:8080/"
        },
        "outputId": "e5a73690-7598-4960-8109-0d0b6e52740d"
      },
      "outputs": [
        {
          "output_type": "stream",
          "name": "stderr",
          "text": [
            "Downloading: \"https://download.pytorch.org/models/mobilenet_v3_large-8738ca79.pth\" to /root/.cache/torch/hub/checkpoints/mobilenet_v3_large-8738ca79.pth\n",
            "100%|██████████| 21.1M/21.1M [00:00<00:00, 70.7MB/s]\n"
          ]
        }
      ],
      "source": [
        "from torchvision.models import mobilenet_v3_large\n",
        "\n",
        "# Load pretrained MobileNet V3 large model\n",
        "model_v3_large = mobilenet_v3_large(weights=models.MobileNet_V3_Large_Weights.IMAGENET1K_V1)\n",
        "model_v3_large.classifier[3] = nn.Linear(model_v3_large.classifier[3].in_features, len(class_names))  # Sesuaikan layer terakhir\n",
        "\n",
        "# Membekukan layer terakhir (classifier)\n",
        "for param in model_v3_large.classifier.parameters():\n",
        "    param.requires_grad = False\n",
        "\n",
        "# Membuka freeze untuk layer lainnya\n",
        "for name, param in model_v3_large.named_parameters():\n",
        "    if \"classifier\" not in name:\n",
        "        param.requires_grad = True\n",
        "# Kriteria dan optimizer\n",
        "criterion = nn.CrossEntropyLoss()\n",
        "# optimizer = torch.optim.Adam(model_v3_large.parameters(), lr=learningRate)\n",
        "optimizer = optimizer_Setting(model_v3_large)\n",
        "\n",
        "# Tentukan device\n",
        "device = torch.device(\"cuda:0\" if torch.cuda.is_available() else \"cpu\")\n",
        "model_v3_large = model_v3_large.to(device)"
      ]
    },
    {
      "cell_type": "code",
      "execution_count": null,
      "metadata": {
        "id": "AHYDqTLpZ7U7"
      },
      "outputs": [],
      "source": [
        "# mobileNetV3_large_save_path = '/content/drive/MyDrive/Colab Notebooks/Deep Learning/test skripsi/pytorch code/mobileNetV3_large_best_model.pth'\n",
        "mobileNetV3_large_save_path = '/content/drive/MyDrive/Colab/deep learning/mobileNetV3_large_best_model.pth'\n",
        "\n",
        "# Menghitung total jumlah parameter\n",
        "total_params_mbv3l = sum(p.numel() for p in model_v3_large.parameters())"
      ]
    },
    {
      "cell_type": "code",
      "execution_count": null,
      "metadata": {
        "id": "1sjc6gqRZ-1b",
        "colab": {
          "base_uri": "https://localhost:8080/"
        },
        "outputId": "3486153b-86fd-4d9c-df5d-bebe87d7d211"
      },
      "outputs": [
        {
          "output_type": "stream",
          "name": "stderr",
          "text": [
            "<ipython-input-20-0bdf6eecdb94>:3: FutureWarning: You are using `torch.load` with `weights_only=False` (the current default value), which uses the default pickle module implicitly. It is possible to construct malicious pickle data which will execute arbitrary code during unpickling (See https://github.com/pytorch/pytorch/blob/main/SECURITY.md#untrusted-models for more details). In a future release, the default value for `weights_only` will be flipped to `True`. This limits the functions that could be executed during unpickling. Arbitrary objects will no longer be allowed to be loaded via this mode unless they are explicitly allowlisted by the user via `torch.serialization.add_safe_globals`. We recommend you start setting `weights_only=True` for any use case where you don't have full control of the loaded file. Please open an issue on GitHub for any issues related to this experimental feature.\n",
            "  model_v3_large.load_state_dict(torch.load(mobileNetV3_large_save_path, map_location=torch.device('cpu')))\n",
            "WARNING:fvcore.nn.jit_analysis:Unsupported operator aten::hardswish_ encountered 21 time(s)\n",
            "WARNING:fvcore.nn.jit_analysis:Unsupported operator aten::add_ encountered 10 time(s)\n",
            "WARNING:fvcore.nn.jit_analysis:Unsupported operator aten::hardsigmoid encountered 8 time(s)\n",
            "WARNING:fvcore.nn.jit_analysis:Unsupported operator aten::mul encountered 8 time(s)\n",
            "WARNING:fvcore.nn.jit_analysis:Unsupported operator aten::dropout_ encountered 1 time(s)\n"
          ]
        },
        {
          "output_type": "stream",
          "name": "stdout",
          "text": [
            "Total FLOPs: 14.384654336 GFLOPs\n",
            "Elapsed time is 1.967710 seconds.\n",
            "Average Loss: 0.0000\n",
            "Accuracy: 0.7351\n",
            "Total prediction time: 1.97 seconds\n",
            "Accuracy: 0.7351\n"
          ]
        }
      ],
      "source": [
        "# Load model terbaik yang sudah disimpan\n",
        "# model_v3_large.load_state_dict(torch.load(mobileNetV3_large_save_path))\n",
        "model_v3_large.load_state_dict(torch.load(mobileNetV3_large_save_path, map_location=torch.device('cpu')))\n",
        "\n",
        "# Validasi model dan ukur waktu prediksi\n",
        "mobileNetV3_largeResult, mobileNetV3_large_time, mobileNetV3_large_gflops = validate(model_v3_large, test_loader)"
      ]
    },
    {
      "cell_type": "code",
      "source": [
        "mobileNetV3_largeResult"
      ],
      "metadata": {
        "colab": {
          "base_uri": "https://localhost:8080/"
        },
        "id": "pzpttY631S-j",
        "outputId": "76bbf682-ab5a-4083-d3e4-94e29460a0e1"
      },
      "execution_count": null,
      "outputs": [
        {
          "output_type": "execute_result",
          "data": {
            "text/plain": [
              "73.51351351351352"
            ]
          },
          "metadata": {},
          "execution_count": 21
        }
      ]
    },
    {
      "cell_type": "code",
      "execution_count": null,
      "metadata": {
        "id": "LQ8lwalBqUUq",
        "colab": {
          "base_uri": "https://localhost:8080/"
        },
        "outputId": "209de6eb-d841-4d39-d3bf-f54fcc6151e0"
      },
      "outputs": [
        {
          "output_type": "stream",
          "name": "stderr",
          "text": [
            "Downloading: \"https://download.pytorch.org/models/efficientnet_b2_rwightman-c35c1473.pth\" to /root/.cache/torch/hub/checkpoints/efficientnet_b2_rwightman-c35c1473.pth\n",
            "100%|██████████| 35.2M/35.2M [00:00<00:00, 98.6MB/s]\n"
          ]
        }
      ],
      "source": [
        "from torchvision.models import efficientnet_b2, EfficientNet_B2_Weights\n",
        "\n",
        "# Load pretrained EfficientNet B2 model\n",
        "model_efficientnet_b2 = efficientnet_b2(weights=EfficientNet_B2_Weights.IMAGENET1K_V1)\n",
        "model_efficientnet_b2.classifier[1] = nn.Linear(model_efficientnet_b2.classifier[1].in_features, len(class_names))\n",
        "\n",
        "# Membekukan layer terakhir (classifier)\n",
        "for param in model_efficientnet_b2.classifier.parameters():\n",
        "    param.requires_grad = False\n",
        "\n",
        "# Membuka freeze untuk layer lainnya\n",
        "for name, param in model_efficientnet_b2.named_parameters():\n",
        "    if \"classifier\" not in name:\n",
        "        param.requires_grad = True\n",
        "\n",
        "# Kriteria dan optimizer\n",
        "criterion = nn.CrossEntropyLoss()\n",
        "# optimizer = torch.optim.Adam(model_efficientnet_b2.parameters(), lr=learningRate)\n",
        "optimizer = optimizer_Setting(model_efficientnet_b2)\n",
        "\n",
        "# Tentukan device\n",
        "device = torch.device(\"cuda:0\" if torch.cuda.is_available() else \"cpu\")\n",
        "model_efficientnet_b2 = model_efficientnet_b2.to(device)"
      ]
    },
    {
      "cell_type": "code",
      "execution_count": null,
      "metadata": {
        "id": "eCcTiv57aEw8"
      },
      "outputs": [],
      "source": [
        "# efficientNet_b2_save_path = '/content/drive/MyDrive/Colab Notebooks/Deep Learning/test skripsi/pytorch code/efficientNet_b2_best_model.pth'\n",
        "efficientNet_b2_save_path = '/content/drive/MyDrive/Colab/deep learning/efficientNet_b2_best_model.pth'\n",
        "\n",
        "# Menghitung total jumlah parameter\n",
        "total_params_efb2 = sum(p.numel() for p in model_efficientnet_b2.parameters())"
      ]
    },
    {
      "cell_type": "code",
      "execution_count": null,
      "metadata": {
        "id": "F_SGi4q7bH0I",
        "colab": {
          "base_uri": "https://localhost:8080/"
        },
        "outputId": "3fdf6c84-aa74-4f9b-9226-9596afbf2c79"
      },
      "outputs": [
        {
          "output_type": "stream",
          "name": "stderr",
          "text": [
            "<ipython-input-24-0569a3ca0caf>:5: FutureWarning: You are using `torch.load` with `weights_only=False` (the current default value), which uses the default pickle module implicitly. It is possible to construct malicious pickle data which will execute arbitrary code during unpickling (See https://github.com/pytorch/pytorch/blob/main/SECURITY.md#untrusted-models for more details). In a future release, the default value for `weights_only` will be flipped to `True`. This limits the functions that could be executed during unpickling. Arbitrary objects will no longer be allowed to be loaded via this mode unless they are explicitly allowlisted by the user via `torch.serialization.add_safe_globals`. We recommend you start setting `weights_only=True` for any use case where you don't have full control of the loaded file. Please open an issue on GitHub for any issues related to this experimental feature.\n",
            "  model_efficientnet_b2.load_state_dict(torch.load(efficientNet_b2_save_path, map_location=torch.device('cpu')))\n",
            "WARNING:fvcore.nn.jit_analysis:Unsupported operator aten::silu_ encountered 69 time(s)\n",
            "WARNING:fvcore.nn.jit_analysis:Unsupported operator aten::sigmoid encountered 23 time(s)\n",
            "WARNING:fvcore.nn.jit_analysis:Unsupported operator aten::mul encountered 23 time(s)\n",
            "WARNING:fvcore.nn.jit_analysis:Unsupported operator aten::add_ encountered 16 time(s)\n",
            "WARNING:fvcore.nn.jit_analysis:Unsupported operator aten::dropout_ encountered 1 time(s)\n",
            "WARNING:fvcore.nn.jit_analysis:The following submodules of the model were never called during the trace of the graph. They may be unused, or they were accessed by direct calls to .forward() or via other python methods. In the latter case they will have zeros for statistics, though their statistics will still contribute to their parent calling module.\n",
            "features.1.0.stochastic_depth, features.1.1.stochastic_depth, features.2.0.stochastic_depth, features.2.1.stochastic_depth, features.2.2.stochastic_depth, features.3.0.stochastic_depth, features.3.1.stochastic_depth, features.3.2.stochastic_depth, features.4.0.stochastic_depth, features.4.1.stochastic_depth, features.4.2.stochastic_depth, features.4.3.stochastic_depth, features.5.0.stochastic_depth, features.5.1.stochastic_depth, features.5.2.stochastic_depth, features.5.3.stochastic_depth, features.6.0.stochastic_depth, features.6.1.stochastic_depth, features.6.2.stochastic_depth, features.6.3.stochastic_depth, features.6.4.stochastic_depth, features.7.0.stochastic_depth, features.7.1.stochastic_depth\n"
          ]
        },
        {
          "output_type": "stream",
          "name": "stdout",
          "text": [
            "Total FLOPs: 43.579193344 GFLOPs\n",
            "Elapsed time is 1.927825 seconds.\n",
            "Average Loss: 0.0000\n",
            "Accuracy: 0.8541\n",
            "Total prediction time: 1.93 seconds\n",
            "Accuracy: 0.8541\n"
          ]
        }
      ],
      "source": [
        "# efficientNet_b2Result, efficientNet_b2_time, efficientNet_b2_gflops = evaluate_model(model_efficientnet_b2, criterion, test_loader, efficientNet_b2_save_path)\n",
        "\n",
        "# Load model terbaik yang sudah disimpan\n",
        "# model_efficientnet_b2.load_state_dict(torch.load(efficientNet_b2_save_path))\n",
        "model_efficientnet_b2.load_state_dict(torch.load(efficientNet_b2_save_path, map_location=torch.device('cpu')))\n",
        "\n",
        "# Validasi model dan ukur waktu prediksi\n",
        "efficientNet_b2Result, efficientNet_b2_time, efficientNet_b2_gflops = validate(model_efficientnet_b2, test_loader)"
      ]
    },
    {
      "cell_type": "code",
      "execution_count": null,
      "metadata": {
        "id": "Gsg9F9vKUpyM",
        "colab": {
          "base_uri": "https://localhost:8080/"
        },
        "outputId": "d740a5ef-b83f-4abc-b170-4e70f2a905b5"
      },
      "outputs": [
        {
          "output_type": "stream",
          "name": "stderr",
          "text": [
            "Downloading: \"https://download.pytorch.org/models/mobilenet_v2-b0353104.pth\" to /root/.cache/torch/hub/checkpoints/mobilenet_v2-b0353104.pth\n",
            "100%|██████████| 13.6M/13.6M [00:00<00:00, 125MB/s]\n"
          ]
        }
      ],
      "source": [
        "from torchvision.models import mobilenet_v2\n",
        "\n",
        "# Load pretrained MobileNet V2 model\n",
        "model_mobilenet_v2 = mobilenet_v2(weights=models.MobileNet_V2_Weights.IMAGENET1K_V1)\n",
        "model_mobilenet_v2.classifier[1] = nn.Linear(model_mobilenet_v2.classifier[1].in_features, len(class_names))\n",
        "\n",
        "# Membekukan layer terakhir (classifier)\n",
        "for param in model_mobilenet_v2.classifier.parameters():\n",
        "    param.requires_grad = False\n",
        "\n",
        "# Membuka freeze untuk layer lainnya\n",
        "for name, param in model_mobilenet_v2.named_parameters():\n",
        "    if \"classifier\" not in name:\n",
        "        param.requires_grad = True\n",
        "\n",
        "# Kriteria dan optimizer\n",
        "criterion = nn.CrossEntropyLoss()\n",
        "# optimizer = torch.optim.Adam(model_v3_large.parameters(), lr=learningRate)\n",
        "optimizer = optimizer_Setting(model_mobilenet_v2)\n",
        "\n",
        "# Tentukan device\n",
        "device = torch.device(\"cuda:0\" if torch.cuda.is_available() else \"cpu\")\n",
        "model_mobilenet_v2 = model_mobilenet_v2.to(device)"
      ]
    },
    {
      "cell_type": "code",
      "execution_count": null,
      "metadata": {
        "id": "7eW59aR8eeHC"
      },
      "outputs": [],
      "source": [
        "\n",
        "# Contoh penggunaan fungsi\n",
        "# Pastikan model_mobilenet_v2, criterion, test_loader, dan mobileNetV2_save_path sudah terdefinisi\n",
        "# mobileNetV2_save_path = '/content/drive/MyDrive/Colab Notebooks/Deep Learning/test skripsi/pytorch code/mobileNetV2_best_model.pth'\n",
        "mobileNetV2_save_path = '/content/drive/MyDrive/Colab/deep learning/mobileNetV2_best_model.pth'\n",
        "\n",
        "# Menghitung total jumlah parameter\n",
        "total_params_mbv2 = sum(p.numel() for p in model_mobilenet_v2.parameters())\n",
        "\n",
        "# mobileNetV2Result, mobileNetV2_time, mobileNetV2_gflops = evaluate_model(model_mobilenet_v2, criterion, test_loader, mobileNetV2_save_path)"
      ]
    },
    {
      "cell_type": "code",
      "source": [
        "# Load model terbaik yang sudah disimpan\n",
        "# model_mobilenet_v2.load_state_dict(torch.load(mobileNetV2_save_path))\n",
        "model_mobilenet_v2.load_state_dict(torch.load(mobileNetV2_save_path, map_location=torch.device('cpu')))\n",
        "\n",
        "# Validasi model dan ukur waktu prediksi\n",
        "mobileNetV2Result, mobileNetV2_time, mobileNetV2_gflops = validate(model_mobilenet_v2, test_loader)"
      ],
      "metadata": {
        "colab": {
          "base_uri": "https://localhost:8080/"
        },
        "id": "-IiQXf7ftBOI",
        "outputId": "697a7123-de5d-4680-e031-08f8ff302144"
      },
      "execution_count": null,
      "outputs": [
        {
          "output_type": "stream",
          "name": "stderr",
          "text": [
            "<ipython-input-27-fa176058db96>:3: FutureWarning: You are using `torch.load` with `weights_only=False` (the current default value), which uses the default pickle module implicitly. It is possible to construct malicious pickle data which will execute arbitrary code during unpickling (See https://github.com/pytorch/pytorch/blob/main/SECURITY.md#untrusted-models for more details). In a future release, the default value for `weights_only` will be flipped to `True`. This limits the functions that could be executed during unpickling. Arbitrary objects will no longer be allowed to be loaded via this mode unless they are explicitly allowlisted by the user via `torch.serialization.add_safe_globals`. We recommend you start setting `weights_only=True` for any use case where you don't have full control of the loaded file. Please open an issue on GitHub for any issues related to this experimental feature.\n",
            "  model_mobilenet_v2.load_state_dict(torch.load(mobileNetV2_save_path, map_location=torch.device('cpu')))\n",
            "WARNING:fvcore.nn.jit_analysis:Unsupported operator aten::hardtanh_ encountered 35 time(s)\n",
            "WARNING:fvcore.nn.jit_analysis:Unsupported operator aten::add encountered 10 time(s)\n"
          ]
        },
        {
          "output_type": "stream",
          "name": "stdout",
          "text": [
            "Total FLOPs: 20.026855424 GFLOPs\n",
            "Elapsed time is 1.866028 seconds.\n",
            "Average Loss: 0.0000\n",
            "Accuracy: 0.7838\n",
            "Total prediction time: 1.87 seconds\n",
            "Accuracy: 0.7838\n"
          ]
        }
      ]
    },
    {
      "cell_type": "code",
      "execution_count": null,
      "metadata": {
        "collapsed": true,
        "id": "Ci5JTszaeF5J",
        "colab": {
          "base_uri": "https://localhost:8080/"
        },
        "outputId": "c943e5bf-c6d3-4878-fcf2-77b8820f63be"
      },
      "outputs": [
        {
          "output_type": "stream",
          "name": "stdout",
          "text": [
            "Ultralytics YOLOv8.2.103 🚀 Python-3.10.12 torch-2.5.0+cu121 CUDA:0 (NVIDIA A100-SXM4-40GB, 40514MiB)\n",
            "Setup complete ✅ (12 CPUs, 83.5 GB RAM, 32.6/235.7 GB disk)\n"
          ]
        }
      ],
      "source": [
        "# Pip install method (recommended)\n",
        "\n",
        "!pip install ultralytics==8.2.103 -q\n",
        "\n",
        "from IPython import display\n",
        "display.clear_output()\n",
        "\n",
        "import ultralytics\n",
        "ultralytics.checks()"
      ]
    },
    {
      "cell_type": "code",
      "execution_count": null,
      "metadata": {
        "id": "jDAgMlM8eLbd"
      },
      "outputs": [],
      "source": [
        "from ultralytics import YOLO"
      ]
    },
    {
      "cell_type": "code",
      "execution_count": null,
      "metadata": {
        "id": "vbFYCYwdeM5G",
        "colab": {
          "base_uri": "https://localhost:8080/"
        },
        "outputId": "0cb3c318-281b-4072-e970-f97d9b2d8edc"
      },
      "outputs": [
        {
          "output_type": "stream",
          "name": "stdout",
          "text": [
            "Downloading https://github.com/ultralytics/assets/releases/download/v8.2.0/yolov8s-cls.pt to 'yolov8s-cls.pt'...\n"
          ]
        },
        {
          "output_type": "stream",
          "name": "stderr",
          "text": [
            "100%|██████████| 12.3M/12.3M [00:00<00:00, 101MB/s] \n"
          ]
        },
        {
          "output_type": "stream",
          "name": "stdout",
          "text": [
            "YOLOv8s-cls summary: 99 layers, 6,361,736 parameters, 0 gradients, 13.6 GFLOPs\n"
          ]
        },
        {
          "output_type": "execute_result",
          "data": {
            "text/plain": [
              "(99, 6361736, 0, 13.609779199999998)"
            ]
          },
          "metadata": {},
          "execution_count": 30
        }
      ],
      "source": [
        "modelyolov8s = YOLO('yolov8s-cls.pt')  # load a pretrained YOLOv8n detection model\n",
        "modelyolov8s.info()"
      ]
    },
    {
      "cell_type": "code",
      "execution_count": null,
      "metadata": {
        "id": "ZDNbydpaeQqH",
        "collapsed": true,
        "colab": {
          "base_uri": "https://localhost:8080/"
        },
        "outputId": "df8b956f-edbf-4d38-fac0-f04964bf6c7e"
      },
      "outputs": [
        {
          "output_type": "stream",
          "name": "stdout",
          "text": [
            "New https://pypi.org/project/ultralytics/8.3.31 available 😃 Update with 'pip install -U ultralytics'\n",
            "Ultralytics YOLOv8.2.103 🚀 Python-3.10.12 torch-2.5.0+cu121 CUDA:0 (NVIDIA A100-SXM4-40GB, 40514MiB)\n",
            "\u001b[34m\u001b[1mengine/trainer: \u001b[0mtask=classify, mode=train, model=yolov8s-cls.pt, data=/content/drive/MyDrive/Colab/deep learning/dataset/dataMerge, epochs=50, time=None, patience=10, batch=64, imgsz=224, save=True, save_period=-1, cache=False, device=None, workers=8, project=None, name=yoloS2, exist_ok=False, pretrained=True, optimizer=Adam, verbose=True, seed=0, deterministic=True, single_cls=False, rect=False, cos_lr=False, close_mosaic=10, resume=False, amp=True, fraction=1.0, profile=False, freeze=1, multi_scale=False, overlap_mask=True, mask_ratio=4, dropout=0.0, val=True, split=val, save_json=False, save_hybrid=False, conf=None, iou=0.7, max_det=300, half=False, dnn=False, plots=True, source=None, vid_stride=1, stream_buffer=False, visualize=False, augment=False, agnostic_nms=False, classes=None, retina_masks=False, embed=None, show=False, save_frames=False, save_txt=False, save_conf=False, save_crop=False, show_labels=True, show_conf=True, show_boxes=True, line_width=None, format=torchscript, keras=False, optimize=False, int8=False, dynamic=False, simplify=True, opset=None, workspace=4, nms=False, lr0=0.001, lrf=0.01, momentum=0.937, weight_decay=0.0005, warmup_epochs=3.0, warmup_momentum=0.8, warmup_bias_lr=0.1, box=7.5, cls=0.5, dfl=1.5, pose=12.0, kobj=1.0, label_smoothing=0.0, nbs=64, hsv_h=0.015, hsv_s=0.7, hsv_v=0.4, degrees=0.0, translate=0.1, scale=0.5, shear=0.0, perspective=0.0, flipud=0.0, fliplr=0.5, bgr=0.0, mosaic=1.0, mixup=0.0, copy_paste=0.0, auto_augment=randaugment, erasing=0.4, crop_fraction=1.0, cfg=None, tracker=botsort.yaml, save_dir=runs/classify/yoloS2\n",
            "\u001b[34m\u001b[1mtrain:\u001b[0m /content/drive/MyDrive/Colab/deep learning/dataset/dataMerge/train... found 690 images in 5 classes ✅ \n",
            "\u001b[34m\u001b[1mval:\u001b[0m None...\n",
            "\u001b[34m\u001b[1mtest:\u001b[0m /content/drive/MyDrive/Colab/deep learning/dataset/dataMerge/test... found 185 images in 5 classes ✅ \n",
            "\n",
            "                   from  n    params  module                                       arguments                     \n",
            "  0                  -1  1       928  ultralytics.nn.modules.conv.Conv             [3, 32, 3, 2]                 \n",
            "  1                  -1  1     18560  ultralytics.nn.modules.conv.Conv             [32, 64, 3, 2]                \n",
            "  2                  -1  1     29056  ultralytics.nn.modules.block.C2f             [64, 64, 1, True]             \n",
            "  3                  -1  1     73984  ultralytics.nn.modules.conv.Conv             [64, 128, 3, 2]               \n",
            "  4                  -1  2    197632  ultralytics.nn.modules.block.C2f             [128, 128, 2, True]           \n",
            "  5                  -1  1    295424  ultralytics.nn.modules.conv.Conv             [128, 256, 3, 2]              \n",
            "  6                  -1  2    788480  ultralytics.nn.modules.block.C2f             [256, 256, 2, True]           \n",
            "  7                  -1  1   1180672  ultralytics.nn.modules.conv.Conv             [256, 512, 3, 2]              \n",
            "  8                  -1  1   1838080  ultralytics.nn.modules.block.C2f             [512, 512, 1, True]           \n",
            "  9                  -1  1    664325  ultralytics.nn.modules.head.Classify         [512, 5]                      \n",
            "YOLOv8s-cls summary: 99 layers, 5,087,141 parameters, 5,087,141 gradients, 12.6 GFLOPs\n",
            "Transferred 158/158 items from pretrained weights\n",
            "\u001b[34m\u001b[1mTensorBoard: \u001b[0mStart with 'tensorboard --logdir runs/classify/yoloS2', view at http://localhost:6006/\n",
            "Freezing layer 'model.0.conv.weight'\n",
            "Freezing layer 'model.0.bn.weight'\n",
            "Freezing layer 'model.0.bn.bias'\n",
            "\u001b[34m\u001b[1mAMP: \u001b[0mrunning Automatic Mixed Precision (AMP) checks with YOLOv8n...\n",
            "\u001b[34m\u001b[1mAMP: \u001b[0mchecks passed ✅\n"
          ]
        },
        {
          "output_type": "stream",
          "name": "stderr",
          "text": [
            "\u001b[34m\u001b[1mtrain: \u001b[0mScanning /content/drive/MyDrive/Colab/deep learning/dataset/dataMerge/train... 690 images, 0 corrupt: 100%|██████████| 690/690 [00:00<?, ?it/s]\n",
            "\u001b[34m\u001b[1mval: \u001b[0mScanning /content/drive/MyDrive/Colab/deep learning/dataset/dataMerge/test... 185 images, 0 corrupt: 100%|██████████| 185/185 [00:00<?, ?it/s]\n"
          ]
        },
        {
          "output_type": "stream",
          "name": "stdout",
          "text": [
            "\u001b[34m\u001b[1moptimizer:\u001b[0m Adam(lr=0.001, momentum=0.937) with parameter groups 26 weight(decay=0.0), 27 weight(decay=0.0005), 27 bias(decay=0.0)\n",
            "\u001b[34m\u001b[1mTensorBoard: \u001b[0mmodel graph visualization added ✅\n",
            "Image sizes 224 train, 224 val\n",
            "Using 8 dataloader workers\n",
            "Logging results to \u001b[1mruns/classify/yoloS2\u001b[0m\n",
            "Starting training for 50 epochs...\n",
            "\n",
            "      Epoch    GPU_mem       loss  Instances       Size\n"
          ]
        },
        {
          "output_type": "stream",
          "name": "stderr",
          "text": [
            "       1/50      1.34G    0.08172         50        224: 100%|██████████| 11/11 [00:04<00:00,  2.39it/s]\n",
            "               classes   top1_acc   top5_acc: 100%|██████████| 2/2 [00:01<00:00,  1.79it/s]"
          ]
        },
        {
          "output_type": "stream",
          "name": "stdout",
          "text": [
            "                   all      0.805          1\n"
          ]
        },
        {
          "output_type": "stream",
          "name": "stderr",
          "text": [
            "\n"
          ]
        },
        {
          "output_type": "stream",
          "name": "stdout",
          "text": [
            "\n",
            "      Epoch    GPU_mem       loss  Instances       Size\n"
          ]
        },
        {
          "output_type": "stream",
          "name": "stderr",
          "text": [
            "       2/50      1.31G    0.09104         50        224: 100%|██████████| 11/11 [00:00<00:00, 22.99it/s]\n",
            "               classes   top1_acc   top5_acc: 100%|██████████| 2/2 [00:00<00:00, 68.59it/s]"
          ]
        },
        {
          "output_type": "stream",
          "name": "stdout",
          "text": [
            "                   all      0.822          1\n"
          ]
        },
        {
          "output_type": "stream",
          "name": "stderr",
          "text": [
            "\n"
          ]
        },
        {
          "output_type": "stream",
          "name": "stdout",
          "text": [
            "\n",
            "      Epoch    GPU_mem       loss  Instances       Size\n"
          ]
        },
        {
          "output_type": "stream",
          "name": "stderr",
          "text": [
            "       3/50      1.31G    0.06156         50        224: 100%|██████████| 11/11 [00:01<00:00,  7.60it/s]\n",
            "               classes   top1_acc   top5_acc: 100%|██████████| 2/2 [00:00<00:00, 56.00it/s]"
          ]
        },
        {
          "output_type": "stream",
          "name": "stdout",
          "text": [
            "                   all      0.811          1\n"
          ]
        },
        {
          "output_type": "stream",
          "name": "stderr",
          "text": [
            "\n"
          ]
        },
        {
          "output_type": "stream",
          "name": "stdout",
          "text": [
            "\n",
            "      Epoch    GPU_mem       loss  Instances       Size\n"
          ]
        },
        {
          "output_type": "stream",
          "name": "stderr",
          "text": [
            "       4/50       1.3G     0.1095         50        224: 100%|██████████| 11/11 [00:02<00:00,  3.67it/s]\n",
            "               classes   top1_acc   top5_acc: 100%|██████████| 2/2 [00:00<00:00, 54.28it/s]"
          ]
        },
        {
          "output_type": "stream",
          "name": "stdout",
          "text": [
            "                   all      0.795          1\n"
          ]
        },
        {
          "output_type": "stream",
          "name": "stderr",
          "text": [
            "\n"
          ]
        },
        {
          "output_type": "stream",
          "name": "stdout",
          "text": [
            "\n",
            "      Epoch    GPU_mem       loss  Instances       Size\n"
          ]
        },
        {
          "output_type": "stream",
          "name": "stderr",
          "text": [
            "       5/50       1.3G    0.09163         50        224: 100%|██████████| 11/11 [00:02<00:00,  5.09it/s]\n",
            "               classes   top1_acc   top5_acc: 100%|██████████| 2/2 [00:00<00:00, 60.78it/s]"
          ]
        },
        {
          "output_type": "stream",
          "name": "stdout",
          "text": [
            "                   all      0.789          1\n"
          ]
        },
        {
          "output_type": "stream",
          "name": "stderr",
          "text": [
            "\n"
          ]
        },
        {
          "output_type": "stream",
          "name": "stdout",
          "text": [
            "\n",
            "      Epoch    GPU_mem       loss  Instances       Size\n"
          ]
        },
        {
          "output_type": "stream",
          "name": "stderr",
          "text": [
            "       6/50      1.31G    0.09297         50        224: 100%|██████████| 11/11 [00:01<00:00,  5.93it/s]\n",
            "               classes   top1_acc   top5_acc: 100%|██████████| 2/2 [00:00<00:00, 70.84it/s]"
          ]
        },
        {
          "output_type": "stream",
          "name": "stdout",
          "text": [
            "                   all      0.832          1\n"
          ]
        },
        {
          "output_type": "stream",
          "name": "stderr",
          "text": [
            "\n"
          ]
        },
        {
          "output_type": "stream",
          "name": "stdout",
          "text": [
            "\n",
            "      Epoch    GPU_mem       loss  Instances       Size\n"
          ]
        },
        {
          "output_type": "stream",
          "name": "stderr",
          "text": [
            "       7/50      1.31G     0.1011         50        224: 100%|██████████| 11/11 [00:03<00:00,  3.51it/s]\n",
            "               classes   top1_acc   top5_acc: 100%|██████████| 2/2 [00:00<00:00, 53.76it/s]"
          ]
        },
        {
          "output_type": "stream",
          "name": "stdout",
          "text": [
            "                   all      0.811          1\n"
          ]
        },
        {
          "output_type": "stream",
          "name": "stderr",
          "text": [
            "\n"
          ]
        },
        {
          "output_type": "stream",
          "name": "stdout",
          "text": [
            "\n",
            "      Epoch    GPU_mem       loss  Instances       Size\n"
          ]
        },
        {
          "output_type": "stream",
          "name": "stderr",
          "text": [
            "       8/50      1.31G     0.1077         50        224: 100%|██████████| 11/11 [00:01<00:00,  6.61it/s]\n",
            "               classes   top1_acc   top5_acc: 100%|██████████| 2/2 [00:00<00:00, 58.82it/s]"
          ]
        },
        {
          "output_type": "stream",
          "name": "stdout",
          "text": [
            "                   all      0.795          1\n"
          ]
        },
        {
          "output_type": "stream",
          "name": "stderr",
          "text": [
            "\n"
          ]
        },
        {
          "output_type": "stream",
          "name": "stdout",
          "text": [
            "\n",
            "      Epoch    GPU_mem       loss  Instances       Size\n"
          ]
        },
        {
          "output_type": "stream",
          "name": "stderr",
          "text": [
            "       9/50      1.31G    0.07263         50        224: 100%|██████████| 11/11 [00:01<00:00,  6.48it/s]\n",
            "               classes   top1_acc   top5_acc: 100%|██████████| 2/2 [00:00<00:00, 67.27it/s]"
          ]
        },
        {
          "output_type": "stream",
          "name": "stdout",
          "text": [
            "                   all      0.762          1\n"
          ]
        },
        {
          "output_type": "stream",
          "name": "stderr",
          "text": [
            "\n"
          ]
        },
        {
          "output_type": "stream",
          "name": "stdout",
          "text": [
            "\n",
            "      Epoch    GPU_mem       loss  Instances       Size\n"
          ]
        },
        {
          "output_type": "stream",
          "name": "stderr",
          "text": [
            "      10/50      1.31G     0.0709         50        224: 100%|██████████| 11/11 [00:03<00:00,  3.39it/s]\n",
            "               classes   top1_acc   top5_acc: 100%|██████████| 2/2 [00:00<00:00, 68.81it/s]"
          ]
        },
        {
          "output_type": "stream",
          "name": "stdout",
          "text": [
            "                   all      0.827          1\n"
          ]
        },
        {
          "output_type": "stream",
          "name": "stderr",
          "text": [
            "\n"
          ]
        },
        {
          "output_type": "stream",
          "name": "stdout",
          "text": [
            "\n",
            "      Epoch    GPU_mem       loss  Instances       Size\n"
          ]
        },
        {
          "output_type": "stream",
          "name": "stderr",
          "text": [
            "      11/50      1.31G     0.1391         50        224: 100%|██████████| 11/11 [00:01<00:00,  6.29it/s]\n",
            "               classes   top1_acc   top5_acc: 100%|██████████| 2/2 [00:00<00:00, 64.03it/s]"
          ]
        },
        {
          "output_type": "stream",
          "name": "stdout",
          "text": [
            "                   all      0.795          1\n"
          ]
        },
        {
          "output_type": "stream",
          "name": "stderr",
          "text": [
            "\n"
          ]
        },
        {
          "output_type": "stream",
          "name": "stdout",
          "text": [
            "\n",
            "      Epoch    GPU_mem       loss  Instances       Size\n"
          ]
        },
        {
          "output_type": "stream",
          "name": "stderr",
          "text": [
            "      12/50      1.31G     0.0992         50        224: 100%|██████████| 11/11 [00:03<00:00,  3.53it/s]\n",
            "               classes   top1_acc   top5_acc: 100%|██████████| 2/2 [00:00<00:00, 61.89it/s]"
          ]
        },
        {
          "output_type": "stream",
          "name": "stdout",
          "text": [
            "                   all      0.757          1\n"
          ]
        },
        {
          "output_type": "stream",
          "name": "stderr",
          "text": [
            "\n"
          ]
        },
        {
          "output_type": "stream",
          "name": "stdout",
          "text": [
            "\n",
            "      Epoch    GPU_mem       loss  Instances       Size\n"
          ]
        },
        {
          "output_type": "stream",
          "name": "stderr",
          "text": [
            "      13/50      1.31G     0.1483         50        224: 100%|██████████| 11/11 [00:02<00:00,  5.21it/s]\n",
            "               classes   top1_acc   top5_acc: 100%|██████████| 2/2 [00:00<00:00, 67.11it/s]"
          ]
        },
        {
          "output_type": "stream",
          "name": "stdout",
          "text": [
            "                   all      0.795          1\n"
          ]
        },
        {
          "output_type": "stream",
          "name": "stderr",
          "text": [
            "\n"
          ]
        },
        {
          "output_type": "stream",
          "name": "stdout",
          "text": [
            "\n",
            "      Epoch    GPU_mem       loss  Instances       Size\n"
          ]
        },
        {
          "output_type": "stream",
          "name": "stderr",
          "text": [
            "      14/50      1.31G     0.1329         50        224: 100%|██████████| 11/11 [00:01<00:00,  5.83it/s]\n",
            "               classes   top1_acc   top5_acc: 100%|██████████| 2/2 [00:00<00:00, 70.38it/s]"
          ]
        },
        {
          "output_type": "stream",
          "name": "stdout",
          "text": [
            "                   all      0.751          1\n"
          ]
        },
        {
          "output_type": "stream",
          "name": "stderr",
          "text": [
            "\n"
          ]
        },
        {
          "output_type": "stream",
          "name": "stdout",
          "text": [
            "\n",
            "      Epoch    GPU_mem       loss  Instances       Size\n"
          ]
        },
        {
          "output_type": "stream",
          "name": "stderr",
          "text": [
            "      15/50      1.31G     0.1838         50        224: 100%|██████████| 11/11 [00:03<00:00,  3.64it/s]\n",
            "               classes   top1_acc   top5_acc: 100%|██████████| 2/2 [00:00<00:00, 67.32it/s]"
          ]
        },
        {
          "output_type": "stream",
          "name": "stdout",
          "text": [
            "                   all      0.751          1\n"
          ]
        },
        {
          "output_type": "stream",
          "name": "stderr",
          "text": [
            "\n"
          ]
        },
        {
          "output_type": "stream",
          "name": "stdout",
          "text": [
            "\n",
            "      Epoch    GPU_mem       loss  Instances       Size\n"
          ]
        },
        {
          "output_type": "stream",
          "name": "stderr",
          "text": [
            "      16/50      1.31G     0.1942         50        224: 100%|██████████| 11/11 [00:01<00:00,  6.62it/s]\n",
            "               classes   top1_acc   top5_acc: 100%|██████████| 2/2 [00:00<00:00, 60.57it/s]"
          ]
        },
        {
          "output_type": "stream",
          "name": "stdout",
          "text": [
            "                   all      0.773          1\n",
            "\u001b[34m\u001b[1mEarlyStopping: \u001b[0mTraining stopped early as no improvement observed in last 10 epochs. Best results observed at epoch 6, best model saved as best.pt.\n",
            "To update EarlyStopping(patience=10) pass a new patience value, i.e. `patience=300` or use `patience=0` to disable EarlyStopping.\n"
          ]
        },
        {
          "output_type": "stream",
          "name": "stderr",
          "text": [
            "\n"
          ]
        },
        {
          "output_type": "stream",
          "name": "stdout",
          "text": [
            "\n",
            "16 epochs completed in 0.036 hours.\n",
            "Optimizer stripped from runs/classify/yoloS2/weights/last.pt, 10.3MB\n",
            "Optimizer stripped from runs/classify/yoloS2/weights/best.pt, 10.3MB\n",
            "\n",
            "Validating runs/classify/yoloS2/weights/best.pt...\n",
            "Ultralytics YOLOv8.2.103 🚀 Python-3.10.12 torch-2.5.0+cu121 CUDA:0 (NVIDIA A100-SXM4-40GB, 40514MiB)\n",
            "YOLOv8s-cls summary (fused): 73 layers, 5,081,605 parameters, 0 gradients, 12.5 GFLOPs\n",
            "WARNING ⚠️ Dataset 'split=val' not found, using 'split=test' instead.\n",
            "\u001b[34m\u001b[1mtrain:\u001b[0m /content/drive/MyDrive/Colab/deep learning/dataset/dataMerge/train... found 690 images in 5 classes ✅ \n",
            "\u001b[34m\u001b[1mval:\u001b[0m None...\n",
            "\u001b[34m\u001b[1mtest:\u001b[0m /content/drive/MyDrive/Colab/deep learning/dataset/dataMerge/test... found 185 images in 5 classes ✅ \n"
          ]
        },
        {
          "output_type": "stream",
          "name": "stderr",
          "text": [
            "               classes   top1_acc   top5_acc: 100%|██████████| 2/2 [00:00<00:00, 66.74it/s]\n"
          ]
        },
        {
          "output_type": "stream",
          "name": "stdout",
          "text": [
            "                   all      0.827          1\n",
            "Speed: 0.1ms preprocess, 0.1ms inference, 0.0ms loss, 0.0ms postprocess per image\n",
            "Results saved to \u001b[1mruns/classify/yoloS2\u001b[0m\n",
            "Results saved to \u001b[1mruns/classify/yoloS2\u001b[0m\n"
          ]
        }
      ],
      "source": [
        "# Train the model\n",
        "results = modelyolov8s.train(data='/content/drive/MyDrive/Colab/deep learning/dataset/dataMerge', epochs=epochs, imgsz=imageSize, lr0 = learningRate, optimizer = 'Adam', batch =batch_size , freeze = 1, patience = 10, name ='yoloS')"
      ]
    },
    {
      "cell_type": "code",
      "source": [
        "results"
      ],
      "metadata": {
        "colab": {
          "base_uri": "https://localhost:8080/"
        },
        "id": "a77eUJYOV9oL",
        "outputId": "3e8fc5d6-d08e-4d10-e5c1-1e05a2c3a9a4"
      },
      "execution_count": null,
      "outputs": [
        {
          "output_type": "execute_result",
          "data": {
            "text/plain": [
              "ultralytics.utils.metrics.ClassifyMetrics object with attributes:\n",
              "\n",
              "confusion_matrix: <ultralytics.utils.metrics.ConfusionMatrix object at 0x7ad5c8979d80>\n",
              "curves: []\n",
              "curves_results: []\n",
              "fitness: 0.9135135114192963\n",
              "keys: ['metrics/accuracy_top1', 'metrics/accuracy_top5']\n",
              "results_dict: {'metrics/accuracy_top1': 0.8270270228385925, 'metrics/accuracy_top5': 1.0, 'fitness': 0.9135135114192963}\n",
              "save_dir: PosixPath('runs/classify/yoloS2')\n",
              "speed: {'preprocess': 0.061370231009818414, 'inference': 0.07541888468974345, 'loss': 0.00018171361974767737, 'postprocess': 0.0001533611400707348}\n",
              "task: 'classify'\n",
              "top1: 0.8270270228385925\n",
              "top5: 1.0"
            ]
          },
          "metadata": {},
          "execution_count": 66
        }
      ]
    },
    {
      "cell_type": "code",
      "execution_count": null,
      "metadata": {
        "id": "o32K1dZreYfl"
      },
      "outputs": [],
      "source": [
        "bestModelYoloS = YOLO('/content/runs/classify/yoloS/weights/best.pt')  # load a custom model"
      ]
    },
    {
      "cell_type": "code",
      "execution_count": null,
      "metadata": {
        "id": "JE-paT_c_yfX"
      },
      "outputs": [],
      "source": [
        "# Total parameter untuk masing-masing model\n",
        "path_class = ['/content/drive/MyDrive/Colab/deep learning/dataset/dataMerge/test/Acne',\n",
        "              '/content/drive/MyDrive/Colab/deep learning/dataset/dataMerge/test/Actinic Keratosis',\n",
        "              '/content/drive/MyDrive/Colab/deep learning/dataset/dataMerge/test/Basal Cell Carcinoma',\n",
        "              '/content/drive/MyDrive/Colab/deep learning/dataset/dataMerge/test/Eczemaa',\n",
        "              '/content/drive/MyDrive/Colab/deep learning/dataset/dataMerge/test/Rosacea']"
      ]
    },
    {
      "cell_type": "code",
      "execution_count": null,
      "metadata": {
        "id": "yLjsuXW29-Hq"
      },
      "outputs": [],
      "source": [
        "def evaluate_model_yolo(model, model_path, device=None):\n",
        "  # Setup TicToc\n",
        "  t = TicToc()\n",
        "  # List to store prediction results\n",
        "  prediction_tests = []\n",
        "  if device is None:\n",
        "        # Automatically choose the device: Use GPU if available, else CPU\n",
        "    device = torch.device('cuda' if torch.cuda.is_available() else 'cpu')\n",
        "\n",
        "    # Move model to the selected device\n",
        "  model.to(device)\n",
        "  t.tic()  # Start timing\n",
        "  # Proses untuk setiap predictionTest\n",
        "  for i in range(5):\n",
        "    prediction_result = model.predict(model_path[i])\n",
        "    prediction_tests.append(prediction_result)\n",
        "\n",
        "  t.toc()  # Stop timing and get total time\n",
        "  # Menggunakan total waktu evaluasi\n",
        "  elapsed_time_s = t.elapsed\n",
        "  print(f\"Total Prediction Time: {elapsed_time_s:.2f} seconds\")\n",
        "\n",
        "  return prediction_tests, elapsed_time_s"
      ]
    },
    {
      "cell_type": "code",
      "execution_count": null,
      "metadata": {
        "collapsed": true,
        "id": "15eOVFn9Ants",
        "colab": {
          "base_uri": "https://localhost:8080/"
        },
        "outputId": "0e06ef0a-b718-4789-ef3b-c3a7528174ad"
      },
      "outputs": [
        {
          "output_type": "stream",
          "name": "stdout",
          "text": [
            "\n",
            "image 1/37 /content/drive/MyDrive/Colab/deep learning/dataset/dataMerge/test/Acne/032839HB.jpg: 224x224 Acne 0.84, Eczemaa 0.16, Rosacea 0.00, Basal Cell Carcinoma 0.00, Actinic Keratosis 0.00, 4.0ms\n",
            "image 2/37 /content/drive/MyDrive/Colab/deep learning/dataset/dataMerge/test/Acne/032897HB.jpg: 224x224 Acne 0.98, Eczemaa 0.01, Rosacea 0.00, Actinic Keratosis 0.00, Basal Cell Carcinoma 0.00, 4.6ms\n",
            "image 3/37 /content/drive/MyDrive/Colab/deep learning/dataset/dataMerge/test/Acne/07AcnePittedScars1.jpg: 224x224 Acne 1.00, Eczemaa 0.00, Basal Cell Carcinoma 0.00, Actinic Keratosis 0.00, Rosacea 0.00, 4.1ms\n",
            "image 4/37 /content/drive/MyDrive/Colab/deep learning/dataset/dataMerge/test/Acne/acne-Closed-Comedo.jpg: 224x224 Acne 0.80, Basal Cell Carcinoma 0.11, Eczemaa 0.06, Actinic Keratosis 0.03, Rosacea 0.00, 5.4ms\n",
            "image 5/37 /content/drive/MyDrive/Colab/deep learning/dataset/dataMerge/test/Acne/acne-closed-comedo-8.jpg: 224x224 Acne 1.00, Eczemaa 0.00, Basal Cell Carcinoma 0.00, Actinic Keratosis 0.00, Rosacea 0.00, 3.8ms\n",
            "image 6/37 /content/drive/MyDrive/Colab/deep learning/dataset/dataMerge/test/Acne/acne-cystic-13.jpg: 224x224 Acne 1.00, Rosacea 0.00, Eczemaa 0.00, Basal Cell Carcinoma 0.00, Actinic Keratosis 0.00, 4.6ms\n",
            "image 7/37 /content/drive/MyDrive/Colab/deep learning/dataset/dataMerge/test/Acne/acne-excoriated-24.jpg: 224x224 Acne 1.00, Eczemaa 0.00, Rosacea 0.00, Actinic Keratosis 0.00, Basal Cell Carcinoma 0.00, 3.7ms\n",
            "image 8/37 /content/drive/MyDrive/Colab/deep learning/dataset/dataMerge/test/Acne/acne-excoriated-27.jpg: 224x224 Acne 1.00, Eczemaa 0.00, Basal Cell Carcinoma 0.00, Actinic Keratosis 0.00, Rosacea 0.00, 3.9ms\n",
            "image 9/37 /content/drive/MyDrive/Colab/deep learning/dataset/dataMerge/test/Acne/acne-infantile-1.jpg: 224x224 Acne 1.00, Eczemaa 0.00, Rosacea 0.00, Basal Cell Carcinoma 0.00, Actinic Keratosis 0.00, 4.4ms\n",
            "image 10/37 /content/drive/MyDrive/Colab/deep learning/dataset/dataMerge/test/Acne/acne-open-comedo-58.jpg: 224x224 Acne 1.00, Eczemaa 0.00, Rosacea 0.00, Actinic Keratosis 0.00, Basal Cell Carcinoma 0.00, 4.5ms\n",
            "image 11/37 /content/drive/MyDrive/Colab/deep learning/dataset/dataMerge/test/Acne/acne-open-comedo-59.jpg: 224x224 Acne 1.00, Rosacea 0.00, Eczemaa 0.00, Basal Cell Carcinoma 0.00, Actinic Keratosis 0.00, 4.5ms\n",
            "image 12/37 /content/drive/MyDrive/Colab/deep learning/dataset/dataMerge/test/Acne/acne-open-comedo-61.jpg: 224x224 Acne 1.00, Actinic Keratosis 0.00, Rosacea 0.00, Basal Cell Carcinoma 0.00, Eczemaa 0.00, 5.6ms\n",
            "image 13/37 /content/drive/MyDrive/Colab/deep learning/dataset/dataMerge/test/Acne/acne-open-comedo-62.jpg: 224x224 Acne 1.00, Basal Cell Carcinoma 0.00, Eczemaa 0.00, Actinic Keratosis 0.00, Rosacea 0.00, 3.8ms\n",
            "image 14/37 /content/drive/MyDrive/Colab/deep learning/dataset/dataMerge/test/Acne/acne-open-comedo-63.jpg: 224x224 Acne 1.00, Eczemaa 0.00, Basal Cell Carcinoma 0.00, Rosacea 0.00, Actinic Keratosis 0.00, 4.3ms\n",
            "image 15/37 /content/drive/MyDrive/Colab/deep learning/dataset/dataMerge/test/Acne/acne-open-comedo-64.jpg: 224x224 Acne 1.00, Eczemaa 0.00, Basal Cell Carcinoma 0.00, Rosacea 0.00, Actinic Keratosis 0.00, 3.8ms\n",
            "image 16/37 /content/drive/MyDrive/Colab/deep learning/dataset/dataMerge/test/Acne/acne-open-comedo-65.jpg: 224x224 Acne 0.94, Actinic Keratosis 0.04, Eczemaa 0.02, Basal Cell Carcinoma 0.00, Rosacea 0.00, 3.8ms\n",
            "image 17/37 /content/drive/MyDrive/Colab/deep learning/dataset/dataMerge/test/Acne/acne-open-comedo-66.jpg: 224x224 Basal Cell Carcinoma 0.91, Acne 0.09, Actinic Keratosis 0.00, Eczemaa 0.00, Rosacea 0.00, 3.6ms\n",
            "image 18/37 /content/drive/MyDrive/Colab/deep learning/dataset/dataMerge/test/Acne/acne-open-comedo-68.jpg: 224x224 Acne 1.00, Eczemaa 0.00, Basal Cell Carcinoma 0.00, Actinic Keratosis 0.00, Rosacea 0.00, 6.8ms\n",
            "image 19/37 /content/drive/MyDrive/Colab/deep learning/dataset/dataMerge/test/Acne/acne-open-comedo-73.jpg: 224x224 Actinic Keratosis 0.79, Basal Cell Carcinoma 0.19, Rosacea 0.01, Acne 0.01, Eczemaa 0.00, 5.5ms\n",
            "image 20/37 /content/drive/MyDrive/Colab/deep learning/dataset/dataMerge/test/Acne/acne-pustular-10.jpg: 224x224 Acne 1.00, Rosacea 0.00, Eczemaa 0.00, Basal Cell Carcinoma 0.00, Actinic Keratosis 0.00, 3.7ms\n",
            "image 21/37 /content/drive/MyDrive/Colab/deep learning/dataset/dataMerge/test/Acne/acne-pustular-12.jpg: 224x224 Acne 1.00, Rosacea 0.00, Actinic Keratosis 0.00, Eczemaa 0.00, Basal Cell Carcinoma 0.00, 3.9ms\n",
            "image 22/37 /content/drive/MyDrive/Colab/deep learning/dataset/dataMerge/test/Acne/acne-pustular-13.jpg: 224x224 Acne 1.00, Rosacea 0.00, Eczemaa 0.00, Actinic Keratosis 0.00, Basal Cell Carcinoma 0.00, 5.6ms\n",
            "image 23/37 /content/drive/MyDrive/Colab/deep learning/dataset/dataMerge/test/Acne/acne-pustular-14.jpg: 224x224 Acne 1.00, Rosacea 0.00, Actinic Keratosis 0.00, Eczemaa 0.00, Basal Cell Carcinoma 0.00, 5.5ms\n",
            "image 24/37 /content/drive/MyDrive/Colab/deep learning/dataset/dataMerge/test/Acne/acne-pustular-15.jpg: 224x224 Acne 0.97, Rosacea 0.03, Eczemaa 0.00, Actinic Keratosis 0.00, Basal Cell Carcinoma 0.00, 4.2ms\n",
            "image 25/37 /content/drive/MyDrive/Colab/deep learning/dataset/dataMerge/test/Acne/acne-pustular-16.jpg: 224x224 Acne 1.00, Rosacea 0.00, Eczemaa 0.00, Actinic Keratosis 0.00, Basal Cell Carcinoma 0.00, 3.8ms\n",
            "image 26/37 /content/drive/MyDrive/Colab/deep learning/dataset/dataMerge/test/Acne/acne-pustular-17.jpg: 224x224 Acne 1.00, Eczemaa 0.00, Basal Cell Carcinoma 0.00, Rosacea 0.00, Actinic Keratosis 0.00, 3.8ms\n",
            "image 27/37 /content/drive/MyDrive/Colab/deep learning/dataset/dataMerge/test/Acne/acne-pustular-18.jpg: 224x224 Acne 1.00, Rosacea 0.00, Actinic Keratosis 0.00, Eczemaa 0.00, Basal Cell Carcinoma 0.00, 3.7ms\n",
            "image 28/37 /content/drive/MyDrive/Colab/deep learning/dataset/dataMerge/test/Acne/acne-pustular-21.jpg: 224x224 Acne 1.00, Eczemaa 0.00, Rosacea 0.00, Basal Cell Carcinoma 0.00, Actinic Keratosis 0.00, 3.8ms\n",
            "image 29/37 /content/drive/MyDrive/Colab/deep learning/dataset/dataMerge/test/Acne/acne-pustular-23.jpg: 224x224 Acne 1.00, Eczemaa 0.00, Rosacea 0.00, Basal Cell Carcinoma 0.00, Actinic Keratosis 0.00, 3.7ms\n",
            "image 30/37 /content/drive/MyDrive/Colab/deep learning/dataset/dataMerge/test/Acne/acne-pustular-24.jpg: 224x224 Acne 1.00, Rosacea 0.00, Eczemaa 0.00, Basal Cell Carcinoma 0.00, Actinic Keratosis 0.00, 3.7ms\n",
            "image 31/37 /content/drive/MyDrive/Colab/deep learning/dataset/dataMerge/test/Acne/acne-pustular-25.jpg: 224x224 Acne 1.00, Rosacea 0.00, Eczemaa 0.00, Actinic Keratosis 0.00, Basal Cell Carcinoma 0.00, 3.6ms\n",
            "image 32/37 /content/drive/MyDrive/Colab/deep learning/dataset/dataMerge/test/Acne/acne-pustular-27.jpg: 224x224 Acne 1.00, Rosacea 0.00, Eczemaa 0.00, Actinic Keratosis 0.00, Basal Cell Carcinoma 0.00, 4.9ms\n",
            "image 33/37 /content/drive/MyDrive/Colab/deep learning/dataset/dataMerge/test/Acne/acne-pustular-28.jpg: 224x224 Acne 1.00, Rosacea 0.00, Actinic Keratosis 0.00, Eczemaa 0.00, Basal Cell Carcinoma 0.00, 3.3ms\n",
            "image 34/37 /content/drive/MyDrive/Colab/deep learning/dataset/dataMerge/test/Acne/acne-pustular-29.jpg: 224x224 Acne 1.00, Eczemaa 0.00, Rosacea 0.00, Actinic Keratosis 0.00, Basal Cell Carcinoma 0.00, 3.7ms\n",
            "image 35/37 /content/drive/MyDrive/Colab/deep learning/dataset/dataMerge/test/Acne/acne-pustular-30.jpg: 224x224 Acne 1.00, Eczemaa 0.00, Rosacea 0.00, Actinic Keratosis 0.00, Basal Cell Carcinoma 0.00, 3.7ms\n",
            "image 36/37 /content/drive/MyDrive/Colab/deep learning/dataset/dataMerge/test/Acne/acne-pustular-31.jpg: 224x224 Acne 1.00, Eczemaa 0.00, Rosacea 0.00, Basal Cell Carcinoma 0.00, Actinic Keratosis 0.00, 4.3ms\n",
            "image 37/37 /content/drive/MyDrive/Colab/deep learning/dataset/dataMerge/test/Acne/acne-pustular-43.jpg: 224x224 Acne 1.00, Rosacea 0.00, Eczemaa 0.00, Basal Cell Carcinoma 0.00, Actinic Keratosis 0.00, 3.7ms\n",
            "Speed: 7.0ms preprocess, 4.3ms inference, 0.1ms postprocess per image at shape (1, 3, 224, 224)\n",
            "\n",
            "image 1/37 /content/drive/MyDrive/Colab/deep learning/dataset/dataMerge/test/Actinic Keratosis/actinic-keratosis-5FU-10.jpg: 224x224 Actinic Keratosis 1.00, Basal Cell Carcinoma 0.00, Acne 0.00, Eczemaa 0.00, Rosacea 0.00, 3.7ms\n",
            "image 2/37 /content/drive/MyDrive/Colab/deep learning/dataset/dataMerge/test/Actinic Keratosis/actinic-keratosis-5FU-15.jpg: 224x224 Actinic Keratosis 1.00, Basal Cell Carcinoma 0.00, Rosacea 0.00, Eczemaa 0.00, Acne 0.00, 3.6ms\n",
            "image 3/37 /content/drive/MyDrive/Colab/deep learning/dataset/dataMerge/test/Actinic Keratosis/actinic-keratosis-5FU-25.jpg: 224x224 Actinic Keratosis 1.00, Rosacea 0.00, Basal Cell Carcinoma 0.00, Eczemaa 0.00, Acne 0.00, 3.7ms\n",
            "image 4/37 /content/drive/MyDrive/Colab/deep learning/dataset/dataMerge/test/Actinic Keratosis/actinic-keratosis-5FU-26.jpg: 224x224 Actinic Keratosis 1.00, Rosacea 0.00, Eczemaa 0.00, Basal Cell Carcinoma 0.00, Acne 0.00, 3.9ms\n",
            "image 5/37 /content/drive/MyDrive/Colab/deep learning/dataset/dataMerge/test/Actinic Keratosis/actinic-keratosis-5FU-32.jpg: 224x224 Actinic Keratosis 1.00, Rosacea 0.00, Acne 0.00, Eczemaa 0.00, Basal Cell Carcinoma 0.00, 3.6ms\n",
            "image 6/37 /content/drive/MyDrive/Colab/deep learning/dataset/dataMerge/test/Actinic Keratosis/actinic-keratosis-5FU-35.jpg: 224x224 Actinic Keratosis 1.00, Basal Cell Carcinoma 0.00, Rosacea 0.00, Eczemaa 0.00, Acne 0.00, 3.7ms\n",
            "image 7/37 /content/drive/MyDrive/Colab/deep learning/dataset/dataMerge/test/Actinic Keratosis/actinic-keratosis-5FU-65.jpg: 224x224 Actinic Keratosis 0.81, Eczemaa 0.17, Acne 0.01, Rosacea 0.01, Basal Cell Carcinoma 0.00, 3.6ms\n",
            "image 8/37 /content/drive/MyDrive/Colab/deep learning/dataset/dataMerge/test/Actinic Keratosis/actinic-keratosis-face-33.jpg: 224x224 Actinic Keratosis 1.00, Rosacea 0.00, Basal Cell Carcinoma 0.00, Eczemaa 0.00, Acne 0.00, 3.4ms\n",
            "image 9/37 /content/drive/MyDrive/Colab/deep learning/dataset/dataMerge/test/Actinic Keratosis/actinic-keratosis-face-35.jpg: 224x224 Actinic Keratosis 0.98, Rosacea 0.02, Basal Cell Carcinoma 0.00, Eczemaa 0.00, Acne 0.00, 3.6ms\n",
            "image 10/37 /content/drive/MyDrive/Colab/deep learning/dataset/dataMerge/test/Actinic Keratosis/actinic-keratosis-face-39.jpg: 224x224 Actinic Keratosis 1.00, Basal Cell Carcinoma 0.00, Rosacea 0.00, Eczemaa 0.00, Acne 0.00, 3.6ms\n",
            "image 11/37 /content/drive/MyDrive/Colab/deep learning/dataset/dataMerge/test/Actinic Keratosis/actinic-keratosis-face-43.jpg: 224x224 Actinic Keratosis 1.00, Basal Cell Carcinoma 0.00, Rosacea 0.00, Acne 0.00, Eczemaa 0.00, 3.8ms\n",
            "image 12/37 /content/drive/MyDrive/Colab/deep learning/dataset/dataMerge/test/Actinic Keratosis/actinic-keratosis-face-46.jpg: 224x224 Basal Cell Carcinoma 0.98, Actinic Keratosis 0.01, Eczemaa 0.00, Acne 0.00, Rosacea 0.00, 3.7ms\n",
            "image 13/37 /content/drive/MyDrive/Colab/deep learning/dataset/dataMerge/test/Actinic Keratosis/actinic-keratosis-face-48.jpg: 224x224 Actinic Keratosis 0.95, Basal Cell Carcinoma 0.04, Rosacea 0.00, Eczemaa 0.00, Acne 0.00, 4.9ms\n",
            "image 14/37 /content/drive/MyDrive/Colab/deep learning/dataset/dataMerge/test/Actinic Keratosis/actinic-keratosis-face-49.jpg: 224x224 Rosacea 0.67, Actinic Keratosis 0.33, Basal Cell Carcinoma 0.00, Eczemaa 0.00, Acne 0.00, 5.0ms\n",
            "image 15/37 /content/drive/MyDrive/Colab/deep learning/dataset/dataMerge/test/Actinic Keratosis/actinic-keratosis-face-50.jpg: 224x224 Actinic Keratosis 0.80, Rosacea 0.20, Acne 0.00, Eczemaa 0.00, Basal Cell Carcinoma 0.00, 4.2ms\n",
            "image 16/37 /content/drive/MyDrive/Colab/deep learning/dataset/dataMerge/test/Actinic Keratosis/actinic-keratosis-face-51.jpg: 224x224 Actinic Keratosis 1.00, Rosacea 0.00, Basal Cell Carcinoma 0.00, Eczemaa 0.00, Acne 0.00, 3.9ms\n",
            "image 17/37 /content/drive/MyDrive/Colab/deep learning/dataset/dataMerge/test/Actinic Keratosis/actinic-keratosis-face-56.jpg: 224x224 Actinic Keratosis 0.52, Rosacea 0.47, Acne 0.01, Eczemaa 0.00, Basal Cell Carcinoma 0.00, 4.4ms\n",
            "image 18/37 /content/drive/MyDrive/Colab/deep learning/dataset/dataMerge/test/Actinic Keratosis/actinic-keratosis-face-60.jpg: 224x224 Actinic Keratosis 1.00, Basal Cell Carcinoma 0.00, Eczemaa 0.00, Acne 0.00, Rosacea 0.00, 4.2ms\n",
            "image 19/37 /content/drive/MyDrive/Colab/deep learning/dataset/dataMerge/test/Actinic Keratosis/actinic-keratosis-face-9.jpg: 224x224 Actinic Keratosis 1.00, Basal Cell Carcinoma 0.00, Eczemaa 0.00, Rosacea 0.00, Acne 0.00, 3.8ms\n",
            "image 20/37 /content/drive/MyDrive/Colab/deep learning/dataset/dataMerge/test/Actinic Keratosis/actinic-keratosis-horn-1.jpg: 224x224 Actinic Keratosis 1.00, Basal Cell Carcinoma 0.00, Acne 0.00, Eczemaa 0.00, Rosacea 0.00, 4.1ms\n",
            "image 21/37 /content/drive/MyDrive/Colab/deep learning/dataset/dataMerge/test/Actinic Keratosis/actinic-keratosis-horn-23.jpg: 224x224 Actinic Keratosis 0.94, Basal Cell Carcinoma 0.06, Rosacea 0.00, Eczemaa 0.00, Acne 0.00, 4.2ms\n",
            "image 22/37 /content/drive/MyDrive/Colab/deep learning/dataset/dataMerge/test/Actinic Keratosis/actinic-keratosis-horn-24.jpg: 224x224 Actinic Keratosis 1.00, Basal Cell Carcinoma 0.00, Rosacea 0.00, Eczemaa 0.00, Acne 0.00, 3.6ms\n",
            "image 23/37 /content/drive/MyDrive/Colab/deep learning/dataset/dataMerge/test/Actinic Keratosis/actinic-keratosis-lesion-11.jpg: 224x224 Basal Cell Carcinoma 0.78, Eczemaa 0.22, Acne 0.00, Actinic Keratosis 0.00, Rosacea 0.00, 3.7ms\n",
            "image 24/37 /content/drive/MyDrive/Colab/deep learning/dataset/dataMerge/test/Actinic Keratosis/actinic-keratosis-lesion-22.jpg: 224x224 Actinic Keratosis 1.00, Basal Cell Carcinoma 0.00, Eczemaa 0.00, Rosacea 0.00, Acne 0.00, 4.4ms\n",
            "image 25/37 /content/drive/MyDrive/Colab/deep learning/dataset/dataMerge/test/Actinic Keratosis/actinic-keratosis-lesion-24.jpg: 224x224 Actinic Keratosis 0.98, Basal Cell Carcinoma 0.02, Rosacea 0.00, Eczemaa 0.00, Acne 0.00, 4.1ms\n",
            "image 26/37 /content/drive/MyDrive/Colab/deep learning/dataset/dataMerge/test/Actinic Keratosis/actinic-keratosis-lesion-31.jpg: 224x224 Actinic Keratosis 1.00, Basal Cell Carcinoma 0.00, Acne 0.00, Eczemaa 0.00, Rosacea 0.00, 3.7ms\n",
            "image 27/37 /content/drive/MyDrive/Colab/deep learning/dataset/dataMerge/test/Actinic Keratosis/actinic-keratosis-lesion-32.jpg: 224x224 Actinic Keratosis 1.00, Basal Cell Carcinoma 0.00, Acne 0.00, Eczemaa 0.00, Rosacea 0.00, 3.7ms\n",
            "image 28/37 /content/drive/MyDrive/Colab/deep learning/dataset/dataMerge/test/Actinic Keratosis/actinic-keratosis-lesion-34.jpg: 224x224 Basal Cell Carcinoma 0.60, Eczemaa 0.28, Actinic Keratosis 0.11, Rosacea 0.01, Acne 0.00, 3.7ms\n",
            "image 29/37 /content/drive/MyDrive/Colab/deep learning/dataset/dataMerge/test/Actinic Keratosis/actinic-keratosis-lesion-36.jpg: 224x224 Actinic Keratosis 1.00, Basal Cell Carcinoma 0.00, Eczemaa 0.00, Rosacea 0.00, Acne 0.00, 6.0ms\n",
            "image 30/37 /content/drive/MyDrive/Colab/deep learning/dataset/dataMerge/test/Actinic Keratosis/actinic-keratosis-lesion-39.jpg: 224x224 Actinic Keratosis 0.94, Basal Cell Carcinoma 0.06, Rosacea 0.00, Eczemaa 0.00, Acne 0.00, 3.7ms\n",
            "image 31/37 /content/drive/MyDrive/Colab/deep learning/dataset/dataMerge/test/Actinic Keratosis/actinic-keratosis-lesion-41.jpg: 224x224 Actinic Keratosis 1.00, Basal Cell Carcinoma 0.00, Acne 0.00, Rosacea 0.00, Eczemaa 0.00, 3.7ms\n",
            "image 32/37 /content/drive/MyDrive/Colab/deep learning/dataset/dataMerge/test/Actinic Keratosis/actinic-keratosis-lesion-48.jpg: 224x224 Actinic Keratosis 0.99, Basal Cell Carcinoma 0.01, Rosacea 0.00, Eczemaa 0.00, Acne 0.00, 3.8ms\n",
            "image 33/37 /content/drive/MyDrive/Colab/deep learning/dataset/dataMerge/test/Actinic Keratosis/actinic-keratosis-lesion-52.jpg: 224x224 Actinic Keratosis 1.00, Basal Cell Carcinoma 0.00, Acne 0.00, Eczemaa 0.00, Rosacea 0.00, 3.6ms\n",
            "image 34/37 /content/drive/MyDrive/Colab/deep learning/dataset/dataMerge/test/Actinic Keratosis/actinic-keratosis-lesion-56.jpg: 224x224 Actinic Keratosis 0.97, Basal Cell Carcinoma 0.03, Eczemaa 0.00, Acne 0.00, Rosacea 0.00, 3.8ms\n",
            "image 35/37 /content/drive/MyDrive/Colab/deep learning/dataset/dataMerge/test/Actinic Keratosis/actinic-keratosis-lesion-57.jpg: 224x224 Actinic Keratosis 0.98, Basal Cell Carcinoma 0.02, Rosacea 0.00, Eczemaa 0.00, Acne 0.00, 3.7ms\n",
            "image 36/37 /content/drive/MyDrive/Colab/deep learning/dataset/dataMerge/test/Actinic Keratosis/actinic-keratosis-nose-1.jpg: 224x224 Actinic Keratosis 1.00, Basal Cell Carcinoma 0.00, Rosacea 0.00, Eczemaa 0.00, Acne 0.00, 3.7ms\n",
            "image 37/37 /content/drive/MyDrive/Colab/deep learning/dataset/dataMerge/test/Actinic Keratosis/actinic-keratosis-nose-14.jpg: 224x224 Rosacea 0.87, Actinic Keratosis 0.10, Basal Cell Carcinoma 0.03, Acne 0.00, Eczemaa 0.00, 3.6ms\n",
            "Speed: 5.8ms preprocess, 3.9ms inference, 0.1ms postprocess per image at shape (1, 3, 224, 224)\n",
            "\n",
            "image 1/37 /content/drive/MyDrive/Colab/deep learning/dataset/dataMerge/test/Basal Cell Carcinoma/basal-cell-carcinoma-face-10.jpg: 224x224 Basal Cell Carcinoma 1.00, Eczemaa 0.00, Actinic Keratosis 0.00, Acne 0.00, Rosacea 0.00, 3.7ms\n",
            "image 2/37 /content/drive/MyDrive/Colab/deep learning/dataset/dataMerge/test/Basal Cell Carcinoma/basal-cell-carcinoma-face-11.jpg: 224x224 Basal Cell Carcinoma 1.00, Actinic Keratosis 0.00, Eczemaa 0.00, Acne 0.00, Rosacea 0.00, 3.8ms\n",
            "image 3/37 /content/drive/MyDrive/Colab/deep learning/dataset/dataMerge/test/Basal Cell Carcinoma/basal-cell-carcinoma-face-13.jpg: 224x224 Basal Cell Carcinoma 1.00, Eczemaa 0.00, Actinic Keratosis 0.00, Acne 0.00, Rosacea 0.00, 3.8ms\n",
            "image 4/37 /content/drive/MyDrive/Colab/deep learning/dataset/dataMerge/test/Basal Cell Carcinoma/basal-cell-carcinoma-face-22.jpg: 224x224 Basal Cell Carcinoma 0.84, Rosacea 0.16, Eczemaa 0.00, Actinic Keratosis 0.00, Acne 0.00, 3.7ms\n",
            "image 5/37 /content/drive/MyDrive/Colab/deep learning/dataset/dataMerge/test/Basal Cell Carcinoma/basal-cell-carcinoma-face-4.jpg: 224x224 Basal Cell Carcinoma 0.99, Actinic Keratosis 0.01, Eczemaa 0.00, Rosacea 0.00, Acne 0.00, 3.6ms\n",
            "image 6/37 /content/drive/MyDrive/Colab/deep learning/dataset/dataMerge/test/Basal Cell Carcinoma/basal-cell-carcinoma-face-9.jpg: 224x224 Basal Cell Carcinoma 1.00, Actinic Keratosis 0.00, Eczemaa 0.00, Acne 0.00, Rosacea 0.00, 3.6ms\n",
            "image 7/37 /content/drive/MyDrive/Colab/deep learning/dataset/dataMerge/test/Basal Cell Carcinoma/basal-cell-carcinoma-lesion-92.jpg: 224x224 Basal Cell Carcinoma 1.00, Eczemaa 0.00, Actinic Keratosis 0.00, Rosacea 0.00, Acne 0.00, 3.7ms\n",
            "image 8/37 /content/drive/MyDrive/Colab/deep learning/dataset/dataMerge/test/Basal Cell Carcinoma/basal-cell-carcinoma-lid-11.jpg: 224x224 Basal Cell Carcinoma 1.00, Eczemaa 0.00, Actinic Keratosis 0.00, Acne 0.00, Rosacea 0.00, 4.5ms\n",
            "image 9/37 /content/drive/MyDrive/Colab/deep learning/dataset/dataMerge/test/Basal Cell Carcinoma/basal-cell-carcinoma-lid-16.jpg: 224x224 Basal Cell Carcinoma 1.00, Actinic Keratosis 0.00, Eczemaa 0.00, Acne 0.00, Rosacea 0.00, 3.6ms\n",
            "image 10/37 /content/drive/MyDrive/Colab/deep learning/dataset/dataMerge/test/Basal Cell Carcinoma/basal-cell-carcinoma-lid-17.jpg: 224x224 Basal Cell Carcinoma 1.00, Actinic Keratosis 0.00, Eczemaa 0.00, Acne 0.00, Rosacea 0.00, 3.6ms\n",
            "image 11/37 /content/drive/MyDrive/Colab/deep learning/dataset/dataMerge/test/Basal Cell Carcinoma/basal-cell-carcinoma-lid-18.jpg: 224x224 Basal Cell Carcinoma 1.00, Eczemaa 0.00, Actinic Keratosis 0.00, Acne 0.00, Rosacea 0.00, 3.7ms\n",
            "image 12/37 /content/drive/MyDrive/Colab/deep learning/dataset/dataMerge/test/Basal Cell Carcinoma/basal-cell-carcinoma-lid-22.jpg: 224x224 Basal Cell Carcinoma 1.00, Actinic Keratosis 0.00, Eczemaa 0.00, Acne 0.00, Rosacea 0.00, 3.7ms\n",
            "image 13/37 /content/drive/MyDrive/Colab/deep learning/dataset/dataMerge/test/Basal Cell Carcinoma/basal-cell-carcinoma-lid-23.jpg: 224x224 Basal Cell Carcinoma 1.00, Actinic Keratosis 0.00, Eczemaa 0.00, Acne 0.00, Rosacea 0.00, 3.7ms\n",
            "image 14/37 /content/drive/MyDrive/Colab/deep learning/dataset/dataMerge/test/Basal Cell Carcinoma/basal-cell-carcinoma-lid-24.jpg: 224x224 Basal Cell Carcinoma 0.83, Actinic Keratosis 0.17, Eczemaa 0.00, Acne 0.00, Rosacea 0.00, 3.7ms\n",
            "image 15/37 /content/drive/MyDrive/Colab/deep learning/dataset/dataMerge/test/Basal Cell Carcinoma/basal-cell-carcinoma-lid-25.jpg: 224x224 Actinic Keratosis 1.00, Basal Cell Carcinoma 0.00, Acne 0.00, Eczemaa 0.00, Rosacea 0.00, 3.4ms\n",
            "image 16/37 /content/drive/MyDrive/Colab/deep learning/dataset/dataMerge/test/Basal Cell Carcinoma/basal-cell-carcinoma-lid-26.jpg: 224x224 Actinic Keratosis 1.00, Basal Cell Carcinoma 0.00, Acne 0.00, Eczemaa 0.00, Rosacea 0.00, 3.2ms\n",
            "image 17/37 /content/drive/MyDrive/Colab/deep learning/dataset/dataMerge/test/Basal Cell Carcinoma/basal-cell-carcinoma-lid-31.jpg: 224x224 Basal Cell Carcinoma 1.00, Eczemaa 0.00, Actinic Keratosis 0.00, Rosacea 0.00, Acne 0.00, 3.5ms\n",
            "image 18/37 /content/drive/MyDrive/Colab/deep learning/dataset/dataMerge/test/Basal Cell Carcinoma/basal-cell-carcinoma-lid-4.jpg: 224x224 Basal Cell Carcinoma 0.93, Eczemaa 0.07, Actinic Keratosis 0.00, Rosacea 0.00, Acne 0.00, 3.6ms\n",
            "image 19/37 /content/drive/MyDrive/Colab/deep learning/dataset/dataMerge/test/Basal Cell Carcinoma/basal-cell-carcinoma-lid-6.jpg: 224x224 Basal Cell Carcinoma 1.00, Actinic Keratosis 0.00, Eczemaa 0.00, Rosacea 0.00, Acne 0.00, 3.5ms\n",
            "image 20/37 /content/drive/MyDrive/Colab/deep learning/dataset/dataMerge/test/Basal Cell Carcinoma/basal-cell-carcinoma-lid-8.jpg: 224x224 Basal Cell Carcinoma 1.00, Eczemaa 0.00, Actinic Keratosis 0.00, Acne 0.00, Rosacea 0.00, 3.7ms\n",
            "image 21/37 /content/drive/MyDrive/Colab/deep learning/dataset/dataMerge/test/Basal Cell Carcinoma/basal-cell-carcinoma-lip-14.jpg: 224x224 Basal Cell Carcinoma 1.00, Actinic Keratosis 0.00, Eczemaa 0.00, Acne 0.00, Rosacea 0.00, 3.7ms\n",
            "image 22/37 /content/drive/MyDrive/Colab/deep learning/dataset/dataMerge/test/Basal Cell Carcinoma/basal-cell-carcinoma-lip-26.jpg: 224x224 Basal Cell Carcinoma 1.00, Actinic Keratosis 0.00, Acne 0.00, Eczemaa 0.00, Rosacea 0.00, 3.6ms\n",
            "image 23/37 /content/drive/MyDrive/Colab/deep learning/dataset/dataMerge/test/Basal Cell Carcinoma/basal-cell-carcinoma-lip-27.jpg: 224x224 Eczemaa 0.92, Acne 0.05, Basal Cell Carcinoma 0.04, Rosacea 0.00, Actinic Keratosis 0.00, 3.6ms\n",
            "image 24/37 /content/drive/MyDrive/Colab/deep learning/dataset/dataMerge/test/Basal Cell Carcinoma/basal-cell-carcinoma-lip-30.jpg: 224x224 Actinic Keratosis 0.85, Basal Cell Carcinoma 0.15, Rosacea 0.00, Acne 0.00, Eczemaa 0.00, 3.7ms\n",
            "image 25/37 /content/drive/MyDrive/Colab/deep learning/dataset/dataMerge/test/Basal Cell Carcinoma/basal-cell-carcinoma-lip-31.jpg: 224x224 Basal Cell Carcinoma 0.88, Acne 0.11, Rosacea 0.00, Eczemaa 0.00, Actinic Keratosis 0.00, 3.5ms\n",
            "image 26/37 /content/drive/MyDrive/Colab/deep learning/dataset/dataMerge/test/Basal Cell Carcinoma/basal-cell-carcinoma-lip-32.jpg: 224x224 Basal Cell Carcinoma 1.00, Actinic Keratosis 0.00, Eczemaa 0.00, Acne 0.00, Rosacea 0.00, 3.5ms\n",
            "image 27/37 /content/drive/MyDrive/Colab/deep learning/dataset/dataMerge/test/Basal Cell Carcinoma/basal-cell-carcinoma-lip-34.jpg: 224x224 Basal Cell Carcinoma 1.00, Rosacea 0.00, Eczemaa 0.00, Actinic Keratosis 0.00, Acne 0.00, 4.4ms\n",
            "image 28/37 /content/drive/MyDrive/Colab/deep learning/dataset/dataMerge/test/Basal Cell Carcinoma/basal-cell-carcinoma-lip-5.jpg: 224x224 Basal Cell Carcinoma 1.00, Actinic Keratosis 0.00, Eczemaa 0.00, Acne 0.00, Rosacea 0.00, 3.5ms\n",
            "image 29/37 /content/drive/MyDrive/Colab/deep learning/dataset/dataMerge/test/Basal Cell Carcinoma/basal-cell-carcinoma-nose-1.jpg: 224x224 Basal Cell Carcinoma 1.00, Eczemaa 0.00, Actinic Keratosis 0.00, Rosacea 0.00, Acne 0.00, 3.5ms\n",
            "image 30/37 /content/drive/MyDrive/Colab/deep learning/dataset/dataMerge/test/Basal Cell Carcinoma/basal-cell-carcinoma-nose-21.jpg: 224x224 Basal Cell Carcinoma 0.70, Rosacea 0.26, Eczemaa 0.03, Actinic Keratosis 0.01, Acne 0.00, 3.6ms\n",
            "image 31/37 /content/drive/MyDrive/Colab/deep learning/dataset/dataMerge/test/Basal Cell Carcinoma/basal-cell-carcinoma-nose-38.jpg: 224x224 Rosacea 0.37, Basal Cell Carcinoma 0.34, Actinic Keratosis 0.23, Eczemaa 0.05, Acne 0.01, 3.5ms\n",
            "image 32/37 /content/drive/MyDrive/Colab/deep learning/dataset/dataMerge/test/Basal Cell Carcinoma/basal-cell-carcinoma-nose-44.jpg: 224x224 Eczemaa 0.72, Basal Cell Carcinoma 0.28, Acne 0.00, Rosacea 0.00, Actinic Keratosis 0.00, 3.6ms\n",
            "image 33/37 /content/drive/MyDrive/Colab/deep learning/dataset/dataMerge/test/Basal Cell Carcinoma/basal-cell-carcinoma-nose-70.jpg: 224x224 Basal Cell Carcinoma 0.99, Eczemaa 0.01, Actinic Keratosis 0.00, Acne 0.00, Rosacea 0.00, 4.5ms\n",
            "image 34/37 /content/drive/MyDrive/Colab/deep learning/dataset/dataMerge/test/Basal Cell Carcinoma/basal-cell-carcinoma-nose-71.jpg: 224x224 Basal Cell Carcinoma 1.00, Eczemaa 0.00, Actinic Keratosis 0.00, Rosacea 0.00, Acne 0.00, 3.5ms\n",
            "image 35/37 /content/drive/MyDrive/Colab/deep learning/dataset/dataMerge/test/Basal Cell Carcinoma/basal-cell-carcinoma-nose-72.jpg: 224x224 Basal Cell Carcinoma 1.00, Eczemaa 0.00, Actinic Keratosis 0.00, Acne 0.00, Rosacea 0.00, 3.5ms\n",
            "image 36/37 /content/drive/MyDrive/Colab/deep learning/dataset/dataMerge/test/Basal Cell Carcinoma/basal-cell-carcinoma-nose-73.jpg: 224x224 Basal Cell Carcinoma 1.00, Eczemaa 0.00, Actinic Keratosis 0.00, Acne 0.00, Rosacea 0.00, 3.4ms\n",
            "image 37/37 /content/drive/MyDrive/Colab/deep learning/dataset/dataMerge/test/Basal Cell Carcinoma/basal-cell-carcinoma-nose-74.jpg: 224x224 Basal Cell Carcinoma 1.00, Acne 0.00, Eczemaa 0.00, Rosacea 0.00, Actinic Keratosis 0.00, 3.4ms\n",
            "Speed: 5.6ms preprocess, 3.7ms inference, 0.1ms postprocess per image at shape (1, 3, 224, 224)\n",
            "\n",
            "image 1/37 /content/drive/MyDrive/Colab/deep learning/dataset/dataMerge/test/Eczemaa/eczem49.jpg: 224x224 Eczemaa 1.00, Acne 0.00, Actinic Keratosis 0.00, Rosacea 0.00, Basal Cell Carcinoma 0.00, 3.8ms\n",
            "image 2/37 /content/drive/MyDrive/Colab/deep learning/dataset/dataMerge/test/Eczemaa/eczema-acute-20.jpg: 224x224 Eczemaa 0.98, Rosacea 0.01, Acne 0.00, Basal Cell Carcinoma 0.00, Actinic Keratosis 0.00, 3.6ms\n",
            "image 3/37 /content/drive/MyDrive/Colab/deep learning/dataset/dataMerge/test/Eczemaa/eczema-acute-22.jpg: 224x224 Eczemaa 1.00, Basal Cell Carcinoma 0.00, Rosacea 0.00, Acne 0.00, Actinic Keratosis 0.00, 4.8ms\n",
            "image 4/37 /content/drive/MyDrive/Colab/deep learning/dataset/dataMerge/test/Eczemaa/eczema-chronic-14.jpg: 224x224 Eczemaa 0.46, Rosacea 0.28, Acne 0.23, Actinic Keratosis 0.02, Basal Cell Carcinoma 0.00, 5.0ms\n",
            "image 5/37 /content/drive/MyDrive/Colab/deep learning/dataset/dataMerge/test/Eczemaa/eczema-chronic-47.jpg: 224x224 Eczemaa 0.95, Basal Cell Carcinoma 0.05, Actinic Keratosis 0.01, Acne 0.00, Rosacea 0.00, 4.2ms\n",
            "image 6/37 /content/drive/MyDrive/Colab/deep learning/dataset/dataMerge/test/Eczemaa/eczema-ears-6.jpg: 224x224 Eczemaa 0.99, Basal Cell Carcinoma 0.01, Actinic Keratosis 0.00, Acne 0.00, Rosacea 0.00, 4.1ms\n",
            "image 7/37 /content/drive/MyDrive/Colab/deep learning/dataset/dataMerge/test/Eczemaa/eczema-face-1.jpg: 224x224 Eczemaa 1.00, Acne 0.00, Basal Cell Carcinoma 0.00, Rosacea 0.00, Actinic Keratosis 0.00, 4.0ms\n",
            "image 8/37 /content/drive/MyDrive/Colab/deep learning/dataset/dataMerge/test/Eczemaa/eczema-face-11.jpg: 224x224 Eczemaa 0.67, Acne 0.20, Rosacea 0.09, Actinic Keratosis 0.03, Basal Cell Carcinoma 0.00, 3.6ms\n",
            "image 9/37 /content/drive/MyDrive/Colab/deep learning/dataset/dataMerge/test/Eczemaa/eczema-lids-14.jpg: 224x224 Eczemaa 0.98, Basal Cell Carcinoma 0.01, Rosacea 0.01, Acne 0.00, Actinic Keratosis 0.00, 3.6ms\n",
            "image 10/37 /content/drive/MyDrive/Colab/deep learning/dataset/dataMerge/test/Eczemaa/eczema-lids-9.jpg: 224x224 Eczemaa 1.00, Basal Cell Carcinoma 0.00, Acne 0.00, Rosacea 0.00, Actinic Keratosis 0.00, 3.6ms\n",
            "image 11/37 /content/drive/MyDrive/Colab/deep learning/dataset/dataMerge/test/Eczemaa/eczema.14.jpg: 224x224 Eczemaa 1.00, Acne 0.00, Basal Cell Carcinoma 0.00, Rosacea 0.00, Actinic Keratosis 0.00, 3.7ms\n",
            "image 12/37 /content/drive/MyDrive/Colab/deep learning/dataset/dataMerge/test/Eczemaa/eczema.20.jpg: 224x224 Eczemaa 1.00, Basal Cell Carcinoma 0.00, Acne 0.00, Rosacea 0.00, Actinic Keratosis 0.00, 3.3ms\n",
            "image 13/37 /content/drive/MyDrive/Colab/deep learning/dataset/dataMerge/test/Eczemaa/eczema.21.jpg: 224x224 Eczemaa 1.00, Acne 0.00, Basal Cell Carcinoma 0.00, Rosacea 0.00, Actinic Keratosis 0.00, 3.3ms\n",
            "image 14/37 /content/drive/MyDrive/Colab/deep learning/dataset/dataMerge/test/Eczemaa/eczema.25.jpg: 224x224 Eczemaa 1.00, Basal Cell Carcinoma 0.00, Rosacea 0.00, Acne 0.00, Actinic Keratosis 0.00, 3.4ms\n",
            "image 15/37 /content/drive/MyDrive/Colab/deep learning/dataset/dataMerge/test/Eczemaa/eczema.5.jpg: 224x224 Eczemaa 1.00, Rosacea 0.00, Actinic Keratosis 0.00, Basal Cell Carcinoma 0.00, Acne 0.00, 3.4ms\n",
            "image 16/37 /content/drive/MyDrive/Colab/deep learning/dataset/dataMerge/test/Eczemaa/eczema.8.jpg: 224x224 Eczemaa 0.88, Rosacea 0.12, Acne 0.00, Actinic Keratosis 0.00, Basal Cell Carcinoma 0.00, 3.5ms\n",
            "image 17/37 /content/drive/MyDrive/Colab/deep learning/dataset/dataMerge/test/Eczemaa/eczema.jpg: 224x224 Eczemaa 1.00, Actinic Keratosis 0.00, Rosacea 0.00, Basal Cell Carcinoma 0.00, Acne 0.00, 3.5ms\n",
            "image 18/37 /content/drive/MyDrive/Colab/deep learning/dataset/dataMerge/test/Eczemaa/eczema130.jpg: 224x224 Eczemaa 1.00, Actinic Keratosis 0.00, Acne 0.00, Rosacea 0.00, Basal Cell Carcinoma 0.00, 3.3ms\n",
            "image 19/37 /content/drive/MyDrive/Colab/deep learning/dataset/dataMerge/test/Eczemaa/eczema134.jpg: 224x224 Actinic Keratosis 1.00, Eczemaa 0.00, Basal Cell Carcinoma 0.00, Rosacea 0.00, Acne 0.00, 3.4ms\n",
            "image 20/37 /content/drive/MyDrive/Colab/deep learning/dataset/dataMerge/test/Eczemaa/eczema135.jpg: 224x224 Acne 0.76, Eczemaa 0.24, Rosacea 0.01, Actinic Keratosis 0.00, Basal Cell Carcinoma 0.00, 4.8ms\n",
            "image 21/37 /content/drive/MyDrive/Colab/deep learning/dataset/dataMerge/test/Eczemaa/eczema136.jpg: 224x224 Eczemaa 0.98, Rosacea 0.01, Actinic Keratosis 0.01, Acne 0.00, Basal Cell Carcinoma 0.00, 4.7ms\n",
            "image 22/37 /content/drive/MyDrive/Colab/deep learning/dataset/dataMerge/test/Eczemaa/eczema142.jpg: 224x224 Eczemaa 1.00, Basal Cell Carcinoma 0.00, Acne 0.00, Actinic Keratosis 0.00, Rosacea 0.00, 4.0ms\n",
            "image 23/37 /content/drive/MyDrive/Colab/deep learning/dataset/dataMerge/test/Eczemaa/eczema144.jpg: 224x224 Eczemaa 1.00, Rosacea 0.00, Basal Cell Carcinoma 0.00, Actinic Keratosis 0.00, Acne 0.00, 3.9ms\n",
            "image 24/37 /content/drive/MyDrive/Colab/deep learning/dataset/dataMerge/test/Eczemaa/eczema147.jpg: 224x224 Eczemaa 1.00, Rosacea 0.00, Basal Cell Carcinoma 0.00, Acne 0.00, Actinic Keratosis 0.00, 3.4ms\n",
            "image 25/37 /content/drive/MyDrive/Colab/deep learning/dataset/dataMerge/test/Eczemaa/eczema148.jpg: 224x224 Eczemaa 0.92, Rosacea 0.05, Actinic Keratosis 0.03, Acne 0.00, Basal Cell Carcinoma 0.00, 3.6ms\n",
            "image 26/37 /content/drive/MyDrive/Colab/deep learning/dataset/dataMerge/test/Eczemaa/eczema149.jpg: 224x224 Eczemaa 1.00, Basal Cell Carcinoma 0.00, Acne 0.00, Actinic Keratosis 0.00, Rosacea 0.00, 3.6ms\n",
            "image 27/37 /content/drive/MyDrive/Colab/deep learning/dataset/dataMerge/test/Eczemaa/eczema155.png: 224x224 Eczemaa 0.98, Acne 0.02, Basal Cell Carcinoma 0.00, Rosacea 0.00, Actinic Keratosis 0.00, 3.5ms\n",
            "image 28/37 /content/drive/MyDrive/Colab/deep learning/dataset/dataMerge/test/Eczemaa/eczema23.jpg: 224x224 Eczemaa 1.00, Actinic Keratosis 0.00, Rosacea 0.00, Basal Cell Carcinoma 0.00, Acne 0.00, 3.6ms\n",
            "image 29/37 /content/drive/MyDrive/Colab/deep learning/dataset/dataMerge/test/Eczemaa/eczema28..jpg: 224x224 Eczemaa 1.00, Acne 0.00, Basal Cell Carcinoma 0.00, Actinic Keratosis 0.00, Rosacea 0.00, 3.4ms\n",
            "image 30/37 /content/drive/MyDrive/Colab/deep learning/dataset/dataMerge/test/Eczemaa/eczema31.jpg: 224x224 Eczemaa 1.00, Rosacea 0.00, Actinic Keratosis 0.00, Acne 0.00, Basal Cell Carcinoma 0.00, 3.4ms\n",
            "image 31/37 /content/drive/MyDrive/Colab/deep learning/dataset/dataMerge/test/Eczemaa/eczema43.jpg: 224x224 Eczemaa 0.39, Actinic Keratosis 0.34, Rosacea 0.26, Acne 0.01, Basal Cell Carcinoma 0.00, 3.9ms\n",
            "image 32/37 /content/drive/MyDrive/Colab/deep learning/dataset/dataMerge/test/Eczemaa/eczema48.jpeg: 224x224 Acne 0.72, Eczemaa 0.28, Rosacea 0.00, Basal Cell Carcinoma 0.00, Actinic Keratosis 0.00, 3.5ms\n",
            "image 33/37 /content/drive/MyDrive/Colab/deep learning/dataset/dataMerge/test/Eczemaa/eczema52.jpg: 224x224 Eczemaa 0.96, Rosacea 0.04, Actinic Keratosis 0.00, Basal Cell Carcinoma 0.00, Acne 0.00, 3.8ms\n",
            "image 34/37 /content/drive/MyDrive/Colab/deep learning/dataset/dataMerge/test/Eczemaa/eczema53.jpg: 224x224 Acne 0.62, Eczemaa 0.23, Rosacea 0.11, Actinic Keratosis 0.03, Basal Cell Carcinoma 0.02, 3.7ms\n",
            "image 35/37 /content/drive/MyDrive/Colab/deep learning/dataset/dataMerge/test/Eczemaa/eczema54.jpg: 224x224 Eczemaa 0.80, Rosacea 0.19, Basal Cell Carcinoma 0.01, Actinic Keratosis 0.00, Acne 0.00, 3.6ms\n",
            "image 36/37 /content/drive/MyDrive/Colab/deep learning/dataset/dataMerge/test/Eczemaa/eczema7.jpg: 224x224 Eczemaa 0.92, Acne 0.06, Actinic Keratosis 0.01, Rosacea 0.01, Basal Cell Carcinoma 0.00, 4.0ms\n",
            "image 37/37 /content/drive/MyDrive/Colab/deep learning/dataset/dataMerge/test/Eczemaa/eczema8.jpg: 224x224 Basal Cell Carcinoma 0.96, Eczemaa 0.03, Acne 0.01, Actinic Keratosis 0.00, Rosacea 0.00, 3.8ms\n",
            "Speed: 8.6ms preprocess, 3.8ms inference, 0.1ms postprocess per image at shape (1, 3, 224, 224)\n",
            "\n",
            "image 1/37 /content/drive/MyDrive/Colab/deep learning/dataset/dataMerge/test/Rosacea/rosacea-102.jpg: 224x224 Actinic Keratosis 0.66, Rosacea 0.29, Basal Cell Carcinoma 0.03, Eczemaa 0.01, Acne 0.00, 3.7ms\n",
            "image 2/37 /content/drive/MyDrive/Colab/deep learning/dataset/dataMerge/test/Rosacea/rosacea-111.jpg: 224x224 Rosacea 1.00, Basal Cell Carcinoma 0.00, Eczemaa 0.00, Actinic Keratosis 0.00, Acne 0.00, 3.7ms\n",
            "image 3/37 /content/drive/MyDrive/Colab/deep learning/dataset/dataMerge/test/Rosacea/rosacea-112.jpg: 224x224 Rosacea 1.00, Eczemaa 0.00, Actinic Keratosis 0.00, Basal Cell Carcinoma 0.00, Acne 0.00, 3.6ms\n",
            "image 4/37 /content/drive/MyDrive/Colab/deep learning/dataset/dataMerge/test/Rosacea/rosacea-113.jpg: 224x224 Rosacea 1.00, Actinic Keratosis 0.00, Eczemaa 0.00, Acne 0.00, Basal Cell Carcinoma 0.00, 3.6ms\n",
            "image 5/37 /content/drive/MyDrive/Colab/deep learning/dataset/dataMerge/test/Rosacea/rosacea-116.jpg: 224x224 Rosacea 1.00, Eczemaa 0.00, Basal Cell Carcinoma 0.00, Acne 0.00, Actinic Keratosis 0.00, 3.7ms\n",
            "image 6/37 /content/drive/MyDrive/Colab/deep learning/dataset/dataMerge/test/Rosacea/rosacea-117.jpg: 224x224 Rosacea 0.94, Acne 0.05, Eczemaa 0.01, Basal Cell Carcinoma 0.01, Actinic Keratosis 0.00, 3.6ms\n",
            "image 7/37 /content/drive/MyDrive/Colab/deep learning/dataset/dataMerge/test/Rosacea/rosacea-14.jpg: 224x224 Rosacea 1.00, Eczemaa 0.00, Actinic Keratosis 0.00, Acne 0.00, Basal Cell Carcinoma 0.00, 3.4ms\n",
            "image 8/37 /content/drive/MyDrive/Colab/deep learning/dataset/dataMerge/test/Rosacea/rosacea-16.jpg: 224x224 Rosacea 1.00, Acne 0.00, Actinic Keratosis 0.00, Eczemaa 0.00, Basal Cell Carcinoma 0.00, 3.6ms\n",
            "image 9/37 /content/drive/MyDrive/Colab/deep learning/dataset/dataMerge/test/Rosacea/rosacea-21.jpg: 224x224 Rosacea 1.00, Actinic Keratosis 0.00, Acne 0.00, Eczemaa 0.00, Basal Cell Carcinoma 0.00, 4.2ms\n",
            "image 10/37 /content/drive/MyDrive/Colab/deep learning/dataset/dataMerge/test/Rosacea/rosacea-26.jpg: 224x224 Rosacea 1.00, Acne 0.00, Eczemaa 0.00, Basal Cell Carcinoma 0.00, Actinic Keratosis 0.00, 4.1ms\n",
            "image 11/37 /content/drive/MyDrive/Colab/deep learning/dataset/dataMerge/test/Rosacea/rosacea-31.jpg: 224x224 Rosacea 0.99, Actinic Keratosis 0.01, Eczemaa 0.00, Basal Cell Carcinoma 0.00, Acne 0.00, 3.7ms\n",
            "image 12/37 /content/drive/MyDrive/Colab/deep learning/dataset/dataMerge/test/Rosacea/rosacea-33.jpg: 224x224 Rosacea 1.00, Acne 0.00, Eczemaa 0.00, Basal Cell Carcinoma 0.00, Actinic Keratosis 0.00, 3.4ms\n",
            "image 13/37 /content/drive/MyDrive/Colab/deep learning/dataset/dataMerge/test/Rosacea/rosacea-4.jpg: 224x224 Acne 0.98, Eczemaa 0.01, Actinic Keratosis 0.01, Rosacea 0.00, Basal Cell Carcinoma 0.00, 3.6ms\n",
            "image 14/37 /content/drive/MyDrive/Colab/deep learning/dataset/dataMerge/test/Rosacea/rosacea-40.jpg: 224x224 Rosacea 1.00, Eczemaa 0.00, Acne 0.00, Basal Cell Carcinoma 0.00, Actinic Keratosis 0.00, 3.6ms\n",
            "image 15/37 /content/drive/MyDrive/Colab/deep learning/dataset/dataMerge/test/Rosacea/rosacea-41.jpg: 224x224 Rosacea 0.99, Eczemaa 0.01, Acne 0.00, Basal Cell Carcinoma 0.00, Actinic Keratosis 0.00, 3.7ms\n",
            "image 16/37 /content/drive/MyDrive/Colab/deep learning/dataset/dataMerge/test/Rosacea/rosacea-44.jpg: 224x224 Rosacea 1.00, Eczemaa 0.00, Acne 0.00, Basal Cell Carcinoma 0.00, Actinic Keratosis 0.00, 3.5ms\n",
            "image 17/37 /content/drive/MyDrive/Colab/deep learning/dataset/dataMerge/test/Rosacea/rosacea-45.jpg: 224x224 Rosacea 0.69, Actinic Keratosis 0.29, Acne 0.02, Eczemaa 0.00, Basal Cell Carcinoma 0.00, 4.5ms\n",
            "image 18/37 /content/drive/MyDrive/Colab/deep learning/dataset/dataMerge/test/Rosacea/rosacea-49.jpg: 224x224 Rosacea 1.00, Acne 0.00, Eczemaa 0.00, Basal Cell Carcinoma 0.00, Actinic Keratosis 0.00, 3.4ms\n",
            "image 19/37 /content/drive/MyDrive/Colab/deep learning/dataset/dataMerge/test/Rosacea/rosacea-52.jpg: 224x224 Acne 0.99, Eczemaa 0.01, Rosacea 0.00, Basal Cell Carcinoma 0.00, Actinic Keratosis 0.00, 4.5ms\n",
            "image 20/37 /content/drive/MyDrive/Colab/deep learning/dataset/dataMerge/test/Rosacea/rosacea-54.jpg: 224x224 Rosacea 1.00, Eczemaa 0.00, Acne 0.00, Actinic Keratosis 0.00, Basal Cell Carcinoma 0.00, 3.2ms\n",
            "image 21/37 /content/drive/MyDrive/Colab/deep learning/dataset/dataMerge/test/Rosacea/rosacea-58.jpg: 224x224 Rosacea 1.00, Acne 0.00, Eczemaa 0.00, Actinic Keratosis 0.00, Basal Cell Carcinoma 0.00, 4.8ms\n",
            "image 22/37 /content/drive/MyDrive/Colab/deep learning/dataset/dataMerge/test/Rosacea/rosacea-60.jpg: 224x224 Rosacea 1.00, Eczemaa 0.00, Acne 0.00, Basal Cell Carcinoma 0.00, Actinic Keratosis 0.00, 4.9ms\n",
            "image 23/37 /content/drive/MyDrive/Colab/deep learning/dataset/dataMerge/test/Rosacea/rosacea-68.jpg: 224x224 Rosacea 1.00, Eczemaa 0.00, Basal Cell Carcinoma 0.00, Acne 0.00, Actinic Keratosis 0.00, 3.8ms\n",
            "image 24/37 /content/drive/MyDrive/Colab/deep learning/dataset/dataMerge/test/Rosacea/rosacea-71.jpg: 224x224 Actinic Keratosis 0.67, Rosacea 0.27, Acne 0.03, Eczemaa 0.02, Basal Cell Carcinoma 0.00, 3.4ms\n",
            "image 25/37 /content/drive/MyDrive/Colab/deep learning/dataset/dataMerge/test/Rosacea/rosacea-8.jpg: 224x224 Rosacea 1.00, Actinic Keratosis 0.00, Acne 0.00, Eczemaa 0.00, Basal Cell Carcinoma 0.00, 3.6ms\n",
            "image 26/37 /content/drive/MyDrive/Colab/deep learning/dataset/dataMerge/test/Rosacea/rosacea-81.jpg: 224x224 Rosacea 1.00, Acne 0.00, Eczemaa 0.00, Basal Cell Carcinoma 0.00, Actinic Keratosis 0.00, 3.4ms\n",
            "image 27/37 /content/drive/MyDrive/Colab/deep learning/dataset/dataMerge/test/Rosacea/rosacea-83.jpg: 224x224 Rosacea 0.62, Basal Cell Carcinoma 0.18, Eczemaa 0.13, Acne 0.06, Actinic Keratosis 0.00, 3.4ms\n",
            "image 28/37 /content/drive/MyDrive/Colab/deep learning/dataset/dataMerge/test/Rosacea/rosacea-86.jpg: 224x224 Eczemaa 0.92, Actinic Keratosis 0.04, Acne 0.02, Rosacea 0.01, Basal Cell Carcinoma 0.01, 3.4ms\n",
            "image 29/37 /content/drive/MyDrive/Colab/deep learning/dataset/dataMerge/test/Rosacea/rosacea-89.jpg: 224x224 Rosacea 0.81, Eczemaa 0.14, Basal Cell Carcinoma 0.04, Acne 0.01, Actinic Keratosis 0.00, 3.5ms\n",
            "image 30/37 /content/drive/MyDrive/Colab/deep learning/dataset/dataMerge/test/Rosacea/rosacea-90.jpg: 224x224 Eczemaa 0.46, Basal Cell Carcinoma 0.44, Rosacea 0.05, Actinic Keratosis 0.04, Acne 0.00, 3.6ms\n",
            "image 31/37 /content/drive/MyDrive/Colab/deep learning/dataset/dataMerge/test/Rosacea/rosacea-91.jpg: 224x224 Basal Cell Carcinoma 0.70, Eczemaa 0.23, Rosacea 0.05, Acne 0.02, Actinic Keratosis 0.00, 3.6ms\n",
            "image 32/37 /content/drive/MyDrive/Colab/deep learning/dataset/dataMerge/test/Rosacea/rosacea-94.jpg: 224x224 Rosacea 1.00, Acne 0.00, Eczemaa 0.00, Actinic Keratosis 0.00, Basal Cell Carcinoma 0.00, 3.3ms\n",
            "image 33/37 /content/drive/MyDrive/Colab/deep learning/dataset/dataMerge/test/Rosacea/rosacea-96.jpg: 224x224 Rosacea 1.00, Eczemaa 0.00, Acne 0.00, Actinic Keratosis 0.00, Basal Cell Carcinoma 0.00, 3.5ms\n",
            "image 34/37 /content/drive/MyDrive/Colab/deep learning/dataset/dataMerge/test/Rosacea/rosacea-99.jpg: 224x224 Rosacea 1.00, Eczemaa 0.00, Basal Cell Carcinoma 0.00, Acne 0.00, Actinic Keratosis 0.00, 4.6ms\n",
            "image 35/37 /content/drive/MyDrive/Colab/deep learning/dataset/dataMerge/test/Rosacea/rosacea-nose-10.jpg: 224x224 Rosacea 0.98, Basal Cell Carcinoma 0.02, Actinic Keratosis 0.00, Acne 0.00, Eczemaa 0.00, 3.3ms\n",
            "image 36/37 /content/drive/MyDrive/Colab/deep learning/dataset/dataMerge/test/Rosacea/rosacea-nose-11.jpg: 224x224 Rosacea 1.00, Basal Cell Carcinoma 0.00, Eczemaa 0.00, Actinic Keratosis 0.00, Acne 0.00, 4.6ms\n",
            "image 37/37 /content/drive/MyDrive/Colab/deep learning/dataset/dataMerge/test/Rosacea/rosacea-nose-5.jpg: 224x224 Rosacea 1.00, Eczemaa 0.00, Basal Cell Carcinoma 0.00, Actinic Keratosis 0.00, Acne 0.00, 3.4ms\n",
            "Speed: 5.7ms preprocess, 3.7ms inference, 0.0ms postprocess per image at shape (1, 3, 224, 224)\n",
            "Elapsed time is 4.022290 seconds.\n",
            "Total Prediction Time: 4.02 seconds\n"
          ]
        }
      ],
      "source": [
        "prediction_tests,total_inference_time_yolov8S_percobaan = evaluate_model_yolo(bestModelYoloS,path_class)"
      ]
    },
    {
      "cell_type": "code",
      "execution_count": null,
      "metadata": {
        "id": "UbU6sO0EA1hV",
        "colab": {
          "base_uri": "https://localhost:8080/"
        },
        "outputId": "ce7c3267-1fef-45f8-9589-4aff17b8e801"
      },
      "outputs": [
        {
          "output_type": "execute_result",
          "data": {
            "text/plain": [
              "3.86916464300009"
            ]
          },
          "metadata": {},
          "execution_count": 36
        }
      ],
      "source": [
        "total_inference_time_yolov8S_percobaan"
      ]
    },
    {
      "cell_type": "code",
      "execution_count": null,
      "metadata": {
        "id": "XX8AaSURIJhg",
        "colab": {
          "base_uri": "https://localhost:8080/"
        },
        "outputId": "92a413b3-6a50-4212-a0df-7294601cda43",
        "collapsed": true
      },
      "outputs": [
        {
          "output_type": "stream",
          "name": "stdout",
          "text": [
            "Akurasi untuk predictionTest0: 94.59%\n",
            "Akurasi untuk predictionTest1: 86.49%\n",
            "Akurasi untuk predictionTest2: 83.78%\n",
            "Akurasi untuk predictionTest3: 86.49%\n",
            "Akurasi untuk predictionTest4: 81.08%\n",
            "Akurasi keseluruhan model: 86.49%\n"
          ]
        }
      ],
      "source": [
        "total_correct_predictions = 0\n",
        "total_all_predictions = 0\n",
        "total_running_loss = 0.0  # to accumulate the total loss\n",
        "\n",
        "\n",
        "# Proses untuk setiap predictionTest\n",
        "for i, predictionTest in enumerate(prediction_tests):\n",
        "    correct_predictions = 0\n",
        "    true_label = i  # karena semua ground truth di predictionTesti adalah i\n",
        "\n",
        "    for result in predictionTest:\n",
        "        predicted_label = result.probs.top1  # asumsi bahwa probs.top1 adalah label prediksi teratas\n",
        "        if predicted_label == true_label:\n",
        "            correct_predictions += 1\n",
        "\n",
        "    # Jumlah total prediksi untuk setiap kelas\n",
        "    total_predictions = len(predictionTest)\n",
        "    total_all_predictions += total_predictions\n",
        "    total_correct_predictions += correct_predictions\n",
        "\n",
        "    # Akurasi untuk kelas ini\n",
        "    accuracy = (correct_predictions / total_predictions) * 100\n",
        "    print(f\"Akurasi untuk predictionTest{i}: {accuracy:.2f}%\")\n",
        "\n",
        "# Akurasi keseluruhan\n",
        "overall_accuracy_yolov8S = (total_correct_predictions / total_all_predictions) * 100\n",
        "\n",
        "print(f\"Akurasi keseluruhan model: {overall_accuracy_yolov8S:.2f}%\")\n",
        "# print(f\"Total waktu inferensi: {total_inference_time_yolov8S:.2f} detik\")"
      ]
    },
    {
      "cell_type": "code",
      "execution_count": null,
      "metadata": {
        "id": "FImRWniPgaiz",
        "colab": {
          "base_uri": "https://localhost:8080/"
        },
        "outputId": "d6345556-c836-4fcc-9363-986143f3f2da"
      },
      "outputs": [
        {
          "output_type": "stream",
          "name": "stdout",
          "text": [
            "Downloading https://github.com/ultralytics/assets/releases/download/v8.2.0/yolov8n-cls.pt to 'yolov8n-cls.pt'...\n"
          ]
        },
        {
          "output_type": "stream",
          "name": "stderr",
          "text": [
            "100%|██████████| 5.31M/5.31M [00:00<00:00, 76.8MB/s]"
          ]
        },
        {
          "output_type": "stream",
          "name": "stdout",
          "text": [
            "YOLOv8n-cls summary: 99 layers, 2,719,288 parameters, 0 gradients, 4.4 GFLOPs\n"
          ]
        },
        {
          "output_type": "stream",
          "name": "stderr",
          "text": [
            "\n"
          ]
        },
        {
          "output_type": "execute_result",
          "data": {
            "text/plain": [
              "(99, 2719288, 0, 4.383948800000001)"
            ]
          },
          "metadata": {},
          "execution_count": 38
        }
      ],
      "source": [
        "modelyolov8n = YOLO('yolov8n-cls.pt')  # load a pretrained YOLOv8n detection model\n",
        "modelyolov8n.info()"
      ]
    },
    {
      "cell_type": "code",
      "execution_count": null,
      "metadata": {
        "id": "3y8Kw5LWgiCM",
        "colab": {
          "base_uri": "https://localhost:8080/"
        },
        "outputId": "c998e386-b928-4fbe-fd68-acf07f8731e9",
        "collapsed": true
      },
      "outputs": [
        {
          "output_type": "stream",
          "name": "stdout",
          "text": [
            "New https://pypi.org/project/ultralytics/8.3.31 available 😃 Update with 'pip install -U ultralytics'\n",
            "Ultralytics YOLOv8.2.103 🚀 Python-3.10.12 torch-2.5.0+cu121 CUDA:0 (NVIDIA A100-SXM4-40GB, 40514MiB)\n",
            "\u001b[34m\u001b[1mengine/trainer: \u001b[0mtask=classify, mode=train, model=yolov8n-cls.pt, data=/content/drive/MyDrive/Colab/deep learning/dataset/dataMerge, epochs=50, time=None, patience=10, batch=64, imgsz=224, save=True, save_period=-1, cache=False, device=None, workers=8, project=None, name=yolon, exist_ok=False, pretrained=True, optimizer=Adam, verbose=True, seed=0, deterministic=True, single_cls=False, rect=False, cos_lr=False, close_mosaic=10, resume=False, amp=True, fraction=1.0, profile=False, freeze=1, multi_scale=False, overlap_mask=True, mask_ratio=4, dropout=0.0, val=True, split=val, save_json=False, save_hybrid=False, conf=None, iou=0.7, max_det=300, half=False, dnn=False, plots=True, source=None, vid_stride=1, stream_buffer=False, visualize=False, augment=False, agnostic_nms=False, classes=None, retina_masks=False, embed=None, show=False, save_frames=False, save_txt=False, save_conf=False, save_crop=False, show_labels=True, show_conf=True, show_boxes=True, line_width=None, format=torchscript, keras=False, optimize=False, int8=False, dynamic=False, simplify=True, opset=None, workspace=4, nms=False, lr0=0.001, lrf=0.01, momentum=0.937, weight_decay=0.0005, warmup_epochs=3.0, warmup_momentum=0.8, warmup_bias_lr=0.1, box=7.5, cls=0.5, dfl=1.5, pose=12.0, kobj=1.0, label_smoothing=0.0, nbs=64, hsv_h=0.015, hsv_s=0.7, hsv_v=0.4, degrees=0.0, translate=0.1, scale=0.5, shear=0.0, perspective=0.0, flipud=0.0, fliplr=0.5, bgr=0.0, mosaic=1.0, mixup=0.0, copy_paste=0.0, auto_augment=randaugment, erasing=0.4, crop_fraction=1.0, cfg=None, tracker=botsort.yaml, save_dir=runs/classify/yolon\n",
            "\u001b[34m\u001b[1mtrain:\u001b[0m /content/drive/MyDrive/Colab/deep learning/dataset/dataMerge/train... found 690 images in 5 classes ✅ \n",
            "\u001b[34m\u001b[1mval:\u001b[0m None...\n",
            "\u001b[34m\u001b[1mtest:\u001b[0m /content/drive/MyDrive/Colab/deep learning/dataset/dataMerge/test... found 185 images in 5 classes ✅ \n",
            "Overriding model.yaml nc=1000 with nc=5\n",
            "\n",
            "                   from  n    params  module                                       arguments                     \n",
            "  0                  -1  1       464  ultralytics.nn.modules.conv.Conv             [3, 16, 3, 2]                 \n",
            "  1                  -1  1      4672  ultralytics.nn.modules.conv.Conv             [16, 32, 3, 2]                \n",
            "  2                  -1  1      7360  ultralytics.nn.modules.block.C2f             [32, 32, 1, True]             \n",
            "  3                  -1  1     18560  ultralytics.nn.modules.conv.Conv             [32, 64, 3, 2]                \n",
            "  4                  -1  2     49664  ultralytics.nn.modules.block.C2f             [64, 64, 2, True]             \n",
            "  5                  -1  1     73984  ultralytics.nn.modules.conv.Conv             [64, 128, 3, 2]               \n",
            "  6                  -1  2    197632  ultralytics.nn.modules.block.C2f             [128, 128, 2, True]           \n",
            "  7                  -1  1    295424  ultralytics.nn.modules.conv.Conv             [128, 256, 3, 2]              \n",
            "  8                  -1  1    460288  ultralytics.nn.modules.block.C2f             [256, 256, 1, True]           \n",
            "  9                  -1  1    336645  ultralytics.nn.modules.head.Classify         [256, 5]                      \n",
            "YOLOv8n-cls summary: 99 layers, 1,444,693 parameters, 1,444,693 gradients, 3.4 GFLOPs\n",
            "Transferred 156/158 items from pretrained weights\n",
            "\u001b[34m\u001b[1mTensorBoard: \u001b[0mStart with 'tensorboard --logdir runs/classify/yolon', view at http://localhost:6006/\n",
            "Freezing layer 'model.0.conv.weight'\n",
            "Freezing layer 'model.0.bn.weight'\n",
            "Freezing layer 'model.0.bn.bias'\n",
            "\u001b[34m\u001b[1mAMP: \u001b[0mrunning Automatic Mixed Precision (AMP) checks with YOLOv8n...\n",
            "\u001b[34m\u001b[1mAMP: \u001b[0mchecks passed ✅\n"
          ]
        },
        {
          "output_type": "stream",
          "name": "stderr",
          "text": [
            "\u001b[34m\u001b[1mtrain: \u001b[0mScanning /content/drive/MyDrive/Colab/deep learning/dataset/dataMerge/train... 690 images, 0 corrupt: 100%|██████████| 690/690 [00:00<?, ?it/s]\n",
            "\u001b[34m\u001b[1mval: \u001b[0mScanning /content/drive/MyDrive/Colab/deep learning/dataset/dataMerge/test... 185 images, 0 corrupt: 100%|██████████| 185/185 [00:00<?, ?it/s]\n"
          ]
        },
        {
          "output_type": "stream",
          "name": "stdout",
          "text": [
            "\u001b[34m\u001b[1moptimizer:\u001b[0m Adam(lr=0.001, momentum=0.937) with parameter groups 26 weight(decay=0.0), 27 weight(decay=0.0005), 27 bias(decay=0.0)\n",
            "\u001b[34m\u001b[1mTensorBoard: \u001b[0mmodel graph visualization added ✅\n",
            "Image sizes 224 train, 224 val\n",
            "Using 8 dataloader workers\n",
            "Logging results to \u001b[1mruns/classify/yolon\u001b[0m\n",
            "Starting training for 50 epochs...\n",
            "\n",
            "      Epoch    GPU_mem       loss  Instances       Size\n"
          ]
        },
        {
          "output_type": "stream",
          "name": "stderr",
          "text": [
            "       1/50     0.786G      1.561         50        224: 100%|██████████| 11/11 [00:04<00:00,  2.31it/s]\n",
            "               classes   top1_acc   top5_acc: 100%|██████████| 2/2 [00:00<00:00,  2.07it/s]"
          ]
        },
        {
          "output_type": "stream",
          "name": "stdout",
          "text": [
            "                   all      0.422          1\n"
          ]
        },
        {
          "output_type": "stream",
          "name": "stderr",
          "text": [
            "\n"
          ]
        },
        {
          "output_type": "stream",
          "name": "stdout",
          "text": [
            "\n",
            "      Epoch    GPU_mem       loss  Instances       Size\n"
          ]
        },
        {
          "output_type": "stream",
          "name": "stderr",
          "text": [
            "       2/50     0.747G       1.26         50        224: 100%|██████████| 11/11 [00:00<00:00, 11.54it/s]\n",
            "               classes   top1_acc   top5_acc: 100%|██████████| 2/2 [00:00<00:00, 61.53it/s]"
          ]
        },
        {
          "output_type": "stream",
          "name": "stdout",
          "text": [
            "                   all      0.481          1\n"
          ]
        },
        {
          "output_type": "stream",
          "name": "stderr",
          "text": [
            "\n"
          ]
        },
        {
          "output_type": "stream",
          "name": "stdout",
          "text": [
            "\n",
            "      Epoch    GPU_mem       loss  Instances       Size\n"
          ]
        },
        {
          "output_type": "stream",
          "name": "stderr",
          "text": [
            "       3/50     0.747G      1.049         50        224: 100%|██████████| 11/11 [00:03<00:00,  2.92it/s]\n",
            "               classes   top1_acc   top5_acc: 100%|██████████| 2/2 [00:00<00:00, 67.82it/s]"
          ]
        },
        {
          "output_type": "stream",
          "name": "stdout",
          "text": [
            "                   all      0.573          1\n"
          ]
        },
        {
          "output_type": "stream",
          "name": "stderr",
          "text": [
            "\n"
          ]
        },
        {
          "output_type": "stream",
          "name": "stdout",
          "text": [
            "\n",
            "      Epoch    GPU_mem       loss  Instances       Size\n"
          ]
        },
        {
          "output_type": "stream",
          "name": "stderr",
          "text": [
            "       4/50     0.747G     0.8895         50        224: 100%|██████████| 11/11 [00:02<00:00,  3.97it/s]\n",
            "               classes   top1_acc   top5_acc: 100%|██████████| 2/2 [00:00<00:00, 72.22it/s]"
          ]
        },
        {
          "output_type": "stream",
          "name": "stdout",
          "text": [
            "                   all      0.676          1\n"
          ]
        },
        {
          "output_type": "stream",
          "name": "stderr",
          "text": [
            "\n"
          ]
        },
        {
          "output_type": "stream",
          "name": "stdout",
          "text": [
            "\n",
            "      Epoch    GPU_mem       loss  Instances       Size\n"
          ]
        },
        {
          "output_type": "stream",
          "name": "stderr",
          "text": [
            "       5/50     0.747G     0.7684         50        224: 100%|██████████| 11/11 [00:01<00:00,  5.88it/s]\n",
            "               classes   top1_acc   top5_acc: 100%|██████████| 2/2 [00:00<00:00, 66.06it/s]"
          ]
        },
        {
          "output_type": "stream",
          "name": "stdout",
          "text": [
            "                   all      0.703          1\n"
          ]
        },
        {
          "output_type": "stream",
          "name": "stderr",
          "text": [
            "\n"
          ]
        },
        {
          "output_type": "stream",
          "name": "stdout",
          "text": [
            "\n",
            "      Epoch    GPU_mem       loss  Instances       Size\n"
          ]
        },
        {
          "output_type": "stream",
          "name": "stderr",
          "text": [
            "       6/50     0.747G     0.7444         50        224: 100%|██████████| 11/11 [00:02<00:00,  3.72it/s]\n",
            "               classes   top1_acc   top5_acc: 100%|██████████| 2/2 [00:00<00:00, 71.05it/s]"
          ]
        },
        {
          "output_type": "stream",
          "name": "stdout",
          "text": [
            "                   all      0.622          1\n"
          ]
        },
        {
          "output_type": "stream",
          "name": "stderr",
          "text": [
            "\n"
          ]
        },
        {
          "output_type": "stream",
          "name": "stdout",
          "text": [
            "\n",
            "      Epoch    GPU_mem       loss  Instances       Size\n"
          ]
        },
        {
          "output_type": "stream",
          "name": "stderr",
          "text": [
            "       7/50     0.747G     0.6563         50        224: 100%|██████████| 11/11 [00:01<00:00,  6.24it/s]\n",
            "               classes   top1_acc   top5_acc: 100%|██████████| 2/2 [00:00<00:00, 72.89it/s]"
          ]
        },
        {
          "output_type": "stream",
          "name": "stdout",
          "text": [
            "                   all       0.73          1\n"
          ]
        },
        {
          "output_type": "stream",
          "name": "stderr",
          "text": [
            "\n"
          ]
        },
        {
          "output_type": "stream",
          "name": "stdout",
          "text": [
            "\n",
            "      Epoch    GPU_mem       loss  Instances       Size\n"
          ]
        },
        {
          "output_type": "stream",
          "name": "stderr",
          "text": [
            "       8/50     0.747G     0.5935         50        224: 100%|██████████| 11/11 [00:01<00:00,  5.74it/s]\n",
            "               classes   top1_acc   top5_acc: 100%|██████████| 2/2 [00:00<00:00, 68.96it/s]"
          ]
        },
        {
          "output_type": "stream",
          "name": "stdout",
          "text": [
            "                   all      0.724          1\n"
          ]
        },
        {
          "output_type": "stream",
          "name": "stderr",
          "text": [
            "\n"
          ]
        },
        {
          "output_type": "stream",
          "name": "stdout",
          "text": [
            "\n",
            "      Epoch    GPU_mem       loss  Instances       Size\n"
          ]
        },
        {
          "output_type": "stream",
          "name": "stderr",
          "text": [
            "       9/50     0.747G     0.5101         50        224: 100%|██████████| 11/11 [00:03<00:00,  3.21it/s]\n",
            "               classes   top1_acc   top5_acc: 100%|██████████| 2/2 [00:00<00:00, 71.80it/s]"
          ]
        },
        {
          "output_type": "stream",
          "name": "stdout",
          "text": [
            "                   all      0.741          1\n"
          ]
        },
        {
          "output_type": "stream",
          "name": "stderr",
          "text": [
            "\n"
          ]
        },
        {
          "output_type": "stream",
          "name": "stdout",
          "text": [
            "\n",
            "      Epoch    GPU_mem       loss  Instances       Size\n"
          ]
        },
        {
          "output_type": "stream",
          "name": "stderr",
          "text": [
            "      10/50     0.747G     0.4323         50        224: 100%|██████████| 11/11 [00:01<00:00,  5.58it/s]\n",
            "               classes   top1_acc   top5_acc: 100%|██████████| 2/2 [00:00<00:00, 62.24it/s]"
          ]
        },
        {
          "output_type": "stream",
          "name": "stdout",
          "text": [
            "                   all      0.719          1\n"
          ]
        },
        {
          "output_type": "stream",
          "name": "stderr",
          "text": [
            "\n"
          ]
        },
        {
          "output_type": "stream",
          "name": "stdout",
          "text": [
            "\n",
            "      Epoch    GPU_mem       loss  Instances       Size\n"
          ]
        },
        {
          "output_type": "stream",
          "name": "stderr",
          "text": [
            "      11/50     0.747G      0.404         50        224: 100%|██████████| 11/11 [00:02<00:00,  3.82it/s]\n",
            "               classes   top1_acc   top5_acc: 100%|██████████| 2/2 [00:00<00:00, 69.87it/s]"
          ]
        },
        {
          "output_type": "stream",
          "name": "stdout",
          "text": [
            "                   all      0.768          1\n"
          ]
        },
        {
          "output_type": "stream",
          "name": "stderr",
          "text": [
            "\n"
          ]
        },
        {
          "output_type": "stream",
          "name": "stdout",
          "text": [
            "\n",
            "      Epoch    GPU_mem       loss  Instances       Size\n"
          ]
        },
        {
          "output_type": "stream",
          "name": "stderr",
          "text": [
            "      12/50     0.747G     0.3413         50        224: 100%|██████████| 11/11 [00:02<00:00,  4.71it/s]\n",
            "               classes   top1_acc   top5_acc: 100%|██████████| 2/2 [00:00<00:00, 68.39it/s]"
          ]
        },
        {
          "output_type": "stream",
          "name": "stdout",
          "text": [
            "                   all      0.762          1\n"
          ]
        },
        {
          "output_type": "stream",
          "name": "stderr",
          "text": [
            "\n"
          ]
        },
        {
          "output_type": "stream",
          "name": "stdout",
          "text": [
            "\n",
            "      Epoch    GPU_mem       loss  Instances       Size\n"
          ]
        },
        {
          "output_type": "stream",
          "name": "stderr",
          "text": [
            "      13/50     0.747G      0.323         50        224: 100%|██████████| 11/11 [00:01<00:00,  5.59it/s]\n",
            "               classes   top1_acc   top5_acc: 100%|██████████| 2/2 [00:00<00:00, 68.84it/s]"
          ]
        },
        {
          "output_type": "stream",
          "name": "stdout",
          "text": [
            "                   all      0.789          1\n"
          ]
        },
        {
          "output_type": "stream",
          "name": "stderr",
          "text": [
            "\n"
          ]
        },
        {
          "output_type": "stream",
          "name": "stdout",
          "text": [
            "\n",
            "      Epoch    GPU_mem       loss  Instances       Size\n"
          ]
        },
        {
          "output_type": "stream",
          "name": "stderr",
          "text": [
            "      14/50     0.747G     0.2953         50        224: 100%|██████████| 11/11 [00:02<00:00,  3.78it/s]\n",
            "               classes   top1_acc   top5_acc: 100%|██████████| 2/2 [00:00<00:00, 67.85it/s]"
          ]
        },
        {
          "output_type": "stream",
          "name": "stdout",
          "text": [
            "                   all      0.757          1\n"
          ]
        },
        {
          "output_type": "stream",
          "name": "stderr",
          "text": [
            "\n"
          ]
        },
        {
          "output_type": "stream",
          "name": "stdout",
          "text": [
            "\n",
            "      Epoch    GPU_mem       loss  Instances       Size\n"
          ]
        },
        {
          "output_type": "stream",
          "name": "stderr",
          "text": [
            "      15/50     0.747G     0.2944         50        224: 100%|██████████| 11/11 [00:02<00:00,  5.45it/s]\n",
            "               classes   top1_acc   top5_acc: 100%|██████████| 2/2 [00:00<00:00, 66.04it/s]"
          ]
        },
        {
          "output_type": "stream",
          "name": "stdout",
          "text": [
            "                   all      0.773          1\n"
          ]
        },
        {
          "output_type": "stream",
          "name": "stderr",
          "text": [
            "\n"
          ]
        },
        {
          "output_type": "stream",
          "name": "stdout",
          "text": [
            "\n",
            "      Epoch    GPU_mem       loss  Instances       Size\n"
          ]
        },
        {
          "output_type": "stream",
          "name": "stderr",
          "text": [
            "      16/50     0.747G     0.2917         50        224: 100%|██████████| 11/11 [00:01<00:00,  5.71it/s]\n",
            "               classes   top1_acc   top5_acc: 100%|██████████| 2/2 [00:00<00:00, 67.62it/s]"
          ]
        },
        {
          "output_type": "stream",
          "name": "stdout",
          "text": [
            "                   all      0.778          1\n"
          ]
        },
        {
          "output_type": "stream",
          "name": "stderr",
          "text": [
            "\n"
          ]
        },
        {
          "output_type": "stream",
          "name": "stdout",
          "text": [
            "\n",
            "      Epoch    GPU_mem       loss  Instances       Size\n"
          ]
        },
        {
          "output_type": "stream",
          "name": "stderr",
          "text": [
            "      17/50     0.747G     0.2565         50        224: 100%|██████████| 11/11 [00:03<00:00,  3.21it/s]\n",
            "               classes   top1_acc   top5_acc: 100%|██████████| 2/2 [00:00<00:00, 69.33it/s]"
          ]
        },
        {
          "output_type": "stream",
          "name": "stdout",
          "text": [
            "                   all        0.8          1\n"
          ]
        },
        {
          "output_type": "stream",
          "name": "stderr",
          "text": [
            "\n"
          ]
        },
        {
          "output_type": "stream",
          "name": "stdout",
          "text": [
            "\n",
            "      Epoch    GPU_mem       loss  Instances       Size\n"
          ]
        },
        {
          "output_type": "stream",
          "name": "stderr",
          "text": [
            "      18/50     0.747G     0.2198         50        224: 100%|██████████| 11/11 [00:01<00:00,  5.68it/s]\n",
            "               classes   top1_acc   top5_acc: 100%|██████████| 2/2 [00:00<00:00, 73.41it/s]"
          ]
        },
        {
          "output_type": "stream",
          "name": "stdout",
          "text": [
            "                   all      0.746          1\n"
          ]
        },
        {
          "output_type": "stream",
          "name": "stderr",
          "text": [
            "\n"
          ]
        },
        {
          "output_type": "stream",
          "name": "stdout",
          "text": [
            "\n",
            "      Epoch    GPU_mem       loss  Instances       Size\n"
          ]
        },
        {
          "output_type": "stream",
          "name": "stderr",
          "text": [
            "      19/50     0.747G     0.2285         50        224: 100%|██████████| 11/11 [00:02<00:00,  4.38it/s]\n",
            "               classes   top1_acc   top5_acc: 100%|██████████| 2/2 [00:00<00:00, 67.59it/s]"
          ]
        },
        {
          "output_type": "stream",
          "name": "stdout",
          "text": [
            "                   all      0.811          1\n"
          ]
        },
        {
          "output_type": "stream",
          "name": "stderr",
          "text": [
            "\n"
          ]
        },
        {
          "output_type": "stream",
          "name": "stdout",
          "text": [
            "\n",
            "      Epoch    GPU_mem       loss  Instances       Size\n"
          ]
        },
        {
          "output_type": "stream",
          "name": "stderr",
          "text": [
            "      20/50     0.747G     0.2488         50        224: 100%|██████████| 11/11 [00:02<00:00,  4.01it/s]\n",
            "               classes   top1_acc   top5_acc: 100%|██████████| 2/2 [00:00<00:00, 63.19it/s]"
          ]
        },
        {
          "output_type": "stream",
          "name": "stdout",
          "text": [
            "                   all      0.768          1\n"
          ]
        },
        {
          "output_type": "stream",
          "name": "stderr",
          "text": [
            "\n"
          ]
        },
        {
          "output_type": "stream",
          "name": "stdout",
          "text": [
            "\n",
            "      Epoch    GPU_mem       loss  Instances       Size\n"
          ]
        },
        {
          "output_type": "stream",
          "name": "stderr",
          "text": [
            "      21/50     0.747G     0.1855         50        224: 100%|██████████| 11/11 [00:01<00:00,  6.31it/s]\n",
            "               classes   top1_acc   top5_acc: 100%|██████████| 2/2 [00:00<00:00, 55.65it/s]"
          ]
        },
        {
          "output_type": "stream",
          "name": "stdout",
          "text": [
            "                   all      0.773          1\n"
          ]
        },
        {
          "output_type": "stream",
          "name": "stderr",
          "text": [
            "\n"
          ]
        },
        {
          "output_type": "stream",
          "name": "stdout",
          "text": [
            "\n",
            "      Epoch    GPU_mem       loss  Instances       Size\n"
          ]
        },
        {
          "output_type": "stream",
          "name": "stderr",
          "text": [
            "      22/50     0.747G     0.2079         50        224: 100%|██████████| 11/11 [00:03<00:00,  3.60it/s]\n",
            "               classes   top1_acc   top5_acc: 100%|██████████| 2/2 [00:00<00:00, 73.04it/s]"
          ]
        },
        {
          "output_type": "stream",
          "name": "stdout",
          "text": [
            "                   all      0.789          1\n"
          ]
        },
        {
          "output_type": "stream",
          "name": "stderr",
          "text": [
            "\n"
          ]
        },
        {
          "output_type": "stream",
          "name": "stdout",
          "text": [
            "\n",
            "      Epoch    GPU_mem       loss  Instances       Size\n"
          ]
        },
        {
          "output_type": "stream",
          "name": "stderr",
          "text": [
            "      23/50     0.747G     0.1941         50        224: 100%|██████████| 11/11 [00:01<00:00,  5.88it/s]\n",
            "               classes   top1_acc   top5_acc: 100%|██████████| 2/2 [00:00<00:00, 65.44it/s]"
          ]
        },
        {
          "output_type": "stream",
          "name": "stdout",
          "text": [
            "                   all      0.811          1\n"
          ]
        },
        {
          "output_type": "stream",
          "name": "stderr",
          "text": [
            "\n"
          ]
        },
        {
          "output_type": "stream",
          "name": "stdout",
          "text": [
            "\n",
            "      Epoch    GPU_mem       loss  Instances       Size\n"
          ]
        },
        {
          "output_type": "stream",
          "name": "stderr",
          "text": [
            "      24/50     0.747G     0.1798         50        224: 100%|██████████| 11/11 [00:01<00:00,  5.96it/s]\n",
            "               classes   top1_acc   top5_acc: 100%|██████████| 2/2 [00:00<00:00, 70.36it/s]"
          ]
        },
        {
          "output_type": "stream",
          "name": "stdout",
          "text": [
            "                   all      0.773          1\n"
          ]
        },
        {
          "output_type": "stream",
          "name": "stderr",
          "text": [
            "\n"
          ]
        },
        {
          "output_type": "stream",
          "name": "stdout",
          "text": [
            "\n",
            "      Epoch    GPU_mem       loss  Instances       Size\n"
          ]
        },
        {
          "output_type": "stream",
          "name": "stderr",
          "text": [
            "      25/50     0.747G     0.1506         50        224: 100%|██████████| 11/11 [00:03<00:00,  3.07it/s]\n",
            "               classes   top1_acc   top5_acc: 100%|██████████| 2/2 [00:00<00:00, 68.73it/s]"
          ]
        },
        {
          "output_type": "stream",
          "name": "stdout",
          "text": [
            "                   all      0.811          1\n"
          ]
        },
        {
          "output_type": "stream",
          "name": "stderr",
          "text": [
            "\n"
          ]
        },
        {
          "output_type": "stream",
          "name": "stdout",
          "text": [
            "\n",
            "      Epoch    GPU_mem       loss  Instances       Size\n"
          ]
        },
        {
          "output_type": "stream",
          "name": "stderr",
          "text": [
            "      26/50     0.747G     0.1586         50        224: 100%|██████████| 11/11 [00:01<00:00,  6.30it/s]\n",
            "               classes   top1_acc   top5_acc: 100%|██████████| 2/2 [00:00<00:00, 73.97it/s]"
          ]
        },
        {
          "output_type": "stream",
          "name": "stdout",
          "text": [
            "                   all        0.8          1\n"
          ]
        },
        {
          "output_type": "stream",
          "name": "stderr",
          "text": [
            "\n"
          ]
        },
        {
          "output_type": "stream",
          "name": "stdout",
          "text": [
            "\n",
            "      Epoch    GPU_mem       loss  Instances       Size\n"
          ]
        },
        {
          "output_type": "stream",
          "name": "stderr",
          "text": [
            "      27/50     0.747G     0.1541         50        224: 100%|██████████| 11/11 [00:02<00:00,  4.59it/s]\n",
            "               classes   top1_acc   top5_acc: 100%|██████████| 2/2 [00:00<00:00, 68.92it/s]"
          ]
        },
        {
          "output_type": "stream",
          "name": "stdout",
          "text": [
            "                   all      0.795          1\n"
          ]
        },
        {
          "output_type": "stream",
          "name": "stderr",
          "text": [
            "\n"
          ]
        },
        {
          "output_type": "stream",
          "name": "stdout",
          "text": [
            "\n",
            "      Epoch    GPU_mem       loss  Instances       Size\n"
          ]
        },
        {
          "output_type": "stream",
          "name": "stderr",
          "text": [
            "      28/50     0.747G     0.1867         50        224: 100%|██████████| 11/11 [00:02<00:00,  4.17it/s]\n",
            "               classes   top1_acc   top5_acc: 100%|██████████| 2/2 [00:00<00:00, 69.25it/s]"
          ]
        },
        {
          "output_type": "stream",
          "name": "stdout",
          "text": [
            "                   all      0.789          1\n"
          ]
        },
        {
          "output_type": "stream",
          "name": "stderr",
          "text": [
            "\n"
          ]
        },
        {
          "output_type": "stream",
          "name": "stdout",
          "text": [
            "\n",
            "      Epoch    GPU_mem       loss  Instances       Size\n"
          ]
        },
        {
          "output_type": "stream",
          "name": "stderr",
          "text": [
            "      29/50     0.747G      0.133         50        224: 100%|██████████| 11/11 [00:01<00:00,  6.17it/s]\n",
            "               classes   top1_acc   top5_acc: 100%|██████████| 2/2 [00:00<00:00, 69.09it/s]"
          ]
        },
        {
          "output_type": "stream",
          "name": "stdout",
          "text": [
            "                   all      0.784          1\n"
          ]
        },
        {
          "output_type": "stream",
          "name": "stderr",
          "text": [
            "\n"
          ]
        },
        {
          "output_type": "stream",
          "name": "stdout",
          "text": [
            "\n",
            "      Epoch    GPU_mem       loss  Instances       Size\n"
          ]
        },
        {
          "output_type": "stream",
          "name": "stderr",
          "text": [
            "      30/50     0.747G     0.1301         50        224: 100%|██████████| 11/11 [00:03<00:00,  3.55it/s]\n",
            "               classes   top1_acc   top5_acc: 100%|██████████| 2/2 [00:00<00:00, 76.13it/s]"
          ]
        },
        {
          "output_type": "stream",
          "name": "stdout",
          "text": [
            "                   all      0.778          1\n"
          ]
        },
        {
          "output_type": "stream",
          "name": "stderr",
          "text": [
            "\n"
          ]
        },
        {
          "output_type": "stream",
          "name": "stdout",
          "text": [
            "\n",
            "      Epoch    GPU_mem       loss  Instances       Size\n"
          ]
        },
        {
          "output_type": "stream",
          "name": "stderr",
          "text": [
            "      31/50     0.747G     0.1163         50        224: 100%|██████████| 11/11 [00:01<00:00,  5.57it/s]\n",
            "               classes   top1_acc   top5_acc: 100%|██████████| 2/2 [00:00<00:00, 70.41it/s]\n"
          ]
        },
        {
          "output_type": "stream",
          "name": "stdout",
          "text": [
            "                   all        0.8          1\n",
            "\n",
            "      Epoch    GPU_mem       loss  Instances       Size\n"
          ]
        },
        {
          "output_type": "stream",
          "name": "stderr",
          "text": [
            "      32/50     0.747G     0.1379         50        224: 100%|██████████| 11/11 [00:01<00:00,  5.69it/s]\n",
            "               classes   top1_acc   top5_acc: 100%|██████████| 2/2 [00:00<00:00, 60.93it/s]"
          ]
        },
        {
          "output_type": "stream",
          "name": "stdout",
          "text": [
            "                   all      0.816          1\n"
          ]
        },
        {
          "output_type": "stream",
          "name": "stderr",
          "text": [
            "\n"
          ]
        },
        {
          "output_type": "stream",
          "name": "stdout",
          "text": [
            "\n",
            "      Epoch    GPU_mem       loss  Instances       Size\n"
          ]
        },
        {
          "output_type": "stream",
          "name": "stderr",
          "text": [
            "      33/50     0.747G     0.1542         50        224: 100%|██████████| 11/11 [00:03<00:00,  3.03it/s]\n",
            "               classes   top1_acc   top5_acc: 100%|██████████| 2/2 [00:00<00:00, 67.09it/s]"
          ]
        },
        {
          "output_type": "stream",
          "name": "stdout",
          "text": [
            "                   all        0.8          1\n"
          ]
        },
        {
          "output_type": "stream",
          "name": "stderr",
          "text": [
            "\n"
          ]
        },
        {
          "output_type": "stream",
          "name": "stdout",
          "text": [
            "\n",
            "      Epoch    GPU_mem       loss  Instances       Size\n"
          ]
        },
        {
          "output_type": "stream",
          "name": "stderr",
          "text": [
            "      34/50     0.747G     0.1088         50        224: 100%|██████████| 11/11 [00:01<00:00,  6.31it/s]\n",
            "               classes   top1_acc   top5_acc: 100%|██████████| 2/2 [00:00<00:00, 66.26it/s]"
          ]
        },
        {
          "output_type": "stream",
          "name": "stdout",
          "text": [
            "                   all      0.805          1\n"
          ]
        },
        {
          "output_type": "stream",
          "name": "stderr",
          "text": [
            "\n"
          ]
        },
        {
          "output_type": "stream",
          "name": "stdout",
          "text": [
            "\n",
            "      Epoch    GPU_mem       loss  Instances       Size\n"
          ]
        },
        {
          "output_type": "stream",
          "name": "stderr",
          "text": [
            "      35/50     0.747G     0.1229         50        224: 100%|██████████| 11/11 [00:01<00:00,  5.82it/s]\n",
            "               classes   top1_acc   top5_acc: 100%|██████████| 2/2 [00:00<00:00, 71.85it/s]"
          ]
        },
        {
          "output_type": "stream",
          "name": "stdout",
          "text": [
            "                   all        0.8          1\n"
          ]
        },
        {
          "output_type": "stream",
          "name": "stderr",
          "text": [
            "\n"
          ]
        },
        {
          "output_type": "stream",
          "name": "stdout",
          "text": [
            "\n",
            "      Epoch    GPU_mem       loss  Instances       Size\n"
          ]
        },
        {
          "output_type": "stream",
          "name": "stderr",
          "text": [
            "      36/50     0.747G     0.1063         50        224: 100%|██████████| 11/11 [00:03<00:00,  3.24it/s]\n",
            "               classes   top1_acc   top5_acc: 100%|██████████| 2/2 [00:00<00:00, 66.53it/s]"
          ]
        },
        {
          "output_type": "stream",
          "name": "stdout",
          "text": [
            "                   all      0.789          1\n"
          ]
        },
        {
          "output_type": "stream",
          "name": "stderr",
          "text": [
            "\n"
          ]
        },
        {
          "output_type": "stream",
          "name": "stdout",
          "text": [
            "\n",
            "      Epoch    GPU_mem       loss  Instances       Size\n"
          ]
        },
        {
          "output_type": "stream",
          "name": "stderr",
          "text": [
            "      37/50     0.747G      0.125         50        224: 100%|██████████| 11/11 [00:01<00:00,  7.21it/s]\n",
            "               classes   top1_acc   top5_acc: 100%|██████████| 2/2 [00:00<00:00, 71.93it/s]"
          ]
        },
        {
          "output_type": "stream",
          "name": "stdout",
          "text": [
            "                   all      0.811          1\n"
          ]
        },
        {
          "output_type": "stream",
          "name": "stderr",
          "text": [
            "\n"
          ]
        },
        {
          "output_type": "stream",
          "name": "stdout",
          "text": [
            "\n",
            "      Epoch    GPU_mem       loss  Instances       Size\n"
          ]
        },
        {
          "output_type": "stream",
          "name": "stderr",
          "text": [
            "      38/50     0.747G     0.1044         50        224: 100%|██████████| 11/11 [00:03<00:00,  3.34it/s]\n",
            "               classes   top1_acc   top5_acc: 100%|██████████| 2/2 [00:00<00:00, 68.44it/s]"
          ]
        },
        {
          "output_type": "stream",
          "name": "stdout",
          "text": [
            "                   all      0.811          1\n"
          ]
        },
        {
          "output_type": "stream",
          "name": "stderr",
          "text": [
            "\n"
          ]
        },
        {
          "output_type": "stream",
          "name": "stdout",
          "text": [
            "\n",
            "      Epoch    GPU_mem       loss  Instances       Size\n"
          ]
        },
        {
          "output_type": "stream",
          "name": "stderr",
          "text": [
            "      39/50     0.747G     0.1027         50        224: 100%|██████████| 11/11 [00:01<00:00,  6.09it/s]\n",
            "               classes   top1_acc   top5_acc: 100%|██████████| 2/2 [00:00<00:00, 64.06it/s]"
          ]
        },
        {
          "output_type": "stream",
          "name": "stdout",
          "text": [
            "                   all      0.795          1\n"
          ]
        },
        {
          "output_type": "stream",
          "name": "stderr",
          "text": [
            "\n"
          ]
        },
        {
          "output_type": "stream",
          "name": "stdout",
          "text": [
            "\n",
            "      Epoch    GPU_mem       loss  Instances       Size\n"
          ]
        },
        {
          "output_type": "stream",
          "name": "stderr",
          "text": [
            "      40/50     0.747G    0.07315         50        224: 100%|██████████| 11/11 [00:01<00:00,  5.66it/s]\n",
            "               classes   top1_acc   top5_acc: 100%|██████████| 2/2 [00:00<00:00, 68.07it/s]"
          ]
        },
        {
          "output_type": "stream",
          "name": "stdout",
          "text": [
            "                   all      0.778          1\n"
          ]
        },
        {
          "output_type": "stream",
          "name": "stderr",
          "text": [
            "\n"
          ]
        },
        {
          "output_type": "stream",
          "name": "stdout",
          "text": [
            "\n",
            "      Epoch    GPU_mem       loss  Instances       Size\n"
          ]
        },
        {
          "output_type": "stream",
          "name": "stderr",
          "text": [
            "      41/50     0.786G     0.1049         50        224: 100%|██████████| 11/11 [00:02<00:00,  4.50it/s]\n",
            "               classes   top1_acc   top5_acc: 100%|██████████| 2/2 [00:00<00:00, 65.58it/s]"
          ]
        },
        {
          "output_type": "stream",
          "name": "stdout",
          "text": [
            "                   all      0.811          1\n"
          ]
        },
        {
          "output_type": "stream",
          "name": "stderr",
          "text": [
            "\n"
          ]
        },
        {
          "output_type": "stream",
          "name": "stdout",
          "text": [
            "\n",
            "      Epoch    GPU_mem       loss  Instances       Size\n"
          ]
        },
        {
          "output_type": "stream",
          "name": "stderr",
          "text": [
            "      42/50     0.747G     0.1039         50        224: 100%|██████████| 11/11 [00:01<00:00,  8.03it/s]\n",
            "               classes   top1_acc   top5_acc: 100%|██████████| 2/2 [00:00<00:00, 74.08it/s]"
          ]
        },
        {
          "output_type": "stream",
          "name": "stdout",
          "text": [
            "                   all      0.805          1\n",
            "\u001b[34m\u001b[1mEarlyStopping: \u001b[0mTraining stopped early as no improvement observed in last 10 epochs. Best results observed at epoch 32, best model saved as best.pt.\n",
            "To update EarlyStopping(patience=10) pass a new patience value, i.e. `patience=300` or use `patience=0` to disable EarlyStopping.\n"
          ]
        },
        {
          "output_type": "stream",
          "name": "stderr",
          "text": [
            "\n"
          ]
        },
        {
          "output_type": "stream",
          "name": "stdout",
          "text": [
            "\n",
            "42 epochs completed in 0.036 hours.\n",
            "Optimizer stripped from runs/classify/yolon/weights/last.pt, 3.0MB\n",
            "Optimizer stripped from runs/classify/yolon/weights/best.pt, 3.0MB\n",
            "\n",
            "Validating runs/classify/yolon/weights/best.pt...\n",
            "Ultralytics YOLOv8.2.103 🚀 Python-3.10.12 torch-2.5.0+cu121 CUDA:0 (NVIDIA A100-SXM4-40GB, 40514MiB)\n",
            "YOLOv8n-cls summary (fused): 73 layers, 1,441,285 parameters, 0 gradients, 3.3 GFLOPs\n",
            "WARNING ⚠️ Dataset 'split=val' not found, using 'split=test' instead.\n",
            "\u001b[34m\u001b[1mtrain:\u001b[0m /content/drive/MyDrive/Colab/deep learning/dataset/dataMerge/train... found 690 images in 5 classes ✅ \n",
            "\u001b[34m\u001b[1mval:\u001b[0m None...\n",
            "\u001b[34m\u001b[1mtest:\u001b[0m /content/drive/MyDrive/Colab/deep learning/dataset/dataMerge/test... found 185 images in 5 classes ✅ \n"
          ]
        },
        {
          "output_type": "stream",
          "name": "stderr",
          "text": [
            "               classes   top1_acc   top5_acc: 100%|██████████| 2/2 [00:00<00:00, 69.02it/s]\n"
          ]
        },
        {
          "output_type": "stream",
          "name": "stdout",
          "text": [
            "                   all      0.816          1\n",
            "Speed: 0.1ms preprocess, 0.1ms inference, 0.0ms loss, 0.0ms postprocess per image\n",
            "Results saved to \u001b[1mruns/classify/yolon\u001b[0m\n",
            "Results saved to \u001b[1mruns/classify/yolon\u001b[0m\n"
          ]
        }
      ],
      "source": [
        "# Train the model\n",
        "results = modelyolov8n.train(data='/content/drive/MyDrive/Colab/deep learning/dataset/dataMerge', epochs=epochs, imgsz=imageSize, lr0 = learningRate, optimizer = 'Adam', batch =batch_size , freeze = 1, patience = 10, name ='yolon')"
      ]
    },
    {
      "cell_type": "code",
      "source": [
        "results"
      ],
      "metadata": {
        "colab": {
          "base_uri": "https://localhost:8080/"
        },
        "id": "NCsc4GqHH4bE",
        "outputId": "797cc641-0d13-4111-9970-a013158de5e8"
      },
      "execution_count": null,
      "outputs": [
        {
          "output_type": "execute_result",
          "data": {
            "text/plain": [
              "ultralytics.utils.metrics.ClassifyMetrics object with attributes:\n",
              "\n",
              "confusion_matrix: <ultralytics.utils.metrics.ConfusionMatrix object at 0x7ad5c9d4d930>\n",
              "curves: []\n",
              "curves_results: []\n",
              "fitness: 0.908108115196228\n",
              "keys: ['metrics/accuracy_top1', 'metrics/accuracy_top5']\n",
              "results_dict: {'metrics/accuracy_top1': 0.816216230392456, 'metrics/accuracy_top5': 1.0, 'fitness': 0.908108115196228}\n",
              "save_dir: PosixPath('runs/classify/yolon')\n",
              "speed: {'preprocess': 0.054682912053288645, 'inference': 0.07439304042506863, 'loss': 0.0002796585495407517, 'postprocess': 0.00015464988914695946}\n",
              "task: 'classify'\n",
              "top1: 0.816216230392456\n",
              "top5: 1.0"
            ]
          },
          "metadata": {},
          "execution_count": 40
        }
      ]
    },
    {
      "cell_type": "code",
      "source": [
        "from google.colab import drive\n",
        "drive.mount('/content/drive')"
      ],
      "metadata": {
        "colab": {
          "base_uri": "https://localhost:8080/"
        },
        "id": "2iOiTyA2CK5e",
        "outputId": "8709de86-f697-40cd-aa0d-a93724d97631"
      },
      "execution_count": null,
      "outputs": [
        {
          "output_type": "stream",
          "name": "stdout",
          "text": [
            "Drive already mounted at /content/drive; to attempt to forcibly remount, call drive.mount(\"/content/drive\", force_remount=True).\n"
          ]
        }
      ]
    },
    {
      "cell_type": "code",
      "execution_count": null,
      "metadata": {
        "id": "ZhsqKNLDg01B"
      },
      "outputs": [],
      "source": [
        "bestModelYoloN = YOLO('/content/runs/classify/yolon/weights/best.pt')  # load a custom model"
      ]
    },
    {
      "cell_type": "code",
      "execution_count": null,
      "metadata": {
        "id": "SWriHwt-NXAk",
        "collapsed": true,
        "colab": {
          "base_uri": "https://localhost:8080/"
        },
        "outputId": "8880ca8c-e816-491c-e6c9-eeca56cb4500"
      },
      "outputs": [
        {
          "output_type": "stream",
          "name": "stdout",
          "text": [
            "\n",
            "image 1/37 /content/drive/MyDrive/Colab/deep learning/dataset/dataMerge/test/Acne/032839HB.jpg: 224x224 Acne 0.58, Eczemaa 0.37, Rosacea 0.05, Basal Cell Carcinoma 0.00, Actinic Keratosis 0.00, 3.6ms\n",
            "image 2/37 /content/drive/MyDrive/Colab/deep learning/dataset/dataMerge/test/Acne/032897HB.jpg: 224x224 Acne 0.95, Rosacea 0.03, Actinic Keratosis 0.01, Eczemaa 0.00, Basal Cell Carcinoma 0.00, 3.6ms\n",
            "image 3/37 /content/drive/MyDrive/Colab/deep learning/dataset/dataMerge/test/Acne/07AcnePittedScars1.jpg: 224x224 Acne 1.00, Actinic Keratosis 0.00, Basal Cell Carcinoma 0.00, Rosacea 0.00, Eczemaa 0.00, 3.5ms\n",
            "image 4/37 /content/drive/MyDrive/Colab/deep learning/dataset/dataMerge/test/Acne/acne-Closed-Comedo.jpg: 224x224 Actinic Keratosis 0.80, Acne 0.12, Rosacea 0.06, Basal Cell Carcinoma 0.02, Eczemaa 0.00, 3.4ms\n",
            "image 5/37 /content/drive/MyDrive/Colab/deep learning/dataset/dataMerge/test/Acne/acne-closed-comedo-8.jpg: 224x224 Acne 0.99, Rosacea 0.01, Actinic Keratosis 0.00, Eczemaa 0.00, Basal Cell Carcinoma 0.00, 3.9ms\n",
            "image 6/37 /content/drive/MyDrive/Colab/deep learning/dataset/dataMerge/test/Acne/acne-cystic-13.jpg: 224x224 Acne 1.00, Rosacea 0.00, Actinic Keratosis 0.00, Basal Cell Carcinoma 0.00, Eczemaa 0.00, 3.4ms\n",
            "image 7/37 /content/drive/MyDrive/Colab/deep learning/dataset/dataMerge/test/Acne/acne-excoriated-24.jpg: 224x224 Acne 1.00, Rosacea 0.00, Eczemaa 0.00, Basal Cell Carcinoma 0.00, Actinic Keratosis 0.00, 3.6ms\n",
            "image 8/37 /content/drive/MyDrive/Colab/deep learning/dataset/dataMerge/test/Acne/acne-excoriated-27.jpg: 224x224 Acne 1.00, Basal Cell Carcinoma 0.00, Eczemaa 0.00, Rosacea 0.00, Actinic Keratosis 0.00, 3.4ms\n",
            "image 9/37 /content/drive/MyDrive/Colab/deep learning/dataset/dataMerge/test/Acne/acne-infantile-1.jpg: 224x224 Acne 1.00, Basal Cell Carcinoma 0.00, Actinic Keratosis 0.00, Rosacea 0.00, Eczemaa 0.00, 3.4ms\n",
            "image 10/37 /content/drive/MyDrive/Colab/deep learning/dataset/dataMerge/test/Acne/acne-open-comedo-58.jpg: 224x224 Acne 1.00, Actinic Keratosis 0.00, Rosacea 0.00, Basal Cell Carcinoma 0.00, Eczemaa 0.00, 3.5ms\n",
            "image 11/37 /content/drive/MyDrive/Colab/deep learning/dataset/dataMerge/test/Acne/acne-open-comedo-59.jpg: 224x224 Acne 1.00, Rosacea 0.00, Eczemaa 0.00, Actinic Keratosis 0.00, Basal Cell Carcinoma 0.00, 3.5ms\n",
            "image 12/37 /content/drive/MyDrive/Colab/deep learning/dataset/dataMerge/test/Acne/acne-open-comedo-61.jpg: 224x224 Acne 1.00, Rosacea 0.00, Actinic Keratosis 0.00, Basal Cell Carcinoma 0.00, Eczemaa 0.00, 3.6ms\n",
            "image 13/37 /content/drive/MyDrive/Colab/deep learning/dataset/dataMerge/test/Acne/acne-open-comedo-62.jpg: 224x224 Acne 1.00, Basal Cell Carcinoma 0.00, Rosacea 0.00, Eczemaa 0.00, Actinic Keratosis 0.00, 3.5ms\n",
            "image 14/37 /content/drive/MyDrive/Colab/deep learning/dataset/dataMerge/test/Acne/acne-open-comedo-63.jpg: 224x224 Acne 1.00, Rosacea 0.00, Basal Cell Carcinoma 0.00, Actinic Keratosis 0.00, Eczemaa 0.00, 3.5ms\n",
            "image 15/37 /content/drive/MyDrive/Colab/deep learning/dataset/dataMerge/test/Acne/acne-open-comedo-64.jpg: 224x224 Acne 1.00, Rosacea 0.00, Eczemaa 0.00, Actinic Keratosis 0.00, Basal Cell Carcinoma 0.00, 3.5ms\n",
            "image 16/37 /content/drive/MyDrive/Colab/deep learning/dataset/dataMerge/test/Acne/acne-open-comedo-65.jpg: 224x224 Acne 0.56, Actinic Keratosis 0.41, Rosacea 0.03, Basal Cell Carcinoma 0.00, Eczemaa 0.00, 3.4ms\n",
            "image 17/37 /content/drive/MyDrive/Colab/deep learning/dataset/dataMerge/test/Acne/acne-open-comedo-66.jpg: 224x224 Acne 0.94, Basal Cell Carcinoma 0.04, Eczemaa 0.01, Actinic Keratosis 0.01, Rosacea 0.00, 3.5ms\n",
            "image 18/37 /content/drive/MyDrive/Colab/deep learning/dataset/dataMerge/test/Acne/acne-open-comedo-68.jpg: 224x224 Acne 0.99, Eczemaa 0.01, Actinic Keratosis 0.00, Basal Cell Carcinoma 0.00, Rosacea 0.00, 3.5ms\n",
            "image 19/37 /content/drive/MyDrive/Colab/deep learning/dataset/dataMerge/test/Acne/acne-open-comedo-73.jpg: 224x224 Basal Cell Carcinoma 0.93, Acne 0.03, Actinic Keratosis 0.02, Rosacea 0.02, Eczemaa 0.00, 3.4ms\n",
            "image 20/37 /content/drive/MyDrive/Colab/deep learning/dataset/dataMerge/test/Acne/acne-pustular-10.jpg: 224x224 Acne 1.00, Rosacea 0.00, Eczemaa 0.00, Actinic Keratosis 0.00, Basal Cell Carcinoma 0.00, 3.5ms\n",
            "image 21/37 /content/drive/MyDrive/Colab/deep learning/dataset/dataMerge/test/Acne/acne-pustular-12.jpg: 224x224 Acne 0.57, Rosacea 0.42, Actinic Keratosis 0.00, Eczemaa 0.00, Basal Cell Carcinoma 0.00, 3.4ms\n",
            "image 22/37 /content/drive/MyDrive/Colab/deep learning/dataset/dataMerge/test/Acne/acne-pustular-13.jpg: 224x224 Acne 1.00, Rosacea 0.00, Actinic Keratosis 0.00, Eczemaa 0.00, Basal Cell Carcinoma 0.00, 3.5ms\n",
            "image 23/37 /content/drive/MyDrive/Colab/deep learning/dataset/dataMerge/test/Acne/acne-pustular-14.jpg: 224x224 Acne 1.00, Rosacea 0.00, Actinic Keratosis 0.00, Eczemaa 0.00, Basal Cell Carcinoma 0.00, 3.4ms\n",
            "image 24/37 /content/drive/MyDrive/Colab/deep learning/dataset/dataMerge/test/Acne/acne-pustular-15.jpg: 224x224 Acne 1.00, Rosacea 0.00, Actinic Keratosis 0.00, Eczemaa 0.00, Basal Cell Carcinoma 0.00, 3.5ms\n",
            "image 25/37 /content/drive/MyDrive/Colab/deep learning/dataset/dataMerge/test/Acne/acne-pustular-16.jpg: 224x224 Acne 1.00, Rosacea 0.00, Actinic Keratosis 0.00, Eczemaa 0.00, Basal Cell Carcinoma 0.00, 3.6ms\n",
            "image 26/37 /content/drive/MyDrive/Colab/deep learning/dataset/dataMerge/test/Acne/acne-pustular-17.jpg: 224x224 Acne 1.00, Rosacea 0.00, Actinic Keratosis 0.00, Eczemaa 0.00, Basal Cell Carcinoma 0.00, 3.6ms\n",
            "image 27/37 /content/drive/MyDrive/Colab/deep learning/dataset/dataMerge/test/Acne/acne-pustular-18.jpg: 224x224 Actinic Keratosis 0.72, Acne 0.25, Rosacea 0.03, Eczemaa 0.00, Basal Cell Carcinoma 0.00, 3.4ms\n",
            "image 28/37 /content/drive/MyDrive/Colab/deep learning/dataset/dataMerge/test/Acne/acne-pustular-21.jpg: 224x224 Acne 1.00, Rosacea 0.00, Actinic Keratosis 0.00, Eczemaa 0.00, Basal Cell Carcinoma 0.00, 3.5ms\n",
            "image 29/37 /content/drive/MyDrive/Colab/deep learning/dataset/dataMerge/test/Acne/acne-pustular-23.jpg: 224x224 Acne 1.00, Eczemaa 0.00, Rosacea 0.00, Actinic Keratosis 0.00, Basal Cell Carcinoma 0.00, 3.3ms\n",
            "image 30/37 /content/drive/MyDrive/Colab/deep learning/dataset/dataMerge/test/Acne/acne-pustular-24.jpg: 224x224 Acne 1.00, Rosacea 0.00, Eczemaa 0.00, Actinic Keratosis 0.00, Basal Cell Carcinoma 0.00, 3.4ms\n",
            "image 31/37 /content/drive/MyDrive/Colab/deep learning/dataset/dataMerge/test/Acne/acne-pustular-25.jpg: 224x224 Acne 1.00, Eczemaa 0.00, Rosacea 0.00, Basal Cell Carcinoma 0.00, Actinic Keratosis 0.00, 3.4ms\n",
            "image 32/37 /content/drive/MyDrive/Colab/deep learning/dataset/dataMerge/test/Acne/acne-pustular-27.jpg: 224x224 Acne 1.00, Rosacea 0.00, Actinic Keratosis 0.00, Eczemaa 0.00, Basal Cell Carcinoma 0.00, 3.4ms\n",
            "image 33/37 /content/drive/MyDrive/Colab/deep learning/dataset/dataMerge/test/Acne/acne-pustular-28.jpg: 224x224 Acne 1.00, Rosacea 0.00, Actinic Keratosis 0.00, Basal Cell Carcinoma 0.00, Eczemaa 0.00, 3.4ms\n",
            "image 34/37 /content/drive/MyDrive/Colab/deep learning/dataset/dataMerge/test/Acne/acne-pustular-29.jpg: 224x224 Acne 1.00, Rosacea 0.00, Actinic Keratosis 0.00, Eczemaa 0.00, Basal Cell Carcinoma 0.00, 3.3ms\n",
            "image 35/37 /content/drive/MyDrive/Colab/deep learning/dataset/dataMerge/test/Acne/acne-pustular-30.jpg: 224x224 Acne 1.00, Eczemaa 0.00, Rosacea 0.00, Actinic Keratosis 0.00, Basal Cell Carcinoma 0.00, 3.4ms\n",
            "image 36/37 /content/drive/MyDrive/Colab/deep learning/dataset/dataMerge/test/Acne/acne-pustular-31.jpg: 224x224 Acne 1.00, Rosacea 0.00, Eczemaa 0.00, Actinic Keratosis 0.00, Basal Cell Carcinoma 0.00, 3.5ms\n",
            "image 37/37 /content/drive/MyDrive/Colab/deep learning/dataset/dataMerge/test/Acne/acne-pustular-43.jpg: 224x224 Acne 1.00, Rosacea 0.00, Eczemaa 0.00, Actinic Keratosis 0.00, Basal Cell Carcinoma 0.00, 3.4ms\n",
            "Speed: 6.0ms preprocess, 3.5ms inference, 0.1ms postprocess per image at shape (1, 3, 224, 224)\n",
            "\n",
            "image 1/37 /content/drive/MyDrive/Colab/deep learning/dataset/dataMerge/test/Actinic Keratosis/actinic-keratosis-5FU-10.jpg: 224x224 Actinic Keratosis 1.00, Basal Cell Carcinoma 0.00, Acne 0.00, Rosacea 0.00, Eczemaa 0.00, 3.4ms\n",
            "image 2/37 /content/drive/MyDrive/Colab/deep learning/dataset/dataMerge/test/Actinic Keratosis/actinic-keratosis-5FU-15.jpg: 224x224 Actinic Keratosis 1.00, Rosacea 0.00, Basal Cell Carcinoma 0.00, Eczemaa 0.00, Acne 0.00, 3.4ms\n",
            "image 3/37 /content/drive/MyDrive/Colab/deep learning/dataset/dataMerge/test/Actinic Keratosis/actinic-keratosis-5FU-25.jpg: 224x224 Actinic Keratosis 1.00, Rosacea 0.00, Basal Cell Carcinoma 0.00, Eczemaa 0.00, Acne 0.00, 3.4ms\n",
            "image 4/37 /content/drive/MyDrive/Colab/deep learning/dataset/dataMerge/test/Actinic Keratosis/actinic-keratosis-5FU-26.jpg: 224x224 Actinic Keratosis 0.83, Rosacea 0.17, Eczemaa 0.00, Basal Cell Carcinoma 0.00, Acne 0.00, 3.4ms\n",
            "image 5/37 /content/drive/MyDrive/Colab/deep learning/dataset/dataMerge/test/Actinic Keratosis/actinic-keratosis-5FU-32.jpg: 224x224 Actinic Keratosis 0.88, Rosacea 0.12, Acne 0.00, Eczemaa 0.00, Basal Cell Carcinoma 0.00, 3.3ms\n",
            "image 6/37 /content/drive/MyDrive/Colab/deep learning/dataset/dataMerge/test/Actinic Keratosis/actinic-keratosis-5FU-35.jpg: 224x224 Actinic Keratosis 1.00, Basal Cell Carcinoma 0.00, Rosacea 0.00, Eczemaa 0.00, Acne 0.00, 3.4ms\n",
            "image 7/37 /content/drive/MyDrive/Colab/deep learning/dataset/dataMerge/test/Actinic Keratosis/actinic-keratosis-5FU-65.jpg: 224x224 Acne 0.67, Rosacea 0.19, Actinic Keratosis 0.09, Eczemaa 0.04, Basal Cell Carcinoma 0.01, 3.3ms\n",
            "image 8/37 /content/drive/MyDrive/Colab/deep learning/dataset/dataMerge/test/Actinic Keratosis/actinic-keratosis-face-33.jpg: 224x224 Actinic Keratosis 0.94, Rosacea 0.05, Basal Cell Carcinoma 0.00, Acne 0.00, Eczemaa 0.00, 3.3ms\n",
            "image 9/37 /content/drive/MyDrive/Colab/deep learning/dataset/dataMerge/test/Actinic Keratosis/actinic-keratosis-face-35.jpg: 224x224 Actinic Keratosis 0.99, Rosacea 0.01, Basal Cell Carcinoma 0.00, Acne 0.00, Eczemaa 0.00, 3.4ms\n",
            "image 10/37 /content/drive/MyDrive/Colab/deep learning/dataset/dataMerge/test/Actinic Keratosis/actinic-keratosis-face-39.jpg: 224x224 Actinic Keratosis 0.77, Basal Cell Carcinoma 0.23, Eczemaa 0.00, Rosacea 0.00, Acne 0.00, 3.3ms\n",
            "image 11/37 /content/drive/MyDrive/Colab/deep learning/dataset/dataMerge/test/Actinic Keratosis/actinic-keratosis-face-43.jpg: 224x224 Actinic Keratosis 1.00, Rosacea 0.00, Basal Cell Carcinoma 0.00, Eczemaa 0.00, Acne 0.00, 3.4ms\n",
            "image 12/37 /content/drive/MyDrive/Colab/deep learning/dataset/dataMerge/test/Actinic Keratosis/actinic-keratosis-face-46.jpg: 224x224 Eczemaa 0.75, Basal Cell Carcinoma 0.24, Acne 0.01, Actinic Keratosis 0.00, Rosacea 0.00, 3.5ms\n",
            "image 13/37 /content/drive/MyDrive/Colab/deep learning/dataset/dataMerge/test/Actinic Keratosis/actinic-keratosis-face-48.jpg: 224x224 Actinic Keratosis 0.99, Basal Cell Carcinoma 0.00, Rosacea 0.00, Eczemaa 0.00, Acne 0.00, 3.3ms\n",
            "image 14/37 /content/drive/MyDrive/Colab/deep learning/dataset/dataMerge/test/Actinic Keratosis/actinic-keratosis-face-49.jpg: 224x224 Rosacea 0.71, Actinic Keratosis 0.27, Eczemaa 0.01, Acne 0.00, Basal Cell Carcinoma 0.00, 3.3ms\n",
            "image 15/37 /content/drive/MyDrive/Colab/deep learning/dataset/dataMerge/test/Actinic Keratosis/actinic-keratosis-face-50.jpg: 224x224 Rosacea 1.00, Actinic Keratosis 0.00, Acne 0.00, Eczemaa 0.00, Basal Cell Carcinoma 0.00, 3.1ms\n",
            "image 16/37 /content/drive/MyDrive/Colab/deep learning/dataset/dataMerge/test/Actinic Keratosis/actinic-keratosis-face-51.jpg: 224x224 Actinic Keratosis 1.00, Rosacea 0.00, Basal Cell Carcinoma 0.00, Eczemaa 0.00, Acne 0.00, 3.1ms\n",
            "image 17/37 /content/drive/MyDrive/Colab/deep learning/dataset/dataMerge/test/Actinic Keratosis/actinic-keratosis-face-56.jpg: 224x224 Rosacea 0.72, Actinic Keratosis 0.26, Acne 0.02, Eczemaa 0.00, Basal Cell Carcinoma 0.00, 3.3ms\n",
            "image 18/37 /content/drive/MyDrive/Colab/deep learning/dataset/dataMerge/test/Actinic Keratosis/actinic-keratosis-face-60.jpg: 224x224 Actinic Keratosis 1.00, Basal Cell Carcinoma 0.00, Acne 0.00, Eczemaa 0.00, Rosacea 0.00, 3.4ms\n",
            "image 19/37 /content/drive/MyDrive/Colab/deep learning/dataset/dataMerge/test/Actinic Keratosis/actinic-keratosis-face-9.jpg: 224x224 Actinic Keratosis 1.00, Basal Cell Carcinoma 0.00, Eczemaa 0.00, Acne 0.00, Rosacea 0.00, 3.4ms\n",
            "image 20/37 /content/drive/MyDrive/Colab/deep learning/dataset/dataMerge/test/Actinic Keratosis/actinic-keratosis-horn-1.jpg: 224x224 Actinic Keratosis 0.98, Basal Cell Carcinoma 0.02, Acne 0.00, Eczemaa 0.00, Rosacea 0.00, 3.6ms\n",
            "image 21/37 /content/drive/MyDrive/Colab/deep learning/dataset/dataMerge/test/Actinic Keratosis/actinic-keratosis-horn-23.jpg: 224x224 Actinic Keratosis 0.93, Basal Cell Carcinoma 0.07, Rosacea 0.00, Eczemaa 0.00, Acne 0.00, 3.2ms\n",
            "image 22/37 /content/drive/MyDrive/Colab/deep learning/dataset/dataMerge/test/Actinic Keratosis/actinic-keratosis-horn-24.jpg: 224x224 Actinic Keratosis 1.00, Rosacea 0.00, Basal Cell Carcinoma 0.00, Eczemaa 0.00, Acne 0.00, 3.6ms\n",
            "image 23/37 /content/drive/MyDrive/Colab/deep learning/dataset/dataMerge/test/Actinic Keratosis/actinic-keratosis-lesion-11.jpg: 224x224 Eczemaa 0.77, Actinic Keratosis 0.16, Basal Cell Carcinoma 0.07, Acne 0.01, Rosacea 0.00, 3.7ms\n",
            "image 24/37 /content/drive/MyDrive/Colab/deep learning/dataset/dataMerge/test/Actinic Keratosis/actinic-keratosis-lesion-22.jpg: 224x224 Actinic Keratosis 0.75, Basal Cell Carcinoma 0.24, Eczemaa 0.01, Rosacea 0.00, Acne 0.00, 3.6ms\n",
            "image 25/37 /content/drive/MyDrive/Colab/deep learning/dataset/dataMerge/test/Actinic Keratosis/actinic-keratosis-lesion-24.jpg: 224x224 Actinic Keratosis 0.53, Basal Cell Carcinoma 0.43, Rosacea 0.03, Eczemaa 0.01, Acne 0.00, 3.8ms\n",
            "image 26/37 /content/drive/MyDrive/Colab/deep learning/dataset/dataMerge/test/Actinic Keratosis/actinic-keratosis-lesion-31.jpg: 224x224 Actinic Keratosis 0.99, Basal Cell Carcinoma 0.01, Acne 0.00, Rosacea 0.00, Eczemaa 0.00, 3.2ms\n",
            "image 27/37 /content/drive/MyDrive/Colab/deep learning/dataset/dataMerge/test/Actinic Keratosis/actinic-keratosis-lesion-32.jpg: 224x224 Actinic Keratosis 0.92, Basal Cell Carcinoma 0.08, Acne 0.00, Eczemaa 0.00, Rosacea 0.00, 3.9ms\n",
            "image 28/37 /content/drive/MyDrive/Colab/deep learning/dataset/dataMerge/test/Actinic Keratosis/actinic-keratosis-lesion-34.jpg: 224x224 Eczemaa 0.48, Basal Cell Carcinoma 0.33, Actinic Keratosis 0.15, Rosacea 0.04, Acne 0.01, 3.3ms\n",
            "image 29/37 /content/drive/MyDrive/Colab/deep learning/dataset/dataMerge/test/Actinic Keratosis/actinic-keratosis-lesion-36.jpg: 224x224 Actinic Keratosis 1.00, Basal Cell Carcinoma 0.00, Eczemaa 0.00, Rosacea 0.00, Acne 0.00, 3.4ms\n",
            "image 30/37 /content/drive/MyDrive/Colab/deep learning/dataset/dataMerge/test/Actinic Keratosis/actinic-keratosis-lesion-39.jpg: 224x224 Actinic Keratosis 0.72, Basal Cell Carcinoma 0.28, Rosacea 0.00, Acne 0.00, Eczemaa 0.00, 3.7ms\n",
            "image 31/37 /content/drive/MyDrive/Colab/deep learning/dataset/dataMerge/test/Actinic Keratosis/actinic-keratosis-lesion-41.jpg: 224x224 Actinic Keratosis 0.75, Rosacea 0.24, Acne 0.01, Basal Cell Carcinoma 0.00, Eczemaa 0.00, 3.7ms\n",
            "image 32/37 /content/drive/MyDrive/Colab/deep learning/dataset/dataMerge/test/Actinic Keratosis/actinic-keratosis-lesion-48.jpg: 224x224 Basal Cell Carcinoma 0.58, Actinic Keratosis 0.42, Rosacea 0.00, Eczemaa 0.00, Acne 0.00, 3.6ms\n",
            "image 33/37 /content/drive/MyDrive/Colab/deep learning/dataset/dataMerge/test/Actinic Keratosis/actinic-keratosis-lesion-52.jpg: 224x224 Actinic Keratosis 0.95, Basal Cell Carcinoma 0.04, Acne 0.01, Eczemaa 0.00, Rosacea 0.00, 4.0ms\n",
            "image 34/37 /content/drive/MyDrive/Colab/deep learning/dataset/dataMerge/test/Actinic Keratosis/actinic-keratosis-lesion-56.jpg: 224x224 Actinic Keratosis 0.99, Basal Cell Carcinoma 0.00, Eczemaa 0.00, Rosacea 0.00, Acne 0.00, 3.6ms\n",
            "image 35/37 /content/drive/MyDrive/Colab/deep learning/dataset/dataMerge/test/Actinic Keratosis/actinic-keratosis-lesion-57.jpg: 224x224 Actinic Keratosis 0.99, Basal Cell Carcinoma 0.01, Eczemaa 0.00, Rosacea 0.00, Acne 0.00, 3.3ms\n",
            "image 36/37 /content/drive/MyDrive/Colab/deep learning/dataset/dataMerge/test/Actinic Keratosis/actinic-keratosis-nose-1.jpg: 224x224 Actinic Keratosis 0.96, Basal Cell Carcinoma 0.04, Rosacea 0.00, Eczemaa 0.00, Acne 0.00, 4.1ms\n",
            "image 37/37 /content/drive/MyDrive/Colab/deep learning/dataset/dataMerge/test/Actinic Keratosis/actinic-keratosis-nose-14.jpg: 224x224 Basal Cell Carcinoma 0.92, Actinic Keratosis 0.08, Rosacea 0.00, Acne 0.00, Eczemaa 0.00, 3.4ms\n",
            "Speed: 5.6ms preprocess, 3.5ms inference, 0.0ms postprocess per image at shape (1, 3, 224, 224)\n",
            "\n",
            "image 1/37 /content/drive/MyDrive/Colab/deep learning/dataset/dataMerge/test/Basal Cell Carcinoma/basal-cell-carcinoma-face-10.jpg: 224x224 Basal Cell Carcinoma 1.00, Actinic Keratosis 0.00, Eczemaa 0.00, Acne 0.00, Rosacea 0.00, 4.4ms\n",
            "image 2/37 /content/drive/MyDrive/Colab/deep learning/dataset/dataMerge/test/Basal Cell Carcinoma/basal-cell-carcinoma-face-11.jpg: 224x224 Basal Cell Carcinoma 1.00, Actinic Keratosis 0.00, Eczemaa 0.00, Rosacea 0.00, Acne 0.00, 4.5ms\n",
            "image 3/37 /content/drive/MyDrive/Colab/deep learning/dataset/dataMerge/test/Basal Cell Carcinoma/basal-cell-carcinoma-face-13.jpg: 224x224 Basal Cell Carcinoma 1.00, Actinic Keratosis 0.00, Rosacea 0.00, Eczemaa 0.00, Acne 0.00, 3.5ms\n",
            "image 4/37 /content/drive/MyDrive/Colab/deep learning/dataset/dataMerge/test/Basal Cell Carcinoma/basal-cell-carcinoma-face-22.jpg: 224x224 Basal Cell Carcinoma 0.98, Actinic Keratosis 0.02, Rosacea 0.00, Eczemaa 0.00, Acne 0.00, 3.6ms\n",
            "image 5/37 /content/drive/MyDrive/Colab/deep learning/dataset/dataMerge/test/Basal Cell Carcinoma/basal-cell-carcinoma-face-4.jpg: 224x224 Basal Cell Carcinoma 0.72, Actinic Keratosis 0.28, Acne 0.00, Eczemaa 0.00, Rosacea 0.00, 3.4ms\n",
            "image 6/37 /content/drive/MyDrive/Colab/deep learning/dataset/dataMerge/test/Basal Cell Carcinoma/basal-cell-carcinoma-face-9.jpg: 224x224 Basal Cell Carcinoma 1.00, Acne 0.00, Actinic Keratosis 0.00, Eczemaa 0.00, Rosacea 0.00, 3.5ms\n",
            "image 7/37 /content/drive/MyDrive/Colab/deep learning/dataset/dataMerge/test/Basal Cell Carcinoma/basal-cell-carcinoma-lesion-92.jpg: 224x224 Basal Cell Carcinoma 0.95, Eczemaa 0.05, Actinic Keratosis 0.00, Rosacea 0.00, Acne 0.00, 3.8ms\n",
            "image 8/37 /content/drive/MyDrive/Colab/deep learning/dataset/dataMerge/test/Basal Cell Carcinoma/basal-cell-carcinoma-lid-11.jpg: 224x224 Basal Cell Carcinoma 1.00, Eczemaa 0.00, Actinic Keratosis 0.00, Rosacea 0.00, Acne 0.00, 3.5ms\n",
            "image 9/37 /content/drive/MyDrive/Colab/deep learning/dataset/dataMerge/test/Basal Cell Carcinoma/basal-cell-carcinoma-lid-16.jpg: 224x224 Basal Cell Carcinoma 0.98, Actinic Keratosis 0.01, Eczemaa 0.01, Rosacea 0.00, Acne 0.00, 3.2ms\n",
            "image 10/37 /content/drive/MyDrive/Colab/deep learning/dataset/dataMerge/test/Basal Cell Carcinoma/basal-cell-carcinoma-lid-17.jpg: 224x224 Basal Cell Carcinoma 0.98, Actinic Keratosis 0.01, Eczemaa 0.01, Rosacea 0.00, Acne 0.00, 3.1ms\n",
            "image 11/37 /content/drive/MyDrive/Colab/deep learning/dataset/dataMerge/test/Basal Cell Carcinoma/basal-cell-carcinoma-lid-18.jpg: 224x224 Basal Cell Carcinoma 1.00, Actinic Keratosis 0.00, Eczemaa 0.00, Acne 0.00, Rosacea 0.00, 3.3ms\n",
            "image 12/37 /content/drive/MyDrive/Colab/deep learning/dataset/dataMerge/test/Basal Cell Carcinoma/basal-cell-carcinoma-lid-22.jpg: 224x224 Basal Cell Carcinoma 1.00, Actinic Keratosis 0.00, Eczemaa 0.00, Acne 0.00, Rosacea 0.00, 3.2ms\n",
            "image 13/37 /content/drive/MyDrive/Colab/deep learning/dataset/dataMerge/test/Basal Cell Carcinoma/basal-cell-carcinoma-lid-23.jpg: 224x224 Basal Cell Carcinoma 1.00, Actinic Keratosis 0.00, Rosacea 0.00, Acne 0.00, Eczemaa 0.00, 3.1ms\n",
            "image 14/37 /content/drive/MyDrive/Colab/deep learning/dataset/dataMerge/test/Basal Cell Carcinoma/basal-cell-carcinoma-lid-24.jpg: 224x224 Basal Cell Carcinoma 0.83, Actinic Keratosis 0.09, Eczemaa 0.08, Acne 0.00, Rosacea 0.00, 3.8ms\n",
            "image 15/37 /content/drive/MyDrive/Colab/deep learning/dataset/dataMerge/test/Basal Cell Carcinoma/basal-cell-carcinoma-lid-25.jpg: 224x224 Actinic Keratosis 0.92, Basal Cell Carcinoma 0.08, Eczemaa 0.01, Rosacea 0.00, Acne 0.00, 3.5ms\n",
            "image 16/37 /content/drive/MyDrive/Colab/deep learning/dataset/dataMerge/test/Basal Cell Carcinoma/basal-cell-carcinoma-lid-26.jpg: 224x224 Actinic Keratosis 0.78, Basal Cell Carcinoma 0.19, Eczemaa 0.03, Acne 0.00, Rosacea 0.00, 3.5ms\n",
            "image 17/37 /content/drive/MyDrive/Colab/deep learning/dataset/dataMerge/test/Basal Cell Carcinoma/basal-cell-carcinoma-lid-31.jpg: 224x224 Basal Cell Carcinoma 1.00, Actinic Keratosis 0.00, Eczemaa 0.00, Rosacea 0.00, Acne 0.00, 3.5ms\n",
            "image 18/37 /content/drive/MyDrive/Colab/deep learning/dataset/dataMerge/test/Basal Cell Carcinoma/basal-cell-carcinoma-lid-4.jpg: 224x224 Eczemaa 0.63, Actinic Keratosis 0.31, Basal Cell Carcinoma 0.07, Rosacea 0.00, Acne 0.00, 3.5ms\n",
            "image 19/37 /content/drive/MyDrive/Colab/deep learning/dataset/dataMerge/test/Basal Cell Carcinoma/basal-cell-carcinoma-lid-6.jpg: 224x224 Basal Cell Carcinoma 1.00, Actinic Keratosis 0.00, Eczemaa 0.00, Rosacea 0.00, Acne 0.00, 3.4ms\n",
            "image 20/37 /content/drive/MyDrive/Colab/deep learning/dataset/dataMerge/test/Basal Cell Carcinoma/basal-cell-carcinoma-lid-8.jpg: 224x224 Basal Cell Carcinoma 0.97, Eczemaa 0.03, Rosacea 0.00, Actinic Keratosis 0.00, Acne 0.00, 3.8ms\n",
            "image 21/37 /content/drive/MyDrive/Colab/deep learning/dataset/dataMerge/test/Basal Cell Carcinoma/basal-cell-carcinoma-lip-14.jpg: 224x224 Basal Cell Carcinoma 1.00, Actinic Keratosis 0.00, Eczemaa 0.00, Acne 0.00, Rosacea 0.00, 3.5ms\n",
            "image 22/37 /content/drive/MyDrive/Colab/deep learning/dataset/dataMerge/test/Basal Cell Carcinoma/basal-cell-carcinoma-lip-26.jpg: 224x224 Basal Cell Carcinoma 1.00, Actinic Keratosis 0.00, Acne 0.00, Eczemaa 0.00, Rosacea 0.00, 3.3ms\n",
            "image 23/37 /content/drive/MyDrive/Colab/deep learning/dataset/dataMerge/test/Basal Cell Carcinoma/basal-cell-carcinoma-lip-27.jpg: 224x224 Basal Cell Carcinoma 0.49, Acne 0.47, Eczemaa 0.03, Rosacea 0.00, Actinic Keratosis 0.00, 3.3ms\n",
            "image 24/37 /content/drive/MyDrive/Colab/deep learning/dataset/dataMerge/test/Basal Cell Carcinoma/basal-cell-carcinoma-lip-30.jpg: 224x224 Basal Cell Carcinoma 0.54, Eczemaa 0.23, Actinic Keratosis 0.22, Rosacea 0.01, Acne 0.00, 3.2ms\n",
            "image 25/37 /content/drive/MyDrive/Colab/deep learning/dataset/dataMerge/test/Basal Cell Carcinoma/basal-cell-carcinoma-lip-31.jpg: 224x224 Acne 0.60, Rosacea 0.26, Actinic Keratosis 0.10, Basal Cell Carcinoma 0.04, Eczemaa 0.00, 4.0ms\n",
            "image 26/37 /content/drive/MyDrive/Colab/deep learning/dataset/dataMerge/test/Basal Cell Carcinoma/basal-cell-carcinoma-lip-32.jpg: 224x224 Basal Cell Carcinoma 0.98, Actinic Keratosis 0.02, Acne 0.00, Eczemaa 0.00, Rosacea 0.00, 3.5ms\n",
            "image 27/37 /content/drive/MyDrive/Colab/deep learning/dataset/dataMerge/test/Basal Cell Carcinoma/basal-cell-carcinoma-lip-34.jpg: 224x224 Basal Cell Carcinoma 0.96, Actinic Keratosis 0.04, Rosacea 0.00, Acne 0.00, Eczemaa 0.00, 3.2ms\n",
            "image 28/37 /content/drive/MyDrive/Colab/deep learning/dataset/dataMerge/test/Basal Cell Carcinoma/basal-cell-carcinoma-lip-5.jpg: 224x224 Basal Cell Carcinoma 0.99, Actinic Keratosis 0.01, Eczemaa 0.00, Acne 0.00, Rosacea 0.00, 3.2ms\n",
            "image 29/37 /content/drive/MyDrive/Colab/deep learning/dataset/dataMerge/test/Basal Cell Carcinoma/basal-cell-carcinoma-nose-1.jpg: 224x224 Basal Cell Carcinoma 1.00, Eczemaa 0.00, Actinic Keratosis 0.00, Acne 0.00, Rosacea 0.00, 3.2ms\n",
            "image 30/37 /content/drive/MyDrive/Colab/deep learning/dataset/dataMerge/test/Basal Cell Carcinoma/basal-cell-carcinoma-nose-21.jpg: 224x224 Basal Cell Carcinoma 0.47, Rosacea 0.29, Actinic Keratosis 0.24, Eczemaa 0.00, Acne 0.00, 3.4ms\n",
            "image 31/37 /content/drive/MyDrive/Colab/deep learning/dataset/dataMerge/test/Basal Cell Carcinoma/basal-cell-carcinoma-nose-38.jpg: 224x224 Rosacea 0.98, Basal Cell Carcinoma 0.01, Actinic Keratosis 0.01, Eczemaa 0.01, Acne 0.00, 3.5ms\n",
            "image 32/37 /content/drive/MyDrive/Colab/deep learning/dataset/dataMerge/test/Basal Cell Carcinoma/basal-cell-carcinoma-nose-44.jpg: 224x224 Acne 0.89, Basal Cell Carcinoma 0.06, Eczemaa 0.05, Rosacea 0.00, Actinic Keratosis 0.00, 3.5ms\n",
            "image 33/37 /content/drive/MyDrive/Colab/deep learning/dataset/dataMerge/test/Basal Cell Carcinoma/basal-cell-carcinoma-nose-70.jpg: 224x224 Basal Cell Carcinoma 0.92, Actinic Keratosis 0.08, Acne 0.00, Eczemaa 0.00, Rosacea 0.00, 3.4ms\n",
            "image 34/37 /content/drive/MyDrive/Colab/deep learning/dataset/dataMerge/test/Basal Cell Carcinoma/basal-cell-carcinoma-nose-71.jpg: 224x224 Basal Cell Carcinoma 1.00, Actinic Keratosis 0.00, Eczemaa 0.00, Rosacea 0.00, Acne 0.00, 3.3ms\n",
            "image 35/37 /content/drive/MyDrive/Colab/deep learning/dataset/dataMerge/test/Basal Cell Carcinoma/basal-cell-carcinoma-nose-72.jpg: 224x224 Basal Cell Carcinoma 1.00, Actinic Keratosis 0.00, Acne 0.00, Eczemaa 0.00, Rosacea 0.00, 3.2ms\n",
            "image 36/37 /content/drive/MyDrive/Colab/deep learning/dataset/dataMerge/test/Basal Cell Carcinoma/basal-cell-carcinoma-nose-73.jpg: 224x224 Basal Cell Carcinoma 1.00, Actinic Keratosis 0.00, Acne 0.00, Rosacea 0.00, Eczemaa 0.00, 3.2ms\n",
            "image 37/37 /content/drive/MyDrive/Colab/deep learning/dataset/dataMerge/test/Basal Cell Carcinoma/basal-cell-carcinoma-nose-74.jpg: 224x224 Basal Cell Carcinoma 1.00, Acne 0.00, Rosacea 0.00, Actinic Keratosis 0.00, Eczemaa 0.00, 3.1ms\n",
            "Speed: 5.6ms preprocess, 3.5ms inference, 0.0ms postprocess per image at shape (1, 3, 224, 224)\n",
            "\n",
            "image 1/37 /content/drive/MyDrive/Colab/deep learning/dataset/dataMerge/test/Eczemaa/eczem49.jpg: 224x224 Eczemaa 1.00, Acne 0.00, Basal Cell Carcinoma 0.00, Rosacea 0.00, Actinic Keratosis 0.00, 3.4ms\n",
            "image 2/37 /content/drive/MyDrive/Colab/deep learning/dataset/dataMerge/test/Eczemaa/eczema-acute-20.jpg: 224x224 Eczemaa 0.83, Rosacea 0.15, Basal Cell Carcinoma 0.02, Acne 0.00, Actinic Keratosis 0.00, 3.4ms\n",
            "image 3/37 /content/drive/MyDrive/Colab/deep learning/dataset/dataMerge/test/Eczemaa/eczema-acute-22.jpg: 224x224 Eczemaa 0.67, Rosacea 0.32, Actinic Keratosis 0.01, Acne 0.00, Basal Cell Carcinoma 0.00, 3.4ms\n",
            "image 4/37 /content/drive/MyDrive/Colab/deep learning/dataset/dataMerge/test/Eczemaa/eczema-chronic-14.jpg: 224x224 Rosacea 0.63, Eczemaa 0.37, Actinic Keratosis 0.00, Acne 0.00, Basal Cell Carcinoma 0.00, 3.3ms\n",
            "image 5/37 /content/drive/MyDrive/Colab/deep learning/dataset/dataMerge/test/Eczemaa/eczema-chronic-47.jpg: 224x224 Eczemaa 0.87, Basal Cell Carcinoma 0.12, Actinic Keratosis 0.01, Acne 0.00, Rosacea 0.00, 3.4ms\n",
            "image 6/37 /content/drive/MyDrive/Colab/deep learning/dataset/dataMerge/test/Eczemaa/eczema-ears-6.jpg: 224x224 Eczemaa 0.99, Basal Cell Carcinoma 0.01, Actinic Keratosis 0.00, Rosacea 0.00, Acne 0.00, 3.2ms\n",
            "image 7/37 /content/drive/MyDrive/Colab/deep learning/dataset/dataMerge/test/Eczemaa/eczema-face-1.jpg: 224x224 Eczemaa 1.00, Acne 0.00, Basal Cell Carcinoma 0.00, Rosacea 0.00, Actinic Keratosis 0.00, 3.2ms\n",
            "image 8/37 /content/drive/MyDrive/Colab/deep learning/dataset/dataMerge/test/Eczemaa/eczema-face-11.jpg: 224x224 Actinic Keratosis 0.35, Rosacea 0.32, Eczemaa 0.28, Acne 0.03, Basal Cell Carcinoma 0.01, 4.4ms\n",
            "image 9/37 /content/drive/MyDrive/Colab/deep learning/dataset/dataMerge/test/Eczemaa/eczema-lids-14.jpg: 224x224 Eczemaa 0.90, Rosacea 0.09, Basal Cell Carcinoma 0.00, Actinic Keratosis 0.00, Acne 0.00, 4.4ms\n",
            "image 10/37 /content/drive/MyDrive/Colab/deep learning/dataset/dataMerge/test/Eczemaa/eczema-lids-9.jpg: 224x224 Eczemaa 0.99, Basal Cell Carcinoma 0.01, Actinic Keratosis 0.00, Acne 0.00, Rosacea 0.00, 4.2ms\n",
            "image 11/37 /content/drive/MyDrive/Colab/deep learning/dataset/dataMerge/test/Eczemaa/eczema.14.jpg: 224x224 Eczemaa 1.00, Acne 0.00, Rosacea 0.00, Basal Cell Carcinoma 0.00, Actinic Keratosis 0.00, 3.7ms\n",
            "image 12/37 /content/drive/MyDrive/Colab/deep learning/dataset/dataMerge/test/Eczemaa/eczema.20.jpg: 224x224 Eczemaa 1.00, Rosacea 0.00, Acne 0.00, Basal Cell Carcinoma 0.00, Actinic Keratosis 0.00, 4.4ms\n",
            "image 13/37 /content/drive/MyDrive/Colab/deep learning/dataset/dataMerge/test/Eczemaa/eczema.21.jpg: 224x224 Eczemaa 0.96, Acne 0.02, Rosacea 0.01, Actinic Keratosis 0.01, Basal Cell Carcinoma 0.00, 3.3ms\n",
            "image 14/37 /content/drive/MyDrive/Colab/deep learning/dataset/dataMerge/test/Eczemaa/eczema.25.jpg: 224x224 Eczemaa 1.00, Rosacea 0.00, Basal Cell Carcinoma 0.00, Acne 0.00, Actinic Keratosis 0.00, 3.4ms\n",
            "image 15/37 /content/drive/MyDrive/Colab/deep learning/dataset/dataMerge/test/Eczemaa/eczema.5.jpg: 224x224 Eczemaa 0.96, Rosacea 0.04, Actinic Keratosis 0.00, Acne 0.00, Basal Cell Carcinoma 0.00, 3.3ms\n",
            "image 16/37 /content/drive/MyDrive/Colab/deep learning/dataset/dataMerge/test/Eczemaa/eczema.8.jpg: 224x224 Eczemaa 0.85, Rosacea 0.14, Acne 0.01, Actinic Keratosis 0.00, Basal Cell Carcinoma 0.00, 5.0ms\n",
            "image 17/37 /content/drive/MyDrive/Colab/deep learning/dataset/dataMerge/test/Eczemaa/eczema.jpg: 224x224 Eczemaa 1.00, Rosacea 0.00, Actinic Keratosis 0.00, Basal Cell Carcinoma 0.00, Acne 0.00, 3.4ms\n",
            "image 18/37 /content/drive/MyDrive/Colab/deep learning/dataset/dataMerge/test/Eczemaa/eczema130.jpg: 224x224 Eczemaa 1.00, Acne 0.00, Basal Cell Carcinoma 0.00, Rosacea 0.00, Actinic Keratosis 0.00, 3.3ms\n",
            "image 19/37 /content/drive/MyDrive/Colab/deep learning/dataset/dataMerge/test/Eczemaa/eczema134.jpg: 224x224 Actinic Keratosis 0.99, Eczemaa 0.01, Basal Cell Carcinoma 0.00, Rosacea 0.00, Acne 0.00, 3.4ms\n",
            "image 20/37 /content/drive/MyDrive/Colab/deep learning/dataset/dataMerge/test/Eczemaa/eczema135.jpg: 224x224 Eczemaa 1.00, Rosacea 0.00, Acne 0.00, Basal Cell Carcinoma 0.00, Actinic Keratosis 0.00, 4.2ms\n",
            "image 21/37 /content/drive/MyDrive/Colab/deep learning/dataset/dataMerge/test/Eczemaa/eczema136.jpg: 224x224 Eczemaa 0.77, Rosacea 0.22, Actinic Keratosis 0.00, Acne 0.00, Basal Cell Carcinoma 0.00, 4.2ms\n",
            "image 22/37 /content/drive/MyDrive/Colab/deep learning/dataset/dataMerge/test/Eczemaa/eczema142.jpg: 224x224 Eczemaa 1.00, Basal Cell Carcinoma 0.00, Acne 0.00, Rosacea 0.00, Actinic Keratosis 0.00, 3.6ms\n",
            "image 23/37 /content/drive/MyDrive/Colab/deep learning/dataset/dataMerge/test/Eczemaa/eczema144.jpg: 224x224 Eczemaa 1.00, Rosacea 0.00, Basal Cell Carcinoma 0.00, Actinic Keratosis 0.00, Acne 0.00, 3.5ms\n",
            "image 24/37 /content/drive/MyDrive/Colab/deep learning/dataset/dataMerge/test/Eczemaa/eczema147.jpg: 224x224 Eczemaa 1.00, Acne 0.00, Rosacea 0.00, Basal Cell Carcinoma 0.00, Actinic Keratosis 0.00, 3.3ms\n",
            "image 25/37 /content/drive/MyDrive/Colab/deep learning/dataset/dataMerge/test/Eczemaa/eczema148.jpg: 224x224 Rosacea 0.68, Eczemaa 0.32, Basal Cell Carcinoma 0.00, Actinic Keratosis 0.00, Acne 0.00, 3.3ms\n",
            "image 26/37 /content/drive/MyDrive/Colab/deep learning/dataset/dataMerge/test/Eczemaa/eczema149.jpg: 224x224 Eczemaa 1.00, Basal Cell Carcinoma 0.00, Acne 0.00, Rosacea 0.00, Actinic Keratosis 0.00, 3.5ms\n",
            "image 27/37 /content/drive/MyDrive/Colab/deep learning/dataset/dataMerge/test/Eczemaa/eczema155.png: 224x224 Acne 0.95, Eczemaa 0.05, Rosacea 0.00, Basal Cell Carcinoma 0.00, Actinic Keratosis 0.00, 3.4ms\n",
            "image 28/37 /content/drive/MyDrive/Colab/deep learning/dataset/dataMerge/test/Eczemaa/eczema23.jpg: 224x224 Eczemaa 1.00, Rosacea 0.00, Acne 0.00, Basal Cell Carcinoma 0.00, Actinic Keratosis 0.00, 3.2ms\n",
            "image 29/37 /content/drive/MyDrive/Colab/deep learning/dataset/dataMerge/test/Eczemaa/eczema28..jpg: 224x224 Eczemaa 1.00, Acne 0.00, Basal Cell Carcinoma 0.00, Actinic Keratosis 0.00, Rosacea 0.00, 3.5ms\n",
            "image 30/37 /content/drive/MyDrive/Colab/deep learning/dataset/dataMerge/test/Eczemaa/eczema31.jpg: 224x224 Eczemaa 0.98, Rosacea 0.02, Acne 0.00, Actinic Keratosis 0.00, Basal Cell Carcinoma 0.00, 3.4ms\n",
            "image 31/37 /content/drive/MyDrive/Colab/deep learning/dataset/dataMerge/test/Eczemaa/eczema43.jpg: 224x224 Rosacea 0.53, Actinic Keratosis 0.43, Eczemaa 0.04, Basal Cell Carcinoma 0.00, Acne 0.00, 4.2ms\n",
            "image 32/37 /content/drive/MyDrive/Colab/deep learning/dataset/dataMerge/test/Eczemaa/eczema48.jpeg: 224x224 Acne 1.00, Eczemaa 0.00, Basal Cell Carcinoma 0.00, Actinic Keratosis 0.00, Rosacea 0.00, 5.8ms\n",
            "image 33/37 /content/drive/MyDrive/Colab/deep learning/dataset/dataMerge/test/Eczemaa/eczema52.jpg: 224x224 Actinic Keratosis 0.75, Eczemaa 0.14, Basal Cell Carcinoma 0.09, Acne 0.02, Rosacea 0.00, 3.6ms\n",
            "image 34/37 /content/drive/MyDrive/Colab/deep learning/dataset/dataMerge/test/Eczemaa/eczema53.jpg: 224x224 Eczemaa 0.81, Actinic Keratosis 0.07, Rosacea 0.06, Acne 0.06, Basal Cell Carcinoma 0.00, 5.2ms\n",
            "image 35/37 /content/drive/MyDrive/Colab/deep learning/dataset/dataMerge/test/Eczemaa/eczema54.jpg: 224x224 Eczemaa 0.79, Rosacea 0.19, Basal Cell Carcinoma 0.01, Actinic Keratosis 0.01, Acne 0.00, 3.4ms\n",
            "image 36/37 /content/drive/MyDrive/Colab/deep learning/dataset/dataMerge/test/Eczemaa/eczema7.jpg: 224x224 Acne 0.54, Eczemaa 0.37, Basal Cell Carcinoma 0.06, Rosacea 0.04, Actinic Keratosis 0.00, 3.7ms\n",
            "image 37/37 /content/drive/MyDrive/Colab/deep learning/dataset/dataMerge/test/Eczemaa/eczema8.jpg: 224x224 Basal Cell Carcinoma 0.96, Eczemaa 0.03, Actinic Keratosis 0.01, Acne 0.00, Rosacea 0.00, 3.3ms\n",
            "Speed: 8.6ms preprocess, 3.7ms inference, 0.1ms postprocess per image at shape (1, 3, 224, 224)\n",
            "\n",
            "image 1/37 /content/drive/MyDrive/Colab/deep learning/dataset/dataMerge/test/Rosacea/rosacea-102.jpg: 224x224 Actinic Keratosis 0.62, Rosacea 0.21, Basal Cell Carcinoma 0.14, Acne 0.02, Eczemaa 0.01, 3.2ms\n",
            "image 2/37 /content/drive/MyDrive/Colab/deep learning/dataset/dataMerge/test/Rosacea/rosacea-111.jpg: 224x224 Rosacea 0.95, Basal Cell Carcinoma 0.03, Eczemaa 0.02, Actinic Keratosis 0.00, Acne 0.00, 3.4ms\n",
            "image 3/37 /content/drive/MyDrive/Colab/deep learning/dataset/dataMerge/test/Rosacea/rosacea-112.jpg: 224x224 Rosacea 0.79, Eczemaa 0.14, Actinic Keratosis 0.07, Basal Cell Carcinoma 0.00, Acne 0.00, 5.0ms\n",
            "image 4/37 /content/drive/MyDrive/Colab/deep learning/dataset/dataMerge/test/Rosacea/rosacea-113.jpg: 224x224 Rosacea 1.00, Actinic Keratosis 0.00, Eczemaa 0.00, Acne 0.00, Basal Cell Carcinoma 0.00, 3.6ms\n",
            "image 5/37 /content/drive/MyDrive/Colab/deep learning/dataset/dataMerge/test/Rosacea/rosacea-116.jpg: 224x224 Rosacea 1.00, Actinic Keratosis 0.00, Eczemaa 0.00, Basal Cell Carcinoma 0.00, Acne 0.00, 3.4ms\n",
            "image 6/37 /content/drive/MyDrive/Colab/deep learning/dataset/dataMerge/test/Rosacea/rosacea-117.jpg: 224x224 Rosacea 0.99, Acne 0.01, Actinic Keratosis 0.00, Eczemaa 0.00, Basal Cell Carcinoma 0.00, 3.2ms\n",
            "image 7/37 /content/drive/MyDrive/Colab/deep learning/dataset/dataMerge/test/Rosacea/rosacea-14.jpg: 224x224 Rosacea 1.00, Actinic Keratosis 0.00, Eczemaa 0.00, Acne 0.00, Basal Cell Carcinoma 0.00, 4.5ms\n",
            "image 8/37 /content/drive/MyDrive/Colab/deep learning/dataset/dataMerge/test/Rosacea/rosacea-16.jpg: 224x224 Rosacea 1.00, Acne 0.00, Eczemaa 0.00, Actinic Keratosis 0.00, Basal Cell Carcinoma 0.00, 4.4ms\n",
            "image 9/37 /content/drive/MyDrive/Colab/deep learning/dataset/dataMerge/test/Rosacea/rosacea-21.jpg: 224x224 Rosacea 1.00, Actinic Keratosis 0.00, Eczemaa 0.00, Acne 0.00, Basal Cell Carcinoma 0.00, 3.4ms\n",
            "image 10/37 /content/drive/MyDrive/Colab/deep learning/dataset/dataMerge/test/Rosacea/rosacea-26.jpg: 224x224 Rosacea 1.00, Acne 0.00, Eczemaa 0.00, Actinic Keratosis 0.00, Basal Cell Carcinoma 0.00, 3.5ms\n",
            "image 11/37 /content/drive/MyDrive/Colab/deep learning/dataset/dataMerge/test/Rosacea/rosacea-31.jpg: 224x224 Rosacea 1.00, Actinic Keratosis 0.00, Eczemaa 0.00, Acne 0.00, Basal Cell Carcinoma 0.00, 3.4ms\n",
            "image 12/37 /content/drive/MyDrive/Colab/deep learning/dataset/dataMerge/test/Rosacea/rosacea-33.jpg: 224x224 Rosacea 1.00, Acne 0.00, Actinic Keratosis 0.00, Eczemaa 0.00, Basal Cell Carcinoma 0.00, 4.4ms\n",
            "image 13/37 /content/drive/MyDrive/Colab/deep learning/dataset/dataMerge/test/Rosacea/rosacea-4.jpg: 224x224 Rosacea 0.57, Eczemaa 0.36, Acne 0.06, Actinic Keratosis 0.01, Basal Cell Carcinoma 0.00, 3.4ms\n",
            "image 14/37 /content/drive/MyDrive/Colab/deep learning/dataset/dataMerge/test/Rosacea/rosacea-40.jpg: 224x224 Rosacea 1.00, Eczemaa 0.00, Actinic Keratosis 0.00, Acne 0.00, Basal Cell Carcinoma 0.00, 3.4ms\n",
            "image 15/37 /content/drive/MyDrive/Colab/deep learning/dataset/dataMerge/test/Rosacea/rosacea-41.jpg: 224x224 Rosacea 0.98, Eczemaa 0.02, Actinic Keratosis 0.00, Acne 0.00, Basal Cell Carcinoma 0.00, 3.3ms\n",
            "image 16/37 /content/drive/MyDrive/Colab/deep learning/dataset/dataMerge/test/Rosacea/rosacea-44.jpg: 224x224 Rosacea 1.00, Eczemaa 0.00, Actinic Keratosis 0.00, Basal Cell Carcinoma 0.00, Acne 0.00, 3.3ms\n",
            "image 17/37 /content/drive/MyDrive/Colab/deep learning/dataset/dataMerge/test/Rosacea/rosacea-45.jpg: 224x224 Rosacea 0.95, Actinic Keratosis 0.05, Eczemaa 0.00, Acne 0.00, Basal Cell Carcinoma 0.00, 3.4ms\n",
            "image 18/37 /content/drive/MyDrive/Colab/deep learning/dataset/dataMerge/test/Rosacea/rosacea-49.jpg: 224x224 Rosacea 1.00, Actinic Keratosis 0.00, Acne 0.00, Eczemaa 0.00, Basal Cell Carcinoma 0.00, 3.3ms\n",
            "image 19/37 /content/drive/MyDrive/Colab/deep learning/dataset/dataMerge/test/Rosacea/rosacea-52.jpg: 224x224 Acne 0.59, Rosacea 0.31, Eczemaa 0.10, Basal Cell Carcinoma 0.00, Actinic Keratosis 0.00, 3.3ms\n",
            "image 20/37 /content/drive/MyDrive/Colab/deep learning/dataset/dataMerge/test/Rosacea/rosacea-54.jpg: 224x224 Rosacea 0.99, Actinic Keratosis 0.01, Eczemaa 0.00, Acne 0.00, Basal Cell Carcinoma 0.00, 3.4ms\n",
            "image 21/37 /content/drive/MyDrive/Colab/deep learning/dataset/dataMerge/test/Rosacea/rosacea-58.jpg: 224x224 Rosacea 0.95, Actinic Keratosis 0.03, Eczemaa 0.02, Acne 0.00, Basal Cell Carcinoma 0.00, 3.6ms\n",
            "image 22/37 /content/drive/MyDrive/Colab/deep learning/dataset/dataMerge/test/Rosacea/rosacea-60.jpg: 224x224 Rosacea 1.00, Actinic Keratosis 0.00, Eczemaa 0.00, Acne 0.00, Basal Cell Carcinoma 0.00, 3.5ms\n",
            "image 23/37 /content/drive/MyDrive/Colab/deep learning/dataset/dataMerge/test/Rosacea/rosacea-68.jpg: 224x224 Rosacea 0.96, Eczemaa 0.04, Actinic Keratosis 0.00, Acne 0.00, Basal Cell Carcinoma 0.00, 3.4ms\n",
            "image 24/37 /content/drive/MyDrive/Colab/deep learning/dataset/dataMerge/test/Rosacea/rosacea-71.jpg: 224x224 Rosacea 0.96, Actinic Keratosis 0.04, Eczemaa 0.00, Acne 0.00, Basal Cell Carcinoma 0.00, 3.4ms\n",
            "image 25/37 /content/drive/MyDrive/Colab/deep learning/dataset/dataMerge/test/Rosacea/rosacea-8.jpg: 224x224 Rosacea 1.00, Actinic Keratosis 0.00, Eczemaa 0.00, Acne 0.00, Basal Cell Carcinoma 0.00, 3.6ms\n",
            "image 26/37 /content/drive/MyDrive/Colab/deep learning/dataset/dataMerge/test/Rosacea/rosacea-81.jpg: 224x224 Rosacea 1.00, Actinic Keratosis 0.00, Acne 0.00, Eczemaa 0.00, Basal Cell Carcinoma 0.00, 3.1ms\n",
            "image 27/37 /content/drive/MyDrive/Colab/deep learning/dataset/dataMerge/test/Rosacea/rosacea-83.jpg: 224x224 Acne 0.95, Basal Cell Carcinoma 0.03, Rosacea 0.01, Actinic Keratosis 0.00, Eczemaa 0.00, 3.7ms\n",
            "image 28/37 /content/drive/MyDrive/Colab/deep learning/dataset/dataMerge/test/Rosacea/rosacea-86.jpg: 224x224 Rosacea 0.76, Actinic Keratosis 0.21, Eczemaa 0.02, Acne 0.01, Basal Cell Carcinoma 0.00, 3.2ms\n",
            "image 29/37 /content/drive/MyDrive/Colab/deep learning/dataset/dataMerge/test/Rosacea/rosacea-89.jpg: 224x224 Rosacea 0.97, Acne 0.02, Basal Cell Carcinoma 0.01, Eczemaa 0.00, Actinic Keratosis 0.00, 3.1ms\n",
            "image 30/37 /content/drive/MyDrive/Colab/deep learning/dataset/dataMerge/test/Rosacea/rosacea-90.jpg: 224x224 Eczemaa 0.90, Acne 0.08, Rosacea 0.01, Basal Cell Carcinoma 0.01, Actinic Keratosis 0.00, 3.6ms\n",
            "image 31/37 /content/drive/MyDrive/Colab/deep learning/dataset/dataMerge/test/Rosacea/rosacea-91.jpg: 224x224 Acne 0.99, Basal Cell Carcinoma 0.00, Eczemaa 0.00, Actinic Keratosis 0.00, Rosacea 0.00, 3.2ms\n",
            "image 32/37 /content/drive/MyDrive/Colab/deep learning/dataset/dataMerge/test/Rosacea/rosacea-94.jpg: 224x224 Rosacea 0.93, Actinic Keratosis 0.06, Eczemaa 0.00, Basal Cell Carcinoma 0.00, Acne 0.00, 3.3ms\n",
            "image 33/37 /content/drive/MyDrive/Colab/deep learning/dataset/dataMerge/test/Rosacea/rosacea-96.jpg: 224x224 Rosacea 1.00, Actinic Keratosis 0.00, Eczemaa 0.00, Acne 0.00, Basal Cell Carcinoma 0.00, 4.3ms\n",
            "image 34/37 /content/drive/MyDrive/Colab/deep learning/dataset/dataMerge/test/Rosacea/rosacea-99.jpg: 224x224 Rosacea 1.00, Actinic Keratosis 0.00, Eczemaa 0.00, Acne 0.00, Basal Cell Carcinoma 0.00, 4.3ms\n",
            "image 35/37 /content/drive/MyDrive/Colab/deep learning/dataset/dataMerge/test/Rosacea/rosacea-nose-10.jpg: 224x224 Basal Cell Carcinoma 0.99, Rosacea 0.01, Actinic Keratosis 0.00, Eczemaa 0.00, Acne 0.00, 3.0ms\n",
            "image 36/37 /content/drive/MyDrive/Colab/deep learning/dataset/dataMerge/test/Rosacea/rosacea-nose-11.jpg: 224x224 Rosacea 1.00, Eczemaa 0.00, Actinic Keratosis 0.00, Basal Cell Carcinoma 0.00, Acne 0.00, 3.1ms\n",
            "image 37/37 /content/drive/MyDrive/Colab/deep learning/dataset/dataMerge/test/Rosacea/rosacea-nose-5.jpg: 224x224 Rosacea 0.99, Eczemaa 0.01, Actinic Keratosis 0.00, Basal Cell Carcinoma 0.00, Acne 0.00, 3.2ms\n",
            "Speed: 5.7ms preprocess, 3.5ms inference, 0.1ms postprocess per image at shape (1, 3, 224, 224)\n",
            "Elapsed time is 3.577327 seconds.\n",
            "Total Prediction Time: 3.58 seconds\n"
          ]
        }
      ],
      "source": [
        "prediction_tests_yolov8N,total_inference_time_yolov8N_percobaan = evaluate_model_yolo(bestModelYoloN,path_class)"
      ]
    },
    {
      "cell_type": "code",
      "execution_count": null,
      "metadata": {
        "id": "0bZYMO-qg01D",
        "colab": {
          "base_uri": "https://localhost:8080/"
        },
        "outputId": "8b58895f-72e4-48d4-a835-d303d2bb3621"
      },
      "outputs": [
        {
          "output_type": "stream",
          "name": "stdout",
          "text": [
            "Akurasi untuk predictionTest0: 91.89%\n",
            "Akurasi untuk predictionTest1: 75.68%\n",
            "Akurasi untuk predictionTest2: 83.78%\n",
            "Akurasi untuk predictionTest3: 72.97%\n",
            "Akurasi untuk predictionTest4: 83.78%\n",
            "Akurasi keseluruhan model: 81.62%\n"
          ]
        }
      ],
      "source": [
        "total_correct_predictions = 0\n",
        "total_all_predictions = 0\n",
        "\n",
        "# Proses untuk setiap predictionTest\n",
        "for i, predictionTest in enumerate(prediction_tests_yolov8N):\n",
        "    correct_predictions = 0\n",
        "    true_label = i  # karena semua ground truth di predictionTesti adalah i\n",
        "\n",
        "    for result in predictionTest:\n",
        "        predicted_label = result.probs.top1  # asumsi bahwa probs.top1 adalah label prediksi teratas\n",
        "        if predicted_label == true_label:\n",
        "            correct_predictions += 1\n",
        "\n",
        "    # Jumlah total prediksi untuk setiap kelas\n",
        "    total_predictions = len(predictionTest)\n",
        "    total_all_predictions += total_predictions\n",
        "    total_correct_predictions += correct_predictions\n",
        "\n",
        "    # Akurasi untuk kelas ini\n",
        "    accuracy = (correct_predictions / total_predictions) * 100\n",
        "    print(f\"Akurasi untuk predictionTest{i}: {accuracy:.2f}%\")\n",
        "\n",
        "# Akurasi keseluruhan\n",
        "overall_accuracy_yolov8N = (total_correct_predictions / total_all_predictions) * 100\n",
        "\n",
        "print(f\"Akurasi keseluruhan model: {overall_accuracy_yolov8N:.2f}%\")\n",
        "# print(f\"Total waktu inferensi: {total_inference_time_yolov8S:.2f} detik\")"
      ]
    },
    {
      "cell_type": "code",
      "execution_count": null,
      "metadata": {
        "id": "3Q3hjnkk12su",
        "colab": {
          "base_uri": "https://localhost:8080/"
        },
        "outputId": "e7d0a306-7f8a-40a0-a06b-8279eb5cdba8"
      },
      "outputs": [
        {
          "output_type": "stream",
          "name": "stdout",
          "text": [
            "['MobileNetV2', 'MobileNetV3Small', 'MobileNetV3Large', 'EfficientNetB2', 'YOLOV8N-cls', 'YOLOV8S-cls']\n"
          ]
        }
      ],
      "source": [
        "# Membuat array string\n",
        "array_model = [\"MobileNetV2\", \"MobileNetV3Small\", \"MobileNetV3Large\", \"EfficientNetB2\" , \"YOLOV8N-cls\", \"YOLOV8S-cls\"]\n",
        "\n",
        "# Menampilkan array string\n",
        "print(array_model)"
      ]
    },
    {
      "cell_type": "code",
      "execution_count": null,
      "metadata": {
        "id": "NLIGBUKW19Wv"
      },
      "outputs": [],
      "source": [
        "best_accuracies = [mobileNetV2Result, mobileNetV3_smallResult, mobileNetV3_largeResult, efficientNet_b2Result, overall_accuracy_yolov8N, overall_accuracy_yolov8S]"
      ]
    },
    {
      "cell_type": "code",
      "source": [
        "best_accuracies"
      ],
      "metadata": {
        "id": "EXbyWXzY1gN8",
        "colab": {
          "base_uri": "https://localhost:8080/"
        },
        "outputId": "0aa78917-b271-4a0a-f6a2-211ab013f912"
      },
      "execution_count": null,
      "outputs": [
        {
          "output_type": "execute_result",
          "data": {
            "text/plain": [
              "[78.37837837837837,\n",
              " 58.37837837837838,\n",
              " 73.51351351351352,\n",
              " 85.4054054054054,\n",
              " 81.62162162162161,\n",
              " 86.48648648648648]"
            ]
          },
          "metadata": {},
          "execution_count": 73
        }
      ]
    },
    {
      "cell_type": "code",
      "execution_count": null,
      "metadata": {
        "id": "azuMpqQs2cuZ"
      },
      "outputs": [],
      "source": [
        "import matplotlib.pyplot as plt\n",
        "\n",
        "def plot_model_inference_time(model_names, accuracies, inference_times ):\n",
        "    # Membuat scatter plot\n",
        "    plt.figure(figsize=(10, 5))\n",
        "    for i in range(len(model_names)):\n",
        "        plt.scatter(inference_times[i], accuracies[i], label=model_names[i])\n",
        "\n",
        "    # Menambahkan judul dan label\n",
        "    plt.title('Relationship Between Inference Time and Model Accuracy')\n",
        "    plt.xlabel('Inference Time (seconds)')\n",
        "    plt.ylabel('Accuracy (%)')\n",
        "\n",
        "    # Menambahkan legenda\n",
        "    plt.legend()\n",
        "\n",
        "    # Menampilkan grid\n",
        "    plt.grid(True)\n",
        "\n",
        "    # Menampilkan grafik\n",
        "    plt.show()"
      ]
    },
    {
      "cell_type": "code",
      "execution_count": null,
      "metadata": {
        "id": "fRNHawJb2eL4"
      },
      "outputs": [],
      "source": [
        "inference_times = [mobileNetV2_time, mobileNetV3_small_time, mobileNetV3_large_time, efficientNet_b2_time, total_inference_time_yolov8N_percobaan,  total_inference_time_yolov8S_percobaan]"
      ]
    },
    {
      "cell_type": "code",
      "source": [
        "inference_times"
      ],
      "metadata": {
        "id": "scWfnnm-6f1X",
        "colab": {
          "base_uri": "https://localhost:8080/"
        },
        "outputId": "9577e68b-5ffd-4f0e-b891-be15e0abc286"
      },
      "execution_count": null,
      "outputs": [
        {
          "output_type": "execute_result",
          "data": {
            "text/plain": [
              "[1.8680903410000838,\n",
              " 1.8406640690000131,\n",
              " 1.9696805910000421,\n",
              " 1.9297671470000068,\n",
              " 3.577327465000053,\n",
              " 4.02228961600008]"
            ]
          },
          "metadata": {},
          "execution_count": 79
        }
      ]
    },
    {
      "cell_type": "code",
      "execution_count": null,
      "metadata": {
        "id": "Ay2EDZVE239t",
        "colab": {
          "base_uri": "https://localhost:8080/",
          "height": 487
        },
        "outputId": "dfa0b497-8c63-46e3-9645-b26983f1798b"
      },
      "outputs": [
        {
          "output_type": "display_data",
          "data": {
            "text/plain": [
              "<Figure size 1000x500 with 1 Axes>"
            ],
            "image/png": "[encoded data removed]"
          },
          "metadata": {}
        }
      ],
      "source": [
        "plot_model_inference_time(array_model, best_accuracies, inference_times)"
      ]
    },
    {
      "cell_type": "code",
      "execution_count": null,
      "metadata": {
        "id": "LrqtIvY1Biz6"
      },
      "outputs": [],
      "source": [
        "def get_gflops_input(prompt):\n",
        "    while True:\n",
        "        try:\n",
        "            # Meminta input dari pengguna\n",
        "            user_input = input(prompt)\n",
        "            # Mengkonversi input ke tipe float\n",
        "            gflops = float(user_input)\n",
        "            if gflops < 0:\n",
        "                raise ValueError(\"GFLOPs tidak boleh negatif.\")\n",
        "            return gflops\n",
        "        except ValueError as e:\n",
        "            # Jika konversi gagal atau input negatif, berikan pesan kesalahan dan minta lagi\n",
        "            print(\"Error:\", e)\n",
        "            print(\"Silakan masukkan angka yang valid untuk GFLOPs.\")"
      ]
    },
    {
      "cell_type": "code",
      "execution_count": null,
      "metadata": {
        "id": "wmkuMqiZBFz6",
        "colab": {
          "base_uri": "https://localhost:8080/"
        },
        "outputId": "8c70b6b2-0a21-4430-fd6c-14e69e26b10f"
      },
      "outputs": [
        {
          "output_type": "stream",
          "name": "stdout",
          "text": [
            "YOLOv8n-cls summary: 99 layers, 1,444,693 parameters, 0 gradients, 3.4 GFLOPs\n"
          ]
        },
        {
          "output_type": "execute_result",
          "data": {
            "text/plain": [
              "(99, 1444693, 0, 3.3650687999999995)"
            ]
          },
          "metadata": {},
          "execution_count": 53
        }
      ],
      "source": [
        "modelyolov8n.info()"
      ]
    },
    {
      "cell_type": "code",
      "execution_count": null,
      "metadata": {
        "id": "vQLyAm1KBdpe",
        "colab": {
          "base_uri": "https://localhost:8080/"
        },
        "outputId": "bc0313de-9e48-4c04-a04a-3002633f3cfa"
      },
      "outputs": [
        {
          "output_type": "stream",
          "name": "stdout",
          "text": [
            "Masukkan jumlah GFLOPs: 3.4 \n",
            "Jumlah GFLOPs yang Anda masukkan adalah: 3.4\n"
          ]
        }
      ],
      "source": [
        "# Meminta pengguna memasukkan GFLOPs\n",
        "gflops_yoloV8n = get_gflops_input(\"Masukkan jumlah GFLOPs: \")\n",
        "print(\"Jumlah GFLOPs yang Anda masukkan adalah:\", gflops_yoloV8n)\n"
      ]
    },
    {
      "cell_type": "code",
      "source": [
        "modelyolov8s.info()"
      ],
      "metadata": {
        "colab": {
          "base_uri": "https://localhost:8080/"
        },
        "id": "zQ4MhfUKzqAl",
        "outputId": "8fd4e8ab-8603-49a9-de44-5c77a11c21a0"
      },
      "execution_count": null,
      "outputs": [
        {
          "output_type": "stream",
          "name": "stdout",
          "text": [
            "YOLOv8s-cls summary: 99 layers, 5,087,141 parameters, 0 gradients, 12.6 GFLOPs\n"
          ]
        },
        {
          "output_type": "execute_result",
          "data": {
            "text/plain": [
              "(99, 5087141, 0, 12.5908992)"
            ]
          },
          "metadata": {},
          "execution_count": 55
        }
      ]
    },
    {
      "cell_type": "code",
      "source": [
        "# Meminta pengguna memasukkan GFLOPs\n",
        "gflops_yoloV8s = get_gflops_input(\"Masukkan jumlah GFLOPs: \")\n",
        "print(\"Jumlah GFLOPs yang Anda masukkan adalah:\", gflops_yoloV8s)\n"
      ],
      "metadata": {
        "colab": {
          "base_uri": "https://localhost:8080/"
        },
        "id": "5ycFngP6zse1",
        "outputId": "a21571d9-e7ec-4111-8dfd-004d91c501a3"
      },
      "execution_count": null,
      "outputs": [
        {
          "output_type": "stream",
          "name": "stdout",
          "text": [
            "Masukkan jumlah GFLOPs: 12.6 \n",
            "Jumlah GFLOPs yang Anda masukkan adalah: 12.6\n"
          ]
        }
      ]
    },
    {
      "cell_type": "code",
      "source": [
        "Glops_model = [mobileNetV2_gflops, mobileNetV3_small_gflops, mobileNetV3_large_gflops, efficientNet_b2_gflops, gflops_yoloV8n,  gflops_yoloV8s]"
      ],
      "metadata": {
        "id": "ezPOT9jpzvk7"
      },
      "execution_count": null,
      "outputs": []
    },
    {
      "cell_type": "code",
      "source": [
        "def plot_model_Gflops(model_names, accuracies, flops):\n",
        "    # Membuat scatter plot\n",
        "    plt.figure(figsize=(10, 5))\n",
        "    for i in range(len(model_names)):\n",
        "        plt.scatter(flops[i], accuracies[i], label=model_names[i])\n",
        "\n",
        "    # Menambahkan judul dan label\n",
        "    plt.title('The Relationship Between FLOPs and Model Accuracy')\n",
        "    plt.xlabel('FLOPs (GFLOPs)')\n",
        "    plt.ylabel('Accuracy (%)')\n",
        "\n",
        "    # Menambahkan legenda\n",
        "    plt.legend()\n",
        "\n",
        "    # Menampilkan grid\n",
        "    plt.grid(True)\n",
        "\n",
        "    # Menampilkan grafik\n",
        "    plt.show()\n"
      ],
      "metadata": {
        "id": "P7AGitM9zyWy"
      },
      "execution_count": null,
      "outputs": []
    },
    {
      "cell_type": "code",
      "source": [
        "plot_model_Gflops(array_model, best_accuracies, Glops_model)"
      ],
      "metadata": {
        "colab": {
          "base_uri": "https://localhost:8080/",
          "height": 487
        },
        "id": "1fY9qJ8Wz0bi",
        "outputId": "859937b9-5a86-43d3-8b3d-f3ff676d4ebc"
      },
      "execution_count": null,
      "outputs": [
        {
          "output_type": "display_data",
          "data": {
            "text/plain": [
              "<Figure size 1000x500 with 1 Axes>"
            ],
            "image/png": "[encoded data removed]"
          },
          "metadata": {}
        }
      ]
    },
    {
      "cell_type": "code",
      "source": [
        "modelyolov8n.info()"
      ],
      "metadata": {
        "colab": {
          "base_uri": "https://localhost:8080/"
        },
        "id": "2dDgKtuhz7Cg",
        "outputId": "e12c67a9-f6d9-4671-eda7-147b00259a3f"
      },
      "execution_count": null,
      "outputs": [
        {
          "output_type": "stream",
          "name": "stdout",
          "text": [
            "YOLOv8n-cls summary: 99 layers, 1,444,693 parameters, 0 gradients, 3.4 GFLOPs\n"
          ]
        },
        {
          "output_type": "execute_result",
          "data": {
            "text/plain": [
              "(99, 1444693, 0, 3.3650687999999995)"
            ]
          },
          "metadata": {},
          "execution_count": 60
        }
      ]
    },
    {
      "cell_type": "code",
      "source": [
        "# Meminta pengguna memasukkan GFLOPs\n",
        "total_params_yolov8n = get_gflops_input(\"Masukkan jumlah total_params: \")\n",
        "print(\"Jumlah total_params yang Anda masukkan adalah:\", total_params_yolov8n)\n"
      ],
      "metadata": {
        "colab": {
          "base_uri": "https://localhost:8080/"
        },
        "id": "Qoqq2-dTz9JM",
        "outputId": "6e5e1e8c-e7ae-4620-d98d-27b2cf264824"
      },
      "execution_count": null,
      "outputs": [
        {
          "output_type": "stream",
          "name": "stdout",
          "text": [
            "Masukkan jumlah total_params: 1444693\n",
            "Jumlah total_params yang Anda masukkan adalah: 1444693.0\n"
          ]
        }
      ]
    },
    {
      "cell_type": "code",
      "source": [
        "modelyolov8s.info()"
      ],
      "metadata": {
        "colab": {
          "base_uri": "https://localhost:8080/"
        },
        "id": "m8IjgH22z-8o",
        "outputId": "ee74d9f1-a81e-4bcd-c675-90bbca9f4656"
      },
      "execution_count": null,
      "outputs": [
        {
          "output_type": "stream",
          "name": "stdout",
          "text": [
            "YOLOv8s-cls summary: 99 layers, 5,087,141 parameters, 0 gradients, 12.6 GFLOPs\n"
          ]
        },
        {
          "output_type": "execute_result",
          "data": {
            "text/plain": [
              "(99, 5087141, 0, 12.5908992)"
            ]
          },
          "metadata": {},
          "execution_count": 62
        }
      ]
    },
    {
      "cell_type": "code",
      "source": [
        "# Meminta pengguna memasukkan GFLOPs\n",
        "total_params_yolov8s = get_gflops_input(\"Masukkan jumlah total_params: \")\n",
        "print(\"Jumlah total_params yang Anda masukkan adalah:\", total_params_yolov8s)\n"
      ],
      "metadata": {
        "colab": {
          "base_uri": "https://localhost:8080/"
        },
        "id": "7FHQF4cez_3d",
        "outputId": "22588d68-d9de-43c8-9224-0a65f512ee4a"
      },
      "execution_count": null,
      "outputs": [
        {
          "output_type": "stream",
          "name": "stdout",
          "text": [
            "Masukkan jumlah total_params: 5087141\n",
            "Jumlah total_params yang Anda masukkan adalah: 5087141.0\n"
          ]
        }
      ]
    },
    {
      "cell_type": "code",
      "execution_count": null,
      "metadata": {
        "id": "wijH08barPfw",
        "colab": {
          "base_uri": "https://localhost:8080/",
          "height": 641
        },
        "outputId": "66e0e31a-c9c7-4f3a-e957-301aa6708853"
      },
      "outputs": [
        {
          "output_type": "display_data",
          "data": {
            "text/plain": [
              "<Figure size 1100x700 with 1 Axes>"
            ],
            "image/png": "[encoded data removed]"
          },
          "metadata": {}
        }
      ],
      "source": [
        "import matplotlib.pyplot as plt\n",
        "\n",
        "\n",
        "# Total parameter untuk masing-masing model\n",
        "total_params = [total_params_mbv2, total_params_mbv3s, total_params_mbv3l, total_params_efb2, total_params_yolov8n, total_params_yolov8s]\n",
        "\n",
        "# Membuat bar chart\n",
        "plt.figure(figsize=(11, 7))\n",
        "bars = plt.bar(array_model, total_params, color='blue')\n",
        "\n",
        "# Menambahkan judul dan label\n",
        "plt.title('Comparison of Total Parameters')\n",
        "plt.xlabel('Model')\n",
        "plt.ylabel('Total Parameter')\n",
        "\n",
        "# Menampilkan grid\n",
        "plt.grid(True)\n",
        "\n",
        "# Menampilkan angka pada setiap bar\n",
        "for bar in bars:\n",
        "    yval = bar.get_height()\n",
        "    plt.text(bar.get_x() + bar.get_width()/2, yval, round(yval), va='bottom')  # Posisi teks di atas setiap bar\n",
        "\n",
        "# Menampilkan grafik\n",
        "plt.show()\n"
      ]
    }
  ],
  "metadata": {
    "accelerator": "GPU",
    "colab": {
      "gpuType": "A100",
      "provenance": [],
      "include_colab_link": true
    },
    "kernelspec": {
      "display_name": "Python 3",
      "name": "python3"
    },
    "language_info": {
      "name": "python"
    }
  },
  "nbformat": 4,
  "nbformat_minor": 0
}